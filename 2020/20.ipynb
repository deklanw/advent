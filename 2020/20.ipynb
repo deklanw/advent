{
 "cells": [
  {
   "cell_type": "code",
   "execution_count": 85,
   "metadata": {},
   "outputs": [],
   "source": [
    "import numpy as np\n",
    "import itertools\n",
    "import re\n",
    "from collections import Counter"
   ]
  },
  {
   "cell_type": "markdown",
   "metadata": {},
   "source": [
    "First instinct is to check the ways of flipping the edges and try matching.. but that doesn't solve the orientation. Will have to be backtracking, probably.\n",
    "\n",
    "At each point you have 8 possible orientations (order of dihedral group)."
   ]
  },
  {
   "cell_type": "code",
   "execution_count": 2,
   "metadata": {},
   "outputs": [],
   "source": [
    "# handy reference https://1.bp.blogspot.com/-qssdBHQMy2A/WYSO0f6FbCI/AAAAAAAAEZs/Jc9r2q-4bgINEB-wFh0jZlLhU45kjD91wCLcBGAs/s1600/Dihedral%2BGroup%2Bof%2BSquare.png\n",
    "\n",
    "r = lambda a: np.rot90(a, k=1, axes=(1,0))\n",
    "r_2 = lambda a: np.rot90(a, k=2, axes=(1,0))\n",
    "r_3 = lambda a: np.rot90(a, k=3, axes=(1,0))\n",
    "f = lambda a: np.flip(a, axis=0)\n",
    "e = lambda x: x\n",
    "\n",
    "c = lambda f,g: lambda a: f(g(a)) \n",
    "\n",
    "dihedral = [e, r, r_2, r_3, f, c(r_2, f), c(r, f), c(r_3, f)]"
   ]
  },
  {
   "cell_type": "code",
   "execution_count": 3,
   "metadata": {},
   "outputs": [],
   "source": [
    "def find_empty(picture):\n",
    "    h, w = picture.shape\n",
    "    for c in itertools.product(range(h), range(w)):\n",
    "        if picture[c] is None:\n",
    "            return c\n",
    "    return None"
   ]
  },
  {
   "cell_type": "code",
   "execution_count": 4,
   "metadata": {},
   "outputs": [],
   "source": [
    "def in_bounds(shape, c):\n",
    "    return all(x >= 0 and x < s for (s, x) in zip(shape, c))"
   ]
  },
  {
   "cell_type": "code",
   "execution_count": 5,
   "metadata": {},
   "outputs": [],
   "source": [
    "def get_bottom(a):\n",
    "    return a[-1, :]\n",
    "\n",
    "def get_top(a):\n",
    "    return a[0, :]\n",
    "\n",
    "def get_left(a):\n",
    "    return a[:, 0]\n",
    "\n",
    "def get_right(a):\n",
    "    return a[:, -1]"
   ]
  },
  {
   "cell_type": "code",
   "execution_count": 6,
   "metadata": {},
   "outputs": [],
   "source": [
    "def valid(picture, c, block):\n",
    "    i, j = c\n",
    "    \n",
    "    # only need to check 4 positions relative to c\n",
    "    \n",
    "    # above\n",
    "    above = (i-1, j)\n",
    "    right = (i, j+1)\n",
    "    below = (i+1, j)\n",
    "    left = (i, j-1)\n",
    "    \n",
    "    # adj_c, adj_side, self_side\n",
    "\n",
    "    directions = [(above, get_bottom, get_top),\n",
    "                  (right, get_left, get_right),\n",
    "                  (below, get_top, get_bottom),\n",
    "                  (left, get_right, get_left)]\n",
    "    \n",
    "    for adj_c, adj_side, self_side in directions:\n",
    "        if in_bounds(picture.shape, adj_c) and picture[adj_c] is not None:\n",
    "            _, adj_block = picture[adj_c]\n",
    "\n",
    "            adj_array = adj_side(adj_block)\n",
    "            this_array = self_side(block)\n",
    "    \n",
    "            if not np.allclose(adj_array, this_array):\n",
    "                return False  \n",
    "   \n",
    "    return True"
   ]
  },
  {
   "cell_type": "code",
   "execution_count": 7,
   "metadata": {},
   "outputs": [],
   "source": [
    "def total_solve(blocks):\n",
    "    available_blocks = blocks.copy()\n",
    "\n",
    "    def solve(picture):\n",
    "        empty_c = find_empty(picture)\n",
    "\n",
    "        if not empty_c:\n",
    "            return True\n",
    "\n",
    "        # try every possible available block and orientation for this empty square\n",
    "        # then check if it's valid\n",
    "\n",
    "        for block_tuple, orientation_f in itertools.product(available_blocks.items(), dihedral):\n",
    "            num, block = block_tuple\n",
    "            \n",
    "            oriented_block = orientation_f(block)\n",
    "            \n",
    "            if valid(picture, empty_c, oriented_block):\n",
    "                # sides order TRBL\n",
    "\n",
    "                picture[empty_c] = (num, oriented_block)\n",
    "                \n",
    "                del available_blocks[num]\n",
    "\n",
    "                if solve(picture):\n",
    "                    return True\n",
    "\n",
    "                # backtrack\n",
    "                picture[empty_c] = None\n",
    "                available_blocks[num] = block\n",
    "\n",
    "       # if no possible match, return false \n",
    "        return False\n",
    "\n",
    "    num_images = len(blocks)\n",
    "\n",
    "    # side length (num patches in side of final image)\n",
    "    s = int(np.sqrt(num_images))\n",
    "\n",
    "    # backtracking\n",
    "\n",
    "    final_picture = np.full((s,s), None) \n",
    "\n",
    "    solve(final_picture)\n",
    "    \n",
    "    return final_picture"
   ]
  },
  {
   "cell_type": "code",
   "execution_count": 8,
   "metadata": {},
   "outputs": [],
   "source": [
    "def read_block(s):\n",
    "    num = re.match('Tile\\s(\\d+):', s).group(1)\n",
    "    \n",
    "    # skip label\n",
    "    lines = s.split()[2:]\n",
    "    \n",
    "    d = len(lines[0])\n",
    "    \n",
    "    block = np.zeros((d,d), dtype=np.short)\n",
    "    \n",
    "    for i, j in itertools.product(range(d), range(d)):\n",
    "        c = lines[i][j]\n",
    "        block[i, j] = 0 if c == '.' else 1\n",
    "\n",
    "    return num, block"
   ]
  },
  {
   "cell_type": "code",
   "execution_count": 9,
   "metadata": {},
   "outputs": [],
   "source": [
    "def read_blocks(fn):\n",
    "    blocks = {}\n",
    "\n",
    "    with open(fn) as f:\n",
    "        for s in f.read().split('\\n\\n'):\n",
    "            num, block = read_block(s)\n",
    "            blocks[num] = block\n",
    "\n",
    "    return blocks"
   ]
  },
  {
   "cell_type": "code",
   "execution_count": 10,
   "metadata": {},
   "outputs": [],
   "source": [
    "def product_corners(picture):\n",
    "    o = [-1, 0]\n",
    "    return np.prod([int(picture[i,j][0]) for i, j in itertools.product(o, o)])"
   ]
  },
  {
   "cell_type": "code",
   "execution_count": 11,
   "metadata": {},
   "outputs": [],
   "source": [
    "test_blocks = read_blocks(\"./inputs/20_test\")"
   ]
  },
  {
   "cell_type": "code",
   "execution_count": 12,
   "metadata": {},
   "outputs": [],
   "source": [
    "test_picture_final = total_solve(test_blocks)"
   ]
  },
  {
   "cell_type": "code",
   "execution_count": 13,
   "metadata": {},
   "outputs": [
    {
     "data": {
      "text/plain": [
       "20899048083289"
      ]
     },
     "execution_count": 13,
     "metadata": {},
     "output_type": "execute_result"
    }
   ],
   "source": [
    "product_corners(test_picture_final)"
   ]
  },
  {
   "cell_type": "code",
   "execution_count": 14,
   "metadata": {},
   "outputs": [],
   "source": [
    "blocks = read_blocks(\"./inputs/20\")"
   ]
  },
  {
   "cell_type": "code",
   "execution_count": 15,
   "metadata": {},
   "outputs": [],
   "source": [
    "picture_final = total_solve(blocks)"
   ]
  },
  {
   "cell_type": "code",
   "execution_count": 16,
   "metadata": {},
   "outputs": [
    {
     "data": {
      "text/plain": [
       "8272903687921"
      ]
     },
     "execution_count": 16,
     "metadata": {},
     "output_type": "execute_result"
    }
   ],
   "source": [
    "product_corners(picture_final)"
   ]
  },
  {
   "cell_type": "code",
   "execution_count": 17,
   "metadata": {},
   "outputs": [],
   "source": [
    "monster_pattern = '''                  # \n",
    "#    ##    ##    ###\n",
    " #  #  #  #  #  #   '''"
   ]
  },
  {
   "cell_type": "code",
   "execution_count": 18,
   "metadata": {},
   "outputs": [],
   "source": [
    "monster_lines = monster_pattern.split('\\n')"
   ]
  },
  {
   "cell_type": "code",
   "execution_count": 19,
   "metadata": {},
   "outputs": [],
   "source": [
    "d = len(monster_lines[0])\n",
    "number_lines = len(monster_lines)\n",
    "monster_np = np.zeros((number_lines, d), dtype=np.short)\n",
    "\n",
    "for i, j in itertools.product(range(number_lines), range(d)):\n",
    "    if monster_lines[i][j] == '#':\n",
    "        monster_np[i,j] = 1"
   ]
  },
  {
   "cell_type": "code",
   "execution_count": 105,
   "metadata": {
    "scrolled": true
   },
   "outputs": [
    {
     "data": {
      "text/plain": [
       "array([[0, 0, 0, 0, 0, 0, 0, 0, 0, 0, 0, 0, 0, 0, 0, 0, 0, 0, 1, 0],\n",
       "       [1, 0, 0, 0, 0, 1, 1, 0, 0, 0, 0, 1, 1, 0, 0, 0, 0, 1, 1, 1],\n",
       "       [0, 1, 0, 0, 1, 0, 0, 1, 0, 0, 1, 0, 0, 1, 0, 0, 1, 0, 0, 0]],\n",
       "      dtype=int16)"
      ]
     },
     "execution_count": 105,
     "metadata": {},
     "output_type": "execute_result"
    }
   ],
   "source": [
    "monster_np"
   ]
  },
  {
   "cell_type": "code",
   "execution_count": 78,
   "metadata": {},
   "outputs": [
    {
     "data": {
      "text/plain": [
       "(3, 20)"
      ]
     },
     "execution_count": 78,
     "metadata": {},
     "output_type": "execute_result"
    }
   ],
   "source": [
    "monster_np.shape"
   ]
  },
  {
   "cell_type": "code",
   "execution_count": 113,
   "metadata": {},
   "outputs": [],
   "source": [
    "# only the nonzero coordinates matter\n",
    "monster_coordinates = list(zip(*monster_np.nonzero()))"
   ]
  },
  {
   "cell_type": "code",
   "execution_count": 114,
   "metadata": {},
   "outputs": [],
   "source": [
    "# probably a better way of doing this but it works\n",
    "def get_combined_stripped_pic(pic):\n",
    "    combined_pic = np.full(pic.shape, None)\n",
    "\n",
    "    for idx, x in np.ndenumerate(pic):\n",
    "        # ignore number and strip the edges off\n",
    "        combined_pic[idx] = x[1][1:-1, 1:-1]\n",
    "        \n",
    "    # not sure why tolist is needed here, but works. the dtype of combined_test_pictures is object\n",
    "    # maybe why\n",
    "    full_picture = np.block(combined_pic.tolist())\n",
    "    \n",
    "    return full_picture"
   ]
  },
  {
   "cell_type": "code",
   "execution_count": 138,
   "metadata": {},
   "outputs": [],
   "source": [
    "def count_monsters(pic):\n",
    "    h, w = pic.shape\n",
    "    m_h, m_w = monster_np.shape\n",
    "\n",
    "    # try every orientation\n",
    "    for orientation_f in dihedral:\n",
    "        used_in_monster_set = set()\n",
    "        \n",
    "        oriented_pic = orientation_f(pic)\n",
    "        \n",
    "        # check every starting location for a monster\n",
    "        for (i,j), _ in np.ndenumerate(oriented_pic):\n",
    "            # check that a monster could fit starting here\n",
    "            if i + m_h >= h or j + m_w >= w:\n",
    "                continue\n",
    "            \n",
    "            # if it can\n",
    "            # get all coordinates relative to here\n",
    "            coords = [(i+m_i, j+m_j) for (m_i, m_j) in monster_coordinates]\n",
    "            \n",
    "            coords_i, coords_j = zip(*coords)\n",
    "            hits = oriented_pic[coords_i, coords_j]\n",
    "            num_hits = Counter(hits)[1]\n",
    "\n",
    "            # monster here\n",
    "            if num_hits == len(monster_coordinates):\n",
    "                used_in_monster_set |= set(coords)\n",
    "        \n",
    "        num_used = len(used_in_monster_set)\n",
    "        \n",
    "        total_pound_coords = Counter(oriented_pic.flatten())[1]\n",
    "        \n",
    "        if num_used:\n",
    "            print(f\"Coords not used: {total_pound_coords - num_used}\")"
   ]
  },
  {
   "cell_type": "code",
   "execution_count": 135,
   "metadata": {},
   "outputs": [],
   "source": [
    "test_combined_stripped = get_combined_stripped_pic(test_picture_final)"
   ]
  },
  {
   "cell_type": "code",
   "execution_count": 136,
   "metadata": {},
   "outputs": [
    {
     "name": "stdout",
     "output_type": "stream",
     "text": [
      "Coords used in monster: 30.\n",
      "Coords not used: 273\n"
     ]
    }
   ],
   "source": [
    "count_monsters(test_combined_stripped)"
   ]
  },
  {
   "cell_type": "code",
   "execution_count": 139,
   "metadata": {},
   "outputs": [],
   "source": [
    "combined_stripped = get_combined_stripped_pic(picture_final)"
   ]
  },
  {
   "cell_type": "code",
   "execution_count": 140,
   "metadata": {},
   "outputs": [
    {
     "name": "stdout",
     "output_type": "stream",
     "text": [
      "Coords not used: 2304\n"
     ]
    }
   ],
   "source": [
    "count_monsters(combined_stripped)"
   ]
  }
 ],
 "metadata": {
  "kernelspec": {
   "display_name": "Python (base)",
   "language": "python",
   "name": "base"
  },
  "language_info": {
   "codemirror_mode": {
    "name": "ipython",
    "version": 3
   },
   "file_extension": ".py",
   "mimetype": "text/x-python",
   "name": "python",
   "nbconvert_exporter": "python",
   "pygments_lexer": "ipython3",
   "version": "3.8.5"
  }
 },
 "nbformat": 4,
 "nbformat_minor": 4
}
