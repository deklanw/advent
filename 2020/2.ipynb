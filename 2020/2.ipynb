{
 "cells": [
  {
   "cell_type": "code",
   "execution_count": 24,
   "metadata": {},
   "outputs": [],
   "source": [
    "import re\n",
    "from collections import Counter"
   ]
  },
  {
   "cell_type": "code",
   "execution_count": 5,
   "metadata": {},
   "outputs": [],
   "source": [
    "password_re = re.compile(\"(\\d+)-(\\d+)\\s(\\w):\\s(\\w+)\")"
   ]
  },
  {
   "cell_type": "code",
   "execution_count": 14,
   "metadata": {},
   "outputs": [],
   "source": [
    "password_info = []\n",
    "\n",
    "with open('./inputs/2', mode=\"r\") as f:\n",
    "    for line in f:\n",
    "        matches = password_re.match(line)\n",
    "        lower = int(matches.group(1))\n",
    "        upper = int(matches.group(2))\n",
    "        letter = matches.group(3)\n",
    "        password = matches.group(4)\n",
    "        \n",
    "        password_info.append((lower, upper, letter, password))"
   ]
  },
  {
   "cell_type": "code",
   "execution_count": 15,
   "metadata": {},
   "outputs": [
    {
     "data": {
      "text/plain": [
       "[(3, 4, 't', 'dttt'),\n",
       " (5, 7, 'l', 'llmlqmblllh'),\n",
       " (3, 10, 'g', 'gggxwxggggkgglklhhgg'),\n",
       " (5, 7, 'd', 'zxhddvxd'),\n",
       " (5, 12, 's', 'sgscssssphxs'),\n",
       " (3, 4, 'b', 'lbbbbntqswsv'),\n",
       " (1, 11, 'h', 'hhhhchhhhjhph'),\n",
       " (10, 16, 'c', 'ccccqccchcccccjlc'),\n",
       " (10, 11, 'b', 'bsbdbblbbjbbbb'),\n",
       " (3, 5, 'j', 'jjrjfqz')]"
      ]
     },
     "execution_count": 15,
     "metadata": {},
     "output_type": "execute_result"
    }
   ],
   "source": [
    "password_info[:10]"
   ]
  },
  {
   "cell_type": "code",
   "execution_count": 28,
   "metadata": {},
   "outputs": [],
   "source": [
    "def password_is_valid(lower, upper, letter, password):\n",
    "    count = 0\n",
    "    \n",
    "    for c in password:\n",
    "        if c == letter:\n",
    "            count += 1\n",
    "\n",
    "        # can stop early in this case\n",
    "        if count > upper:\n",
    "            return False\n",
    "\n",
    "    if count < lower:\n",
    "        return False\n",
    "    \n",
    "    return True"
   ]
  },
  {
   "cell_type": "code",
   "execution_count": 30,
   "metadata": {},
   "outputs": [],
   "source": [
    "validity = [password_is_valid(*info) for info in password_info]"
   ]
  },
  {
   "cell_type": "code",
   "execution_count": 31,
   "metadata": {},
   "outputs": [
    {
     "data": {
      "text/plain": [
       "Counter({True: 586, False: 414})"
      ]
     },
     "execution_count": 31,
     "metadata": {},
     "output_type": "execute_result"
    }
   ],
   "source": [
    "Counter(validity)"
   ]
  },
  {
   "cell_type": "markdown",
   "metadata": {},
   "source": [
    "## Part Two"
   ]
  },
  {
   "cell_type": "code",
   "execution_count": 50,
   "metadata": {},
   "outputs": [],
   "source": [
    "def logical_xor(a, b):\n",
    "    return a ^ b"
   ]
  },
  {
   "cell_type": "code",
   "execution_count": 52,
   "metadata": {},
   "outputs": [],
   "source": [
    "def password_is_valid_2(first_position, second_position, letter, password):\n",
    "    first_is_letter = password[first_position-1] == letter\n",
    "    second_is_letter = password[second_position-1] == letter\n",
    "    return logical_xor(first_is_letter, second_is_letter)"
   ]
  },
  {
   "cell_type": "markdown",
   "metadata": {},
   "source": [
    "Test cases from problem"
   ]
  },
  {
   "cell_type": "code",
   "execution_count": 53,
   "metadata": {},
   "outputs": [],
   "source": [
    "assert password_is_valid_2(1,3,'a','abcde')\n",
    "assert not password_is_valid_2(1,3,'b','cdefg')\n",
    "assert not password_is_valid_2(2,9,'c','ccccccccc')"
   ]
  },
  {
   "cell_type": "code",
   "execution_count": 54,
   "metadata": {},
   "outputs": [],
   "source": [
    "validity2 = [password_is_valid_2(*info) for info in password_info]"
   ]
  },
  {
   "cell_type": "code",
   "execution_count": 55,
   "metadata": {},
   "outputs": [
    {
     "data": {
      "text/plain": [
       "Counter({False: 648, True: 352})"
      ]
     },
     "execution_count": 55,
     "metadata": {},
     "output_type": "execute_result"
    }
   ],
   "source": [
    "Counter(validity2)"
   ]
  }
 ],
 "metadata": {
  "kernelspec": {
   "display_name": "Python 3",
   "language": "python",
   "name": "python3"
  },
  "language_info": {
   "codemirror_mode": {
    "name": "ipython",
    "version": 3
   },
   "file_extension": ".py",
   "mimetype": "text/x-python",
   "name": "python",
   "nbconvert_exporter": "python",
   "pygments_lexer": "ipython3",
   "version": "3.8.5"
  }
 },
 "nbformat": 4,
 "nbformat_minor": 4
}
