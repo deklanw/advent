{
 "cells": [
  {
   "cell_type": "code",
   "execution_count": 135,
   "metadata": {},
   "outputs": [],
   "source": [
    "import time\n",
    "\n",
    "from numba import jit\n",
    "from numba.typed import List"
   ]
  },
  {
   "cell_type": "code",
   "execution_count": 22,
   "metadata": {},
   "outputs": [],
   "source": [
    "test_input1 = [0,3,6]\n",
    "test_input2 = [2,1,3]\n",
    "test_input3 = [1,2,3]\n",
    "test_input4 = [2,3,1]\n",
    "test_input5 = [3,2,1]\n",
    "test_input6 = [3,1,2]"
   ]
  },
  {
   "cell_type": "code",
   "execution_count": 136,
   "metadata": {},
   "outputs": [],
   "source": [
    "def last_spoken_iter(numbers, iters):\n",
    "    last_seen_dict = {n: i+1 for i, n in enumerate(numbers[:-1])}\n",
    "    \n",
    "    spoken = numbers[-1]\n",
    "    last_spoken = None\n",
    "    turn = len(numbers)\n",
    "    \n",
    "    while turn < iters:\n",
    "        turn += 1\n",
    "        \n",
    "        last_spoken = spoken\n",
    "        \n",
    "        if last_spoken in last_seen_dict:\n",
    "            last_turn_seen = last_seen_dict[last_spoken]\n",
    "            spoken = turn - last_turn_seen - 1\n",
    "        else:\n",
    "            spoken = 0\n",
    "        \n",
    "        # commit what was spoken last turn\n",
    "        last_seen_dict[last_spoken] = turn - 1\n",
    "\n",
    "    return spoken"
   ]
  },
  {
   "cell_type": "code",
   "execution_count": 157,
   "metadata": {},
   "outputs": [],
   "source": [
    "@jit(nopython=True)\n",
    "def last_spoken_iter_jit(numbers, iters):\n",
    "    # no dictionary comprehensions in numba\n",
    "    last_seen_dict = dict()\n",
    "    for i, n in enumerate(numbers[:-1]):\n",
    "        last_seen_dict[n] = i+1\n",
    "    \n",
    "    spoken = numbers[-1]\n",
    "    last_spoken = None\n",
    "    turn = len(numbers)\n",
    "    \n",
    "    while turn < iters:\n",
    "        turn += 1\n",
    "        \n",
    "        last_spoken = spoken\n",
    "        \n",
    "        if last_spoken in last_seen_dict:\n",
    "            last_turn_seen = last_seen_dict[last_spoken]\n",
    "            spoken = turn - 1 - last_turn_seen\n",
    "        else:\n",
    "            spoken = 0\n",
    "        \n",
    "        # commit what was spoken last turn\n",
    "        last_seen_dict[last_spoken] = turn - 1\n",
    "\n",
    "    return spoken"
   ]
  },
  {
   "cell_type": "code",
   "execution_count": 141,
   "metadata": {},
   "outputs": [
    {
     "data": {
      "text/plain": [
       "436"
      ]
     },
     "execution_count": 141,
     "metadata": {},
     "output_type": "execute_result"
    }
   ],
   "source": [
    "last_spoken_iter(test_input1, 2020)"
   ]
  },
  {
   "cell_type": "code",
   "execution_count": 86,
   "metadata": {},
   "outputs": [
    {
     "data": {
      "text/plain": [
       "10"
      ]
     },
     "execution_count": 86,
     "metadata": {},
     "output_type": "execute_result"
    }
   ],
   "source": [
    "last_spoken_iter(test_input2, 2020)"
   ]
  },
  {
   "cell_type": "code",
   "execution_count": 87,
   "metadata": {},
   "outputs": [
    {
     "data": {
      "text/plain": [
       "27"
      ]
     },
     "execution_count": 87,
     "metadata": {},
     "output_type": "execute_result"
    }
   ],
   "source": [
    "last_spoken_iter(test_input3, 2020)"
   ]
  },
  {
   "cell_type": "code",
   "execution_count": 88,
   "metadata": {},
   "outputs": [
    {
     "data": {
      "text/plain": [
       "78"
      ]
     },
     "execution_count": 88,
     "metadata": {},
     "output_type": "execute_result"
    }
   ],
   "source": [
    "last_spoken_iter(test_input4, 2020)"
   ]
  },
  {
   "cell_type": "code",
   "execution_count": 89,
   "metadata": {},
   "outputs": [
    {
     "data": {
      "text/plain": [
       "438"
      ]
     },
     "execution_count": 89,
     "metadata": {},
     "output_type": "execute_result"
    }
   ],
   "source": [
    "last_spoken_iter(test_input5, 2020)"
   ]
  },
  {
   "cell_type": "code",
   "execution_count": 90,
   "metadata": {},
   "outputs": [
    {
     "data": {
      "text/plain": [
       "1836"
      ]
     },
     "execution_count": 90,
     "metadata": {},
     "output_type": "execute_result"
    }
   ],
   "source": [
    "last_spoken_iter(test_input6, 2020)"
   ]
  },
  {
   "cell_type": "code",
   "execution_count": 150,
   "metadata": {},
   "outputs": [],
   "source": [
    "puzzle_input = [1,0,18,10,19,6]\n",
    "numba_puzzle_input = List(puzzle_input)"
   ]
  },
  {
   "cell_type": "code",
   "execution_count": 151,
   "metadata": {},
   "outputs": [
    {
     "data": {
      "text/plain": [
       "441"
      ]
     },
     "execution_count": 151,
     "metadata": {},
     "output_type": "execute_result"
    }
   ],
   "source": [
    "last_spoken_iter(puzzle_input, 2020)"
   ]
  },
  {
   "cell_type": "code",
   "execution_count": 152,
   "metadata": {},
   "outputs": [
    {
     "data": {
      "text/plain": [
       "441"
      ]
     },
     "execution_count": 152,
     "metadata": {},
     "output_type": "execute_result"
    }
   ],
   "source": [
    "last_spoken_iter(numba_puzzle_input, 2020)"
   ]
  },
  {
   "cell_type": "code",
   "execution_count": 158,
   "metadata": {},
   "outputs": [
    {
     "data": {
      "text/plain": [
       "10613991"
      ]
     },
     "execution_count": 158,
     "metadata": {},
     "output_type": "execute_result"
    }
   ],
   "source": [
    "last_spoken_iter_jit(numba_puzzle_input, 30000000)"
   ]
  },
  {
   "cell_type": "code",
   "execution_count": 154,
   "metadata": {},
   "outputs": [
    {
     "name": "stdout",
     "output_type": "stream",
     "text": [
      "24.8 ms ± 1.57 ms per loop (mean ± std. dev. of 7 runs, 20 loops each)\n"
     ]
    }
   ],
   "source": [
    "%timeit -n 20 last_spoken_iter(puzzle_input, 100_000)"
   ]
  },
  {
   "cell_type": "code",
   "execution_count": 155,
   "metadata": {},
   "outputs": [
    {
     "name": "stdout",
     "output_type": "stream",
     "text": [
      "9.55 ms ± 909 µs per loop (mean ± std. dev. of 7 runs, 20 loops each)\n"
     ]
    }
   ],
   "source": [
    "%timeit -n 20 last_spoken_iter_jit(numba_puzzle_input, 100_000)"
   ]
  }
 ],
 "metadata": {
  "kernelspec": {
   "display_name": "Python (base)",
   "language": "python",
   "name": "base"
  },
  "language_info": {
   "codemirror_mode": {
    "name": "ipython",
    "version": 3
   },
   "file_extension": ".py",
   "mimetype": "text/x-python",
   "name": "python",
   "nbconvert_exporter": "python",
   "pygments_lexer": "ipython3",
   "version": "3.8.5"
  }
 },
 "nbformat": 4,
 "nbformat_minor": 4
}
