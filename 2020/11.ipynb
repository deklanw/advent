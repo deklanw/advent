{
 "cells": [
  {
   "cell_type": "code",
   "execution_count": 1,
   "metadata": {},
   "outputs": [],
   "source": [
    "import numpy as np\n",
    "import itertools\n",
    "from collections import Counter"
   ]
  },
  {
   "cell_type": "code",
   "execution_count": 2,
   "metadata": {},
   "outputs": [],
   "source": [
    "FLOOR = 0\n",
    "EMPTY = 1\n",
    "OCCUPIED = 2"
   ]
  },
  {
   "cell_type": "code",
   "execution_count": 3,
   "metadata": {},
   "outputs": [],
   "source": [
    "def read_board(fn):\n",
    "    board = np.genfromtxt(fn, dtype=np.unicode_, comments=None, delimiter=1)\n",
    "    int_board = np.zeros(board.shape, dtype=np.ushort)\n",
    "    height, width = board.shape\n",
    "\n",
    "    for (i,j) in itertools.product(range(height), range(width)):\n",
    "        c = board[i,j]\n",
    "\n",
    "        if c == '.':\n",
    "            int_board[i, j] = FLOOR\n",
    "        elif c == 'L':\n",
    "            int_board[i, j] = EMPTY\n",
    "        else:\n",
    "            int_board[i, j] = OCCUPIED\n",
    "    return int_board"
   ]
  },
  {
   "cell_type": "code",
   "execution_count": 4,
   "metadata": {},
   "outputs": [],
   "source": [
    "test_board = read_board('./inputs/11_test')"
   ]
  },
  {
   "cell_type": "code",
   "execution_count": 5,
   "metadata": {},
   "outputs": [
    {
     "data": {
      "text/plain": [
       "array([[1, 0, 1, 1, 0, 1, 1, 0, 1, 1],\n",
       "       [1, 1, 1, 1, 1, 1, 1, 0, 1, 1],\n",
       "       [1, 0, 1, 0, 1, 0, 0, 1, 0, 0],\n",
       "       [1, 1, 1, 1, 0, 1, 1, 0, 1, 1],\n",
       "       [1, 0, 1, 1, 0, 1, 1, 0, 1, 1],\n",
       "       [1, 0, 1, 1, 1, 1, 1, 0, 1, 1],\n",
       "       [0, 0, 1, 0, 1, 0, 0, 0, 0, 0],\n",
       "       [1, 1, 1, 1, 1, 1, 1, 1, 1, 1],\n",
       "       [1, 0, 1, 1, 1, 1, 1, 1, 0, 1],\n",
       "       [1, 0, 1, 1, 1, 1, 1, 0, 1, 1]], dtype=uint16)"
      ]
     },
     "execution_count": 5,
     "metadata": {},
     "output_type": "execute_result"
    }
   ],
   "source": [
    "test_board"
   ]
  },
  {
   "cell_type": "code",
   "execution_count": 6,
   "metadata": {},
   "outputs": [],
   "source": [
    "board = read_board('./inputs/11')"
   ]
  },
  {
   "cell_type": "markdown",
   "metadata": {},
   "source": [
    "- If a seat is empty (L) and there are no occupied seats adjacent to it, the seat becomes occupied.\n",
    "- If a seat is occupied (#) and four or more seats adjacent to it are also occupied, the seat becomes empty.\n",
    "- Otherwise, the seat's state does not change.\n",
    "\n",
    "Floor (.) never changes; seats don't move, and nobody sits on the floor."
   ]
  },
  {
   "cell_type": "code",
   "execution_count": 7,
   "metadata": {},
   "outputs": [],
   "source": [
    "def in_bounds(i, j, height, width):\n",
    "     return i in range(height) and j in range(width)"
   ]
  },
  {
   "cell_type": "code",
   "execution_count": 8,
   "metadata": {},
   "outputs": [],
   "source": [
    "def get_around(i, j, height, width):\n",
    "    step = [-1, 0, 1]\n",
    "    \n",
    "    indices_y = []\n",
    "    indices_x = []\n",
    "    \n",
    "    for (x, y) in itertools.product(step, step):\n",
    "        # dont visit self\n",
    "        if x == 0 and y == 0:\n",
    "            continue\n",
    "        \n",
    "        new_i = i+y\n",
    "        new_j = j+x\n",
    "        \n",
    "        if in_bounds(new_i, new_j, height, width):\n",
    "            indices_y.append(new_i)\n",
    "            indices_x.append(new_j)\n",
    "\n",
    "    return indices_y, indices_x\n",
    "\n",
    "def get_next_board1(board):\n",
    "    height, width = board.shape\n",
    "    \n",
    "    new_board = board.copy()\n",
    "\n",
    "    for (i,j) in itertools.product(range(height), range(width)):\n",
    "        state = board[i, j]\n",
    "\n",
    "        if state != FLOOR:\n",
    "            around_y, around_x = get_around(i, j, height, width)\n",
    "            around = board[around_y, around_x]\n",
    "            count = Counter(around)\n",
    "\n",
    "            if state == EMPTY and count[OCCUPIED] == 0:\n",
    "                new_board[i, j] = OCCUPIED\n",
    "            elif state == OCCUPIED and count[OCCUPIED] >= 4:\n",
    "                new_board[i, j] = EMPTY\n",
    "\n",
    "    return new_board\n",
    "\n",
    "def pt1(board):\n",
    "    board = board.copy()\n",
    "    last_board = np.array([])\n",
    "\n",
    "    for iter in range(200):\n",
    "        print(iter)\n",
    "        # print(board)\n",
    "        if np.array_equal(board, last_board):\n",
    "            print(\"Stable.\")\n",
    "            return board\n",
    "        else:\n",
    "            last_board = board\n",
    "            board = get_next_board1(board)"
   ]
  },
  {
   "cell_type": "code",
   "execution_count": 9,
   "metadata": {},
   "outputs": [],
   "source": [
    "def get_first_in_direction(board, i, j, direction):\n",
    "    height, width = board.shape\n",
    "    \n",
    "    step_x, step_y = direction\n",
    "    \n",
    "    for step in range(1, max(height, width)):\n",
    "        new_i = i+step*step_y\n",
    "        new_j = j+step*step_x\n",
    "        \n",
    "        if in_bounds(new_i, new_j, height, width):\n",
    "            element = board[new_i, new_j]\n",
    "            \n",
    "            if element != FLOOR:\n",
    "                return element\n",
    "        else:\n",
    "            break\n",
    "        \n",
    "    return FLOOR\n",
    "\n",
    "def get_around_extended(board, i, j):\n",
    "    step = [-1, 0, 1]\n",
    "    \n",
    "    place_types = []\n",
    "    \n",
    "    # every possible direction\n",
    "    for (x, y) in itertools.product(step, step):\n",
    "        # dont visit self\n",
    "        if x == 0 and y == 0:\n",
    "            continue\n",
    "        \n",
    "        first_in_direction = get_first_in_direction(board, i, j, (x,y))\n",
    "        place_types.append(first_in_direction)\n",
    "\n",
    "    return Counter(place_types)\n",
    "\n",
    "            \n",
    "def get_next_board2(board):\n",
    "    height, width = board.shape\n",
    "    \n",
    "    new_board = board.copy()\n",
    "\n",
    "    for (i,j) in itertools.product(range(height), range(width)):\n",
    "        state = board[i, j]\n",
    "\n",
    "        if state != FLOOR:\n",
    "            count = get_around_extended(board, i, j)\n",
    "\n",
    "            if state == EMPTY and count[OCCUPIED] == 0:\n",
    "                new_board[i, j] = OCCUPIED\n",
    "            elif state == OCCUPIED and count[OCCUPIED] >= 5:\n",
    "                new_board[i, j] = EMPTY\n",
    "\n",
    "    return new_board\n",
    "            \n",
    "def pt2(board):\n",
    "    board = board.copy()\n",
    "    last_board = np.array([])\n",
    "\n",
    "    for iter in range(200):\n",
    "        print(iter)\n",
    "        # print(board)\n",
    "        if np.array_equal(board, last_board):\n",
    "            print(\"Stable.\")\n",
    "            return board\n",
    "        else:\n",
    "            last_board = board\n",
    "            board = get_next_board2(board)"
   ]
  },
  {
   "cell_type": "code",
   "execution_count": 10,
   "metadata": {
    "scrolled": false
   },
   "outputs": [
    {
     "name": "stdout",
     "output_type": "stream",
     "text": [
      "0\n",
      "1\n",
      "2\n",
      "3\n",
      "4\n",
      "5\n",
      "6\n",
      "Stable.\n"
     ]
    }
   ],
   "source": [
    "final_board_test = pt1(test_board)"
   ]
  },
  {
   "cell_type": "code",
   "execution_count": 11,
   "metadata": {
    "scrolled": true
   },
   "outputs": [
    {
     "data": {
      "text/plain": [
       "Counter({2: 37, 0: 29, 1: 34})"
      ]
     },
     "execution_count": 11,
     "metadata": {},
     "output_type": "execute_result"
    }
   ],
   "source": [
    "Counter(final_board_test.flatten())"
   ]
  },
  {
   "cell_type": "code",
   "execution_count": 12,
   "metadata": {},
   "outputs": [
    {
     "name": "stdout",
     "output_type": "stream",
     "text": [
      "0\n",
      "1\n",
      "2\n",
      "3\n",
      "4\n",
      "5\n",
      "6\n",
      "7\n",
      "Stable.\n"
     ]
    }
   ],
   "source": [
    "final_board_test2 = pt2(test_board)"
   ]
  },
  {
   "cell_type": "code",
   "execution_count": 13,
   "metadata": {},
   "outputs": [
    {
     "data": {
      "text/plain": [
       "Counter({2: 26, 0: 29, 1: 45})"
      ]
     },
     "execution_count": 13,
     "metadata": {},
     "output_type": "execute_result"
    }
   ],
   "source": [
    "Counter(final_board_test2.flatten())"
   ]
  },
  {
   "cell_type": "code",
   "execution_count": 14,
   "metadata": {},
   "outputs": [
    {
     "data": {
      "text/plain": [
       "(98, 96)"
      ]
     },
     "execution_count": 14,
     "metadata": {},
     "output_type": "execute_result"
    }
   ],
   "source": [
    "board.shape"
   ]
  },
  {
   "cell_type": "code",
   "execution_count": 15,
   "metadata": {
    "scrolled": true
   },
   "outputs": [
    {
     "name": "stdout",
     "output_type": "stream",
     "text": [
      "0\n",
      "1\n",
      "2\n",
      "3\n",
      "4\n",
      "5\n",
      "6\n",
      "7\n",
      "8\n",
      "9\n",
      "10\n",
      "11\n",
      "12\n",
      "13\n",
      "14\n",
      "15\n",
      "16\n",
      "17\n",
      "18\n",
      "19\n",
      "20\n",
      "21\n",
      "22\n",
      "23\n",
      "24\n",
      "25\n",
      "26\n",
      "27\n",
      "28\n",
      "29\n",
      "30\n",
      "31\n",
      "32\n",
      "33\n",
      "34\n",
      "35\n",
      "36\n",
      "37\n",
      "38\n",
      "39\n",
      "40\n",
      "41\n",
      "42\n",
      "43\n",
      "44\n",
      "45\n",
      "46\n",
      "47\n",
      "48\n",
      "49\n",
      "50\n",
      "51\n",
      "52\n",
      "53\n",
      "54\n",
      "55\n",
      "56\n",
      "57\n",
      "58\n",
      "59\n",
      "60\n",
      "61\n",
      "62\n",
      "63\n",
      "64\n",
      "65\n",
      "66\n",
      "67\n",
      "68\n",
      "69\n",
      "70\n",
      "71\n",
      "Stable.\n"
     ]
    }
   ],
   "source": [
    "final_board = pt1(board)"
   ]
  },
  {
   "cell_type": "code",
   "execution_count": 16,
   "metadata": {},
   "outputs": [
    {
     "data": {
      "text/plain": [
       "Counter({2: 2418, 1: 5146, 0: 1844})"
      ]
     },
     "execution_count": 16,
     "metadata": {},
     "output_type": "execute_result"
    }
   ],
   "source": [
    "Counter(final_board.flatten())"
   ]
  },
  {
   "cell_type": "code",
   "execution_count": 19,
   "metadata": {
    "scrolled": true
   },
   "outputs": [
    {
     "name": "stdout",
     "output_type": "stream",
     "text": [
      "0\n",
      "1\n",
      "2\n",
      "3\n",
      "4\n",
      "5\n",
      "6\n",
      "7\n",
      "8\n",
      "9\n",
      "10\n",
      "11\n",
      "12\n",
      "13\n",
      "14\n",
      "15\n",
      "16\n",
      "17\n",
      "18\n",
      "19\n",
      "20\n",
      "21\n",
      "22\n",
      "23\n",
      "24\n",
      "25\n",
      "26\n",
      "27\n",
      "28\n",
      "29\n",
      "30\n",
      "31\n",
      "32\n",
      "33\n",
      "34\n",
      "35\n",
      "36\n",
      "37\n",
      "38\n",
      "39\n",
      "40\n",
      "41\n",
      "42\n",
      "43\n",
      "44\n",
      "45\n",
      "46\n",
      "47\n",
      "48\n",
      "49\n",
      "50\n",
      "51\n",
      "52\n",
      "53\n",
      "54\n",
      "55\n",
      "56\n",
      "57\n",
      "58\n",
      "59\n",
      "60\n",
      "61\n",
      "62\n",
      "63\n",
      "64\n",
      "65\n",
      "66\n",
      "67\n",
      "68\n",
      "69\n",
      "70\n",
      "71\n",
      "72\n",
      "73\n",
      "74\n",
      "75\n",
      "76\n",
      "77\n",
      "78\n",
      "79\n",
      "80\n",
      "81\n",
      "82\n",
      "83\n",
      "84\n",
      "85\n",
      "86\n",
      "87\n",
      "88\n",
      "89\n",
      "Stable.\n"
     ]
    }
   ],
   "source": [
    "final_board2 = pt2(board)"
   ]
  },
  {
   "cell_type": "code",
   "execution_count": 18,
   "metadata": {},
   "outputs": [
    {
     "data": {
      "text/plain": [
       "Counter({2: 2144, 1: 5420, 0: 1844})"
      ]
     },
     "execution_count": 18,
     "metadata": {},
     "output_type": "execute_result"
    }
   ],
   "source": [
    "Counter(final_board2.flatten())"
   ]
  }
 ],
 "metadata": {
  "kernelspec": {
   "display_name": "Python (base)",
   "language": "python",
   "name": "base"
  },
  "language_info": {
   "codemirror_mode": {
    "name": "ipython",
    "version": 3
   },
   "file_extension": ".py",
   "mimetype": "text/x-python",
   "name": "python",
   "nbconvert_exporter": "python",
   "pygments_lexer": "ipython3",
   "version": "3.8.5"
  }
 },
 "nbformat": 4,
 "nbformat_minor": 4
}
