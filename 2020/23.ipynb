{
 "cells": [
  {
   "cell_type": "code",
   "execution_count": 1,
   "metadata": {},
   "outputs": [],
   "source": [
    "from collections import deque"
   ]
  },
  {
   "cell_type": "code",
   "execution_count": 2,
   "metadata": {},
   "outputs": [],
   "source": [
    "cups_input = \"284573961\""
   ]
  },
  {
   "cell_type": "code",
   "execution_count": 3,
   "metadata": {},
   "outputs": [],
   "source": [
    "test_cups_input = \"389125467\""
   ]
  },
  {
   "cell_type": "code",
   "execution_count": 4,
   "metadata": {},
   "outputs": [],
   "source": [
    "def parse_cups(s):\n",
    "    return [int(d) for d in s]"
   ]
  },
  {
   "cell_type": "code",
   "execution_count": 5,
   "metadata": {},
   "outputs": [],
   "source": [
    "test_cups = parse_cups(test_cups_input)"
   ]
  },
  {
   "cell_type": "code",
   "execution_count": 6,
   "metadata": {},
   "outputs": [],
   "source": [
    "cups = parse_cups(cups_input)"
   ]
  },
  {
   "cell_type": "code",
   "execution_count": 7,
   "metadata": {},
   "outputs": [],
   "source": [
    "def play(cups, rounds):\n",
    "    cups = deque(cups)\n",
    "    \n",
    "    for i in range(rounds):  \n",
    "        # see what current cup is\n",
    "        current = cups[0]\n",
    "        \n",
    "        # target label based on current cup\n",
    "        target = current - 1\n",
    "        \n",
    "        # rotate once so next three cups are at front\n",
    "        cups.rotate(-1)\n",
    "        \n",
    "        # grab them\n",
    "        a, b, c = cups.popleft(), cups.popleft(), cups.popleft()\n",
    "        \n",
    "        # look for the index of our target. subtract 1 as necessary if we have the cup separate\n",
    "        while target == a or target == b or target == c or target == 0:\n",
    "            target = (target - 1) % 10\n",
    "        \n",
    "        target_loc = cups.index(target)\n",
    "        \n",
    "        # rotate until one after our target\n",
    "        cups.rotate(-(target_loc+1))\n",
    "        \n",
    "        # put the cups we removed back on\n",
    "        cups.extendleft([c, b, a])\n",
    "\n",
    "        # rotate back until the cup right after the current cup is first\n",
    "        current_index = cups.index(current)\n",
    "        \n",
    "        cups.rotate(-(current_index+1))\n",
    "        \n",
    "        # ready for next iteration (next current cup at front)\n",
    "    \n",
    "    # get number string after 1\n",
    "    one_index = cups.index(1)\n",
    "    cups.rotate(-one_index)\n",
    "    cups.popleft()\n",
    "\n",
    "    s = ''.join([str(d) for d in cups])\n",
    "\n",
    "    return s"
   ]
  },
  {
   "cell_type": "code",
   "execution_count": 8,
   "metadata": {},
   "outputs": [],
   "source": [
    "assert play(test_cups, 10) == '92658374'"
   ]
  },
  {
   "cell_type": "code",
   "execution_count": 9,
   "metadata": {},
   "outputs": [],
   "source": [
    "assert play(test_cups, 100) == '67384529'"
   ]
  },
  {
   "cell_type": "code",
   "execution_count": 10,
   "metadata": {},
   "outputs": [],
   "source": [
    "assert play(cups, 100) == '26354798'"
   ]
  },
  {
   "cell_type": "markdown",
   "metadata": {},
   "source": [
    "Can't reuse the solution in pt1. Too slow. Just going to make a circular linked list"
   ]
  },
  {
   "cell_type": "code",
   "execution_count": 94,
   "metadata": {},
   "outputs": [],
   "source": [
    "class Cup:\n",
    "    def __init__(self, label):\n",
    "        self.label = label\n",
    "        self.next = None\n",
    "\n",
    "    def __repr__(self):\n",
    "        return f\"Cup label: {self.label}\""
   ]
  },
  {
   "cell_type": "code",
   "execution_count": 100,
   "metadata": {},
   "outputs": [],
   "source": [
    "def pt2(cups):\n",
    "    NUM_CUPS = 1_000_000\n",
    "    NUM_ROUNDS = 10_000_000\n",
    "\n",
    "    cup_dict = {i: Cup(i) for i in cups} \n",
    "    cup_dict.update({i: Cup(i) for i in range(10, NUM_CUPS + 1)})\n",
    "    \n",
    "    # now connect them up\n",
    "    for i, l in enumerate(cups[:-1]):\n",
    "        cup_dict[l].next = cup_dict[cups[i+1]]\n",
    "    \n",
    "    for l in range(10, NUM_CUPS):\n",
    "        cup_dict[l].next = cup_dict[l+1]\n",
    "        \n",
    "    # last normal cup to first of sequential cups\n",
    "    cup_dict[cups[-1]].next = cup_dict[10]\n",
    "\n",
    "    # last of sequential cups to first of normal cups\n",
    "    cup_dict[NUM_CUPS].next = cup_dict[cups[0]]\n",
    "        \n",
    "    current_cup = cup_dict[cups[0]]\n",
    "    \n",
    "    for move in range(1, NUM_ROUNDS+1):\n",
    "        # target label based on current cup\n",
    "        target_label = current_cup.label - 1\n",
    "\n",
    "        # save the four cups after the current_cup\n",
    "        # the fourth will be the next current_cup\n",
    "        a = current_cup.next\n",
    "        b = a.next\n",
    "        c = b.next\n",
    "        d = c.next\n",
    "\n",
    "        # look for the label of our target.\n",
    "        # subtract 1 as necessary if we have the cup separated already\n",
    "        while target_label == a.label or target_label == b.label or target_label == c.label or target_label == 0:\n",
    "            target_label = (target_label - 1) % (NUM_CUPS + 1)\n",
    "\n",
    "        target_cup = cup_dict[target_label]\n",
    "\n",
    "        c.next = target_cup.next\n",
    "\n",
    "        target_cup.next = a\n",
    "\n",
    "        current_cup.next = d\n",
    "\n",
    "        current_cup = d\n",
    "        \n",
    "    one_cup = cup_dict[1]\n",
    "    \n",
    "    return one_cup.next.label * one_cup.next.next.label"
   ]
  },
  {
   "cell_type": "code",
   "execution_count": 101,
   "metadata": {},
   "outputs": [
    {
     "data": {
      "text/plain": [
       "149245887792"
      ]
     },
     "execution_count": 101,
     "metadata": {},
     "output_type": "execute_result"
    }
   ],
   "source": [
    "pt2(test_cups)"
   ]
  },
  {
   "cell_type": "code",
   "execution_count": 102,
   "metadata": {},
   "outputs": [
    {
     "data": {
      "text/plain": [
       "166298218695"
      ]
     },
     "execution_count": 102,
     "metadata": {},
     "output_type": "execute_result"
    }
   ],
   "source": [
    "pt2(cups)"
   ]
  }
 ],
 "metadata": {
  "kernelspec": {
   "display_name": "Python (base)",
   "language": "python",
   "name": "base"
  },
  "language_info": {
   "codemirror_mode": {
    "name": "ipython",
    "version": 3
   },
   "file_extension": ".py",
   "mimetype": "text/x-python",
   "name": "python",
   "nbconvert_exporter": "python",
   "pygments_lexer": "ipython3",
   "version": "3.8.5"
  }
 },
 "nbformat": 4,
 "nbformat_minor": 4
}
