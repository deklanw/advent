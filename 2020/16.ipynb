{
 "cells": [
  {
   "cell_type": "code",
   "execution_count": 24,
   "metadata": {},
   "outputs": [],
   "source": [
    "import re\n",
    "import numpy as np\n",
    "import itertools\n",
    "import math"
   ]
  },
  {
   "cell_type": "code",
   "execution_count": 2,
   "metadata": {},
   "outputs": [],
   "source": [
    "test_input = '''class: 1-3 or 5-7\n",
    "row: 6-11 or 33-44\n",
    "seat: 13-40 or 45-50\n",
    "\n",
    "your ticket:\n",
    "7,1,14\n",
    "\n",
    "nearby tickets:\n",
    "7,3,47\n",
    "40,4,50\n",
    "55,2,20\n",
    "38,6,12'''"
   ]
  },
  {
   "cell_type": "code",
   "execution_count": 3,
   "metadata": {},
   "outputs": [],
   "source": [
    "def in_bounds(n, bounds):\n",
    "    mn, mx = bounds\n",
    "    return n >= mn and n <= mx"
   ]
  },
  {
   "cell_type": "code",
   "execution_count": 4,
   "metadata": {},
   "outputs": [],
   "source": [
    "def parse_ticket_info(ticket_info):\n",
    "    rule_re = re.compile(\"(.*):\\s(\\d+)-(\\d+)\\sor\\s(\\d+)-(\\d+)\")\n",
    "    \n",
    "    [rules, yours, nearby] = [s.split('\\n') for s in ticket_info.split('\\n\\n')]\n",
    "    \n",
    "    field_rules = []\n",
    "\n",
    "    for r in rules:\n",
    "        m = rule_re.match(r)\n",
    "\n",
    "        # name, bounds1, bounds2\n",
    "        field_rule = (m.group(1), (int(m.group(2)), int(m.group(3))), (int(m.group(4)), int(m.group(5))))\n",
    "\n",
    "        field_rules.append(field_rule)\n",
    "    \n",
    "    your_numbers = [int(s) for s in yours[1].split(',')]\n",
    "    \n",
    "    nearby_numbers = np.vstack([[int(s) for s in lst.split(',')]  for lst in nearby[1:]])\n",
    "    \n",
    "    return field_rules, your_numbers, nearby_numbers"
   ]
  },
  {
   "cell_type": "code",
   "execution_count": 5,
   "metadata": {},
   "outputs": [],
   "source": [
    "test_field_rules, test_your_numbers, test_nearby_numbers = parse_ticket_info(test_input)"
   ]
  },
  {
   "cell_type": "code",
   "execution_count": 6,
   "metadata": {},
   "outputs": [],
   "source": [
    "field_rules, your_numbers, nearby_numbers = parse_ticket_info(open('./inputs/16').read())"
   ]
  },
  {
   "cell_type": "code",
   "execution_count": 7,
   "metadata": {},
   "outputs": [],
   "source": [
    "def valid(n, field_rule):\n",
    "    name, bounds1, bounds2 = field_rule\n",
    "    \n",
    "    return in_bounds(n, bounds1) or in_bounds(n, bounds2)"
   ]
  },
  {
   "cell_type": "code",
   "execution_count": 8,
   "metadata": {},
   "outputs": [],
   "source": [
    "def get_ticket_error_rate(field_rules, nearby_numbers):\n",
    "    invalid_c = 0\n",
    "\n",
    "    for nearby_ticket in nearby_numbers:\n",
    "        for n in nearby_ticket:\n",
    "            if not any(valid(n, field_rule) for field_rule in field_rules):\n",
    "                invalid_c += n\n",
    "\n",
    "    return invalid_c"
   ]
  },
  {
   "cell_type": "code",
   "execution_count": 9,
   "metadata": {},
   "outputs": [
    {
     "data": {
      "text/plain": [
       "71"
      ]
     },
     "execution_count": 9,
     "metadata": {},
     "output_type": "execute_result"
    }
   ],
   "source": [
    "get_ticket_error_rate(test_field_rules, test_nearby_numbers)"
   ]
  },
  {
   "cell_type": "code",
   "execution_count": 10,
   "metadata": {},
   "outputs": [
    {
     "data": {
      "text/plain": [
       "19093"
      ]
     },
     "execution_count": 10,
     "metadata": {},
     "output_type": "execute_result"
    }
   ],
   "source": [
    "get_ticket_error_rate(field_rules, nearby_numbers)"
   ]
  },
  {
   "cell_type": "code",
   "execution_count": 11,
   "metadata": {},
   "outputs": [],
   "source": [
    "test_input2 = '''class: 0-1 or 4-19\n",
    "row: 0-5 or 8-19\n",
    "seat: 0-13 or 16-19\n",
    "\n",
    "your ticket:\n",
    "11,12,13\n",
    "\n",
    "nearby tickets:\n",
    "3,9,18\n",
    "15,1,5\n",
    "5,14,9'''"
   ]
  },
  {
   "cell_type": "code",
   "execution_count": 12,
   "metadata": {},
   "outputs": [],
   "source": [
    "def filter_nearby(field_rules, nearby_numbers):\n",
    "    v = []\n",
    "    for nearby_ticket in nearby_numbers:\n",
    "        if all(any(valid(n, field_rule) for field_rule in field_rules) for n in nearby_ticket):\n",
    "            v.append(nearby_ticket)\n",
    "\n",
    "    return np.vstack(v)"
   ]
  },
  {
   "cell_type": "code",
   "execution_count": 13,
   "metadata": {},
   "outputs": [],
   "source": [
    "filtered_nearby = filter_nearby(field_rules, nearby_numbers)"
   ]
  },
  {
   "cell_type": "code",
   "execution_count": 14,
   "metadata": {},
   "outputs": [],
   "source": [
    "test2_field_rules, test2_your_numbers, test2_nearby_numbers = parse_ticket_info(test_input2)"
   ]
  },
  {
   "cell_type": "code",
   "execution_count": 15,
   "metadata": {},
   "outputs": [
    {
     "data": {
      "text/plain": [
       "([('class', (0, 1), (4, 19)),\n",
       "  ('row', (0, 5), (8, 19)),\n",
       "  ('seat', (0, 13), (16, 19))],\n",
       " [11, 12, 13],\n",
       " array([[ 3,  9, 18],\n",
       "        [15,  1,  5],\n",
       "        [ 5, 14,  9]]))"
      ]
     },
     "execution_count": 15,
     "metadata": {},
     "output_type": "execute_result"
    }
   ],
   "source": [
    "test2_field_rules, test2_your_numbers, test2_nearby_numbers "
   ]
  },
  {
   "cell_type": "code",
   "execution_count": 16,
   "metadata": {},
   "outputs": [],
   "source": [
    "assert get_ticket_error_rate(test2_field_rules, test2_nearby_numbers) == 0"
   ]
  },
  {
   "cell_type": "markdown",
   "metadata": {},
   "source": [
    "First idea for part two: go over each field in each ticket seeing which fields could match it.\n",
    "\n",
    "Then do a cartesian product over those possibilities and see which one has no duplicates."
   ]
  },
  {
   "cell_type": "code",
   "execution_count": 25,
   "metadata": {},
   "outputs": [],
   "source": [
    "def pt2(field_rules, your_numbers, nearby_numbers):\n",
    "    num_fields = len(field_rules)\n",
    "    \n",
    "    possibles = []\n",
    "    # get possible field names for each field\n",
    "    for i in range(num_fields):\n",
    "        possible = [j for j, field_rule in enumerate(field_rules)\n",
    "                    if all(valid(n, field_rule) for n in nearby_numbers[:, i])]\n",
    "        possibles.append(possible)\n",
    "        \n",
    "    # p = itertools.product(*possibles)\n",
    "    \n",
    "    print(possibles)\n",
    "    print(math.prod(len(p) for p in possibles))"
   ]
  },
  {
   "cell_type": "code",
   "execution_count": 26,
   "metadata": {},
   "outputs": [
    {
     "name": "stdout",
     "output_type": "stream",
     "text": [
      "[[1], [0, 1], [0, 1, 2]]\n",
      "6\n"
     ]
    }
   ],
   "source": [
    "pt2(test2_field_rules, test2_your_numbers, test2_nearby_numbers)"
   ]
  },
  {
   "cell_type": "code",
   "execution_count": 27,
   "metadata": {},
   "outputs": [
    {
     "name": "stdout",
     "output_type": "stream",
     "text": [
      "[[0, 1, 2, 3, 4, 5, 6, 7, 9, 10, 13, 15, 16, 17, 19], [7, 9, 10, 16, 17], [0, 1, 2, 3, 4, 5, 6, 7, 9, 10, 12, 13, 14, 15, 16, 17, 19], [7, 9, 10, 15, 16, 17], [0, 1, 2, 3, 4, 5, 6, 7, 9, 10, 12, 13, 15, 16, 17, 19], [2, 3, 4, 7, 9, 10, 13, 15, 16, 17], [4, 7, 9, 10, 13, 15, 16, 17], [0, 1, 2, 3, 4, 5, 6, 7, 8, 9, 10, 11, 12, 13, 14, 15, 16, 17, 19], [0, 1, 2, 3, 4, 5, 6, 7, 9, 10, 11, 12, 13, 14, 15, 16, 17, 19], [7, 10, 16, 17], [1, 2, 3, 4, 7, 9, 10, 13, 15, 16, 17], [3, 4, 7, 9, 10, 13, 15, 16, 17], [7, 10, 16], [7, 10], [7], [0, 1, 2, 3, 4, 5, 6, 7, 8, 9, 10, 11, 12, 13, 14, 15, 16, 17, 18, 19], [1, 2, 3, 4, 5, 7, 9, 10, 13, 15, 16, 17], [7, 9, 10, 13, 15, 16, 17], [0, 1, 2, 3, 4, 5, 7, 9, 10, 13, 15, 16, 17, 19], [0, 1, 2, 3, 4, 5, 7, 9, 10, 13, 15, 16, 17]]\n",
      "2432902008176640000\n"
     ]
    }
   ],
   "source": [
    "pt2(field_rules, your_numbers, filtered_nearby)"
   ]
  },
  {
   "cell_type": "markdown",
   "metadata": {},
   "source": [
    "Infeasible... going to need to try something else.\n",
    "\n",
    "Backtracking?"
   ]
  },
  {
   "cell_type": "code",
   "execution_count": 162,
   "metadata": {},
   "outputs": [],
   "source": [
    "def pt2(field_rules, filtered_nearby_numbers):\n",
    "    num_fields = len(field_rules)\n",
    "    \n",
    "    # precompute for each field position what the possible options are\n",
    "    # probably saves times\n",
    "    possibles = [[j for j, field_rule in enumerate(field_rules) if\n",
    "                  all(valid(n, field_rule) for n in filtered_nearby_numbers[:, i])] for i in range(num_fields)]\n",
    "    \n",
    "    indexed_possibles = [(position_num, rule_possibilities) for position_num, rule_possibilities in enumerate(possibles)]\n",
    "    \n",
    "    sorted_possibles = sorted(indexed_possibles, key=lambda t: len(t[1]))\n",
    "    \n",
    "    print(sorted_possibles)\n",
    "    \n",
    "    selections = []\n",
    "    \n",
    "    def pt2_recur(i):\n",
    "        print(f\"Call {i}/{num_fields}\")\n",
    "        if i == num_fields:\n",
    "            print(\"At end. Returning\")\n",
    "            return True\n",
    "\n",
    "        print(sorted_possibles[i])\n",
    "        possible = [j for j in sorted_possibles[i][1] if j not in selections]\n",
    "\n",
    "        print(selections)\n",
    "\n",
    "        if len(possible) == 0:\n",
    "            print(\"No possible selection\")\n",
    "            return False\n",
    "        else:\n",
    "            for j in possible:\n",
    "                selections.append(j)\n",
    "                if pt2_recur(i+1):\n",
    "                    print(\"Success\")\n",
    "                    return True\n",
    "                else:\n",
    "                    # backtrack\n",
    "                    print(\"Popping\")\n",
    "                    selections.pop()\n",
    "            return False\n",
    "\n",
    "    return [(position_num, rule_num) for (rule_num, (position_num, _)) in zip(selections, sorted_possibles)] \\\n",
    "        if pt2_recur(0) else None "
   ]
  },
  {
   "cell_type": "code",
   "execution_count": 163,
   "metadata": {},
   "outputs": [
    {
     "name": "stdout",
     "output_type": "stream",
     "text": [
      "[(0, [1]), (1, [0, 1]), (2, [0, 1, 2])]\n",
      "Call 0/3\n",
      "(0, [1])\n",
      "[]\n",
      "Call 1/3\n",
      "(1, [0, 1])\n",
      "[1]\n",
      "Call 2/3\n",
      "(2, [0, 1, 2])\n",
      "[1, 0]\n",
      "Call 3/3\n",
      "At end. Returning\n",
      "Success\n",
      "Success\n",
      "Success\n"
     ]
    },
    {
     "data": {
      "text/plain": [
       "[(0, 1), (1, 0), (2, 2)]"
      ]
     },
     "execution_count": 163,
     "metadata": {},
     "output_type": "execute_result"
    }
   ],
   "source": [
    "pt2(test2_field_rules, test2_nearby_numbers)"
   ]
  },
  {
   "cell_type": "code",
   "execution_count": 164,
   "metadata": {
    "scrolled": true
   },
   "outputs": [
    {
     "name": "stdout",
     "output_type": "stream",
     "text": [
      "[(14, [7]), (13, [7, 10]), (12, [7, 10, 16]), (9, [7, 10, 16, 17]), (1, [7, 9, 10, 16, 17]), (3, [7, 9, 10, 15, 16, 17]), (17, [7, 9, 10, 13, 15, 16, 17]), (6, [4, 7, 9, 10, 13, 15, 16, 17]), (11, [3, 4, 7, 9, 10, 13, 15, 16, 17]), (5, [2, 3, 4, 7, 9, 10, 13, 15, 16, 17]), (10, [1, 2, 3, 4, 7, 9, 10, 13, 15, 16, 17]), (16, [1, 2, 3, 4, 5, 7, 9, 10, 13, 15, 16, 17]), (19, [0, 1, 2, 3, 4, 5, 7, 9, 10, 13, 15, 16, 17]), (18, [0, 1, 2, 3, 4, 5, 7, 9, 10, 13, 15, 16, 17, 19]), (0, [0, 1, 2, 3, 4, 5, 6, 7, 9, 10, 13, 15, 16, 17, 19]), (4, [0, 1, 2, 3, 4, 5, 6, 7, 9, 10, 12, 13, 15, 16, 17, 19]), (2, [0, 1, 2, 3, 4, 5, 6, 7, 9, 10, 12, 13, 14, 15, 16, 17, 19]), (8, [0, 1, 2, 3, 4, 5, 6, 7, 9, 10, 11, 12, 13, 14, 15, 16, 17, 19]), (7, [0, 1, 2, 3, 4, 5, 6, 7, 8, 9, 10, 11, 12, 13, 14, 15, 16, 17, 19]), (15, [0, 1, 2, 3, 4, 5, 6, 7, 8, 9, 10, 11, 12, 13, 14, 15, 16, 17, 18, 19])]\n",
      "Call 0/20\n",
      "(14, [7])\n",
      "[]\n",
      "Call 1/20\n",
      "(13, [7, 10])\n",
      "[7]\n",
      "Call 2/20\n",
      "(12, [7, 10, 16])\n",
      "[7, 10]\n",
      "Call 3/20\n",
      "(9, [7, 10, 16, 17])\n",
      "[7, 10, 16]\n",
      "Call 4/20\n",
      "(1, [7, 9, 10, 16, 17])\n",
      "[7, 10, 16, 17]\n",
      "Call 5/20\n",
      "(3, [7, 9, 10, 15, 16, 17])\n",
      "[7, 10, 16, 17, 9]\n",
      "Call 6/20\n",
      "(17, [7, 9, 10, 13, 15, 16, 17])\n",
      "[7, 10, 16, 17, 9, 15]\n",
      "Call 7/20\n",
      "(6, [4, 7, 9, 10, 13, 15, 16, 17])\n",
      "[7, 10, 16, 17, 9, 15, 13]\n",
      "Call 8/20\n",
      "(11, [3, 4, 7, 9, 10, 13, 15, 16, 17])\n",
      "[7, 10, 16, 17, 9, 15, 13, 4]\n",
      "Call 9/20\n",
      "(5, [2, 3, 4, 7, 9, 10, 13, 15, 16, 17])\n",
      "[7, 10, 16, 17, 9, 15, 13, 4, 3]\n",
      "Call 10/20\n",
      "(10, [1, 2, 3, 4, 7, 9, 10, 13, 15, 16, 17])\n",
      "[7, 10, 16, 17, 9, 15, 13, 4, 3, 2]\n",
      "Call 11/20\n",
      "(16, [1, 2, 3, 4, 5, 7, 9, 10, 13, 15, 16, 17])\n",
      "[7, 10, 16, 17, 9, 15, 13, 4, 3, 2, 1]\n",
      "Call 12/20\n",
      "(19, [0, 1, 2, 3, 4, 5, 7, 9, 10, 13, 15, 16, 17])\n",
      "[7, 10, 16, 17, 9, 15, 13, 4, 3, 2, 1, 5]\n",
      "Call 13/20\n",
      "(18, [0, 1, 2, 3, 4, 5, 7, 9, 10, 13, 15, 16, 17, 19])\n",
      "[7, 10, 16, 17, 9, 15, 13, 4, 3, 2, 1, 5, 0]\n",
      "Call 14/20\n",
      "(0, [0, 1, 2, 3, 4, 5, 6, 7, 9, 10, 13, 15, 16, 17, 19])\n",
      "[7, 10, 16, 17, 9, 15, 13, 4, 3, 2, 1, 5, 0, 19]\n",
      "Call 15/20\n",
      "(4, [0, 1, 2, 3, 4, 5, 6, 7, 9, 10, 12, 13, 15, 16, 17, 19])\n",
      "[7, 10, 16, 17, 9, 15, 13, 4, 3, 2, 1, 5, 0, 19, 6]\n",
      "Call 16/20\n",
      "(2, [0, 1, 2, 3, 4, 5, 6, 7, 9, 10, 12, 13, 14, 15, 16, 17, 19])\n",
      "[7, 10, 16, 17, 9, 15, 13, 4, 3, 2, 1, 5, 0, 19, 6, 12]\n",
      "Call 17/20\n",
      "(8, [0, 1, 2, 3, 4, 5, 6, 7, 9, 10, 11, 12, 13, 14, 15, 16, 17, 19])\n",
      "[7, 10, 16, 17, 9, 15, 13, 4, 3, 2, 1, 5, 0, 19, 6, 12, 14]\n",
      "Call 18/20\n",
      "(7, [0, 1, 2, 3, 4, 5, 6, 7, 8, 9, 10, 11, 12, 13, 14, 15, 16, 17, 19])\n",
      "[7, 10, 16, 17, 9, 15, 13, 4, 3, 2, 1, 5, 0, 19, 6, 12, 14, 11]\n",
      "Call 19/20\n",
      "(15, [0, 1, 2, 3, 4, 5, 6, 7, 8, 9, 10, 11, 12, 13, 14, 15, 16, 17, 18, 19])\n",
      "[7, 10, 16, 17, 9, 15, 13, 4, 3, 2, 1, 5, 0, 19, 6, 12, 14, 11, 8]\n",
      "Call 20/20\n",
      "At end. Returning\n",
      "Success\n",
      "Success\n",
      "Success\n",
      "Success\n",
      "Success\n",
      "Success\n",
      "Success\n",
      "Success\n",
      "Success\n",
      "Success\n",
      "Success\n",
      "Success\n",
      "Success\n",
      "Success\n",
      "Success\n",
      "Success\n",
      "Success\n",
      "Success\n",
      "Success\n",
      "Success\n"
     ]
    }
   ],
   "source": [
    "selections = pt2(field_rules, filtered_nearby)"
   ]
  },
  {
   "cell_type": "code",
   "execution_count": 171,
   "metadata": {},
   "outputs": [
    {
     "name": "stdout",
     "output_type": "stream",
     "text": [
      "departure date 6 181\n",
      "departure track 11 127\n",
      "departure platform 5 167\n",
      "departure station 10 211\n",
      "departure time 16 83\n",
      "departure location 19 79\n"
     ]
    }
   ],
   "source": [
    "prod = 1\n",
    "\n",
    "for (position_num, rule_num) in selections:\n",
    "    rule_name, _, _ = field_rules[rule_num]\n",
    "    \n",
    "    if 'departure' in rule_name:\n",
    "        print(rule_name, position_num, your_numbers[position_num])\n",
    "        prod *= your_numbers[position_num]"
   ]
  },
  {
   "cell_type": "code",
   "execution_count": 172,
   "metadata": {},
   "outputs": [
    {
     "data": {
      "text/plain": [
       "5311123569883"
      ]
     },
     "execution_count": 172,
     "metadata": {},
     "output_type": "execute_result"
    }
   ],
   "source": [
    "prod"
   ]
  },
  {
   "cell_type": "code",
   "execution_count": 166,
   "metadata": {},
   "outputs": [
    {
     "data": {
      "text/plain": [
       "[89,\n",
       " 137,\n",
       " 223,\n",
       " 97,\n",
       " 61,\n",
       " 167,\n",
       " 181,\n",
       " 53,\n",
       " 179,\n",
       " 139,\n",
       " 211,\n",
       " 127,\n",
       " 229,\n",
       " 227,\n",
       " 173,\n",
       " 101,\n",
       " 83,\n",
       " 131,\n",
       " 59,\n",
       " 79]"
      ]
     },
     "execution_count": 166,
     "metadata": {},
     "output_type": "execute_result"
    }
   ],
   "source": [
    "your_numbers"
   ]
  },
  {
   "cell_type": "markdown",
   "metadata": {},
   "source": [
    "Turns out backtracking wasn't necessary"
   ]
  }
 ],
 "metadata": {
  "kernelspec": {
   "display_name": "Python (base)",
   "language": "python",
   "name": "base"
  },
  "language_info": {
   "codemirror_mode": {
    "name": "ipython",
    "version": 3
   },
   "file_extension": ".py",
   "mimetype": "text/x-python",
   "name": "python",
   "nbconvert_exporter": "python",
   "pygments_lexer": "ipython3",
   "version": "3.8.5"
  }
 },
 "nbformat": 4,
 "nbformat_minor": 4
}
