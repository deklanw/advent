{
 "cells": [
  {
   "cell_type": "code",
   "execution_count": 1,
   "metadata": {},
   "outputs": [],
   "source": [
    "import re\n",
    "import numpy as np\n",
    "import itertools\n",
    "from collections import Counter"
   ]
  },
  {
   "cell_type": "markdown",
   "metadata": {},
   "source": [
    "https://www.redblobgames.com/grids/hexagons/#neighbors\n",
    "\n",
    "Using axial coordinates"
   ]
  },
  {
   "cell_type": "code",
   "execution_count": 2,
   "metadata": {},
   "outputs": [],
   "source": [
    "E = 0\n",
    "SE = 1\n",
    "SW = 2\n",
    "W = 3\n",
    "NW = 4\n",
    "NE = 5"
   ]
  },
  {
   "cell_type": "code",
   "execution_count": 3,
   "metadata": {},
   "outputs": [],
   "source": [
    "direction_re = re.compile(\"(e)|(se)|(sw)|(w)|(nw)|(ne)\")\n",
    "\n",
    "def parse_input(inp):\n",
    "    all_directions = []\n",
    "    \n",
    "    for l in inp.split('\\n'):\n",
    "        directions = []\n",
    "        for m in direction_re.findall(l):\n",
    "            ss = [s for s in m if s]\n",
    "            assert len(ss) == 1\n",
    "\n",
    "            d = ss.pop()\n",
    "                        \n",
    "            if d == 'e':\n",
    "                n = E\n",
    "            elif d == 'se':\n",
    "                n = SE\n",
    "            elif d == 'sw':\n",
    "                n = SW\n",
    "            elif d == 'w':\n",
    "                n = W\n",
    "            elif d == 'nw':\n",
    "                n = NW\n",
    "            elif d == 'ne':\n",
    "                n = NE\n",
    "            else:\n",
    "                raise Exception('unknown direction ', d)\n",
    "\n",
    "            directions.append(n)\n",
    "    \n",
    "        all_directions.append(directions)\n",
    "\n",
    "    return all_directions"
   ]
  },
  {
   "cell_type": "code",
   "execution_count": 4,
   "metadata": {},
   "outputs": [],
   "source": [
    "test_instructions = parse_input(open('./inputs/24_test').read())"
   ]
  },
  {
   "cell_type": "code",
   "execution_count": 5,
   "metadata": {},
   "outputs": [],
   "source": [
    "instructions = parse_input(open('./inputs/24').read())"
   ]
  },
  {
   "cell_type": "code",
   "execution_count": 6,
   "metadata": {},
   "outputs": [],
   "source": [
    "# axial coordinates\n",
    "direction_vs = [\n",
    "    # E\n",
    "    [1, 0],\n",
    "    #SE\n",
    "    [0, 1],\n",
    "    \n",
    "    # SW\n",
    "    [-1, 1],\n",
    "    # W\n",
    "    [-1, 0],\n",
    "    \n",
    "    # NW\n",
    "    [0, -1],\n",
    "    # NE\n",
    "    [1, -1],\n",
    "]\n",
    "\n",
    "direction_vs = [np.array(d) for d in direction_vs]\n",
    "\n",
    "BLACK = 0\n",
    "WHITE = 1"
   ]
  },
  {
   "cell_type": "code",
   "execution_count": 7,
   "metadata": {},
   "outputs": [],
   "source": [
    "def follow_instructions(instruction_list):\n",
    "    max_length = max(len(ds) for ds in instruction_list) + 102\n",
    "    \n",
    "    d = 2 * max_length + 1\n",
    "    floor = np.full((d,d), WHITE, dtype=np.short)\n",
    "    \n",
    "    reference_c = np.array([max_length,max_length])\n",
    "    \n",
    "    for instructions in instruction_list:\n",
    "        current_c = reference_c\n",
    "\n",
    "        for direction in instructions:        \n",
    "            # move current_c in specified direction\n",
    "            direction_v = direction_vs[direction]\n",
    "\n",
    "            current_c = current_c + direction_v\n",
    "\n",
    "        # flip where we landed\n",
    "        floor[tuple(current_c)] = int(not floor[tuple(current_c)])\n",
    "\n",
    "    print(Counter(floor.flatten()))\n",
    "    \n",
    "    return floor"
   ]
  },
  {
   "cell_type": "code",
   "execution_count": 8,
   "metadata": {},
   "outputs": [
    {
     "name": "stdout",
     "output_type": "stream",
     "text": [
      "Counter({1: 61991, 0: 10})\n"
     ]
    }
   ],
   "source": [
    "test_floor = follow_instructions(test_instructions)"
   ]
  },
  {
   "cell_type": "code",
   "execution_count": 9,
   "metadata": {},
   "outputs": [
    {
     "name": "stdout",
     "output_type": "stream",
     "text": [
      "Counter({1: 61694, 0: 307})\n"
     ]
    }
   ],
   "source": [
    "floor = follow_instructions(instructions)"
   ]
  },
  {
   "cell_type": "code",
   "execution_count": 10,
   "metadata": {},
   "outputs": [],
   "source": [
    "def count_neighbors(floor, c):\n",
    "    to_check = [c + d for d in direction_vs]\n",
    "\n",
    "    c = Counter(floor[tuple(zip(*to_check))])\n",
    "    \n",
    "    return c"
   ]
  },
  {
   "cell_type": "code",
   "execution_count": 11,
   "metadata": {},
   "outputs": [],
   "source": [
    "def follow_instructions2(floor, num_days=100):         \n",
    "    current_floor = floor.copy()\n",
    "\n",
    "    for day in range(num_days):\n",
    "        next_floor = current_floor.copy()\n",
    "        \n",
    "        # iterate over all tile coordinates, \n",
    "        for tile_c, tile in np.ndenumerate(current_floor):\n",
    "            # exclude outer perimeter to make bounds checking easier\n",
    "            # just have to make sure board is padded enough\n",
    "            if tile_c[0] == 0 or tile_c[0] == floor.shape[0] - 1 or tile_c[1] == 0 or tile_c[1] == floor.shape[1] - 1:\n",
    "                continue\n",
    "            \n",
    "            # count neighbors in current_floor\n",
    "            count = count_neighbors(current_floor, tile_c)\n",
    "            tile_c = tuple(tile_c)\n",
    "            \n",
    "            if tile == BLACK and (count[BLACK] == 0 or count[BLACK] > 2):\n",
    "                next_floor[tile_c] = WHITE\n",
    "            elif tile == WHITE and count[BLACK] == 2:\n",
    "                next_floor[tile_c] = BLACK\n",
    "\n",
    "        current_floor = next_floor\n",
    "        \n",
    "        if (day + 1) % 10 == 0:\n",
    "            print(day + 1)\n",
    "            print(Counter(current_floor.flatten()))\n",
    "            print()"
   ]
  },
  {
   "cell_type": "code",
   "execution_count": 12,
   "metadata": {},
   "outputs": [
    {
     "data": {
      "text/plain": [
       "(249, 249)"
      ]
     },
     "execution_count": 12,
     "metadata": {},
     "output_type": "execute_result"
    }
   ],
   "source": [
    "test_floor.shape"
   ]
  },
  {
   "cell_type": "code",
   "execution_count": 13,
   "metadata": {
    "scrolled": false
   },
   "outputs": [
    {
     "name": "stdout",
     "output_type": "stream",
     "text": [
      "10\n",
      "Counter({1: 61964, 0: 37})\n",
      "\n",
      "20\n",
      "Counter({1: 61869, 0: 132})\n",
      "\n",
      "30\n",
      "Counter({1: 61742, 0: 259})\n",
      "\n",
      "40\n",
      "Counter({1: 61595, 0: 406})\n",
      "\n",
      "50\n",
      "Counter({1: 61435, 0: 566})\n",
      "\n",
      "60\n",
      "Counter({1: 61213, 0: 788})\n",
      "\n",
      "70\n",
      "Counter({1: 60895, 0: 1106})\n",
      "\n",
      "80\n",
      "Counter({1: 60628, 0: 1373})\n",
      "\n",
      "90\n",
      "Counter({1: 60157, 0: 1844})\n",
      "\n",
      "100\n",
      "Counter({1: 59793, 0: 2208})\n",
      "\n"
     ]
    }
   ],
   "source": [
    "follow_instructions2(test_floor, 100)"
   ]
  },
  {
   "cell_type": "code",
   "execution_count": 14,
   "metadata": {},
   "outputs": [
    {
     "name": "stdout",
     "output_type": "stream",
     "text": [
      "10\n",
      "Counter({1: 61590, 0: 411})\n",
      "\n",
      "20\n",
      "Counter({1: 61390, 0: 611})\n",
      "\n",
      "30\n",
      "Counter({1: 61151, 0: 850})\n",
      "\n",
      "40\n",
      "Counter({1: 60882, 0: 1119})\n",
      "\n",
      "50\n",
      "Counter({1: 60521, 0: 1480})\n",
      "\n",
      "60\n",
      "Counter({1: 60206, 0: 1795})\n",
      "\n",
      "70\n",
      "Counter({1: 59706, 0: 2295})\n",
      "\n",
      "80\n",
      "Counter({1: 59308, 0: 2693})\n",
      "\n",
      "90\n",
      "Counter({1: 58810, 0: 3191})\n",
      "\n",
      "100\n",
      "Counter({1: 58214, 0: 3787})\n",
      "\n"
     ]
    }
   ],
   "source": [
    "follow_instructions2(floor, 100)"
   ]
  }
 ],
 "metadata": {
  "kernelspec": {
   "display_name": "Python (base)",
   "language": "python",
   "name": "base"
  },
  "language_info": {
   "codemirror_mode": {
    "name": "ipython",
    "version": 3
   },
   "file_extension": ".py",
   "mimetype": "text/x-python",
   "name": "python",
   "nbconvert_exporter": "python",
   "pygments_lexer": "ipython3",
   "version": "3.8.5"
  }
 },
 "nbformat": 4,
 "nbformat_minor": 4
}
