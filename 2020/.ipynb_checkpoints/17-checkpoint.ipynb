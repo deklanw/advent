{
 "cells": [
  {
   "cell_type": "code",
   "execution_count": 1,
   "metadata": {},
   "outputs": [],
   "source": [
    "import numpy as np\n",
    "import itertools\n",
    "from collections import Counter"
   ]
  },
  {
   "cell_type": "code",
   "execution_count": 2,
   "metadata": {},
   "outputs": [],
   "source": [
    "puzzle_input = '''####...#\n",
    "......##\n",
    "####..##\n",
    "##......\n",
    "..##.##.\n",
    "#.##...#\n",
    "....##.#\n",
    ".##.#.#.'''\n",
    "\n",
    "test_input = '''.#.\n",
    "..#\n",
    "###'''"
   ]
  },
  {
   "cell_type": "code",
   "execution_count": 3,
   "metadata": {},
   "outputs": [],
   "source": [
    "NUM_CYCLES = 6\n",
    "ACTIVE = 1\n",
    "INACTIVE = 0"
   ]
  },
  {
   "cell_type": "code",
   "execution_count": 6,
   "metadata": {},
   "outputs": [],
   "source": [
    "def read_board(puzzle_input, extra_dims):\n",
    "    split = puzzle_input.split()\n",
    "    d = len(split)\n",
    "\n",
    "    beginning_plane = np.zeros((d, d), dtype=np.short)\n",
    "\n",
    "    for i, line in enumerate(split):\n",
    "        for j, c in enumerate(line):\n",
    "            if c == '#':\n",
    "                beginning_plane[i, j] = ACTIVE\n",
    "            else:\n",
    "                beginning_plane[i, j] = INACTIVE\n",
    "    \n",
    "    # room to grow NUM_CYCLES times in each direction\n",
    "    board = np.zeros((d+2*NUM_CYCLES, d+2*NUM_CYCLES, *((1 + 2*NUM_CYCLES) for _ in range(extra_dims))), dtype=np.short)\n",
    "    \n",
    "    # copy plane into center of hypercube\n",
    "    for i, j in itertools.product(range(d), range(d)):\n",
    "        board[(NUM_CYCLES + i, NUM_CYCLES + j, *(NUM_CYCLES for _ in range(extra_dims)))] = beginning_plane[i, j]\n",
    "        \n",
    "    return board"
   ]
  },
  {
   "cell_type": "code",
   "execution_count": 7,
   "metadata": {},
   "outputs": [],
   "source": [
    "def in_bounds(shape, coord):\n",
    "    return all(c >= 0 and c < s for s, c in zip(shape, coord))\n",
    "\n",
    "def get_neighbors(board, coord):\n",
    "    return [v for v in list(itertools.product(*((d-1, d, d+1) for d in coord)))\n",
    "                if in_bounds(board.shape, v) and not all(x == y for x, y in zip(v, coord))]\n",
    "\n",
    "def count_neighbors(board, coord):    \n",
    "    visited = board[tuple(zip(*get_neighbors(board, coord)))]\n",
    "    \n",
    "    return Counter(visited)"
   ]
  },
  {
   "cell_type": "code",
   "execution_count": 9,
   "metadata": {},
   "outputs": [],
   "source": [
    "def solve(board):\n",
    "    board = board.copy()\n",
    "    \n",
    "    for cycle in range(NUM_CYCLES):\n",
    "        new_board = board.copy()\n",
    "        \n",
    "        for c in itertools.product(*(range(d) for d in board.shape)):\n",
    "            cell = board[c]\n",
    "            neighbor_counts = count_neighbors(board, c)\n",
    "            \n",
    "            if cell == ACTIVE:\n",
    "                if neighbor_counts[ACTIVE] not in [2,3]:\n",
    "                    new_board[c] = INACTIVE\n",
    "            else:\n",
    "                if neighbor_counts[ACTIVE] == 3:\n",
    "                    new_board[c] = ACTIVE\n",
    "        board = new_board\n",
    "\n",
    "    return Counter(board.flatten())[1]"
   ]
  },
  {
   "cell_type": "code",
   "execution_count": 18,
   "metadata": {
    "scrolled": false
   },
   "outputs": [],
   "source": [
    "test_board = read_board(test_input, extra_dims=1)"
   ]
  },
  {
   "cell_type": "code",
   "execution_count": 19,
   "metadata": {},
   "outputs": [],
   "source": [
    "board = read_board(puzzle_input, extra_dims=1)"
   ]
  },
  {
   "cell_type": "code",
   "execution_count": 20,
   "metadata": {
    "scrolled": true
   },
   "outputs": [
    {
     "data": {
      "text/plain": [
       "112"
      ]
     },
     "execution_count": 20,
     "metadata": {},
     "output_type": "execute_result"
    }
   ],
   "source": [
    "solve(test_board)"
   ]
  },
  {
   "cell_type": "code",
   "execution_count": 21,
   "metadata": {},
   "outputs": [
    {
     "data": {
      "text/plain": [
       "237"
      ]
     },
     "execution_count": 21,
     "metadata": {},
     "output_type": "execute_result"
    }
   ],
   "source": [
    "solve(board)"
   ]
  },
  {
   "cell_type": "code",
   "execution_count": 22,
   "metadata": {},
   "outputs": [],
   "source": [
    "test_board = read_board(test_input, extra_dims=2)"
   ]
  },
  {
   "cell_type": "code",
   "execution_count": 23,
   "metadata": {},
   "outputs": [],
   "source": [
    "board = read_board(puzzle_input, extra_dims=2)"
   ]
  },
  {
   "cell_type": "code",
   "execution_count": 24,
   "metadata": {},
   "outputs": [
    {
     "data": {
      "text/plain": [
       "848"
      ]
     },
     "execution_count": 24,
     "metadata": {},
     "output_type": "execute_result"
    }
   ],
   "source": [
    "solve(test_board)"
   ]
  },
  {
   "cell_type": "code",
   "execution_count": 25,
   "metadata": {},
   "outputs": [
    {
     "data": {
      "text/plain": [
       "2448"
      ]
     },
     "execution_count": 25,
     "metadata": {},
     "output_type": "execute_result"
    }
   ],
   "source": [
    "solve(board)"
   ]
  }
 ],
 "metadata": {
  "kernelspec": {
   "display_name": "Python (base)",
   "language": "python",
   "name": "base"
  },
  "language_info": {
   "codemirror_mode": {
    "name": "ipython",
    "version": 3
   },
   "file_extension": ".py",
   "mimetype": "text/x-python",
   "name": "python",
   "nbconvert_exporter": "python",
   "pygments_lexer": "ipython3",
   "version": "3.8.5"
  }
 },
 "nbformat": 4,
 "nbformat_minor": 4
}
