{
 "cells": [
  {
   "cell_type": "code",
   "execution_count": 1,
   "metadata": {},
   "outputs": [],
   "source": [
    "input = '''11404017\n",
    "13768789'''"
   ]
  },
  {
   "cell_type": "code",
   "execution_count": 2,
   "metadata": {},
   "outputs": [],
   "source": [
    "card_subject = 7\n",
    "door_subject = 7"
   ]
  },
  {
   "cell_type": "code",
   "execution_count": 3,
   "metadata": {},
   "outputs": [],
   "source": [
    "# card_public = 5_764_801\n",
    "# door_public = 17_807_724\n",
    "\n",
    "card_public = 11_404_017\n",
    "door_public = 13_768_789"
   ]
  },
  {
   "cell_type": "code",
   "execution_count": 4,
   "metadata": {},
   "outputs": [],
   "source": [
    "prime = 20_201_227"
   ]
  },
  {
   "cell_type": "code",
   "execution_count": 7,
   "metadata": {},
   "outputs": [
    {
     "name": "stdout",
     "output_type": "stream",
     "text": [
      "1000000\n",
      "2000000\n",
      "3000000\n",
      "4000000\n",
      "5000000\n",
      "6000000\n",
      "7000000\n",
      "8000000\n",
      "Loop size of door is 8516638\n",
      "\n",
      "Encryption key: 18862163\n"
     ]
    }
   ],
   "source": [
    "card_result = 1\n",
    "door_result = 1\n",
    "\n",
    "for x in range(1, prime):\n",
    "    if x % 1_000_000 == 0:\n",
    "        print(x)\n",
    "    \n",
    "    card_result = (card_subject * card_result) % prime\n",
    "    if card_result == card_public:\n",
    "        print(f\"Loop size of card is {x}\")\n",
    "        assert pow(card_subject, x, prime) == card_public\n",
    "        encryption_key = pow(door_public, x, prime)\n",
    "        break\n",
    "    \n",
    "    door_result = (door_subject * door_result) % prime\n",
    "    if door_result == door_public:\n",
    "        print(f\"Loop size of door is {x}\")\n",
    "        assert pow(door_subject, x, prime) == door_public\n",
    "        encryption_key = pow(card_public, x, prime)\n",
    "        break\n",
    "\n",
    "print()\n",
    "print(f\"Encryption key: {encryption_key}\")"
   ]
  }
 ],
 "metadata": {
  "kernelspec": {
   "display_name": "Python (base)",
   "language": "python",
   "name": "base"
  },
  "language_info": {
   "codemirror_mode": {
    "name": "ipython",
    "version": 3
   },
   "file_extension": ".py",
   "mimetype": "text/x-python",
   "name": "python",
   "nbconvert_exporter": "python",
   "pygments_lexer": "ipython3",
   "version": "3.8.5"
  }
 },
 "nbformat": 4,
 "nbformat_minor": 4
}
