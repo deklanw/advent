{
 "cells": [
  {
   "cell_type": "code",
   "execution_count": 1,
   "metadata": {},
   "outputs": [],
   "source": [
    "import re"
   ]
  },
  {
   "cell_type": "code",
   "execution_count": 29,
   "metadata": {},
   "outputs": [],
   "source": [
    "test_input1 = list(\"1 + 2 * 3 + 4 * 5 + 6\".replace(' ', ''))\n",
    "test_input2 = list(\"1 + (2 * 3) + (4 * (5 + 6))\".replace(' ', ''))\n",
    "test_input3 = list(\"2 * 3 + (4 * 5)\".replace(' ', ''))\n",
    "test_input4 = list(\"5 + (8 * 3 + 9 + 3 * 4 * 3)\".replace(' ', ''))\n",
    "test_input5 = list(\"5 * 9 * (7 * 3 * 3 + 9 * 3 + (8 + 6 * 4))\".replace(' ', ''))\n",
    "test_input6 = list(\"((2 + 4 * 9) * (6 + 9 * 8 + 6) + 6) + 2 + 4 * 2\".replace(' ', ''))"
   ]
  },
  {
   "cell_type": "code",
   "execution_count": 3,
   "metadata": {},
   "outputs": [],
   "source": [
    "OPEN = '('\n",
    "CLOSE = ')'\n",
    "ADD = '+'\n",
    "MULT = '*'"
   ]
  },
  {
   "cell_type": "code",
   "execution_count": 4,
   "metadata": {},
   "outputs": [],
   "source": [
    "def matching_parens_dict(s):\n",
    "    matching_dict = {}\n",
    "    open_stack = []\n",
    "    \n",
    "    for i, c in enumerate(s):\n",
    "        if c == OPEN:\n",
    "            open_stack.append(i)\n",
    "        elif c == CLOSE:\n",
    "            matching_open = open_stack.pop()\n",
    "            matching_dict[matching_open] = i\n",
    "    return matching_dict"
   ]
  },
  {
   "cell_type": "code",
   "execution_count": 5,
   "metadata": {
    "scrolled": true
   },
   "outputs": [
    {
     "data": {
      "text/plain": [
       "{1: 7, 9: 17, 0: 20}"
      ]
     },
     "execution_count": 5,
     "metadata": {},
     "output_type": "execute_result"
    }
   ],
   "source": [
    "matching_parens_dict(test_input6)"
   ]
  },
  {
   "cell_type": "code",
   "execution_count": 6,
   "metadata": {},
   "outputs": [],
   "source": [
    "def evaluate(s):\n",
    "    total = None\n",
    "    last_op = None\n",
    "    # don't really need to recompute this every time. can just adjust an offset. optimize later.\n",
    "    parens_dict = matching_parens_dict(s)\n",
    "    \n",
    "    i = 0\n",
    "    \n",
    "    # running total\n",
    "    def combine(n):\n",
    "        nonlocal total, last_op\n",
    "        if total:\n",
    "            total = total + n if last_op == ADD else total * n\n",
    "            last_op = None\n",
    "        else:\n",
    "            # first expression\n",
    "            total = n\n",
    "\n",
    "    while True:\n",
    "        if i >= len(s):\n",
    "            break\n",
    "\n",
    "        c = s[i]\n",
    "        \n",
    "        if c == OPEN:\n",
    "            closing_paren_idx = parens_dict[i]\n",
    "            # find result of subexpression\n",
    "            result = evaluate(s[(i+1):closing_paren_idx])\n",
    "            combine(result)\n",
    "            \n",
    "            # skip to after subexpression\n",
    "            i = closing_paren_idx + 1\n",
    "        elif c == CLOSE:\n",
    "            raise Exception(\"Should never see a close.\")\n",
    "        elif c == ADD:\n",
    "            last_op = ADD\n",
    "            i+=1\n",
    "        elif c == MULT:\n",
    "            last_op = MULT\n",
    "            i+=1\n",
    "        else:\n",
    "            # just a digit\n",
    "            n = int(c)\n",
    "            combine(n)\n",
    "            i+=1\n",
    "\n",
    "    return total"
   ]
  },
  {
   "cell_type": "code",
   "execution_count": 7,
   "metadata": {},
   "outputs": [
    {
     "data": {
      "text/plain": [
       "51"
      ]
     },
     "execution_count": 7,
     "metadata": {},
     "output_type": "execute_result"
    }
   ],
   "source": [
    "evaluate(test_input2)"
   ]
  },
  {
   "cell_type": "code",
   "execution_count": 8,
   "metadata": {},
   "outputs": [
    {
     "data": {
      "text/plain": [
       "26"
      ]
     },
     "execution_count": 8,
     "metadata": {},
     "output_type": "execute_result"
    }
   ],
   "source": [
    "evaluate(test_input3)"
   ]
  },
  {
   "cell_type": "code",
   "execution_count": 9,
   "metadata": {},
   "outputs": [
    {
     "data": {
      "text/plain": [
       "437"
      ]
     },
     "execution_count": 9,
     "metadata": {},
     "output_type": "execute_result"
    }
   ],
   "source": [
    "evaluate(test_input4)"
   ]
  },
  {
   "cell_type": "code",
   "execution_count": 10,
   "metadata": {},
   "outputs": [
    {
     "data": {
      "text/plain": [
       "12240"
      ]
     },
     "execution_count": 10,
     "metadata": {},
     "output_type": "execute_result"
    }
   ],
   "source": [
    "evaluate(test_input5)"
   ]
  },
  {
   "cell_type": "code",
   "execution_count": 11,
   "metadata": {},
   "outputs": [
    {
     "data": {
      "text/plain": [
       "13632"
      ]
     },
     "execution_count": 11,
     "metadata": {},
     "output_type": "execute_result"
    }
   ],
   "source": [
    "evaluate(test_input6)"
   ]
  },
  {
   "cell_type": "code",
   "execution_count": 12,
   "metadata": {},
   "outputs": [],
   "source": [
    "sm = 0\n",
    "\n",
    "for l in open('./inputs/18').read().split('\\n'):\n",
    "    arith = l.replace(' ','')\n",
    "    sm += evaluate(arith)"
   ]
  },
  {
   "cell_type": "code",
   "execution_count": 13,
   "metadata": {},
   "outputs": [
    {
     "data": {
      "text/plain": [
       "1402255785165"
      ]
     },
     "execution_count": 13,
     "metadata": {},
     "output_type": "execute_result"
    }
   ],
   "source": [
    "sm"
   ]
  },
  {
   "cell_type": "code",
   "execution_count": 14,
   "metadata": {},
   "outputs": [
    {
     "data": {
      "text/plain": [
       "46"
      ]
     },
     "execution_count": 14,
     "metadata": {},
     "output_type": "execute_result"
    }
   ],
   "source": [
    "eval('2 * (3 + (4 * 5))')"
   ]
  },
  {
   "cell_type": "markdown",
   "metadata": {},
   "source": [
    "The easiest way I can think to do pt2 is to just insert parens and use eval()"
   ]
  },
  {
   "cell_type": "code",
   "execution_count": 62,
   "metadata": {},
   "outputs": [],
   "source": [
    "def insert_into_list(lst, to_insert):\n",
    "    sort = sorted(to_insert, key=lambda x: x[1])\n",
    "    list_a = lst.copy()\n",
    "    list_b, pos = zip(*sort)\n",
    "    \n",
    "    acc = 0\n",
    "    for i in range(len(list_b)):\n",
    "        list_a.insert(pos[i]+acc, list_b[i])\n",
    "        acc += 1\n",
    "\n",
    "    return list_a"
   ]
  },
  {
   "cell_type": "code",
   "execution_count": 63,
   "metadata": {},
   "outputs": [],
   "source": [
    "def find_paren_insert_locations(s):\n",
    "    to_insert = []\n",
    "    \n",
    "    open_parens_dict = matching_parens_dict(s)\n",
    "    close_parens_dict = {v:k for k,v in open_parens_dict.items()}\n",
    "    \n",
    "    for i, c in enumerate(s):\n",
    "        if c == ADD:\n",
    "            before_idx = i-1\n",
    "            before_c = s[before_idx]\n",
    "            # check before and after. if previous is a number just go before,\n",
    "            # if its a closing paren find the index before its opening\n",
    "            if before_c == CLOSE:\n",
    "                open_idx = close_parens_dict[before_idx]\n",
    "                to_insert.append(('(', open_idx))\n",
    "            else:\n",
    "                # it's a number\n",
    "                to_insert.append(('(', before_idx))\n",
    "            \n",
    "            after_idx = i+1\n",
    "            after_c = s[after_idx]\n",
    "            \n",
    "            if after_c == OPEN:\n",
    "                close_idx = open_parens_dict[after_idx]\n",
    "                to_insert.append((')', close_idx+1))\n",
    "            else:\n",
    "                to_insert.append((')', after_idx+1))\n",
    "                \n",
    "    return to_insert"
   ]
  },
  {
   "cell_type": "code",
   "execution_count": 77,
   "metadata": {},
   "outputs": [],
   "source": [
    "def eval_whack(s):\n",
    "    to_insert = find_paren_insert_locations(s)\n",
    "    new_lst = insert_into_list(s, to_insert)\n",
    "    s = ''.join(new_lst)\n",
    "    return eval(s)"
   ]
  },
  {
   "cell_type": "code",
   "execution_count": 81,
   "metadata": {},
   "outputs": [
    {
     "ename": "ValueError",
     "evalue": "not enough values to unpack (expected 2, got 0)",
     "output_type": "error",
     "traceback": [
      "\u001b[0;31m---------------------------------------------------------------------------\u001b[0m",
      "\u001b[0;31mValueError\u001b[0m                                Traceback (most recent call last)",
      "\u001b[0;32m<ipython-input-81-d04b545dc141>\u001b[0m in \u001b[0;36m<module>\u001b[0;34m\u001b[0m\n\u001b[1;32m      3\u001b[0m \u001b[0;32mfor\u001b[0m \u001b[0ml\u001b[0m \u001b[0;32min\u001b[0m \u001b[0mopen\u001b[0m\u001b[0;34m(\u001b[0m\u001b[0;34m'./inputs/18'\u001b[0m\u001b[0;34m)\u001b[0m\u001b[0;34m.\u001b[0m\u001b[0mread\u001b[0m\u001b[0;34m(\u001b[0m\u001b[0;34m)\u001b[0m\u001b[0;34m.\u001b[0m\u001b[0msplit\u001b[0m\u001b[0;34m(\u001b[0m\u001b[0;34m'\\n'\u001b[0m\u001b[0;34m)\u001b[0m\u001b[0;34m:\u001b[0m\u001b[0;34m\u001b[0m\u001b[0;34m\u001b[0m\u001b[0m\n\u001b[1;32m      4\u001b[0m     \u001b[0marith\u001b[0m \u001b[0;34m=\u001b[0m \u001b[0mlist\u001b[0m\u001b[0;34m(\u001b[0m\u001b[0ml\u001b[0m\u001b[0;34m.\u001b[0m\u001b[0mreplace\u001b[0m\u001b[0;34m(\u001b[0m\u001b[0;34m' '\u001b[0m\u001b[0;34m,\u001b[0m\u001b[0;34m''\u001b[0m\u001b[0;34m)\u001b[0m\u001b[0;34m)\u001b[0m\u001b[0;34m\u001b[0m\u001b[0;34m\u001b[0m\u001b[0m\n\u001b[0;32m----> 5\u001b[0;31m     \u001b[0msm\u001b[0m \u001b[0;34m+=\u001b[0m \u001b[0meval_whack\u001b[0m\u001b[0;34m(\u001b[0m\u001b[0marith\u001b[0m\u001b[0;34m)\u001b[0m\u001b[0;34m\u001b[0m\u001b[0;34m\u001b[0m\u001b[0m\n\u001b[0m",
      "\u001b[0;32m<ipython-input-77-0c2edb3492b0>\u001b[0m in \u001b[0;36meval_whack\u001b[0;34m(s)\u001b[0m\n\u001b[1;32m      1\u001b[0m \u001b[0;32mdef\u001b[0m \u001b[0meval_whack\u001b[0m\u001b[0;34m(\u001b[0m\u001b[0ms\u001b[0m\u001b[0;34m)\u001b[0m\u001b[0;34m:\u001b[0m\u001b[0;34m\u001b[0m\u001b[0;34m\u001b[0m\u001b[0m\n\u001b[1;32m      2\u001b[0m     \u001b[0mto_insert\u001b[0m \u001b[0;34m=\u001b[0m \u001b[0mfind_paren_insert_locations\u001b[0m\u001b[0;34m(\u001b[0m\u001b[0ms\u001b[0m\u001b[0;34m)\u001b[0m\u001b[0;34m\u001b[0m\u001b[0;34m\u001b[0m\u001b[0m\n\u001b[0;32m----> 3\u001b[0;31m     \u001b[0mnew_lst\u001b[0m \u001b[0;34m=\u001b[0m \u001b[0minsert_into_list\u001b[0m\u001b[0;34m(\u001b[0m\u001b[0ms\u001b[0m\u001b[0;34m,\u001b[0m \u001b[0mto_insert\u001b[0m\u001b[0;34m)\u001b[0m\u001b[0;34m\u001b[0m\u001b[0;34m\u001b[0m\u001b[0m\n\u001b[0m\u001b[1;32m      4\u001b[0m     \u001b[0ms\u001b[0m \u001b[0;34m=\u001b[0m \u001b[0;34m''\u001b[0m\u001b[0;34m.\u001b[0m\u001b[0mjoin\u001b[0m\u001b[0;34m(\u001b[0m\u001b[0mnew_lst\u001b[0m\u001b[0;34m)\u001b[0m\u001b[0;34m\u001b[0m\u001b[0;34m\u001b[0m\u001b[0m\n\u001b[1;32m      5\u001b[0m     \u001b[0;32mreturn\u001b[0m \u001b[0meval\u001b[0m\u001b[0;34m(\u001b[0m\u001b[0ms\u001b[0m\u001b[0;34m)\u001b[0m\u001b[0;34m\u001b[0m\u001b[0;34m\u001b[0m\u001b[0m\n",
      "\u001b[0;32m<ipython-input-62-458f2ddb794a>\u001b[0m in \u001b[0;36minsert_into_list\u001b[0;34m(lst, to_insert)\u001b[0m\n\u001b[1;32m      2\u001b[0m     \u001b[0msort\u001b[0m \u001b[0;34m=\u001b[0m \u001b[0msorted\u001b[0m\u001b[0;34m(\u001b[0m\u001b[0mto_insert\u001b[0m\u001b[0;34m,\u001b[0m \u001b[0mkey\u001b[0m\u001b[0;34m=\u001b[0m\u001b[0;32mlambda\u001b[0m \u001b[0mx\u001b[0m\u001b[0;34m:\u001b[0m \u001b[0mx\u001b[0m\u001b[0;34m[\u001b[0m\u001b[0;36m1\u001b[0m\u001b[0;34m]\u001b[0m\u001b[0;34m)\u001b[0m\u001b[0;34m\u001b[0m\u001b[0;34m\u001b[0m\u001b[0m\n\u001b[1;32m      3\u001b[0m     \u001b[0mlist_a\u001b[0m \u001b[0;34m=\u001b[0m \u001b[0mlst\u001b[0m\u001b[0;34m.\u001b[0m\u001b[0mcopy\u001b[0m\u001b[0;34m(\u001b[0m\u001b[0;34m)\u001b[0m\u001b[0;34m\u001b[0m\u001b[0;34m\u001b[0m\u001b[0m\n\u001b[0;32m----> 4\u001b[0;31m     \u001b[0mlist_b\u001b[0m\u001b[0;34m,\u001b[0m \u001b[0mpos\u001b[0m \u001b[0;34m=\u001b[0m \u001b[0mzip\u001b[0m\u001b[0;34m(\u001b[0m\u001b[0;34m*\u001b[0m\u001b[0msort\u001b[0m\u001b[0;34m)\u001b[0m\u001b[0;34m\u001b[0m\u001b[0;34m\u001b[0m\u001b[0m\n\u001b[0m\u001b[1;32m      5\u001b[0m \u001b[0;34m\u001b[0m\u001b[0m\n\u001b[1;32m      6\u001b[0m     \u001b[0macc\u001b[0m \u001b[0;34m=\u001b[0m \u001b[0;36m0\u001b[0m\u001b[0;34m\u001b[0m\u001b[0;34m\u001b[0m\u001b[0m\n",
      "\u001b[0;31mValueError\u001b[0m: not enough values to unpack (expected 2, got 0)"
     ]
    }
   ],
   "source": [
    "sm = 0\n",
    "\n",
    "for l in open('./inputs/18').read().split('\\n'):\n",
    "    arith = list(l.replace(' ',''))\n",
    "    sm += eval_whack(arith)"
   ]
  }
 ],
 "metadata": {
  "kernelspec": {
   "display_name": "Python (base)",
   "language": "python",
   "name": "base"
  },
  "language_info": {
   "codemirror_mode": {
    "name": "ipython",
    "version": 3
   },
   "file_extension": ".py",
   "mimetype": "text/x-python",
   "name": "python",
   "nbconvert_exporter": "python",
   "pygments_lexer": "ipython3",
   "version": "3.8.5"
  }
 },
 "nbformat": 4,
 "nbformat_minor": 4
}
