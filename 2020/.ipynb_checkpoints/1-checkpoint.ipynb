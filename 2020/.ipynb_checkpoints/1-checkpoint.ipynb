{
 "cells": [
  {
   "cell_type": "code",
   "execution_count": 1,
   "metadata": {},
   "outputs": [],
   "source": [
    "numbers = []\n",
    "\n",
    "with open('inputs/1', mode='r') as f:\n",
    "    for l in f:\n",
    "        numbers.append(int(l))"
   ]
  },
  {
   "cell_type": "code",
   "execution_count": 2,
   "metadata": {},
   "outputs": [],
   "source": [
    "number_set = set(numbers)"
   ]
  },
  {
   "cell_type": "code",
   "execution_count": 3,
   "metadata": {},
   "outputs": [],
   "source": [
    "TARGET = 2020"
   ]
  },
  {
   "cell_type": "code",
   "execution_count": 4,
   "metadata": {},
   "outputs": [],
   "source": [
    "def go():\n",
    "    for n in numbers:\n",
    "        need = TARGET - n\n",
    "\n",
    "        if need in number_set:\n",
    "            return n, need"
   ]
  },
  {
   "cell_type": "code",
   "execution_count": 5,
   "metadata": {},
   "outputs": [],
   "source": [
    "a, b = go()"
   ]
  },
  {
   "cell_type": "code",
   "execution_count": 6,
   "metadata": {},
   "outputs": [
    {
     "data": {
      "text/plain": [
       "982464"
      ]
     },
     "execution_count": 6,
     "metadata": {},
     "output_type": "execute_result"
    }
   ],
   "source": [
    "a * b"
   ]
  },
  {
   "cell_type": "code",
   "execution_count": 7,
   "metadata": {},
   "outputs": [],
   "source": [
    "import itertools"
   ]
  },
  {
   "cell_type": "code",
   "execution_count": 8,
   "metadata": {},
   "outputs": [],
   "source": [
    "two_sum_dict = dict()"
   ]
  },
  {
   "cell_type": "code",
   "execution_count": 9,
   "metadata": {},
   "outputs": [],
   "source": [
    "for (a,b) in itertools.combinations(numbers, 2):\n",
    "    # could also store the product a*b\n",
    "    # but want to keep both to check if it's a duplicate situation\n",
    "    two_sum_dict[a+b] = (a,b)"
   ]
  },
  {
   "cell_type": "code",
   "execution_count": 10,
   "metadata": {},
   "outputs": [],
   "source": [
    "def go2():\n",
    "    for n in numbers:\n",
    "        need = TARGET - n\n",
    "\n",
    "        if need in two_sum_dict:\n",
    "            a, b = two_sum_dict[need]\n",
    "            return a, b, n"
   ]
  },
  {
   "cell_type": "markdown",
   "metadata": {},
   "source": [
    "this solution is O(n^2) time and space. it doesn't really generalize to higher sums. wonder if there's a better way...\n",
    "better than O(n^3) at least"
   ]
  },
  {
   "cell_type": "markdown",
   "metadata": {},
   "source": [
    "could be the case that you have a repeat number. rules don't say anything about it, but for instance\n",
    "500, 500, 1020.\n",
    "\n",
    "turns out not to be the case"
   ]
  },
  {
   "cell_type": "code",
   "execution_count": 11,
   "metadata": {},
   "outputs": [],
   "source": [
    "a, b, c = go2()"
   ]
  },
  {
   "cell_type": "code",
   "execution_count": 12,
   "metadata": {
    "scrolled": true
   },
   "outputs": [
    {
     "data": {
      "text/plain": [
       "162292410"
      ]
     },
     "execution_count": 12,
     "metadata": {},
     "output_type": "execute_result"
    }
   ],
   "source": [
    "a * b * c"
   ]
  },
  {
   "cell_type": "markdown",
   "metadata": {},
   "source": [
    "only gets existence, not the numbers themselves\n",
    "O(n + NlogN)"
   ]
  },
  {
   "cell_type": "code",
   "execution_count": 39,
   "metadata": {},
   "outputs": [],
   "source": [
    "import numpy as np\n",
    "from scipy.signal import fftconvolve\n",
    "\n",
    "N = max(number_set)\n",
    "\n",
    "# for integers between 0 and N\n",
    "a = np.zeros(N + 1)\n",
    "\n",
    "for n in number_set:\n",
    "    a[n] = 1.\n",
    "    \n",
    "s = fftconvolve(a, a)\n",
    "\n",
    "# want to exclude the case where we add the same number to itself\n",
    "# (this is obviously excluded in the problem)\n",
    "for n in number_set:\n",
    "    s[2*n] -= 1.\n",
    "    \n",
    "# convolution has error.\n",
    "s[s < 0.001] = 0.\n",
    "\n",
    "# don't care about how many ways there are to make a given number, just there there is at least 1\n",
    "s[s > 0.999] = 1.\n",
    "\n",
    "# testing\n",
    "\n",
    "sum_set = {a+b for (a,b) in itertools.combinations(number_set, 2)}\n",
    "\n",
    "# test that the sum_set and s agree about every possible sum\n",
    "for i in range(2*N+1):\n",
    "    in_sum_set = i in sum_set\n",
    "    in_convolved_sum_array = s[i] == 1.\n",
    "    \n",
    "    assert in_sum_set == in_convolved_sum_array\n",
    "    \n",
    "# using for 3SUM existence\n",
    "\n",
    "def threesum(target):\n",
    "    for n in number_set:\n",
    "        need = target - n\n",
    "        if s[need] == 1:\n",
    "            return True\n",
    "    return False\n",
    "\n",
    "assert threesum(2020)"
   ]
  }
 ],
 "metadata": {
  "kernelspec": {
   "display_name": "Python (base)",
   "language": "python",
   "name": "base"
  },
  "language_info": {
   "codemirror_mode": {
    "name": "ipython",
    "version": 3
   },
   "file_extension": ".py",
   "mimetype": "text/x-python",
   "name": "python",
   "nbconvert_exporter": "python",
   "pygments_lexer": "ipython3",
   "version": "3.8.5"
  }
 },
 "nbformat": 4,
 "nbformat_minor": 4
}
