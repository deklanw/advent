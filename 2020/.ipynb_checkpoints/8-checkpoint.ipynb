{
 "cells": [
  {
   "cell_type": "code",
   "execution_count": 29,
   "metadata": {},
   "outputs": [],
   "source": [
    "def parse_instructions(st):\n",
    "    return [(instr, int(num)) for instr, num in\n",
    "                map(lambda s: s.split(' '), st.split('\\n'))]"
   ]
  },
  {
   "cell_type": "code",
   "execution_count": 33,
   "metadata": {},
   "outputs": [],
   "source": [
    "test_instructions = '''nop +0\n",
    "acc +1\n",
    "jmp +4\n",
    "acc +3\n",
    "jmp -3\n",
    "acc -99\n",
    "acc +1\n",
    "jmp -4\n",
    "acc +6'''\n",
    "\n",
    "test_instructions = parse_instructions(test_instructions)"
   ]
  },
  {
   "cell_type": "code",
   "execution_count": 36,
   "metadata": {},
   "outputs": [
    {
     "data": {
      "text/plain": [
       "[('nop', 0), ('acc', 1), ('jmp', 4)]"
      ]
     },
     "execution_count": 36,
     "metadata": {},
     "output_type": "execute_result"
    }
   ],
   "source": [
    "test_instructions[:3]"
   ]
  },
  {
   "cell_type": "code",
   "execution_count": 30,
   "metadata": {},
   "outputs": [],
   "source": [
    "instructions = parse_instructions(open(\"./inputs/8\").read())"
   ]
  },
  {
   "cell_type": "code",
   "execution_count": 37,
   "metadata": {},
   "outputs": [
    {
     "data": {
      "text/plain": [
       "[('acc', 48), ('nop', 308), ('acc', 33)]"
      ]
     },
     "execution_count": 37,
     "metadata": {},
     "output_type": "execute_result"
    }
   ],
   "source": [
    "instructions[:3]"
   ]
  },
  {
   "cell_type": "code",
   "execution_count": 52,
   "metadata": {},
   "outputs": [],
   "source": [
    "def find_cycle_state(instructions):\n",
    "    seen = set()\n",
    "    state = 0\n",
    "    to_visit = 0\n",
    "\n",
    "    while True:\n",
    "        if to_visit in seen:\n",
    "            print(f\"Re-visiting node {to_visit}. Current state {state}\")\n",
    "            break\n",
    "        elif to_visit > len(instructions) - 1:\n",
    "            print(\"Reached end of instructions\")\n",
    "            break\n",
    "        \n",
    "        # add to set before we mutate to_visit\n",
    "        seen.add(to_visit)\n",
    "\n",
    "        instr, num = instructions[to_visit]\n",
    "\n",
    "        if instr == \"acc\":\n",
    "            state += num\n",
    "            to_visit += 1\n",
    "        elif instr == \"nop\":\n",
    "            to_visit += 1\n",
    "        elif instr == \"jmp\":\n",
    "            to_visit += num\n",
    "        \n",
    "        print(f\"Executed {instr, num}. State now {state}. Going to {to_visit} next\")"
   ]
  },
  {
   "cell_type": "code",
   "execution_count": 53,
   "metadata": {},
   "outputs": [
    {
     "name": "stdout",
     "output_type": "stream",
     "text": [
      "Executed ('nop', 0). State now 0. Going to 1 next\n",
      "Executed ('acc', 1). State now 1. Going to 2 next\n",
      "Executed ('jmp', 4). State now 1. Going to 6 next\n",
      "Executed ('acc', 1). State now 2. Going to 7 next\n",
      "Executed ('jmp', -4). State now 2. Going to 3 next\n",
      "Executed ('acc', 3). State now 5. Going to 4 next\n",
      "Executed ('jmp', -3). State now 5. Going to 1 next\n",
      "Re-visiting node 1. Current state 5\n"
     ]
    }
   ],
   "source": [
    "find_cycle_state(test_instructions)"
   ]
  },
  {
   "cell_type": "code",
   "execution_count": 54,
   "metadata": {
    "scrolled": true
   },
   "outputs": [
    {
     "name": "stdout",
     "output_type": "stream",
     "text": [
      "Executed ('acc', 48). State now 48. Going to 1 next\n",
      "Executed ('nop', 308). State now 48. Going to 2 next\n",
      "Executed ('acc', 33). State now 81. Going to 3 next\n",
      "Executed ('acc', 48). State now 129. Going to 4 next\n",
      "Executed ('jmp', 379). State now 129. Going to 383 next\n",
      "Executed ('acc', 49). State now 178. Going to 384 next\n",
      "Executed ('nop', -202). State now 178. Going to 385 next\n",
      "Executed ('jmp', -315). State now 178. Going to 70 next\n",
      "Executed ('acc', 4). State now 182. Going to 71 next\n",
      "Executed ('acc', -8). State now 174. Going to 72 next\n",
      "Executed ('nop', 484). State now 174. Going to 73 next\n",
      "Executed ('acc', -14). State now 160. Going to 74 next\n",
      "Executed ('jmp', 526). State now 160. Going to 600 next\n",
      "Executed ('jmp', 1). State now 160. Going to 601 next\n",
      "Executed ('acc', 18). State now 178. Going to 602 next\n",
      "Executed ('jmp', -523). State now 178. Going to 79 next\n",
      "Executed ('acc', 22). State now 200. Going to 80 next\n",
      "Executed ('acc', -17). State now 183. Going to 81 next\n",
      "Executed ('jmp', 1). State now 183. Going to 82 next\n",
      "Executed ('jmp', 151). State now 183. Going to 233 next\n",
      "Executed ('nop', 15). State now 183. Going to 234 next\n",
      "Executed ('jmp', 14). State now 183. Going to 248 next\n",
      "Executed ('jmp', 1). State now 183. Going to 249 next\n",
      "Executed ('jmp', -77). State now 183. Going to 172 next\n",
      "Executed ('acc', -19). State now 164. Going to 173 next\n",
      "Executed ('jmp', -85). State now 164. Going to 88 next\n",
      "Executed ('acc', 24). State now 188. Going to 89 next\n",
      "Executed ('jmp', -27). State now 188. Going to 62 next\n",
      "Executed ('acc', 48). State now 236. Going to 63 next\n",
      "Executed ('acc', -11). State now 225. Going to 64 next\n",
      "Executed ('acc', -13). State now 212. Going to 65 next\n",
      "Executed ('acc', 12). State now 224. Going to 66 next\n",
      "Executed ('jmp', 92). State now 224. Going to 158 next\n",
      "Executed ('nop', 177). State now 224. Going to 159 next\n",
      "Executed ('acc', 35). State now 259. Going to 160 next\n",
      "Executed ('acc', 24). State now 283. Going to 161 next\n",
      "Executed ('acc', 46). State now 329. Going to 162 next\n",
      "Executed ('jmp', 121). State now 329. Going to 283 next\n",
      "Executed ('acc', 45). State now 374. Going to 284 next\n",
      "Executed ('jmp', -161). State now 374. Going to 123 next\n",
      "Executed ('acc', 4). State now 378. Going to 124 next\n",
      "Executed ('acc', -14). State now 364. Going to 125 next\n",
      "Executed ('acc', -1). State now 363. Going to 126 next\n",
      "Executed ('acc', 33). State now 396. Going to 127 next\n",
      "Executed ('jmp', -75). State now 396. Going to 52 next\n",
      "Executed ('jmp', 1). State now 396. Going to 53 next\n",
      "Executed ('acc', -15). State now 381. Going to 54 next\n",
      "Executed ('jmp', 166). State now 381. Going to 220 next\n",
      "Executed ('jmp', 17). State now 381. Going to 237 next\n",
      "Executed ('jmp', -71). State now 381. Going to 166 next\n",
      "Executed ('jmp', 1). State now 381. Going to 167 next\n",
      "Executed ('acc', 35). State now 416. Going to 168 next\n",
      "Executed ('acc', 46). State now 462. Going to 169 next\n",
      "Executed ('nop', -18). State now 462. Going to 170 next\n",
      "Executed ('jmp', 6). State now 462. Going to 176 next\n",
      "Executed ('nop', 79). State now 462. Going to 177 next\n",
      "Executed ('jmp', 284). State now 462. Going to 461 next\n",
      "Executed ('jmp', 88). State now 462. Going to 549 next\n",
      "Executed ('acc', -14). State now 448. Going to 550 next\n",
      "Executed ('acc', 0). State now 448. Going to 551 next\n",
      "Executed ('jmp', -234). State now 448. Going to 317 next\n",
      "Executed ('acc', 50). State now 498. Going to 318 next\n",
      "Executed ('jmp', -125). State now 498. Going to 193 next\n",
      "Executed ('nop', 103). State now 498. Going to 194 next\n",
      "Executed ('acc', -2). State now 496. Going to 195 next\n",
      "Executed ('acc', 45). State now 541. Going to 196 next\n",
      "Executed ('jmp', 20). State now 541. Going to 216 next\n",
      "Executed ('acc', -14). State now 527. Going to 217 next\n",
      "Executed ('jmp', 304). State now 527. Going to 521 next\n",
      "Executed ('nop', -284). State now 527. Going to 522 next\n",
      "Executed ('acc', 21). State now 548. Going to 523 next\n",
      "Executed ('nop', -154). State now 548. Going to 524 next\n",
      "Executed ('jmp', -485). State now 548. Going to 39 next\n",
      "Executed ('jmp', 58). State now 548. Going to 97 next\n",
      "Executed ('acc', -16). State now 532. Going to 98 next\n",
      "Executed ('jmp', 89). State now 532. Going to 187 next\n",
      "Executed ('nop', 155). State now 532. Going to 188 next\n",
      "Executed ('acc', 48). State now 580. Going to 189 next\n",
      "Executed ('acc', -17). State now 563. Going to 190 next\n",
      "Executed ('jmp', 188). State now 563. Going to 378 next\n",
      "Executed ('acc', 12). State now 575. Going to 379 next\n",
      "Executed ('acc', 19). State now 594. Going to 380 next\n",
      "Executed ('acc', 3). State now 597. Going to 381 next\n",
      "Executed ('jmp', -371). State now 597. Going to 10 next\n",
      "Executed ('acc', -12). State now 585. Going to 11 next\n",
      "Executed ('nop', 248). State now 585. Going to 12 next\n",
      "Executed ('nop', 146). State now 585. Going to 13 next\n",
      "Executed ('jmp', 293). State now 585. Going to 306 next\n",
      "Executed ('jmp', 3). State now 585. Going to 309 next\n",
      "Executed ('jmp', 305). State now 585. Going to 614 next\n",
      "Executed ('acc', 26). State now 611. Going to 615 next\n",
      "Executed ('jmp', -201). State now 611. Going to 414 next\n",
      "Executed ('acc', 39). State now 650. Going to 415 next\n",
      "Executed ('acc', -10). State now 640. Going to 416 next\n",
      "Executed ('jmp', -280). State now 640. Going to 136 next\n",
      "Executed ('acc', 2). State now 642. Going to 137 next\n",
      "Executed ('acc', 34). State now 676. Going to 138 next\n",
      "Executed ('jmp', -120). State now 676. Going to 18 next\n",
      "Executed ('jmp', 390). State now 676. Going to 408 next\n",
      "Executed ('jmp', -388). State now 676. Going to 20 next\n",
      "Executed ('acc', 38). State now 714. Going to 21 next\n",
      "Executed ('jmp', 451). State now 714. Going to 472 next\n",
      "Executed ('acc', 12). State now 726. Going to 473 next\n",
      "Executed ('jmp', 1). State now 726. Going to 474 next\n",
      "Executed ('acc', -1). State now 725. Going to 475 next\n",
      "Executed ('jmp', 132). State now 725. Going to 607 next\n",
      "Executed ('nop', -365). State now 725. Going to 608 next\n",
      "Executed ('jmp', -188). State now 725. Going to 420 next\n",
      "Executed ('jmp', 113). State now 725. Going to 533 next\n",
      "Executed ('acc', 10). State now 735. Going to 534 next\n",
      "Executed ('jmp', -440). State now 735. Going to 94 next\n",
      "Executed ('acc', 48). State now 783. Going to 95 next\n",
      "Executed ('jmp', 105). State now 783. Going to 200 next\n",
      "Executed ('jmp', 42). State now 783. Going to 242 next\n",
      "Executed ('acc', -15). State now 768. Going to 243 next\n",
      "Executed ('jmp', 322). State now 768. Going to 565 next\n",
      "Executed ('acc', 23). State now 791. Going to 566 next\n",
      "Executed ('jmp', -172). State now 791. Going to 394 next\n",
      "Executed ('acc', 3). State now 794. Going to 395 next\n",
      "Executed ('jmp', -244). State now 794. Going to 151 next\n",
      "Executed ('acc', 44). State now 838. Going to 152 next\n",
      "Executed ('nop', 110). State now 838. Going to 153 next\n",
      "Executed ('jmp', 198). State now 838. Going to 351 next\n",
      "Executed ('acc', 10). State now 848. Going to 352 next\n",
      "Executed ('nop', 169). State now 848. Going to 353 next\n",
      "Executed ('acc', -17). State now 831. Going to 354 next\n",
      "Executed ('jmp', 47). State now 831. Going to 401 next\n",
      "Executed ('nop', 84). State now 831. Going to 402 next\n",
      "Executed ('jmp', 124). State now 831. Going to 526 next\n",
      "Executed ('acc', 32). State now 863. Going to 527 next\n",
      "Executed ('nop', -327). State now 863. Going to 528 next\n",
      "Executed ('acc', 1). State now 864. Going to 529 next\n",
      "Executed ('nop', 43). State now 864. Going to 530 next\n",
      "Executed ('jmp', -23). State now 864. Going to 507 next\n",
      "Executed ('nop', -455). State now 864. Going to 508 next\n",
      "Executed ('acc', -19). State now 845. Going to 509 next\n",
      "Executed ('acc', 36). State now 881. Going to 510 next\n",
      "Executed ('jmp', -368). State now 881. Going to 142 next\n",
      "Executed ('acc', 5). State now 886. Going to 143 next\n",
      "Executed ('nop', 240). State now 886. Going to 144 next\n",
      "Executed ('jmp', -121). State now 886. Going to 23 next\n",
      "Executed ('acc', 41). State now 927. Going to 24 next\n",
      "Executed ('acc', 44). State now 971. Going to 25 next\n",
      "Executed ('nop', 298). State now 971. Going to 26 next\n",
      "Executed ('acc', 31). State now 1002. Going to 27 next\n",
      "Executed ('jmp', 337). State now 1002. Going to 364 next\n",
      "Executed ('acc', 33). State now 1035. Going to 365 next\n",
      "Executed ('jmp', 194). State now 1035. Going to 559 next\n",
      "Executed ('acc', 36). State now 1071. Going to 560 next\n",
      "Executed ('acc', -2). State now 1069. Going to 561 next\n",
      "Executed ('acc', 33). State now 1102. Going to 562 next\n",
      "Executed ('acc', 9). State now 1111. Going to 563 next\n",
      "Executed ('jmp', -26). State now 1111. Going to 537 next\n",
      "Executed ('jmp', 1). State now 1111. Going to 538 next\n",
      "Executed ('acc', 46). State now 1157. Going to 539 next\n",
      "Executed ('nop', -105). State now 1157. Going to 540 next\n",
      "Executed ('jmp', -87). State now 1157. Going to 453 next\n",
      "Executed ('acc', 24). State now 1181. Going to 454 next\n",
      "Executed ('acc', 16). State now 1197. Going to 455 next\n",
      "Executed ('jmp', 117). State now 1197. Going to 572 next\n",
      "Executed ('acc', -11). State now 1186. Going to 573 next\n",
      "Executed ('acc', 26). State now 1212. Going to 574 next\n",
      "Executed ('jmp', -150). State now 1212. Going to 424 next\n",
      "Executed ('nop', 109). State now 1212. Going to 425 next\n",
      "Executed ('acc', 8). State now 1220. Going to 426 next\n",
      "Executed ('acc', 6). State now 1226. Going to 427 next\n",
      "Executed ('acc', 19). State now 1245. Going to 428 next\n",
      "Executed ('jmp', 39). State now 1245. Going to 467 next\n",
      "Executed ('jmp', -144). State now 1245. Going to 323 next\n",
      "Executed ('acc', 39). State now 1284. Going to 324 next\n",
      "Executed ('acc', -5). State now 1279. Going to 325 next\n",
      "Executed ('jmp', 261). State now 1279. Going to 586 next\n",
      "Executed ('acc', 7). State now 1286. Going to 587 next\n",
      "Executed ('acc', -6). State now 1280. Going to 588 next\n",
      "Executed ('jmp', -149). State now 1280. Going to 439 next\n",
      "Executed ('nop', -167). State now 1280. Going to 440 next\n",
      "Executed ('jmp', 105). State now 1280. Going to 545 next\n",
      "Executed ('jmp', -268). State now 1280. Going to 277 next\n",
      "Executed ('nop', -5). State now 1280. Going to 278 next\n",
      "Executed ('jmp', 57). State now 1280. Going to 335 next\n",
      "Executed ('acc', -2). State now 1278. Going to 336 next\n",
      "Executed ('jmp', -7). State now 1278. Going to 329 next\n",
      "Executed ('acc', 6). State now 1284. Going to 330 next\n",
      "Executed ('acc', -17). State now 1267. Going to 331 next\n",
      "Executed ('acc', 12). State now 1279. Going to 332 next\n",
      "Executed ('acc', 38). State now 1317. Going to 333 next\n",
      "Executed ('jmp', 267). State now 1317. Going to 600 next\n",
      "Re-visiting node 600. Current state 1317\n"
     ]
    }
   ],
   "source": [
    "find_cycle_state(instructions)"
   ]
  },
  {
   "cell_type": "code",
   "execution_count": null,
   "metadata": {},
   "outputs": [],
   "source": [
    "def has_cycle(instructions):\n",
    "    seen = set()\n",
    "    state = 0\n",
    "    to_visit = 0\n",
    "\n",
    "    while True:\n",
    "        if to_visit in seen:\n",
    "            return True\n",
    "        elif to_visit > len(instructions) - 1:\n",
    "            print(\"Reached end of instructions\")\n",
    "            break\n",
    "        \n",
    "        # add to set before we mutate to_visit\n",
    "        seen.add(to_visit)\n",
    "\n",
    "        instr, num = instructions[to_visit]\n",
    "\n",
    "        if instr == \"acc\":\n",
    "            state += num\n",
    "            to_visit += 1\n",
    "        elif instr == \"nop\":\n",
    "            to_visit += 1\n",
    "        elif instr == \"jmp\":\n",
    "            to_visit += num\n",
    "        \n",
    "        print(f\"Executed {instr, num}. State now {state}. Going to {to_visit} next\")\n",
    "\n",
    "    return False"
   ]
  },
  {
   "cell_type": "code",
   "execution_count": 71,
   "metadata": {},
   "outputs": [],
   "source": [
    "def pt2(instructions):\n"
   ]
  }
 ],
 "metadata": {
  "kernelspec": {
   "display_name": "Python (base)",
   "language": "python",
   "name": "base"
  },
  "language_info": {
   "codemirror_mode": {
    "name": "ipython",
    "version": 3
   },
   "file_extension": ".py",
   "mimetype": "text/x-python",
   "name": "python",
   "nbconvert_exporter": "python",
   "pygments_lexer": "ipython3",
   "version": "3.8.5"
  }
 },
 "nbformat": 4,
 "nbformat_minor": 4
}
