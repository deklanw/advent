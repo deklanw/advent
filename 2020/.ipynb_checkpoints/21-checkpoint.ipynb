{
 "cells": [
  {
   "cell_type": "code",
   "execution_count": 1,
   "metadata": {},
   "outputs": [],
   "source": [
    "import re\n",
    "import itertools\n",
    "from collections import defaultdict, deque\n",
    "import numpy as np"
   ]
  },
  {
   "cell_type": "markdown",
   "metadata": {},
   "source": [
    "This appears to be a max bipartite matching problem. Can solve it several ways. Gonna try a max-flow algorithm, specifically the Ford-Fulkerson method via Edmonds-Karp algorithm."
   ]
  },
  {
   "cell_type": "markdown",
   "metadata": {},
   "source": [
    "Going to use labels to identify nodes. The unknown ingredients will connect to the source node and the allergens will connect to the target node."
   ]
  },
  {
   "cell_type": "code",
   "execution_count": 2,
   "metadata": {},
   "outputs": [],
   "source": [
    "SOURCE = '#SOURCE#'\n",
    "TARGET = '#TARGET#'"
   ]
  },
  {
   "cell_type": "code",
   "execution_count": 3,
   "metadata": {},
   "outputs": [],
   "source": [
    "class Edge:\n",
    "    def __init__(self, flow, capacity, source, target):\n",
    "        self.flow = flow\n",
    "        self.capacity = capacity\n",
    "        \n",
    "        self.source = source\n",
    "        self.target = target\n",
    "        \n",
    "        self.reverse = None\n",
    "    \n",
    "    def __repr__(self):\n",
    "        return f\"Edge from {self.source} to {self.target}. {self.flow}/{self.capacity}\""
   ]
  },
  {
   "cell_type": "code",
   "execution_count": 4,
   "metadata": {},
   "outputs": [],
   "source": [
    "test_input = '''mxmxvkd kfcds sqjhc nhms (contains dairy, fish)\n",
    "trh fvjkl sbzzf mxmxvkd (contains dairy)\n",
    "sqjhc fvjkl (contains soy)\n",
    "sqjhc mxmxvkd sbzzf (contains fish)'''"
   ]
  },
  {
   "cell_type": "code",
   "execution_count": 5,
   "metadata": {},
   "outputs": [],
   "source": [
    "food_info = []\n",
    "\n",
    "for l in test_input.split('\\n'):\n",
    "    m = re.match(\"(.*)\\s\\(contains\\s(.*)\\)\", l)\n",
    "    ingredients = m.group(1).split(' ')\n",
    "    allergens = m.group(2).split(', ')\n",
    "    \n",
    "    food_info.append((ingredients, allergens))"
   ]
  },
  {
   "cell_type": "code",
   "execution_count": 6,
   "metadata": {},
   "outputs": [
    {
     "data": {
      "text/plain": [
       "[(['mxmxvkd', 'kfcds', 'sqjhc', 'nhms'], ['dairy', 'fish']),\n",
       " (['trh', 'fvjkl', 'sbzzf', 'mxmxvkd'], ['dairy']),\n",
       " (['sqjhc', 'fvjkl'], ['soy']),\n",
       " (['sqjhc', 'mxmxvkd', 'sbzzf'], ['fish'])]"
      ]
     },
     "execution_count": 6,
     "metadata": {},
     "output_type": "execute_result"
    }
   ],
   "source": [
    "food_info"
   ]
  },
  {
   "cell_type": "code",
   "execution_count": 7,
   "metadata": {},
   "outputs": [],
   "source": [
    "# list of edges and reverse edges originating at this node\n",
    "graph = defaultdict(list)\n",
    "\n",
    "# start by getting the appropriate edges we need to make by deduping\n",
    "dd = defaultdict(set)\n",
    "\n",
    "for (ingredients, allergens) in food_info:\n",
    "    for (ingredient, allergen) in itertools.product(ingredients, allergens):\n",
    "        dd[ingredient].add(allergen)\n",
    "\n",
    "all_ingredients = set(dd.keys())\n",
    "all_allergens = set(itertools.chain.from_iterable(dd.values()))"
   ]
  },
  {
   "cell_type": "code",
   "execution_count": 8,
   "metadata": {},
   "outputs": [
    {
     "data": {
      "text/plain": [
       "({'fvjkl', 'kfcds', 'mxmxvkd', 'nhms', 'sbzzf', 'sqjhc', 'trh'},\n",
       " {'dairy', 'fish', 'soy'})"
      ]
     },
     "execution_count": 8,
     "metadata": {},
     "output_type": "execute_result"
    }
   ],
   "source": [
    "all_ingredients, all_allergens"
   ]
  },
  {
   "cell_type": "code",
   "execution_count": 9,
   "metadata": {},
   "outputs": [
    {
     "data": {
      "text/plain": [
       "defaultdict(set,\n",
       "            {'mxmxvkd': {'dairy', 'fish'},\n",
       "             'kfcds': {'dairy', 'fish'},\n",
       "             'sqjhc': {'dairy', 'fish', 'soy'},\n",
       "             'nhms': {'dairy', 'fish'},\n",
       "             'trh': {'dairy'},\n",
       "             'fvjkl': {'dairy', 'soy'},\n",
       "             'sbzzf': {'dairy', 'fish'}})"
      ]
     },
     "execution_count": 9,
     "metadata": {},
     "output_type": "execute_result"
    }
   ],
   "source": [
    "dd"
   ]
  },
  {
   "cell_type": "code",
   "execution_count": 10,
   "metadata": {},
   "outputs": [],
   "source": [
    "def add_edge_and_reverse(source, target):\n",
    "    # in the bipartite matching all forward edges start with flow 0 and capacity 1\n",
    "    # and in the general case all reverse edges start with flow 0 and capacity 0\n",
    "    e = Edge(flow=0, capacity=1, source=source, target=target)\n",
    "    re = Edge(flow=0, capacity=0, source=target, target=source)\n",
    "\n",
    "    e.reverse = re\n",
    "    \n",
    "    # don't know if I need the reverse on the reverses, but for now..\n",
    "    re.reverse = e\n",
    "\n",
    "    graph[source].append(e)\n",
    "    graph[target].append(re)"
   ]
  },
  {
   "cell_type": "code",
   "execution_count": 11,
   "metadata": {},
   "outputs": [],
   "source": [
    "# connect ingredient-allergen edges\n",
    "for i, allergens in dd.items():\n",
    "    for a in allergens:\n",
    "        add_edge_and_reverse(i, a)\n",
    "        \n",
    "# add edge from source to every ingredient\n",
    "for i in all_ingredients:\n",
    "    add_edge_and_reverse(SOURCE, i)\n",
    "\n",
    "# add edge from every allergen to sink (target)\n",
    "for a in all_allergens:\n",
    "    add_edge_and_reverse(a, TARGET)"
   ]
  },
  {
   "cell_type": "code",
   "execution_count": 12,
   "metadata": {
    "scrolled": true
   },
   "outputs": [
    {
     "data": {
      "text/plain": [
       "defaultdict(list,\n",
       "            {'mxmxvkd': [Edge from mxmxvkd to fish. 0/1,\n",
       "              Edge from mxmxvkd to dairy. 0/1,\n",
       "              Edge from mxmxvkd to #SOURCE#. 0/0],\n",
       "             'fish': [Edge from fish to mxmxvkd. 0/0,\n",
       "              Edge from fish to kfcds. 0/0,\n",
       "              Edge from fish to sqjhc. 0/0,\n",
       "              Edge from fish to nhms. 0/0,\n",
       "              Edge from fish to sbzzf. 0/0,\n",
       "              Edge from fish to #TARGET#. 0/1],\n",
       "             'dairy': [Edge from dairy to mxmxvkd. 0/0,\n",
       "              Edge from dairy to kfcds. 0/0,\n",
       "              Edge from dairy to sqjhc. 0/0,\n",
       "              Edge from dairy to nhms. 0/0,\n",
       "              Edge from dairy to trh. 0/0,\n",
       "              Edge from dairy to fvjkl. 0/0,\n",
       "              Edge from dairy to sbzzf. 0/0,\n",
       "              Edge from dairy to #TARGET#. 0/1],\n",
       "             'kfcds': [Edge from kfcds to fish. 0/1,\n",
       "              Edge from kfcds to dairy. 0/1,\n",
       "              Edge from kfcds to #SOURCE#. 0/0],\n",
       "             'sqjhc': [Edge from sqjhc to soy. 0/1,\n",
       "              Edge from sqjhc to fish. 0/1,\n",
       "              Edge from sqjhc to dairy. 0/1,\n",
       "              Edge from sqjhc to #SOURCE#. 0/0],\n",
       "             'soy': [Edge from soy to sqjhc. 0/0,\n",
       "              Edge from soy to fvjkl. 0/0,\n",
       "              Edge from soy to #TARGET#. 0/1],\n",
       "             'nhms': [Edge from nhms to fish. 0/1,\n",
       "              Edge from nhms to dairy. 0/1,\n",
       "              Edge from nhms to #SOURCE#. 0/0],\n",
       "             'trh': [Edge from trh to dairy. 0/1,\n",
       "              Edge from trh to #SOURCE#. 0/0],\n",
       "             'fvjkl': [Edge from fvjkl to soy. 0/1,\n",
       "              Edge from fvjkl to dairy. 0/1,\n",
       "              Edge from fvjkl to #SOURCE#. 0/0],\n",
       "             'sbzzf': [Edge from sbzzf to fish. 0/1,\n",
       "              Edge from sbzzf to dairy. 0/1,\n",
       "              Edge from sbzzf to #SOURCE#. 0/0],\n",
       "             '#SOURCE#': [Edge from #SOURCE# to nhms. 0/1,\n",
       "              Edge from #SOURCE# to sqjhc. 0/1,\n",
       "              Edge from #SOURCE# to kfcds. 0/1,\n",
       "              Edge from #SOURCE# to mxmxvkd. 0/1,\n",
       "              Edge from #SOURCE# to sbzzf. 0/1,\n",
       "              Edge from #SOURCE# to trh. 0/1,\n",
       "              Edge from #SOURCE# to fvjkl. 0/1],\n",
       "             '#TARGET#': [Edge from #TARGET# to soy. 0/0,\n",
       "              Edge from #TARGET# to fish. 0/0,\n",
       "              Edge from #TARGET# to dairy. 0/0]})"
      ]
     },
     "execution_count": 12,
     "metadata": {},
     "output_type": "execute_result"
    }
   ],
   "source": [
    "graph"
   ]
  },
  {
   "cell_type": "markdown",
   "metadata": {},
   "source": [
    "Phew, now let's try the actual algoritm. Basically just following along here https://www.wikiwand.com/en/Edmonds%E2%80%93Karp_algorithm#/Pseudocode"
   ]
  },
  {
   "cell_type": "code",
   "execution_count": 13,
   "metadata": {},
   "outputs": [],
   "source": [
    "def traverse_backwards_from_target():\n",
    "    e = pred[TARGET]\n",
    "    yield e\n",
    "    while True:\n",
    "        if e.source not in pred:\n",
    "            break\n",
    "        \n",
    "        e = pred[e.source]\n",
    "        yield e"
   ]
  },
  {
   "cell_type": "code",
   "execution_count": 14,
   "metadata": {},
   "outputs": [
    {
     "name": "stdout",
     "output_type": "stream",
     "text": [
      "{'nhms': Edge from #SOURCE# to nhms. 0/1, 'sqjhc': Edge from #SOURCE# to sqjhc. 0/1, 'kfcds': Edge from #SOURCE# to kfcds. 0/1, 'mxmxvkd': Edge from #SOURCE# to mxmxvkd. 0/1, 'sbzzf': Edge from #SOURCE# to sbzzf. 0/1, 'trh': Edge from #SOURCE# to trh. 0/1, 'fvjkl': Edge from #SOURCE# to fvjkl. 0/1, 'fish': Edge from nhms to fish. 0/1, 'dairy': Edge from nhms to dairy. 0/1, 'soy': Edge from sqjhc to soy. 0/1, '#TARGET#': Edge from fish to #TARGET#. 0/1}\n",
      "\n",
      "[Edge from #SOURCE# to nhms. 0/1, Edge from nhms to fish. 0/1, Edge from fish to #TARGET#. 0/1]\n",
      "\n",
      "{'sqjhc': Edge from #SOURCE# to sqjhc. 0/1, 'kfcds': Edge from #SOURCE# to kfcds. 0/1, 'mxmxvkd': Edge from #SOURCE# to mxmxvkd. 0/1, 'sbzzf': Edge from #SOURCE# to sbzzf. 0/1, 'trh': Edge from #SOURCE# to trh. 0/1, 'fvjkl': Edge from #SOURCE# to fvjkl. 0/1, 'soy': Edge from sqjhc to soy. 0/1, 'fish': Edge from sqjhc to fish. 0/1, 'dairy': Edge from sqjhc to dairy. 0/1, '#TARGET#': Edge from soy to #TARGET#. 0/1, 'nhms': Edge from fish to nhms. -1/0}\n",
      "\n",
      "[Edge from #SOURCE# to sqjhc. 0/1, Edge from sqjhc to soy. 0/1, Edge from soy to #TARGET#. 0/1]\n",
      "\n",
      "{'kfcds': Edge from #SOURCE# to kfcds. 0/1, 'mxmxvkd': Edge from #SOURCE# to mxmxvkd. 0/1, 'sbzzf': Edge from #SOURCE# to sbzzf. 0/1, 'trh': Edge from #SOURCE# to trh. 0/1, 'fvjkl': Edge from #SOURCE# to fvjkl. 0/1, 'fish': Edge from kfcds to fish. 0/1, 'dairy': Edge from kfcds to dairy. 0/1, 'soy': Edge from fvjkl to soy. 0/1, 'nhms': Edge from fish to nhms. -1/0, '#TARGET#': Edge from dairy to #TARGET#. 0/1, 'sqjhc': Edge from soy to sqjhc. -1/0}\n",
      "\n",
      "[Edge from #SOURCE# to kfcds. 0/1, Edge from kfcds to dairy. 0/1, Edge from dairy to #TARGET#. 0/1]\n",
      "\n",
      "{'mxmxvkd': Edge from #SOURCE# to mxmxvkd. 0/1, 'sbzzf': Edge from #SOURCE# to sbzzf. 0/1, 'trh': Edge from #SOURCE# to trh. 0/1, 'fvjkl': Edge from #SOURCE# to fvjkl. 0/1, 'fish': Edge from mxmxvkd to fish. 0/1, 'dairy': Edge from mxmxvkd to dairy. 0/1, 'soy': Edge from fvjkl to soy. 0/1, 'nhms': Edge from fish to nhms. -1/0, 'kfcds': Edge from dairy to kfcds. -1/0, 'sqjhc': Edge from soy to sqjhc. -1/0}\n",
      "\n"
     ]
    }
   ],
   "source": [
    "# loop until no more augmenting paths possible\n",
    "while True:\n",
    "    # use a deque with appendleft and pop for the queue for BFS\n",
    "    q = deque()\n",
    "    \n",
    "    # start BFS from source\n",
    "    q.appendleft(SOURCE)\n",
    "    \n",
    "    # keep track of the path we've taken by storing the predecessor edge of each node on the path\n",
    "    pred = {}\n",
    "    \n",
    "    # find shorted path with BFS\n",
    "    while q:\n",
    "        current = q.pop()\n",
    "        \n",
    "        for e in graph[current]:\n",
    "            nxt = e.target\n",
    "            \n",
    "            # make sure:\n",
    "            # haven't queued the node for visitation yet\n",
    "            # the edge has remaining capacity we can exploit\n",
    "            # and that we're not going back to the SOURCE (not sure why this one is necessary?)\n",
    "            \n",
    "            if nxt not in pred and nxt != SOURCE and e.capacity > e.flow:\n",
    "                pred[nxt] = e\n",
    "                q.appendleft(nxt)\n",
    "    \n",
    "    # no augmenting paths possible, break\n",
    "    if TARGET not in pred:\n",
    "        break\n",
    "        \n",
    "    print(list(traverse_backwards_from_target())[::-1])\n",
    "    print()\n",
    "\n",
    "    # find flow we can exploit        \n",
    "    df = min(e.capacity - e.flow for e in traverse_backwards_from_target())\n",
    "\n",
    "    # update the edge flows by that amount\n",
    "    for e in traverse_backwards_from_target():\n",
    "        e.flow += df\n",
    "        e.reverse.flow -= df"
   ]
  },
  {
   "cell_type": "code",
   "execution_count": 20,
   "metadata": {},
   "outputs": [
    {
     "name": "stdout",
     "output_type": "stream",
     "text": [
      "Edge from #SOURCE# to nhms. 1/1\n",
      "Edge from #SOURCE# to sqjhc. 1/1\n",
      "Edge from #SOURCE# to kfcds. 1/1\n",
      "Edge from #SOURCE# to mxmxvkd. 0/1\n",
      "Edge from #SOURCE# to sbzzf. 0/1\n",
      "Edge from #SOURCE# to trh. 0/1\n",
      "Edge from #SOURCE# to fvjkl. 0/1\n"
     ]
    }
   ],
   "source": [
    "for e in graph[SOURCE]:\n",
    "    print(e)"
   ]
  },
  {
   "cell_type": "code",
   "execution_count": 21,
   "metadata": {},
   "outputs": [
    {
     "name": "stdout",
     "output_type": "stream",
     "text": [
      "Edge from nhms to fish. 1/1\n",
      "Edge from nhms to dairy. 0/1\n",
      "Edge from sqjhc to soy. 1/1\n",
      "Edge from sqjhc to fish. 0/1\n",
      "Edge from sqjhc to dairy. 0/1\n",
      "Edge from kfcds to fish. 0/1\n",
      "Edge from kfcds to dairy. 1/1\n",
      "Edge from mxmxvkd to fish. 0/1\n",
      "Edge from mxmxvkd to dairy. 0/1\n",
      "Edge from sbzzf to fish. 0/1\n",
      "Edge from sbzzf to dairy. 0/1\n",
      "Edge from trh to dairy. 0/1\n",
      "Edge from fvjkl to soy. 0/1\n",
      "Edge from fvjkl to dairy. 0/1\n"
     ]
    }
   ],
   "source": [
    "for i in all_ingredients:\n",
    "    for e in graph[i]:\n",
    "        if e.target in all_allergens:\n",
    "            print(e)"
   ]
  },
  {
   "cell_type": "code",
   "execution_count": 22,
   "metadata": {},
   "outputs": [
    {
     "name": "stdout",
     "output_type": "stream",
     "text": [
      "Edge from soy to #TARGET#. 1/1\n",
      "Edge from fish to #TARGET#. 1/1\n",
      "Edge from dairy to #TARGET#. 1/1\n"
     ]
    }
   ],
   "source": [
    "for a in all_allergens:\n",
    "    for e in graph[a]:\n",
    "        if e.target == TARGET:\n",
    "            print(e)"
   ]
  }
 ],
 "metadata": {
  "kernelspec": {
   "display_name": "Python (base)",
   "language": "python",
   "name": "base"
  },
  "language_info": {
   "codemirror_mode": {
    "name": "ipython",
    "version": 3
   },
   "file_extension": ".py",
   "mimetype": "text/x-python",
   "name": "python",
   "nbconvert_exporter": "python",
   "pygments_lexer": "ipython3",
   "version": "3.8.5"
  }
 },
 "nbformat": 4,
 "nbformat_minor": 4
}
