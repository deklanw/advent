{
 "cells": [
  {
   "cell_type": "code",
   "execution_count": 76,
   "metadata": {},
   "outputs": [],
   "source": [
    "import re\n",
    "import itertools"
   ]
  },
  {
   "cell_type": "code",
   "execution_count": 2,
   "metadata": {},
   "outputs": [],
   "source": [
    "test_input = '''mask = XXXXXXXXXXXXXXXXXXXXXXXXXXXXX1XXXX0X\n",
    "mem[8] = 11\n",
    "mem[7] = 101\n",
    "mem[8] = 0'''"
   ]
  },
  {
   "cell_type": "code",
   "execution_count": 117,
   "metadata": {},
   "outputs": [],
   "source": [
    "test_input2 = '''mask = 000000000000000000000000000000X1001X\n",
    "mem[42] = 100\n",
    "mask = 00000000000000000000000000000000X0XX\n",
    "mem[26] = 1'''"
   ]
  },
  {
   "cell_type": "code",
   "execution_count": 3,
   "metadata": {},
   "outputs": [],
   "source": [
    "def parse_program(s):\n",
    "    blocks = s.replace('\\n', ' ').split('mask = ')[1:]\n",
    "    \n",
    "    # blocks:\n",
    "    # ['0X0X1110X1010X1X10010X0011010X100110 mem[40190] = 23031023 mem[13516] = 384739600 ']\n",
    "    \n",
    "    all_instructions = []\n",
    "    \n",
    "    for block_s in blocks:\n",
    "        m = re.match('([0|1|X]+)\\s(.*)', block_s)\n",
    "        mask = m.group(1)\n",
    "        rest = m.group(2)\n",
    "        \n",
    "        instructions = [(mask, int(m[0]), int(m[1])) for m in re.findall(\"mem\\[(\\d+)\\]\\s=\\s(\\d+)\", rest)]\n",
    "        \n",
    "        all_instructions += instructions\n",
    "\n",
    "    return all_instructions"
   ]
  },
  {
   "cell_type": "code",
   "execution_count": 4,
   "metadata": {},
   "outputs": [],
   "source": [
    "test_program = parse_program(test_input)"
   ]
  },
  {
   "cell_type": "code",
   "execution_count": 118,
   "metadata": {},
   "outputs": [],
   "source": [
    "test_program2 = parse_program(test_input2)"
   ]
  },
  {
   "cell_type": "code",
   "execution_count": 5,
   "metadata": {},
   "outputs": [],
   "source": [
    "program = parse_program(open('./inputs/14').read())"
   ]
  },
  {
   "cell_type": "code",
   "execution_count": 6,
   "metadata": {},
   "outputs": [],
   "source": [
    "def overwrite(mask_str, number):\n",
    "    # XXXXXXXXXXXXXXXXXXXXXXXXXXXXX1XXXX0X\n",
    "    # first delete existing bits at the locations by\n",
    "    # ANDing with 0s at the specified locations and 1s elsewhere.\n",
    "    # then OR with the mask with 0s for Xs\n",
    "        \n",
    "    and_mask = int(mask_str.replace('1', '0').replace('X', '1'), 2)\n",
    "    or_mask = int(mask_str.replace('X', '0'), 2)\n",
    "    \n",
    "    return (number & and_mask) | or_mask"
   ]
  },
  {
   "cell_type": "code",
   "execution_count": 7,
   "metadata": {},
   "outputs": [],
   "source": [
    "def execute(program):\n",
    "    memory = {}\n",
    "    \n",
    "    for (mask, location, value) in program:\n",
    "        masked_value = overwrite(mask, value)\n",
    "        memory[location] = masked_value\n",
    "        \n",
    "    return sum(memory.values())"
   ]
  },
  {
   "cell_type": "code",
   "execution_count": 8,
   "metadata": {},
   "outputs": [
    {
     "data": {
      "text/plain": [
       "165"
      ]
     },
     "execution_count": 8,
     "metadata": {},
     "output_type": "execute_result"
    }
   ],
   "source": [
    "execute(test_program)"
   ]
  },
  {
   "cell_type": "code",
   "execution_count": 9,
   "metadata": {
    "scrolled": true
   },
   "outputs": [
    {
     "data": {
      "text/plain": [
       "6631883285184"
      ]
     },
     "execution_count": 9,
     "metadata": {},
     "output_type": "execute_result"
    }
   ],
   "source": [
    "execute(program)"
   ]
  },
  {
   "cell_type": "code",
   "execution_count": 99,
   "metadata": {},
   "outputs": [],
   "source": [
    "# ORs properly, but replaces X with 0 and records their position\n",
    "# will use the recorded positions to sum with the reduced value\n",
    "def get_floating_bin(mask, value):\n",
    "    bin_str = format(value, '036b')\n",
    "    new_s = list(bin_str)\n",
    "    mask_positions = []\n",
    "\n",
    "    for i, (v, m) in enumerate(zip(bin_str, mask)):\n",
    "        if m == 'X':\n",
    "            new_s[i] = '0'\n",
    "            mask_positions.append(len(mask) - 1 - i )\n",
    "        else:\n",
    "            new_s[i] = str(int(v) | int(m))\n",
    "\n",
    "    return mask_positions, int(''.join(new_s), 2)"
   ]
  },
  {
   "cell_type": "code",
   "execution_count": 128,
   "metadata": {},
   "outputs": [],
   "source": [
    "def execute2(program):\n",
    "    memory = {}\n",
    "    \n",
    "    for (mask, location, value) in program:\n",
    "        mask_positions, reduced_value = get_floating_bin(mask, location)\n",
    "        \n",
    "        for new_location in [reduced_value + sum(ns) for ns in\n",
    "                             itertools.product(*((0, 2**i) for i in mask_positions))]:\n",
    "            memory[new_location] = value\n",
    "    return sum(memory.values())"
   ]
  },
  {
   "cell_type": "code",
   "execution_count": 134,
   "metadata": {},
   "outputs": [
    {
     "data": {
      "text/plain": [
       "3161838538691"
      ]
     },
     "execution_count": 134,
     "metadata": {},
     "output_type": "execute_result"
    }
   ],
   "source": [
    "execute2(program)"
   ]
  }
 ],
 "metadata": {
  "kernelspec": {
   "display_name": "Python (base)",
   "language": "python",
   "name": "base"
  },
  "language_info": {
   "codemirror_mode": {
    "name": "ipython",
    "version": 3
   },
   "file_extension": ".py",
   "mimetype": "text/x-python",
   "name": "python",
   "nbconvert_exporter": "python",
   "pygments_lexer": "ipython3",
   "version": "3.8.5"
  }
 },
 "nbformat": 4,
 "nbformat_minor": 4
}
