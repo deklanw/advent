{
 "cells": [
  {
   "cell_type": "code",
   "execution_count": 92,
   "metadata": {},
   "outputs": [],
   "source": [
    "from itertools import accumulate "
   ]
  },
  {
   "cell_type": "code",
   "execution_count": 6,
   "metadata": {},
   "outputs": [],
   "source": [
    "numbers = [int(i) for i in open('./inputs/9').read().split()]\n",
    "pre_len = 25"
   ]
  },
  {
   "cell_type": "code",
   "execution_count": 7,
   "metadata": {},
   "outputs": [],
   "source": [
    "test_input = \"\"\"35\n",
    "20\n",
    "15\n",
    "25\n",
    "47\n",
    "40\n",
    "62\n",
    "55\n",
    "65\n",
    "95\n",
    "102\n",
    "117\n",
    "150\n",
    "182\n",
    "127\n",
    "219\n",
    "299\n",
    "277\n",
    "309\n",
    "576\"\"\"\n",
    "\n",
    "test_numbers = [int(i) for i in test_input.split()]\n",
    "test_pre_len = 5"
   ]
  },
  {
   "cell_type": "code",
   "execution_count": 128,
   "metadata": {},
   "outputs": [],
   "source": [
    "def find(pre_len, numbers):\n",
    "    preamble_set = set(numbers[:pre_len])\n",
    "\n",
    "    for i in range(pre_len, len(numbers)):\n",
    "        target = numbers[i]\n",
    "\n",
    "        found = False\n",
    "        for j in range(i-pre_len, i-1):\n",
    "            need = target - numbers[j]\n",
    "            \n",
    "            if need in preamble_set:\n",
    "                found = True\n",
    "                break\n",
    "\n",
    "        if not found: \n",
    "            print(f\"Can't make {target} at index {i}!\")\n",
    "            return target\n",
    "\n",
    "        # adjust preamble_set window before we increment\n",
    "        preamble_set.remove(numbers[i - pre_len])\n",
    "        preamble_set.add(target)"
   ]
  },
  {
   "cell_type": "code",
   "execution_count": 129,
   "metadata": {},
   "outputs": [
    {
     "name": "stdout",
     "output_type": "stream",
     "text": [
      "Can't make 542529149 at index 616!\n"
     ]
    }
   ],
   "source": [
    "target = find(pre_len, numbers)"
   ]
  },
  {
   "cell_type": "code",
   "execution_count": 130,
   "metadata": {},
   "outputs": [
    {
     "name": "stdout",
     "output_type": "stream",
     "text": [
      "Can't make 127 at index 14!\n"
     ]
    }
   ],
   "source": [
    "test_target = find(test_pre_len, test_numbers)"
   ]
  },
  {
   "cell_type": "markdown",
   "metadata": {},
   "source": [
    "Basic idea for part 2:\n",
    "\n",
    "Try out all 2 sums. Store them all. Then, for each subtract for what we need and check if the next number is what we need. Build up 3 sums along the way. Repeat for higher sums.\n",
    "\n",
    "This should be faster than just bruteforcing every sum possibility"
   ]
  },
  {
   "cell_type": "code",
   "execution_count": 11,
   "metadata": {},
   "outputs": [],
   "source": [
    "target = 542529149 "
   ]
  },
  {
   "cell_type": "code",
   "execution_count": 13,
   "metadata": {},
   "outputs": [
    {
     "data": {
      "text/plain": [
       "20"
      ]
     },
     "execution_count": 13,
     "metadata": {},
     "output_type": "execute_result"
    }
   ],
   "source": [
    "len(test_numbers)"
   ]
  },
  {
   "cell_type": "code",
   "execution_count": 110,
   "metadata": {},
   "outputs": [],
   "source": [
    "def find_pt2(numbers, target):\n",
    "    last_sum_length = 1\n",
    "    sums = numbers\n",
    "    \n",
    "    while last_sum_length < len(numbers):\n",
    "        new_sums = []\n",
    "        \n",
    "        for i in range(len(numbers) - last_sum_length):\n",
    "            to_add_index = i+last_sum_length\n",
    "            s = sums[i] + numbers[to_add_index]\n",
    "            if s == target:\n",
    "                sum_length = last_sum_length + 1\n",
    "                print(f\"Found! Sum length: {sum_length}. Final number: {numbers[to_add_index]} at {to_add_index}\")\n",
    "                return (to_add_index-sum_length, to_add_index)\n",
    "            new_sums.append(s)\n",
    "        \n",
    "        last_sum_length += 1\n",
    "        sums = new_sums\n",
    "\n",
    "    print(\"Couldnt find :(\")\n",
    "    return None"
   ]
  },
  {
   "cell_type": "code",
   "execution_count": 131,
   "metadata": {},
   "outputs": [
    {
     "name": "stdout",
     "output_type": "stream",
     "text": [
      "Found! Sum length: 4. Final number: 40 at 5\n"
     ]
    }
   ],
   "source": [
    "test_i, test_j = find_pt2(test_numbers, test_target)"
   ]
  },
  {
   "cell_type": "code",
   "execution_count": 112,
   "metadata": {},
   "outputs": [
    {
     "data": {
      "text/plain": [
       "(1, 5)"
      ]
     },
     "execution_count": 112,
     "metadata": {},
     "output_type": "execute_result"
    }
   ],
   "source": [
    "test_i, test_j"
   ]
  },
  {
   "cell_type": "code",
   "execution_count": 132,
   "metadata": {
    "scrolled": true
   },
   "outputs": [
    {
     "name": "stdout",
     "output_type": "stream",
     "text": [
      "Found! Sum length: 17. Final number: 37477873 at 516\n"
     ]
    }
   ],
   "source": [
    "found_i, found_j = find_pt2(numbers, target)"
   ]
  },
  {
   "cell_type": "code",
   "execution_count": 114,
   "metadata": {},
   "outputs": [],
   "source": [
    "def get_encryption_weakness(numbers, i, j):\n",
    "    n = numbers[i:j+1]\n",
    "    \n",
    "    return min(n) + max(n)"
   ]
  },
  {
   "cell_type": "code",
   "execution_count": 116,
   "metadata": {},
   "outputs": [
    {
     "data": {
      "text/plain": [
       "75678618"
      ]
     },
     "execution_count": 116,
     "metadata": {},
     "output_type": "execute_result"
    }
   ],
   "source": [
    "get_encryption_weakness(numbers, found_i, found_j)"
   ]
  },
  {
   "cell_type": "code",
   "execution_count": 117,
   "metadata": {},
   "outputs": [
    {
     "data": {
      "text/plain": [
       "62"
      ]
     },
     "execution_count": 117,
     "metadata": {},
     "output_type": "execute_result"
    }
   ],
   "source": [
    "get_encryption_weakness(test_numbers, test_i, test_j)"
   ]
  },
  {
   "cell_type": "markdown",
   "metadata": {},
   "source": [
    "An even better way: to do part 2: use a prefix sum trick"
   ]
  },
  {
   "cell_type": "code",
   "execution_count": 127,
   "metadata": {},
   "outputs": [],
   "source": [
    "def pt2_indices(numbers, target):\n",
    "    prefix_sum = list(accumulate(numbers))\n",
    "    prefix_sum_dict = {s: i for i, s in enumerate(prefix_sum)}\n",
    "    \n",
    "    for i, v in enumerate(prefix_sum):\n",
    "        overall_sum = v + target\n",
    "        if overall_sum in prefix_sum_dict:\n",
    "            other_index = prefix_sum_dict[overall_sum]\n",
    "            print(\"Found\", i, other_index)\n",
    "            return i, other_index\n",
    "        \n",
    "    print(\"Didnt find?\")"
   ]
  },
  {
   "cell_type": "code",
   "execution_count": 133,
   "metadata": {},
   "outputs": [
    {
     "name": "stdout",
     "output_type": "stream",
     "text": [
      "Found 1 5\n"
     ]
    }
   ],
   "source": [
    "test_i, test_j = pt2_indices(test_numbers, test_target)"
   ]
  },
  {
   "cell_type": "code",
   "execution_count": 134,
   "metadata": {},
   "outputs": [
    {
     "name": "stdout",
     "output_type": "stream",
     "text": [
      "Found 499 516\n"
     ]
    }
   ],
   "source": [
    "i, j = pt2_indices(numbers, target)"
   ]
  },
  {
   "cell_type": "code",
   "execution_count": 123,
   "metadata": {},
   "outputs": [
    {
     "data": {
      "text/plain": [
       "75678618"
      ]
     },
     "execution_count": 123,
     "metadata": {},
     "output_type": "execute_result"
    }
   ],
   "source": [
    "get_encryption_weakness(numbers, i, j)"
   ]
  },
  {
   "cell_type": "code",
   "execution_count": 135,
   "metadata": {},
   "outputs": [
    {
     "data": {
      "text/plain": [
       "62"
      ]
     },
     "execution_count": 135,
     "metadata": {},
     "output_type": "execute_result"
    }
   ],
   "source": [
    "get_encryption_weakness(test_numbers, test_i, test_j)"
   ]
  },
  {
   "cell_type": "code",
   "execution_count": null,
   "metadata": {},
   "outputs": [],
   "source": [
    "from itertools import accumulate\n",
    "\n",
    "def pt2_indices(numbers, target):\n",
    "    prefix_sum = list(accumulate(numbers))\n",
    "    prefix_sum_dict = {s: i for i, s in enumerate(prefix_sum)}\n",
    "    \n",
    "    for i, v in enumerate(prefix_sum):\n",
    "        overall_sum = v + target\n",
    "        if overall_sum in prefix_sum_dict:\n",
    "            end_index = prefix_sum_dict[overall_sum]\n",
    "            return i, end_index"
   ]
  }
 ],
 "metadata": {
  "kernelspec": {
   "display_name": "Python (base)",
   "language": "python",
   "name": "base"
  },
  "language_info": {
   "codemirror_mode": {
    "name": "ipython",
    "version": 3
   },
   "file_extension": ".py",
   "mimetype": "text/x-python",
   "name": "python",
   "nbconvert_exporter": "python",
   "pygments_lexer": "ipython3",
   "version": "3.8.5"
  }
 },
 "nbformat": 4,
 "nbformat_minor": 4
}
