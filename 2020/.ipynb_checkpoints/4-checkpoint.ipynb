{
 "cells": [
  {
   "cell_type": "code",
   "execution_count": 1,
   "metadata": {},
   "outputs": [],
   "source": [
    "import re\n",
    "from collections import Counter"
   ]
  },
  {
   "cell_type": "code",
   "execution_count": 2,
   "metadata": {},
   "outputs": [],
   "source": [
    "rgx = re.compile(\"(\\w{3}):(\\S+)\")"
   ]
  },
  {
   "cell_type": "code",
   "execution_count": 3,
   "metadata": {},
   "outputs": [],
   "source": [
    "def parse_passports(fn):\n",
    "    with open(fn, mode=\"r\") as f:\n",
    "        one_string = f.read()\n",
    "        split = [s.replace('\\n', ' ') for s in one_string.split('\\n\\n')]\n",
    "        return [rgx.findall(passport) for passport in split]"
   ]
  },
  {
   "cell_type": "code",
   "execution_count": 4,
   "metadata": {},
   "outputs": [],
   "source": [
    "passports = parse_passports(\"./inputs/4\")"
   ]
  },
  {
   "cell_type": "code",
   "execution_count": 5,
   "metadata": {
    "scrolled": true
   },
   "outputs": [
    {
     "data": {
      "text/plain": [
       "[[('hgt', '176cm'),\n",
       "  ('iyr', '2013'),\n",
       "  ('hcl', '#fffffd'),\n",
       "  ('ecl', 'amb'),\n",
       "  ('byr', '2000'),\n",
       "  ('eyr', '2034'),\n",
       "  ('cid', '89'),\n",
       "  ('pid', '934693255')],\n",
       " [('hcl', '#b5c3db'),\n",
       "  ('ecl', 'grn'),\n",
       "  ('hgt', '155cm'),\n",
       "  ('pid', '#baec97'),\n",
       "  ('iyr', '2017'),\n",
       "  ('byr', '1939'),\n",
       "  ('eyr', '2020')]]"
      ]
     },
     "execution_count": 5,
     "metadata": {},
     "output_type": "execute_result"
    }
   ],
   "source": [
    "passports[:2]"
   ]
  },
  {
   "cell_type": "code",
   "execution_count": 6,
   "metadata": {},
   "outputs": [],
   "source": [
    "required_prefixes = ['byr', 'iyr', 'eyr', 'hgt', 'hcl', 'ecl', 'pid']\n",
    "optional_prefixes = ['cid']\n",
    "all_prefixes = required_prefixes + optional_prefixes"
   ]
  },
  {
   "cell_type": "code",
   "execution_count": 7,
   "metadata": {},
   "outputs": [],
   "source": [
    "for passport in passports:\n",
    "    assert len(passport) <= 8\n",
    "    assert all(f in all_prefixes for (f, v) in passport)"
   ]
  },
  {
   "cell_type": "code",
   "execution_count": 8,
   "metadata": {},
   "outputs": [],
   "source": [
    "def passport_valid(passport):\n",
    "    count_prefix = Counter([prefix for (prefix, value) in passport])\n",
    "    \n",
    "    # every required prefix appears exactly once\n",
    "    for required in required_prefixes:\n",
    "        if count_prefix[required] != 1:\n",
    "            return False\n",
    "    \n",
    "    # every optional prefix appears zero or one time\n",
    "    for optional in optional_prefixes:\n",
    "        c = count_prefix[optional]\n",
    "        if not (c == 0 or c == 1):\n",
    "            return False\n",
    "\n",
    "    return True"
   ]
  },
  {
   "cell_type": "code",
   "execution_count": 9,
   "metadata": {},
   "outputs": [],
   "source": [
    "test_passports = parse_passports(\"./inputs/4_test\")"
   ]
  },
  {
   "cell_type": "code",
   "execution_count": 10,
   "metadata": {},
   "outputs": [],
   "source": [
    "num_valid_test = sum([passport_valid(p) for p in test_passports])\n",
    "\n",
    "assert num_valid_test == 2"
   ]
  },
  {
   "cell_type": "code",
   "execution_count": 11,
   "metadata": {},
   "outputs": [
    {
     "data": {
      "text/plain": [
       "230"
      ]
     },
     "execution_count": 11,
     "metadata": {},
     "output_type": "execute_result"
    }
   ],
   "source": [
    "sum([passport_valid(p) for p in passports])"
   ]
  },
  {
   "cell_type": "code",
   "execution_count": 14,
   "metadata": {},
   "outputs": [],
   "source": [
    "def year_valid(low, high):\n",
    "    rgx = \"\\d{4}\"\n",
    "\n",
    "    def valid(s):\n",
    "        if not re.match(rgx, s):\n",
    "            return False\n",
    "    \n",
    "        year = int(s)\n",
    "    \n",
    "        return year >= low and year <= high\n",
    "\n",
    "    return valid\n",
    "\n",
    "byr_valid = year_valid(1920, 2002)\n",
    "iyr_valid = year_valid(2010, 2020)\n",
    "eyr_valid = year_valid(2020, 2030)\n",
    "\n",
    "def hgt_valid(s):\n",
    "    rgx = \"(\\d+)(in|cm)\"\n",
    "    \n",
    "    m = re.match(rgx, s)\n",
    "    \n",
    "    if not m:\n",
    "        return False\n",
    "    \n",
    "    num = int(m.group(1))\n",
    "    unit = m.group(2)\n",
    "    \n",
    "    if unit == \"cm\":\n",
    "        if not (num >= 150 and num <= 193):\n",
    "            return False\n",
    "    else:\n",
    "        if not (num >= 59 and num <= 76):\n",
    "            return False\n",
    "\n",
    "    return True\n",
    "\n",
    "def hcl_valid(s):\n",
    "    rgx = \"#[0-9a-f]{6}$\"\n",
    "    \n",
    "    return re.match(rgx, s)\n",
    "\n",
    "ecl_set = set(['amb', 'blu', 'brn', 'gry', 'grn', 'hzl', 'oth'])\n",
    "def ecl_valid(s):\n",
    "    return s in ecl_set\n",
    "\n",
    "def pid_valid(s):\n",
    "    rgx = \"\\d{9}$\"\n",
    "    \n",
    "    return re.match(rgx, s)"
   ]
  },
  {
   "cell_type": "code",
   "execution_count": 15,
   "metadata": {},
   "outputs": [],
   "source": [
    "prefix_validation = {'byr': byr_valid, 'iyr': iyr_valid,\n",
    "                     'eyr': eyr_valid, 'hgt': hgt_valid, 'hcl': hcl_valid,\n",
    "                     'ecl': ecl_valid, 'pid': pid_valid, 'cid': lambda _: True}"
   ]
  },
  {
   "cell_type": "code",
   "execution_count": 16,
   "metadata": {},
   "outputs": [],
   "source": [
    "def passport_valid_2(passport):\n",
    "    v1 = passport_valid(passport)\n",
    "    \n",
    "    if not v1:\n",
    "        print(\"Not valid from phase 1\")\n",
    "        return False\n",
    "    \n",
    "    for (prefix, value) in passport:\n",
    "        if not prefix_validation[prefix](value):\n",
    "            print(f\"Invalid {prefix} {value}\")\n",
    "            return False\n",
    "\n",
    "    return True"
   ]
  },
  {
   "cell_type": "code",
   "execution_count": 17,
   "metadata": {},
   "outputs": [],
   "source": [
    "invalid_passports = test_passports = parse_passports(\"./inputs/4_test_invalid\")\n",
    "valid_passports = test_passports = parse_passports(\"./inputs/4_test_valid\")"
   ]
  },
  {
   "cell_type": "code",
   "execution_count": 18,
   "metadata": {},
   "outputs": [
    {
     "name": "stdout",
     "output_type": "stream",
     "text": [
      "Invalid eyr 1972\n",
      "Invalid eyr 1967\n",
      "Invalid hcl dab227\n",
      "Invalid hgt 59cm\n"
     ]
    }
   ],
   "source": [
    "assert sum([passport_valid_2(p) for p in invalid_passports]) == 0"
   ]
  },
  {
   "cell_type": "code",
   "execution_count": 19,
   "metadata": {},
   "outputs": [],
   "source": [
    "assert sum([passport_valid_2(p) for p in valid_passports]) == 4"
   ]
  },
  {
   "cell_type": "code",
   "execution_count": 20,
   "metadata": {},
   "outputs": [],
   "source": [
    "# test cases from problem\n",
    "\n",
    "assert byr_valid('2002')\n",
    "assert not byr_valid('2003')\n",
    "\n",
    "assert hgt_valid('60in')\n",
    "assert hgt_valid('190cm')\n",
    "assert not hgt_valid('190in')\n",
    "assert not hgt_valid('190')\n",
    "\n",
    "assert hcl_valid('#123abc')\n",
    "assert not hcl_valid('#123abz')\n",
    "assert not hcl_valid('123abc')\n",
    "\n",
    "assert ecl_valid('brn')\n",
    "assert not ecl_valid('wat')\n",
    "\n",
    "assert pid_valid('000000001')\n",
    "assert not pid_valid('0123456789')"
   ]
  },
  {
   "cell_type": "code",
   "execution_count": 21,
   "metadata": {
    "scrolled": true
   },
   "outputs": [
    {
     "name": "stdout",
     "output_type": "stream",
     "text": [
      "Invalid eyr 2034\n",
      "Invalid pid #baec97\n",
      "Invalid eyr 1972\n",
      "Invalid ecl #473aaf\n",
      "Invalid hcl z\n",
      "Invalid byr 2022\n",
      "Invalid hcl z\n",
      "Invalid byr 2005\n",
      "Invalid byr 2023\n",
      "Not valid from phase 1\n",
      "Invalid pid 6645616064\n",
      "Invalid pid 32592758\n",
      "Invalid eyr 2040\n",
      "Invalid hgt 161in\n",
      "Invalid ecl #ba14f0\n",
      "Not valid from phase 1\n",
      "Invalid hcl 936807\n",
      "Invalid hcl b62ef0\n",
      "Invalid pid 7039815301\n",
      "Invalid iyr 1978\n",
      "Invalid hgt 70cm\n",
      "Invalid iyr 2003\n",
      "Not valid from phase 1\n",
      "Invalid ecl #ed7ddc\n",
      "Not valid from phase 1\n",
      "Invalid hgt 77\n",
      "Invalid hcl f9d9dd\n",
      "Invalid eyr 2039\n",
      "Invalid byr 2016\n",
      "Invalid hgt 67cm\n",
      "Not valid from phase 1\n",
      "Invalid hgt 162in\n",
      "Not valid from phase 1\n",
      "Invalid byr 2029\n",
      "Invalid pid 2236240873\n",
      "Not valid from phase 1\n",
      "Invalid eyr 2034\n",
      "Invalid eyr 1978\n",
      "Invalid pid 64469711\n",
      "Invalid byr 2028\n",
      "Invalid hgt 64cm\n",
      "Invalid byr 2007\n",
      "Invalid eyr 2002\n",
      "Invalid hgt 162in\n",
      "Invalid hcl z\n",
      "Invalid hcl 931e2c\n",
      "Invalid eyr 1933\n",
      "Invalid iyr 2026\n",
      "Invalid pid 168cm\n",
      "Not valid from phase 1\n",
      "Invalid eyr 1927\n",
      "Not valid from phase 1\n",
      "Invalid byr 2011\n",
      "Not valid from phase 1\n",
      "Invalid pid 6000619833\n",
      "Invalid iyr 1953\n",
      "Invalid ecl lzr\n",
      "Not valid from phase 1\n",
      "Not valid from phase 1\n",
      "Not valid from phase 1\n",
      "Invalid ecl #fb7e3d\n",
      "Invalid hgt 59cm\n",
      "Invalid byr 2004\n",
      "Invalid iyr 2026\n",
      "Not valid from phase 1\n",
      "Not valid from phase 1\n",
      "Not valid from phase 1\n",
      "Not valid from phase 1\n",
      "Not valid from phase 1\n",
      "Invalid hcl 22b2d7\n",
      "Not valid from phase 1\n",
      "Invalid hgt 98\n",
      "Invalid eyr 1984\n",
      "Invalid ecl #f643f9\n",
      "Invalid hcl z\n",
      "Invalid hcl 842f2d\n",
      "Not valid from phase 1\n",
      "Invalid iyr 2024\n",
      "Not valid from phase 1\n",
      "Not valid from phase 1\n",
      "Invalid hgt 72cm\n",
      "Not valid from phase 1\n",
      "Invalid eyr 2036\n",
      "Invalid iyr 1944\n",
      "Not valid from phase 1\n",
      "Invalid hcl z\n",
      "Invalid hcl z\n",
      "Invalid iyr 2026\n",
      "Invalid hcl z\n",
      "Invalid eyr 1938\n",
      "Invalid pid 172cm\n",
      "Invalid byr 2007\n",
      "Invalid eyr 1922\n",
      "Not valid from phase 1\n",
      "Invalid eyr 1955\n",
      "Invalid ecl #2df4b6\n",
      "Invalid hcl 299464\n",
      "Invalid iyr 2028\n",
      "Invalid iyr 1933\n"
     ]
    },
    {
     "data": {
      "text/plain": [
       "156"
      ]
     },
     "execution_count": 21,
     "metadata": {},
     "output_type": "execute_result"
    }
   ],
   "source": [
    "sum([passport_valid_2(p) for p in passports])"
   ]
  }
 ],
 "metadata": {
  "kernelspec": {
   "display_name": "Python (base)",
   "language": "python",
   "name": "base"
  },
  "language_info": {
   "codemirror_mode": {
    "name": "ipython",
    "version": 3
   },
   "file_extension": ".py",
   "mimetype": "text/x-python",
   "name": "python",
   "nbconvert_exporter": "python",
   "pygments_lexer": "ipython3",
   "version": "3.8.5"
  }
 },
 "nbformat": 4,
 "nbformat_minor": 4
}
