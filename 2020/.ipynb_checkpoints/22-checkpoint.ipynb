{
 "cells": [
  {
   "cell_type": "code",
   "execution_count": 1,
   "metadata": {},
   "outputs": [],
   "source": [
    "import re\n",
    "from collections import deque\n",
    "import itertools"
   ]
  },
  {
   "cell_type": "code",
   "execution_count": 2,
   "metadata": {},
   "outputs": [],
   "source": [
    "test_game = '''Player 1:\n",
    "9\n",
    "2\n",
    "6\n",
    "3\n",
    "1\n",
    "\n",
    "Player 2:\n",
    "5\n",
    "8\n",
    "4\n",
    "7\n",
    "10'''"
   ]
  },
  {
   "cell_type": "code",
   "execution_count": 3,
   "metadata": {},
   "outputs": [],
   "source": [
    "def parse_input(inp):\n",
    "    return [[int(s) for s in p.split('\\n')[1:]] for p in inp.split('\\n\\n')]"
   ]
  },
  {
   "cell_type": "code",
   "execution_count": 4,
   "metadata": {},
   "outputs": [],
   "source": [
    "test_p1, test_p2 = parse_input(test_game)"
   ]
  },
  {
   "cell_type": "code",
   "execution_count": 5,
   "metadata": {},
   "outputs": [
    {
     "data": {
      "text/plain": [
       "([9, 2, 6, 3, 1], [5, 8, 4, 7, 10])"
      ]
     },
     "execution_count": 5,
     "metadata": {},
     "output_type": "execute_result"
    }
   ],
   "source": [
    "test_p1, test_p2"
   ]
  },
  {
   "cell_type": "code",
   "execution_count": 6,
   "metadata": {},
   "outputs": [],
   "source": [
    "def play_game(p1, p2):\n",
    "    p1 = deque(p1)\n",
    "    p2 = deque(p2)\n",
    "    \n",
    "    while p1 and p2:\n",
    "        a = p1.popleft()\n",
    "        b = p2.popleft()\n",
    "        \n",
    "        if a > b:\n",
    "            p1.append(a)\n",
    "            p1.append(b)\n",
    "        else:\n",
    "            p2.append(b)\n",
    "            p2.append(a)\n",
    "        \n",
    "    return p1 if p1 else p2"
   ]
  },
  {
   "cell_type": "code",
   "execution_count": 7,
   "metadata": {},
   "outputs": [],
   "source": [
    "def score(deck):\n",
    "    return sum([n * (i+1) for i, n in enumerate(list(deck)[::-1])])"
   ]
  },
  {
   "cell_type": "code",
   "execution_count": 8,
   "metadata": {},
   "outputs": [
    {
     "data": {
      "text/plain": [
       "306"
      ]
     },
     "execution_count": 8,
     "metadata": {},
     "output_type": "execute_result"
    }
   ],
   "source": [
    "w = play_game(test_p1, test_p2)\n",
    "score(w)"
   ]
  },
  {
   "cell_type": "code",
   "execution_count": 9,
   "metadata": {},
   "outputs": [],
   "source": [
    "p1, p2 = parse_input(open('./inputs/22').read())"
   ]
  },
  {
   "cell_type": "code",
   "execution_count": 10,
   "metadata": {},
   "outputs": [
    {
     "data": {
      "text/plain": [
       "31809"
      ]
     },
     "execution_count": 10,
     "metadata": {},
     "output_type": "execute_result"
    }
   ],
   "source": [
    "w = play_game(p1, p2)\n",
    "score(w)"
   ]
  },
  {
   "cell_type": "code",
   "execution_count": 29,
   "metadata": {},
   "outputs": [],
   "source": [
    "def play_game2(p1, p2):\n",
    "    round_history = set()\n",
    "    \n",
    "    p1 = deque(p1)\n",
    "    p2 = deque(p2)\n",
    "    \n",
    "    def add_to_winner(p1_won, p1, p2):\n",
    "        if p1_won:\n",
    "            p1.append(a)\n",
    "            p1.append(b)\n",
    "        else:\n",
    "            p2.append(b)\n",
    "            p2.append(a)\n",
    "    \n",
    "    while p1 and p2:\n",
    "        round_hash = hash((tuple(p1), tuple(p2)))\n",
    "        \n",
    "        if round_hash in round_history:\n",
    "            return True, p1\n",
    "        \n",
    "        round_history.add(round_hash)\n",
    "        \n",
    "        a = p1.popleft()\n",
    "        b = p2.popleft()\n",
    "        \n",
    "        if len(p1) < a or len(p2) < b:\n",
    "            # play the normal way\n",
    "            add_to_winner(a > b, p1, p2)\n",
    "\n",
    "        else:\n",
    "            # they have enough cards to recurse. recursing\n",
    "            (p1_won, winner_deck) = play_game2(itertools.islice(p1, 0, a), itertools.islice(p2, 0, b))\n",
    "            \n",
    "            add_to_winner(p1_won, p1, p2)\n",
    "        \n",
    "    return (True, p1) if p1 else (False, p2)"
   ]
  },
  {
   "cell_type": "code",
   "execution_count": 30,
   "metadata": {},
   "outputs": [],
   "source": [
    "_, w_deck = play_game2(test_p1, test_p2)"
   ]
  },
  {
   "cell_type": "code",
   "execution_count": 31,
   "metadata": {},
   "outputs": [
    {
     "data": {
      "text/plain": [
       "291"
      ]
     },
     "execution_count": 31,
     "metadata": {},
     "output_type": "execute_result"
    }
   ],
   "source": [
    "score(w_deck)"
   ]
  },
  {
   "cell_type": "code",
   "execution_count": 32,
   "metadata": {},
   "outputs": [],
   "source": [
    "_, w_deck = play_game2(p1, p2)"
   ]
  },
  {
   "cell_type": "code",
   "execution_count": 33,
   "metadata": {},
   "outputs": [
    {
     "data": {
      "text/plain": [
       "32835"
      ]
     },
     "execution_count": 33,
     "metadata": {},
     "output_type": "execute_result"
    }
   ],
   "source": [
    "score(w_deck)"
   ]
  }
 ],
 "metadata": {
  "kernelspec": {
   "display_name": "Python (base)",
   "language": "python",
   "name": "base"
  },
  "language_info": {
   "codemirror_mode": {
    "name": "ipython",
    "version": 3
   },
   "file_extension": ".py",
   "mimetype": "text/x-python",
   "name": "python",
   "nbconvert_exporter": "python",
   "pygments_lexer": "ipython3",
   "version": "3.8.5"
  }
 },
 "nbformat": 4,
 "nbformat_minor": 4
}
