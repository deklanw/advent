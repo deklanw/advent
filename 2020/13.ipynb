{
 "cells": [
  {
   "cell_type": "code",
   "execution_count": 9,
   "metadata": {},
   "outputs": [],
   "source": [
    "import numpy as np"
   ]
  },
  {
   "cell_type": "code",
   "execution_count": 10,
   "metadata": {},
   "outputs": [],
   "source": [
    "test_input = '''939\n",
    "7,13,x,x,59,x,31,19'''"
   ]
  },
  {
   "cell_type": "code",
   "execution_count": 11,
   "metadata": {},
   "outputs": [],
   "source": [
    "def parse_input(s):\n",
    "    [l1, l2] = s.split()\n",
    "    \n",
    "    earliest_time = int(l1)\n",
    "    \n",
    "    bus_ids = [int(num) for num in l2.split(',') if num != 'x']\n",
    "    \n",
    "    return earliest_time, bus_ids"
   ]
  },
  {
   "cell_type": "code",
   "execution_count": 60,
   "metadata": {},
   "outputs": [],
   "source": [
    "def parse_input_2(s):\n",
    "    [_, l2] = s.split()\n",
    "        \n",
    "    bus_ids = [int(num) if num != 'x' else None for num in l2.split(',')]\n",
    "    \n",
    "    # t + 1 === 0 mod 13 => t === 12 mod 13\n",
    "    return [(-i % n, n) for i, n in enumerate(bus_ids) if n is not None]"
   ]
  },
  {
   "cell_type": "code",
   "execution_count": 12,
   "metadata": {},
   "outputs": [],
   "source": [
    "def pt1(earliest_time, bus_ids):\n",
    "    wait_times = [bus_id - earliest_time % bus_id for bus_id in bus_ids]\n",
    "\n",
    "    best_bus_id = np.argmin(wait_times)\n",
    "    \n",
    "    return bus_ids[best_bus_id] * wait_times[best_bus_id]"
   ]
  },
  {
   "cell_type": "code",
   "execution_count": 13,
   "metadata": {},
   "outputs": [],
   "source": [
    "earliest_time_test, bus_ids_test = parse_input(test_input)"
   ]
  },
  {
   "cell_type": "code",
   "execution_count": 14,
   "metadata": {
    "scrolled": true
   },
   "outputs": [
    {
     "data": {
      "text/plain": [
       "295"
      ]
     },
     "execution_count": 14,
     "metadata": {},
     "output_type": "execute_result"
    }
   ],
   "source": [
    "pt1(earliest_time_test, bus_ids_test)"
   ]
  },
  {
   "cell_type": "code",
   "execution_count": 15,
   "metadata": {},
   "outputs": [],
   "source": [
    "earliest_time, bus_ids = parse_input(open('./inputs/13').read())"
   ]
  },
  {
   "cell_type": "code",
   "execution_count": 16,
   "metadata": {},
   "outputs": [
    {
     "data": {
      "text/plain": [
       "(1000677, [29, 41, 661, 13, 17, 23, 521, 37, 19])"
      ]
     },
     "execution_count": 16,
     "metadata": {},
     "output_type": "execute_result"
    }
   ],
   "source": [
    "earliest_time, bus_ids"
   ]
  },
  {
   "cell_type": "code",
   "execution_count": 17,
   "metadata": {},
   "outputs": [
    {
     "data": {
      "text/plain": [
       "161"
      ]
     },
     "execution_count": 17,
     "metadata": {},
     "output_type": "execute_result"
    }
   ],
   "source": [
    "pt1(earliest_time, bus_ids)"
   ]
  },
  {
   "cell_type": "code",
   "execution_count": 76,
   "metadata": {},
   "outputs": [],
   "source": [
    "def euclid(a, b):    \n",
    "    while b > 0:\n",
    "        print(a,b)\n",
    "        temp = b\n",
    "        b = a % b\n",
    "        a = temp\n",
    "    return a"
   ]
  },
  {
   "cell_type": "code",
   "execution_count": 37,
   "metadata": {},
   "outputs": [],
   "source": [
    "# https://www.wikiwand.com/en/Extended_Euclidean_algorithm#/Description\n",
    "def extended_euclid(a, b):\n",
    "    \"\"\"\n",
    "    By Bezout's identity: ax + by = gcd(a, b)\n",
    "    \n",
    "    returns (gcd(a,b), x, y)\n",
    "    \"\"\"\n",
    "    s = 0\n",
    "    last_s = 1\n",
    "    \n",
    "    t = 1\n",
    "    last_t = 0\n",
    "    \n",
    "    r = b\n",
    "    last_r = a\n",
    "\n",
    "    while r != 0:\n",
    "        q = last_r // r\n",
    "        \n",
    "        last_r, r = r, last_r - q * r\n",
    "        last_s, s = s, last_s - q * s\n",
    "        last_t, t = t, last_t - q * t\n",
    "        \n",
    "    return (last_r, last_s, last_t)"
   ]
  },
  {
   "cell_type": "code",
   "execution_count": 77,
   "metadata": {},
   "outputs": [
    {
     "name": "stdout",
     "output_type": "stream",
     "text": [
      "1071 462\n",
      "462 147\n",
      "147 21\n"
     ]
    },
    {
     "data": {
      "text/plain": [
       "21"
      ]
     },
     "execution_count": 77,
     "metadata": {},
     "output_type": "execute_result"
    }
   ],
   "source": [
    "euclid(1071, 462)"
   ]
  },
  {
   "cell_type": "code",
   "execution_count": 106,
   "metadata": {
    "scrolled": true
   },
   "outputs": [
    {
     "data": {
      "text/plain": [
       "(21, -3, 7)"
      ]
     },
     "execution_count": 106,
     "metadata": {},
     "output_type": "execute_result"
    }
   ],
   "source": [
    "extended_euclid(1071, 462)"
   ]
  },
  {
   "cell_type": "code",
   "execution_count": 111,
   "metadata": {},
   "outputs": [
    {
     "data": {
      "text/plain": [
       "(1, 7, -23)"
      ]
     },
     "execution_count": 111,
     "metadata": {},
     "output_type": "execute_result"
    }
   ],
   "source": [
    "extended_euclid(56, 17)"
   ]
  },
  {
   "cell_type": "code",
   "execution_count": 61,
   "metadata": {},
   "outputs": [],
   "source": [
    "pt2_test = parse_input_2(test_input)"
   ]
  },
  {
   "cell_type": "code",
   "execution_count": 62,
   "metadata": {},
   "outputs": [
    {
     "data": {
      "text/plain": [
       "[(0, 7), (12, 13), (55, 59), (25, 31), (12, 19)]"
      ]
     },
     "execution_count": 62,
     "metadata": {},
     "output_type": "execute_result"
    }
   ],
   "source": [
    "pt2_test"
   ]
  },
  {
   "cell_type": "code",
   "execution_count": 102,
   "metadata": {},
   "outputs": [],
   "source": [
    "# https://www.wikiwand.com/en/Chinese_remainder_theorem#/Using_the_existence_construction\n",
    "# solution via Bezout Identity + Extended Euclid\n",
    "def solve_crt(number_lst):\n",
    "    a1, n1 = number_lst[0]\n",
    "\n",
    "    for a2, n2 in number_lst[1:]:\n",
    "        gcd, m1, m2 = extended_euclid(n1, n2)\n",
    "        \n",
    "        assert gcd == 1\n",
    "\n",
    "        solution = a1 * m2 * n2 + a2 * m1 * n1\n",
    "        n1 *= n2\n",
    "        solution %= n1\n",
    "        a1 = solution\n",
    "\n",
    "    return a1"
   ]
  },
  {
   "cell_type": "code",
   "execution_count": 103,
   "metadata": {},
   "outputs": [],
   "source": [
    "wiki_test = [(0, 3), (3, 4), (4, 5)]"
   ]
  },
  {
   "cell_type": "code",
   "execution_count": 104,
   "metadata": {},
   "outputs": [
    {
     "data": {
      "text/plain": [
       "39"
      ]
     },
     "execution_count": 104,
     "metadata": {},
     "output_type": "execute_result"
    }
   ],
   "source": [
    "solve_crt(wiki_test)"
   ]
  },
  {
   "cell_type": "code",
   "execution_count": 105,
   "metadata": {},
   "outputs": [
    {
     "data": {
      "text/plain": [
       "1068781"
      ]
     },
     "execution_count": 105,
     "metadata": {},
     "output_type": "execute_result"
    }
   ],
   "source": [
    "solve_crt(pt2_test)"
   ]
  },
  {
   "cell_type": "code",
   "execution_count": 107,
   "metadata": {},
   "outputs": [],
   "source": [
    "pt2_input = parse_input_2(open('./inputs/13').read())"
   ]
  },
  {
   "cell_type": "code",
   "execution_count": 109,
   "metadata": {},
   "outputs": [
    {
     "data": {
      "text/plain": [
       "[(0, 29),\n",
       " (22, 41),\n",
       " (632, 661),\n",
       " (10, 13),\n",
       " (8, 17),\n",
       " (17, 23),\n",
       " (461, 521),\n",
       " (8, 37),\n",
       " (16, 19)]"
      ]
     },
     "execution_count": 109,
     "metadata": {},
     "output_type": "execute_result"
    }
   ],
   "source": [
    "pt2_input"
   ]
  },
  {
   "cell_type": "code",
   "execution_count": 108,
   "metadata": {},
   "outputs": [
    {
     "data": {
      "text/plain": [
       "213890632230818"
      ]
     },
     "execution_count": 108,
     "metadata": {},
     "output_type": "execute_result"
    }
   ],
   "source": [
    "solve_crt(pt2_input)"
   ]
  }
 ],
 "metadata": {
  "kernelspec": {
   "display_name": "Python (base)",
   "language": "python",
   "name": "base"
  },
  "language_info": {
   "codemirror_mode": {
    "name": "ipython",
    "version": 3
   },
   "file_extension": ".py",
   "mimetype": "text/x-python",
   "name": "python",
   "nbconvert_exporter": "python",
   "pygments_lexer": "ipython3",
   "version": "3.8.5"
  }
 },
 "nbformat": 4,
 "nbformat_minor": 4
}
