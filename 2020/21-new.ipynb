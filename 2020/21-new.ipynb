{
 "cells": [
  {
   "cell_type": "code",
   "execution_count": 1,
   "metadata": {},
   "outputs": [],
   "source": [
    "import re\n",
    "import itertools\n",
    "from collections import defaultdict, deque\n",
    "import numpy as np"
   ]
  },
  {
   "cell_type": "code",
   "execution_count": 2,
   "metadata": {},
   "outputs": [],
   "source": [
    "test_input = '''mxmxvkd kfcds sqjhc nhms (contains dairy, fish)\n",
    "trh fvjkl sbzzf mxmxvkd (contains dairy)\n",
    "sqjhc fvjkl (contains soy)\n",
    "sqjhc mxmxvkd sbzzf (contains fish)'''"
   ]
  },
  {
   "cell_type": "code",
   "execution_count": 3,
   "metadata": {},
   "outputs": [],
   "source": [
    "def parse_input(inp):\n",
    "    food_info = []\n",
    "\n",
    "    for l in inp.split('\\n'):\n",
    "        m = re.match(\"(.*)\\s\\(contains\\s(.*)\\)\", l)\n",
    "        ingredients = m.group(1).split(' ')\n",
    "        allergens = m.group(2).split(', ')\n",
    "\n",
    "        food_info.append((set(ingredients), set(allergens)))\n",
    "        \n",
    "    all_ingredients = set(itertools.chain.from_iterable([x[0] for x in food_info]))\n",
    "    all_allergens = set(itertools.chain.from_iterable([x[1] for x in food_info]))\n",
    "    \n",
    "    return food_info, all_ingredients, all_allergens"
   ]
  },
  {
   "cell_type": "code",
   "execution_count": 4,
   "metadata": {},
   "outputs": [],
   "source": [
    "food_info, all_ingredients, all_allergens = parse_input(test_input)"
   ]
  },
  {
   "cell_type": "code",
   "execution_count": 5,
   "metadata": {},
   "outputs": [
    {
     "data": {
      "text/plain": [
       "([({'kfcds', 'mxmxvkd', 'nhms', 'sqjhc'}, {'dairy', 'fish'}),\n",
       "  ({'fvjkl', 'mxmxvkd', 'sbzzf', 'trh'}, {'dairy'}),\n",
       "  ({'fvjkl', 'sqjhc'}, {'soy'}),\n",
       "  ({'mxmxvkd', 'sbzzf', 'sqjhc'}, {'fish'})],\n",
       " {'fvjkl', 'kfcds', 'mxmxvkd', 'nhms', 'sbzzf', 'sqjhc', 'trh'},\n",
       " {'dairy', 'fish', 'soy'})"
      ]
     },
     "execution_count": 5,
     "metadata": {},
     "output_type": "execute_result"
    }
   ],
   "source": [
    "food_info, all_ingredients, all_allergens"
   ]
  },
  {
   "cell_type": "code",
   "execution_count": 57,
   "metadata": {},
   "outputs": [],
   "source": [
    "def solve(inp):\n",
    "    foods, all_ingredients, all_allergens = parse_input(inp)\n",
    "\n",
    "    allergen_to_possible_ingr = {}\n",
    "    for allergen in all_allergens:\n",
    "        possible_ing = all_ingredients.copy()\n",
    "        for food_ingredients, confirmed_food_allergens in foods:\n",
    "            if allergen in confirmed_food_allergens:\n",
    "                possible_ing &= food_ingredients\n",
    "        print(allergen, possible_ing)\n",
    "        allergen_to_possible_ingr[allergen] = possible_ing\n",
    "        \n",
    "    could_have_allergens = set(itertools.chain.from_iterable(allergen_to_possible_ingr.values()))\n",
    "    \n",
    "    print()\n",
    "    safe = all_ingredients - could_have_allergens\n",
    "    print(could_have_allergens)\n",
    "    print(safe)\n",
    "    \n",
    "    s = 0\n",
    "    for food_ingredients, _ in foods:\n",
    "        s += len(safe & food_ingredients)\n",
    "    print(s)\n",
    "    \n",
    "    \n",
    "    taken = set()\n",
    "    ascending = sorted(allergen_to_possible_ingr.items(), key=lambda x: len(x[1]))\n",
    "    \n",
    "    allergen_to_ingredient = {}\n",
    "    \n",
    "    for allergen, ingredients in ascending:\n",
    "        left = ingredients - taken\n",
    "        print(f\"on {allergen}. taken: {taken}. possible ingredients: {ingredients}. left: {left}\")\n",
    "        ing = left.pop()\n",
    "        taken.add(ing)\n",
    "        allergen_to_ingredient[allergen] = ing\n",
    "    \n",
    "    print(','.join([i for a, i in sorted(allergen_to_ingredient.items(), key=lambda x: x[0])]))"
   ]
  },
  {
   "cell_type": "code",
   "execution_count": 58,
   "metadata": {},
   "outputs": [
    {
     "name": "stdout",
     "output_type": "stream",
     "text": [
      "fish {'mxmxvkd', 'sqjhc'}\n",
      "dairy {'mxmxvkd'}\n",
      "soy {'fvjkl', 'sqjhc'}\n",
      "\n",
      "{'mxmxvkd', 'fvjkl', 'sqjhc'}\n",
      "{'nhms', 'trh', 'kfcds', 'sbzzf'}\n",
      "5\n",
      "on dairy. taken: set(). possible ingredients: {'mxmxvkd'}. left: {'mxmxvkd'}\n",
      "on fish. taken: {'mxmxvkd'}. possible ingredients: {'mxmxvkd', 'sqjhc'}. left: {'sqjhc'}\n",
      "on soy. taken: {'mxmxvkd', 'sqjhc'}. possible ingredients: {'fvjkl', 'sqjhc'}. left: {'fvjkl'}\n",
      "mxmxvkd,sqjhc,fvjkl\n"
     ]
    }
   ],
   "source": [
    "solve(test_input)"
   ]
  },
  {
   "cell_type": "code",
   "execution_count": 59,
   "metadata": {},
   "outputs": [
    {
     "name": "stdout",
     "output_type": "stream",
     "text": [
      "wheat {'lsgqf', 'lzvh', 'phc', 'fqqcnm'}\n",
      "soy {'phc', 'rjc'}\n",
      "eggs {'zmsdzh', 'spnd', 'phc', 'rjc'}\n",
      "nuts {'pdt', 'phc'}\n",
      "dairy {'phc'}\n",
      "sesame {'phc', 'lsgqf', 'spnd', 'fqqcnm', 'zmsdzh', 'rjc'}\n",
      "peanuts {'pdt', 'fqqcnm'}\n",
      "fish {'zmsdzh', 'phc', 'fqqcnm'}\n",
      "\n",
      "{'pdt', 'phc', 'lzvh', 'lsgqf', 'spnd', 'fqqcnm', 'zmsdzh', 'rjc'}\n",
      "{'qpbl', 'mxq', 'rntk', 'zgvtn', 'sxsxm', 'gvdstsc', 'cldgd', 'flndv', 'nkzqj', 'nggbtk', 'chgjqc', 'fgcd', 'ksrjn', 'ggrc', 'lkgln', 'mgv', 'djdhrn', 'njdb', 'hbbgk', 'dchvb', 'ssdszsn', 'lcrs', 'kdm', 'strpjp', 'pdhlzg', 'bfnnnrn', 'xbvrx', 'gcpks', 'jbtlfv', 'tcclbr', 'hcjkd', 'hddd', 'mxzb', 'rxd', 'tktj', 'czvphx', 'hjzkg', 'prbk', 'snzxr', 'xvjk', 'hqd', 'rzcps', 'qzjrtl', 'rms', 'jhbnm', 'vhjpjdr', 'jp', 'dkg', 'gbhjv', 'xtgjslz', 'rbjmdn', 'ktnlk', 'jqhn', 'fslqkg', 'czkfv', 'rdkrtr', 'qrpzt', 'fgsr', 'jvhsj', 'bxqpgx', 'bkzbrm', 'hbmvpmt', 'jgbk', 'lpvfv', 'njqrhcc', 'rdjdq', 'pmhhqrk', 'cncpbssj', 'jqzklv', 'fnlk', 'xdcp', 'jfrlp', 'rsr', 'bvlb', 'cqqcd', 'jhv', 'sfkcp', 'zbxj', 'ldrgj', 'lxldx', 'fzlrf', 'qhtvsr', 'llj', 'cvbc', 'drtdz', 'xgpdnz', 'blvfz', 'hfzqf', 'bmqzgvr', 'mcl', 'dxrsgs', 'nnskqnmn', 'mrczqmj', 'rfx', 'gpqgkt', 'hdtr', 'th', 'nmps', 'fgptl', 'zcphr', 'xsk', 'kdbxxzv', 'hzmk', 'nfgr', 'smdlg', 'mzrx', 'tkhzz', 'mzbgp', 'prksl', 'vbkb', 'bvpxc', 'hpbnj', 'pcslhrg', 'mxc', 'dhsssf', 'nfck', 'fctmvrs', 'nvmm', 'tqkfx', 'czkxlg', 'fppgp', 'vnbfvkp', 'gpjr', 'jqgm', 'hqzcncv', 'cgflg', 'hjvzcp', 'nxrgp', 'rlgr', 'nqvnn', 'nbgv', 'qfslcb', 'jbz', 'nthsf', 'fqtc', 'mhrlx', 'nhnd', 'hbdv', 'sjpzc', 'mbmtz', 'lftqn', 'jsh', 'lpm', 'pfrqf', 'czmml', 'rtpff', 'ssrgt', 'hrnvd', 'zvq', 'rtmfg', 'jlrt', 'qlkfvk', 'nppxr', 'bvcxfp', 'pdj', 'rtq', 'kmlkx', 'sqhvzg', 'qjhq', 'dxdrk', 'tzdks', 'mkxbf', 'dfcgd', 'bggmsj', 'npftghk', 'zfnttf', 'zppxp', 'qdkk', 'gcptp', 'kjjst', 'rfgf', 'xfn', 'rfxgl', 'djhj', 'vnjxs', 'vhjgg', 'rng', 'thtlt', 'nlqhlsn', 'gqnxlr', 'zdthsvl', 'zjbgp', 'vxmrk', 'rftbr', 'bjcvpc', 'nhzthvn', 'jxvx', 'dgxnc', 'frxmq', 'psqc', 'xqgb', 'njrcfg'}\n",
      "2125\n",
      "on dairy. taken: set(). possible ingredients: {'phc'}. left: {'phc'}\n",
      "on soy. taken: {'phc'}. possible ingredients: {'phc', 'rjc'}. left: {'rjc'}\n",
      "on nuts. taken: {'phc', 'rjc'}. possible ingredients: {'pdt', 'phc'}. left: {'pdt'}\n",
      "on peanuts. taken: {'pdt', 'phc', 'rjc'}. possible ingredients: {'pdt', 'fqqcnm'}. left: {'fqqcnm'}\n",
      "on fish. taken: {'pdt', 'phc', 'fqqcnm', 'rjc'}. possible ingredients: {'zmsdzh', 'phc', 'fqqcnm'}. left: {'zmsdzh'}\n",
      "on wheat. taken: {'pdt', 'phc', 'fqqcnm', 'zmsdzh', 'rjc'}. possible ingredients: {'lsgqf', 'lzvh', 'phc', 'fqqcnm'}. left: {'lzvh', 'lsgqf'}\n",
      "on eggs. taken: {'pdt', 'phc', 'lzvh', 'fqqcnm', 'zmsdzh', 'rjc'}. possible ingredients: {'zmsdzh', 'spnd', 'phc', 'rjc'}. left: {'spnd'}\n",
      "on sesame. taken: {'pdt', 'phc', 'lzvh', 'spnd', 'fqqcnm', 'zmsdzh', 'rjc'}. possible ingredients: {'phc', 'lsgqf', 'spnd', 'fqqcnm', 'zmsdzh', 'rjc'}. left: {'lsgqf'}\n",
      "phc,spnd,zmsdzh,pdt,fqqcnm,lsgqf,rjc,lzvh\n"
     ]
    }
   ],
   "source": [
    "solve(open('./inputs/21').read())"
   ]
  }
 ],
 "metadata": {
  "kernelspec": {
   "display_name": "Python (base)",
   "language": "python",
   "name": "base"
  },
  "language_info": {
   "codemirror_mode": {
    "name": "ipython",
    "version": 3
   },
   "file_extension": ".py",
   "mimetype": "text/x-python",
   "name": "python",
   "nbconvert_exporter": "python",
   "pygments_lexer": "ipython3",
   "version": "3.8.5"
  }
 },
 "nbformat": 4,
 "nbformat_minor": 4
}
