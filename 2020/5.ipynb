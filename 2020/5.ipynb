{
 "cells": [
  {
   "cell_type": "code",
   "execution_count": 1,
   "metadata": {},
   "outputs": [],
   "source": [
    "instructions = open('./inputs/5', mode=\"r\").read().splitlines() "
   ]
  },
  {
   "cell_type": "code",
   "execution_count": 2,
   "metadata": {},
   "outputs": [
    {
     "data": {
      "text/plain": [
       "['FFFBFBFLRR', 'FFBBFFFRLL', 'FBFBFFBRLR']"
      ]
     },
     "execution_count": 2,
     "metadata": {},
     "output_type": "execute_result"
    }
   ],
   "source": [
    "instructions[:3]"
   ]
  },
  {
   "cell_type": "code",
   "execution_count": 3,
   "metadata": {},
   "outputs": [],
   "source": [
    "NUM_ROWS = 128\n",
    "NUM_COLS = 8\n",
    "\n",
    "# could compute this from NUM_ROWS as log_2(NUM_ROWS)\n",
    "NUM_STEPS = 7"
   ]
  },
  {
   "cell_type": "code",
   "execution_count": 6,
   "metadata": {},
   "outputs": [],
   "source": [
    "def binary_splits_manual(instructions, upper, lower_char, upper_char):\n",
    "    lower = 0\n",
    "    \n",
    "    for i, c in enumerate(instructions):\n",
    "        diff = upper - lower\n",
    "        half = diff // 2\n",
    "\n",
    "        if c == lower_char:\n",
    "            upper -= half\n",
    "        elif c == upper_char:\n",
    "            lower += half\n",
    "        else:\n",
    "            raise Exception(f\"Unexpected character? {c}\")\n",
    "\n",
    "    return lower\n",
    "\n",
    "def binary_splits_directly(instructions, lower_char, upper_char): \n",
    "    return int(instructions.replace(lower_char, '0').replace(upper_char, '1'), 2)"
   ]
  },
  {
   "cell_type": "code",
   "execution_count": 7,
   "metadata": {},
   "outputs": [],
   "source": [
    "def get_seat_number(encoding):\n",
    "    row_encoding = encoding[:NUM_STEPS]\n",
    "    col_encoding = encoding[NUM_STEPS:]\n",
    "    \n",
    "    row_number = binary_splits_directly(row_encoding, 'F', 'B')\n",
    "    col_number = binary_splits_directly(col_encoding, 'L', 'R')\n",
    "    \n",
    "    return row_number * 8 + col_number"
   ]
  },
  {
   "cell_type": "markdown",
   "metadata": {},
   "source": [
    "Check test cases"
   ]
  },
  {
   "cell_type": "code",
   "execution_count": 8,
   "metadata": {},
   "outputs": [],
   "source": [
    "assert get_seat_number(\"FBFBBFFRLR\") == 357\n",
    "\n",
    "assert get_seat_number(\"BFFFBBFRRR\") == 567\n",
    "\n",
    "assert get_seat_number(\"FFFBBBFRRR\") == 119\n",
    "\n",
    "assert get_seat_number(\"BBFFBBFRLL\") == 820"
   ]
  },
  {
   "cell_type": "code",
   "execution_count": 9,
   "metadata": {},
   "outputs": [],
   "source": [
    "seat_numbers = set(get_seat_number(i) for i in instructions)"
   ]
  },
  {
   "cell_type": "code",
   "execution_count": 10,
   "metadata": {},
   "outputs": [
    {
     "data": {
      "text/plain": [
       "855"
      ]
     },
     "execution_count": 10,
     "metadata": {},
     "output_type": "execute_result"
    }
   ],
   "source": [
    "max(seat_numbers)"
   ]
  },
  {
   "cell_type": "code",
   "execution_count": 11,
   "metadata": {},
   "outputs": [
    {
     "name": "stdout",
     "output_type": "stream",
     "text": [
      "552\n"
     ]
    }
   ],
   "source": [
    "for i in range(NUM_ROWS * NUM_COLS):\n",
    "    if i not in seat_numbers:\n",
    "        if i-1 in seat_numbers and i+1 in seat_numbers:\n",
    "            print(i)"
   ]
  }
 ],
 "metadata": {
  "kernelspec": {
   "display_name": "Python 3",
   "language": "python",
   "name": "python3"
  },
  "language_info": {
   "codemirror_mode": {
    "name": "ipython",
    "version": 3
   },
   "file_extension": ".py",
   "mimetype": "text/x-python",
   "name": "python",
   "nbconvert_exporter": "python",
   "pygments_lexer": "ipython3",
   "version": "3.8.5"
  }
 },
 "nbformat": 4,
 "nbformat_minor": 4
}
