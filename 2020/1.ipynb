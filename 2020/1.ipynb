{
 "cells": [
  {
   "cell_type": "code",
   "execution_count": 1,
   "metadata": {},
   "outputs": [],
   "source": [
    "numbers = []\n",
    "\n",
    "with open('inputs/1', mode='r') as f:\n",
    "    for l in f:\n",
    "        numbers.append(int(l))"
   ]
  },
  {
   "cell_type": "code",
   "execution_count": 2,
   "metadata": {},
   "outputs": [],
   "source": [
    "number_set = set(numbers)"
   ]
  },
  {
   "cell_type": "code",
   "execution_count": 3,
   "metadata": {},
   "outputs": [],
   "source": [
    "TARGET = 2020"
   ]
  },
  {
   "cell_type": "code",
   "execution_count": 4,
   "metadata": {},
   "outputs": [],
   "source": [
    "def go():\n",
    "    for n in numbers:\n",
    "        need = TARGET - n\n",
    "\n",
    "        if need in number_set:\n",
    "            return n, need"
   ]
  },
  {
   "cell_type": "code",
   "execution_count": 5,
   "metadata": {},
   "outputs": [],
   "source": [
    "a, b = go()"
   ]
  },
  {
   "cell_type": "code",
   "execution_count": 6,
   "metadata": {},
   "outputs": [
    {
     "data": {
      "text/plain": [
       "982464"
      ]
     },
     "execution_count": 6,
     "metadata": {},
     "output_type": "execute_result"
    }
   ],
   "source": [
    "a * b"
   ]
  },
  {
   "cell_type": "code",
   "execution_count": 7,
   "metadata": {},
   "outputs": [],
   "source": [
    "import itertools"
   ]
  },
  {
   "cell_type": "code",
   "execution_count": 8,
   "metadata": {},
   "outputs": [],
   "source": [
    "two_sum_dict = dict()"
   ]
  },
  {
   "cell_type": "code",
   "execution_count": 9,
   "metadata": {},
   "outputs": [],
   "source": [
    "for (a,b) in itertools.combinations(numbers, 2):\n",
    "    # could also store the product a*b\n",
    "    # but want to keep both to check if it's a duplicate situation\n",
    "    two_sum_dict[a+b] = (a,b)"
   ]
  },
  {
   "cell_type": "code",
   "execution_count": 10,
   "metadata": {},
   "outputs": [],
   "source": [
    "def go2():\n",
    "    for n in numbers:\n",
    "        need = TARGET - n\n",
    "\n",
    "        if need in two_sum_dict:\n",
    "            a, b = two_sum_dict[need]\n",
    "            return a, b, n"
   ]
  },
  {
   "cell_type": "markdown",
   "metadata": {},
   "source": [
    "this solution is O(n^2) time and space. it doesn't really generalize to higher sums. wonder if there's a better way...\n",
    "better than O(n^3) at least"
   ]
  },
  {
   "cell_type": "markdown",
   "metadata": {},
   "source": [
    "could be the case that you have a repeat number. rules don't say anything about it, but for instance\n",
    "500, 500, 1020.\n",
    "\n",
    "turns out not to be the case"
   ]
  },
  {
   "cell_type": "code",
   "execution_count": 11,
   "metadata": {},
   "outputs": [],
   "source": [
    "a, b, c = go2()"
   ]
  },
  {
   "cell_type": "code",
   "execution_count": 12,
   "metadata": {
    "scrolled": true
   },
   "outputs": [
    {
     "data": {
      "text/plain": [
       "162292410"
      ]
     },
     "execution_count": 12,
     "metadata": {},
     "output_type": "execute_result"
    }
   ],
   "source": [
    "a * b * c"
   ]
  },
  {
   "cell_type": "markdown",
   "metadata": {},
   "source": [
    "only gets existence, not the numbers themselves\n",
    "O(n + NlogN)"
   ]
  },
  {
   "cell_type": "code",
   "execution_count": 55,
   "metadata": {
    "scrolled": true
   },
   "outputs": [],
   "source": [
    "import numpy as np\n",
    "from scipy.signal import fftconvolve\n",
    "\n",
    "N = max(number_set)\n",
    "\n",
    "# for integers between 0 and N\n",
    "a = np.zeros(N + 1)\n",
    "\n",
    "for n in number_set:\n",
    "    a[n] = 1.\n",
    "    \n",
    "s = fftconvolve(a, a)\n",
    "\n",
    "# want to exclude the case where we add the same number to itself\n",
    "# (this is obviously excluded in the problem)\n",
    "for n in number_set:\n",
    "    s[2*n] -= 1.\n",
    "    \n",
    "# convolution has error.\n",
    "s[s < 0.001] = 0.\n",
    "\n",
    "# don't care about how many ways there are to make a given number, just there there is at least 1\n",
    "s[s > 0.999] = 1.\n",
    "\n",
    "# testing\n",
    "\n",
    "sum_set = {a+b for (a,b) in itertools.combinations(number_set, 2)}\n",
    "\n",
    "# test that the sum_set and s agree about every possible sum\n",
    "for i in range(2*N+1):\n",
    "    in_sum_set = i in sum_set\n",
    "    in_convolved_sum_array = s[i] == 1.\n",
    "    \n",
    "    assert in_sum_set == in_convolved_sum_array\n",
    "    \n",
    "# using for 3SUM existence\n",
    "\n",
    "def threesum(target):\n",
    "    for n in number_set:\n",
    "        need = target - n\n",
    "        if need >= 0 and s[need] == 1:\n",
    "            return True\n",
    "    return False\n",
    "\n",
    "assert threesum(2020)"
   ]
  },
  {
   "cell_type": "code",
   "execution_count": 44,
   "metadata": {},
   "outputs": [],
   "source": [
    "threesums = {a+b+c for (a,b,c) in itertools.combinations(number_set, 3)}"
   ]
  },
  {
   "cell_type": "code",
   "execution_count": 60,
   "metadata": {},
   "outputs": [
    {
     "name": "stdout",
     "output_type": "stream",
     "text": [
      "503 False True\n",
      "538 False True\n",
      "643 False True\n",
      "713 False True\n",
      "732 False True\n",
      "818 False True\n",
      "853 False True\n",
      "896 False True\n",
      "945 False True\n",
      "1012 False True\n",
      "1056 False True\n",
      "1058 False True\n",
      "1082 False True\n",
      "1101 False True\n",
      "1176 False True\n",
      "1225 False True\n",
      "1241 False True\n",
      "1246 False True\n",
      "1276 False True\n",
      "1293 False True\n",
      "1295 False True\n",
      "1336 False True\n",
      "1338 False True\n",
      "1359 False True\n",
      "1406 False True\n",
      "1408 False True\n",
      "1429 False True\n",
      "1441 False True\n",
      "1445 False True\n",
      "1446 False True\n",
      "1452 False True\n",
      "1455 False True\n",
      "1460 False True\n",
      "1461 False True\n",
      "1470 False True\n",
      "1481 False True\n",
      "1501 False True\n",
      "1509 False True\n",
      "1511 False True\n",
      "1525 False True\n",
      "1527 False True\n",
      "1537 False True\n",
      "1539 False True\n",
      "1542 False True\n",
      "1549 False True\n",
      "1550 False True\n",
      "1555 False True\n",
      "1569 False True\n",
      "1572 False True\n",
      "1573 False True\n",
      "1587 False True\n",
      "1588 False True\n",
      "1590 False True\n",
      "1593 False True\n",
      "1604 False True\n",
      "1609 False True\n",
      "1611 False True\n",
      "1614 False True\n",
      "1622 False True\n",
      "1634 False True\n",
      "1639 False True\n",
      "1643 False True\n",
      "1644 False True\n",
      "1655 False True\n",
      "1659 False True\n",
      "1667 False True\n",
      "1672 False True\n",
      "1683 False True\n",
      "1691 False True\n",
      "1693 False True\n",
      "1697 False True\n",
      "1702 False True\n",
      "1706 False True\n",
      "1708 False True\n",
      "1721 False True\n",
      "1726 False True\n",
      "1732 False True\n",
      "1735 False True\n",
      "1741 False True\n",
      "1750 False True\n",
      "1753 False True\n",
      "1781 False True\n",
      "1791 False True\n",
      "1794 False True\n",
      "1798 False True\n",
      "1801 False True\n",
      "1811 False True\n",
      "1817 False True\n",
      "1820 False True\n",
      "1822 False True\n",
      "1835 False True\n",
      "1838 False True\n",
      "1851 False True\n",
      "1856 False True\n",
      "1859 False True\n",
      "1862 False True\n",
      "1867 False True\n",
      "1869 False True\n",
      "1873 False True\n",
      "1884 False True\n",
      "1886 False True\n",
      "1888 False True\n",
      "1889 False True\n",
      "1893 False True\n",
      "1896 False True\n",
      "1899 False True\n",
      "1900 False True\n",
      "1910 False True\n",
      "1917 False True\n",
      "1920 False True\n",
      "1921 False True\n",
      "1922 False True\n",
      "1923 False True\n",
      "1928 False True\n",
      "1935 False True\n",
      "1939 False True\n",
      "1940 False True\n",
      "1943 False True\n",
      "1952 False True\n",
      "1965 False True\n",
      "1967 False True\n",
      "1968 False True\n",
      "1971 False True\n",
      "1972 False True\n",
      "1973 False True\n",
      "1977 False True\n",
      "1981 False True\n",
      "2022 False True\n",
      "2029 False True\n",
      "2035 False True\n",
      "2047 False True\n",
      "2056 False True\n",
      "2071 False True\n",
      "2074 False True\n",
      "2084 False True\n",
      "2085 False True\n",
      "2089 False True\n",
      "2103 False True\n",
      "2106 False True\n",
      "2113 False True\n",
      "2117 False True\n",
      "2127 False True\n",
      "2135 False True\n",
      "2151 False True\n",
      "2152 False True\n",
      "2159 False True\n",
      "2179 False True\n",
      "2208 False True\n",
      "2251 False True\n",
      "2434 False True\n",
      "2445 False True\n",
      "2478 False True\n"
     ]
    },
    {
     "ename": "IndexError",
     "evalue": "index 4507 is out of bounds for axis 0 with size 4009",
     "output_type": "error",
     "traceback": [
      "\u001b[0;31m---------------------------------------------------------------------------\u001b[0m",
      "\u001b[0;31mIndexError\u001b[0m                                Traceback (most recent call last)",
      "\u001b[0;32m<ipython-input-60-27a22bc62531>\u001b[0m in \u001b[0;36m<module>\u001b[0;34m\u001b[0m\n\u001b[1;32m      1\u001b[0m \u001b[0;32mfor\u001b[0m \u001b[0mi\u001b[0m \u001b[0;32min\u001b[0m \u001b[0mrange\u001b[0m\u001b[0;34m(\u001b[0m\u001b[0;36m3\u001b[0m\u001b[0;34m*\u001b[0m\u001b[0mN\u001b[0m \u001b[0;34m+\u001b[0m \u001b[0;36m1\u001b[0m\u001b[0;34m)\u001b[0m\u001b[0;34m:\u001b[0m\u001b[0;34m\u001b[0m\u001b[0;34m\u001b[0m\u001b[0m\n\u001b[1;32m      2\u001b[0m     \u001b[0min_sum_set\u001b[0m \u001b[0;34m=\u001b[0m \u001b[0mi\u001b[0m \u001b[0;32min\u001b[0m \u001b[0mthreesums\u001b[0m\u001b[0;34m\u001b[0m\u001b[0;34m\u001b[0m\u001b[0m\n\u001b[0;32m----> 3\u001b[0;31m     \u001b[0min_convolved_sum_array\u001b[0m \u001b[0;34m=\u001b[0m \u001b[0mthreesum\u001b[0m\u001b[0;34m(\u001b[0m\u001b[0mi\u001b[0m\u001b[0;34m)\u001b[0m\u001b[0;34m\u001b[0m\u001b[0;34m\u001b[0m\u001b[0m\n\u001b[0m\u001b[1;32m      4\u001b[0m \u001b[0;34m\u001b[0m\u001b[0m\n\u001b[1;32m      5\u001b[0m     \u001b[0;32mif\u001b[0m \u001b[0min_sum_set\u001b[0m \u001b[0;34m!=\u001b[0m \u001b[0min_convolved_sum_array\u001b[0m\u001b[0;34m:\u001b[0m\u001b[0;34m\u001b[0m\u001b[0;34m\u001b[0m\u001b[0m\n",
      "\u001b[0;32m<ipython-input-55-6b543d62f8d9>\u001b[0m in \u001b[0;36mthreesum\u001b[0;34m(target)\u001b[0m\n\u001b[1;32m     39\u001b[0m     \u001b[0;32mfor\u001b[0m \u001b[0mn\u001b[0m \u001b[0;32min\u001b[0m \u001b[0mnumber_set\u001b[0m\u001b[0;34m:\u001b[0m\u001b[0;34m\u001b[0m\u001b[0;34m\u001b[0m\u001b[0m\n\u001b[1;32m     40\u001b[0m         \u001b[0mneed\u001b[0m \u001b[0;34m=\u001b[0m \u001b[0mtarget\u001b[0m \u001b[0;34m-\u001b[0m \u001b[0mn\u001b[0m\u001b[0;34m\u001b[0m\u001b[0;34m\u001b[0m\u001b[0m\n\u001b[0;32m---> 41\u001b[0;31m         \u001b[0;32mif\u001b[0m \u001b[0mneed\u001b[0m \u001b[0;34m>=\u001b[0m \u001b[0;36m0\u001b[0m \u001b[0;32mand\u001b[0m \u001b[0ms\u001b[0m\u001b[0;34m[\u001b[0m\u001b[0mneed\u001b[0m\u001b[0;34m]\u001b[0m \u001b[0;34m==\u001b[0m \u001b[0;36m1\u001b[0m\u001b[0;34m:\u001b[0m\u001b[0;34m\u001b[0m\u001b[0;34m\u001b[0m\u001b[0m\n\u001b[0m\u001b[1;32m     42\u001b[0m             \u001b[0;32mreturn\u001b[0m \u001b[0;32mTrue\u001b[0m\u001b[0;34m\u001b[0m\u001b[0;34m\u001b[0m\u001b[0m\n\u001b[1;32m     43\u001b[0m     \u001b[0;32mreturn\u001b[0m \u001b[0;32mFalse\u001b[0m\u001b[0;34m\u001b[0m\u001b[0;34m\u001b[0m\u001b[0m\n",
      "\u001b[0;31mIndexError\u001b[0m: index 4507 is out of bounds for axis 0 with size 4009"
     ]
    }
   ],
   "source": [
    "for i in range(3*N + 1):\n",
    "    in_sum_set = i in threesums\n",
    "    in_convolved_sum_array = threesum(i)\n",
    "    \n",
    "    if in_sum_set != in_convolved_sum_array:\n",
    "        print(i, in_sum_set, in_convolved_sum_array)"
   ]
  },
  {
   "cell_type": "code",
   "execution_count": 50,
   "metadata": {},
   "outputs": [
    {
     "data": {
      "text/plain": [
       "True"
      ]
     },
     "execution_count": 50,
     "metadata": {},
     "output_type": "execute_result"
    }
   ],
   "source": [
    "threesum(0)"
   ]
  }
 ],
 "metadata": {
  "kernelspec": {
   "display_name": "Python (base)",
   "language": "python",
   "name": "base"
  },
  "language_info": {
   "codemirror_mode": {
    "name": "ipython",
    "version": 3
   },
   "file_extension": ".py",
   "mimetype": "text/x-python",
   "name": "python",
   "nbconvert_exporter": "python",
   "pygments_lexer": "ipython3",
   "version": "3.8.5"
  }
 },
 "nbformat": 4,
 "nbformat_minor": 4
}
