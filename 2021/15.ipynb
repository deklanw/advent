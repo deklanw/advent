{
 "cells": [
  {
   "cell_type": "code",
   "execution_count": 1,
   "id": "7a0ce55f-0da5-4c09-9d3b-31476724d79a",
   "metadata": {},
   "outputs": [],
   "source": [
    "from functools import cache\n",
    "import numpy as np\n",
    "import itertools\n",
    "import heapq"
   ]
  },
  {
   "cell_type": "code",
   "execution_count": 2,
   "id": "f1d4355c-dd34-4167-8c79-2057a087069b",
   "metadata": {},
   "outputs": [],
   "source": [
    "test_input = '''1163751742\n",
    "1381373672\n",
    "2136511328\n",
    "3694931569\n",
    "7463417111\n",
    "1319128137\n",
    "1359912421\n",
    "3125421639\n",
    "1293138521\n",
    "2311944581\n",
    "'''"
   ]
  },
  {
   "cell_type": "code",
   "execution_count": 3,
   "id": "acc9bbde-8dcc-4c04-b052-a51429c76c00",
   "metadata": {},
   "outputs": [],
   "source": [
    "puzzle_input = open('inputs/15').read().strip()"
   ]
  },
  {
   "cell_type": "code",
   "execution_count": 4,
   "id": "eee38362-f1be-4e25-8c76-645ab96ee33b",
   "metadata": {},
   "outputs": [],
   "source": [
    "def string_to_2d(s):\n",
    "    # add spaces between nums\n",
    "    s = '\\n'.join(map(lambda x: ' '.join(list(x)), s.split('\\n'))).strip()\n",
    "    rows = s.count('\\n') + 1\n",
    "    return np.fromstring(s, sep=' ').reshape(rows, -1).astype(np.int64)"
   ]
  },
  {
   "cell_type": "code",
   "execution_count": 5,
   "id": "b9366407-5e03-4c3b-bbe5-449345e8ef71",
   "metadata": {},
   "outputs": [],
   "source": [
    "def in_bounds(p, shape):\n",
    "    return p[0] >= 0 and p[0] < shape[0] and p[1] >= 0 and p[1] < shape[1]"
   ]
  },
  {
   "cell_type": "code",
   "execution_count": 6,
   "id": "93d4668e-993e-490d-ab48-a6fd8eb92847",
   "metadata": {},
   "outputs": [],
   "source": [
    "def all_neighbors(p): \n",
    "    a, b = p\n",
    "    return [(a+1, b), (a, b+1), (a-1, b), (a, b-1)]"
   ]
  },
  {
   "cell_type": "code",
   "execution_count": 7,
   "id": "e5157ea2-290a-480f-9a4c-bf6011d16041",
   "metadata": {},
   "outputs": [],
   "source": [
    "# this is retarded, but fix later\n",
    "def magnify_board(board, tile_num=5):\n",
    "    d = board.shape[0]\n",
    "    \n",
    "    tiled = np.tile(board, (tile_num, tile_num))\n",
    "    \n",
    "    for i in range(tile_num*d):\n",
    "        for j in range(tile_num*d):        \n",
    "            increase = i // d + j // d - 1\n",
    "\n",
    "            tiled[i, j] = (tiled[i, j] + increase) % 9 + 1\n",
    "    \n",
    "    return tiled"
   ]
  },
  {
   "cell_type": "code",
   "execution_count": 8,
   "id": "dd53db6e-16f1-43bb-8426-f72323cc9eed",
   "metadata": {},
   "outputs": [],
   "source": [
    "# followed this for making a priority queue in python\n",
    "\n",
    "# https://bradfieldcs.com/algos/graphs/dijkstras-algorithm/\n",
    "# involves tricks with priority queues: pushing same value multiple times\n",
    "# and obviates need for the unvisited set\n",
    "\n",
    "def solve_board(board):\n",
    "    # square board\n",
    "    d = board.shape[0]\n",
    "        \n",
    "    start = (0, 0)\n",
    "    \n",
    "    unvisited = set(itertools.product(range(d), range(d)))\n",
    "\n",
    "    distances = np.full(board.shape, np.inf)\n",
    "    distances[start] = 0\n",
    "\n",
    "    pq = [(0, start)]\n",
    "    \n",
    "    while pq:\n",
    "        current_distance, current_vertex = heapq.heappop(pq)\n",
    "        \n",
    "        # Nodes can get added to the priority queue multiple times. We only\n",
    "        # process a vertex the first time we remove it from the priority queue.\n",
    "        if current_vertex not in unvisited:\n",
    "            continue\n",
    "\n",
    "        neighbors = filter(lambda p: p in unvisited and in_bounds(p, board.shape), all_neighbors(current_vertex))\n",
    "\n",
    "        for n in neighbors:\n",
    "            new_tentative = board[n] + current_distance\n",
    "            if new_tentative < distances[n]:\n",
    "                distances[n] = new_tentative\n",
    "                heapq.heappush(pq, (new_tentative, n))\n",
    "        \n",
    "        unvisited.remove(current_vertex)\n",
    "\n",
    "    return distances[d-1, d-1].astype(int)"
   ]
  },
  {
   "cell_type": "code",
   "execution_count": 9,
   "id": "64a32168-c4f7-4810-883f-b07cafd41597",
   "metadata": {},
   "outputs": [],
   "source": [
    "def p1(puzzle_input):\n",
    "    board = string_to_2d(puzzle_input)\n",
    "\n",
    "    return solve_board(board)"
   ]
  },
  {
   "cell_type": "code",
   "execution_count": 10,
   "id": "048ef65c-4aca-49cc-b3ba-75c1d0fa5112",
   "metadata": {},
   "outputs": [],
   "source": [
    "def p2(puzzle_input):\n",
    "    board = string_to_2d(puzzle_input)\n",
    "    board = magnify_board(board)\n",
    "\n",
    "    return solve_board(board)"
   ]
  },
  {
   "cell_type": "code",
   "execution_count": 11,
   "id": "a47b8822-1341-4185-b13b-3a81e28f80b0",
   "metadata": {},
   "outputs": [],
   "source": [
    "assert p1(test_input) == 40"
   ]
  },
  {
   "cell_type": "code",
   "execution_count": 12,
   "id": "439cec80-90a5-4f27-a32d-17dbecacdae6",
   "metadata": {},
   "outputs": [],
   "source": [
    "assert p1(puzzle_input) == 696"
   ]
  },
  {
   "cell_type": "code",
   "execution_count": 13,
   "id": "c28a7819-0e7b-4898-b298-1b7655c40c7e",
   "metadata": {},
   "outputs": [],
   "source": [
    "assert p2(test_input) == 315"
   ]
  },
  {
   "cell_type": "code",
   "execution_count": 14,
   "id": "ecd15d43-1998-434c-8dcc-df5fb8ff0d67",
   "metadata": {},
   "outputs": [],
   "source": [
    "assert p2(puzzle_input) == 2952"
   ]
  }
 ],
 "metadata": {
  "kernelspec": {
   "display_name": "Python [conda env:3_10]",
   "language": "python",
   "name": "conda-env-3_10-py"
  },
  "language_info": {
   "codemirror_mode": {
    "name": "ipython",
    "version": 3
   },
   "file_extension": ".py",
   "mimetype": "text/x-python",
   "name": "python",
   "nbconvert_exporter": "python",
   "pygments_lexer": "ipython3",
   "version": "3.10.0"
  }
 },
 "nbformat": 4,
 "nbformat_minor": 5
}
