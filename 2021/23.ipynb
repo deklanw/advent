{
 "cells": [
  {
   "cell_type": "code",
   "execution_count": 1,
   "id": "20c10286-8e40-4b6d-ac0e-7e2a602014b4",
   "metadata": {},
   "outputs": [],
   "source": [
    "import numpy as np\n",
    "from functools import cache, lru_cache\n",
    "from copy import copy, deepcopy"
   ]
  },
  {
   "cell_type": "code",
   "execution_count": 2,
   "id": "ee1ac7af-5391-4001-833a-bc634e53258e",
   "metadata": {},
   "outputs": [],
   "source": [
    "test_input = '''#############\n",
    "#...........#\n",
    "###B#C#B#D###\n",
    "  #A#D#C#A#\n",
    "  #########'''"
   ]
  },
  {
   "cell_type": "code",
   "execution_count": 3,
   "id": "e75a6fff-2611-4a64-9abf-6e952653daca",
   "metadata": {},
   "outputs": [],
   "source": [
    "puzzle_input = open('inputs/23').read().strip()"
   ]
  },
  {
   "cell_type": "code",
   "execution_count": 4,
   "id": "072dca9e-81df-4197-816e-303c1f6dcd1b",
   "metadata": {},
   "outputs": [],
   "source": [
    "HALL_LEN = 11"
   ]
  },
  {
   "cell_type": "code",
   "execution_count": 5,
   "id": "5707dc47-6de6-449e-a388-abe9c970f6da",
   "metadata": {},
   "outputs": [],
   "source": [
    "LETTERS = 'ABCD'"
   ]
  },
  {
   "cell_type": "code",
   "execution_count": 6,
   "id": "c31c4466-1617-4020-910d-fda6196f3531",
   "metadata": {},
   "outputs": [],
   "source": [
    "EMPTY = '.'"
   ]
  },
  {
   "cell_type": "code",
   "execution_count": 7,
   "id": "bbb0b846-254c-4663-99bb-f4d316ac6416",
   "metadata": {},
   "outputs": [],
   "source": [
    "LETTER_TO_STACK = {l: i for i, l in enumerate(LETTERS)}"
   ]
  },
  {
   "cell_type": "code",
   "execution_count": 8,
   "id": "dd327a6f-0c52-4b6c-b54f-fa576efd25db",
   "metadata": {},
   "outputs": [],
   "source": [
    "ROOM_LOCATIONS = [2, 4, 6, 8]"
   ]
  },
  {
   "cell_type": "code",
   "execution_count": 9,
   "id": "3cb812dc-85d2-43f4-8601-67d58438ec73",
   "metadata": {},
   "outputs": [],
   "source": [
    "ENERGY_AMOUNTS = {'A': 1, 'B': 10, 'C': 100, 'D': 1000}"
   ]
  },
  {
   "cell_type": "code",
   "execution_count": 10,
   "id": "0f143447-3e8a-4a03-ade7-c123c62c3de0",
   "metadata": {},
   "outputs": [],
   "source": [
    "class State:\n",
    "    def __init__(self, stacks, hallway, capacity):\n",
    "        self.stacks = stacks\n",
    "        self.hallway = hallway\n",
    "        self.capacity = capacity\n",
    "        \n",
    "    def __hash__(self):\n",
    "        return hash(self.__repr__())\n",
    "    \n",
    "    def __repr__(self):\n",
    "        s = \"|\"\n",
    "\n",
    "        for stack in self.stacks:\n",
    "            for c in stack:\n",
    "                s += c\n",
    "            s += \"|\"\n",
    "\n",
    "        return f\"State object with room capacity {self.capacity}:\\n\" + \"\".join(self.hallway) + \"\\n\" + s\n",
    "    \n",
    "    # NEED AN EQ METHOD FOR HASHING TO WORK\n",
    "    def __eq__(self, other):\n",
    "        return self.__repr__() == other.__repr__()\n",
    "    \n",
    "    def is_valid(self):\n",
    "        return all(self.hallway[i] == EMPTY for i in ROOM_LOCATIONS)\n",
    "    \n",
    "    def won(self):\n",
    "        return all(all(s == l for s in self.stacks[i]) and len(self.stacks[i]) == self.capacity for l, i in LETTER_TO_STACK.items())"
   ]
  },
  {
   "cell_type": "code",
   "execution_count": 11,
   "id": "ef60ac1d-3851-484b-ab81-d38269e970aa",
   "metadata": {},
   "outputs": [],
   "source": [
    "@cache\n",
    "def min_energy_completion(state):\n",
    "    # enumerate every valid move from this point\n",
    "    # try each one, recursing\n",
    "    # return the minimum completion cost from this state\n",
    "\n",
    "    assert state.is_valid()\n",
    "\n",
    "    stacks, hallway = state.stacks, state.hallway\n",
    "\n",
    "    if state.won():\n",
    "        return 0\n",
    "\n",
    "    # if there are no valid moves, min is np.inf\n",
    "    completion_costs = [np.inf]\n",
    "\n",
    "    ## moving from hall\n",
    "    # only option is back to your home\n",
    "    for hall_position, c in enumerate(hallway):\n",
    "        if c != EMPTY:\n",
    "            stack_num = LETTER_TO_STACK[c]\n",
    "            room_location = ROOM_LOCATIONS[stack_num]\n",
    "\n",
    "            # room could be to our left or our right\n",
    "            # and in the range we want to exclude ourselves\n",
    "            if hall_position < room_location:\n",
    "                left = hall_position + 1\n",
    "                right = room_location + 1\n",
    "            elif hall_position > room_location:\n",
    "                left = room_location\n",
    "                right = hall_position\n",
    "\n",
    "            # room not foreign and path not blocked\n",
    "            if all(s == c for s in stacks[stack_num]) and all(s == '.' for s in hallway[left:right]):\n",
    "                new_state = deepcopy(state)\n",
    "                new_state.stacks[stack_num].append(c)\n",
    "                new_state.hallway[hall_position] = EMPTY\n",
    "\n",
    "                added_cost = ENERGY_AMOUNTS[c] * (abs(room_location - hall_position) - len(stacks[stack_num]) + state.capacity)\n",
    "                completion_costs.append(added_cost + min_energy_completion(new_state))\n",
    "\n",
    "    ## moving from stack\n",
    "    for stack_num, stack in enumerate(stacks):\n",
    "        # if empty continue\n",
    "        if not stack:\n",
    "            continue\n",
    "\n",
    "        c = stack[-1]\n",
    "\n",
    "        # already home and no foreigner underneath us\n",
    "        # SEE CAVEATS BELOW\n",
    "        if LETTER_TO_STACK[c] == stack_num and all(d == c for d in stack):\n",
    "            continue\n",
    "\n",
    "        room_location = ROOM_LOCATIONS[stack_num]\n",
    "\n",
    "        left_hallway = hallway[:room_location]\n",
    "        right_hallway = hallway[room_location+1:]\n",
    "\n",
    "        # find right-most obstacle in left_hallway\n",
    "        # find left-most obstacle in right_hallway\n",
    "\n",
    "        left_obstacle = next((i for i, x in reversed(list(enumerate(left_hallway))) if x != EMPTY), -1)\n",
    "        right_obstacle = next((i for i, x in enumerate(right_hallway) if x != EMPTY), len(right_hallway))\n",
    "\n",
    "        # extend left until blocked, extend right until blocked\n",
    "        valid_positions = list(range(left_obstacle + 1, len(left_hallway))) + list(range(room_location + 1, room_location + 1 + right_obstacle))\n",
    "\n",
    "        # remove in-front-of-room positions\n",
    "        valid_positions = set(valid_positions) - set(ROOM_LOCATIONS)\n",
    "\n",
    "        for p in valid_positions:\n",
    "            new_state = deepcopy(state)\n",
    "\n",
    "            new_state.stacks[stack_num].pop()\n",
    "            new_state.hallway[p] = c\n",
    "\n",
    "            added_cost = ENERGY_AMOUNTS[c] * (abs(room_location - p) - len(stacks[stack_num]) + state.capacity + 1)\n",
    "            # print(f\"Moving {c} from stack num {stack_num} to hall_position {p} for total cost of {added_cost}\")\n",
    "            completion_costs.append(added_cost + min_energy_completion(new_state))\n",
    "\n",
    "    # NOTE \n",
    "    # HE DIDNT MENTION THE POSSIBILITY THAT AN AMPHIPODS WHO'S HOME COULD LEAVE HOME\n",
    "    # I WILL ASSUME IT'S BANNED AND/OR NEVER OPTIMAL TO DO\n",
    "    # BUT IF LATER SOMETHING GOES WRONG CHECK THIS\n",
    "    # I suppose the condition that once you're in the hall you have to return home is meant to prevent infinite loops.\n",
    "    # If so, then disallowing amphipods from leaving home makes sense since otherwise it would also allow infinite loops.\n",
    "\n",
    "    # ALSO, COULD A AMPHIPOD STOP AT THE TOP OF THE STACK, LOGICALLY?\n",
    "    # I guess not... it will always need to make room for its brethren\n",
    "\n",
    "    return min(completion_costs)"
   ]
  },
  {
   "cell_type": "code",
   "execution_count": 12,
   "id": "5a4ff1b2-7b5b-469d-8893-1fc5836abdc4",
   "metadata": {},
   "outputs": [],
   "source": [
    "def parse_p1(puzzle_input):\n",
    "    stacks = [[], [], [], []]\n",
    "    \n",
    "    hallway = list('.' * HALL_LEN)\n",
    "    \n",
    "    for line in puzzle_input.splitlines():\n",
    "        i = 0\n",
    "        for c in line:\n",
    "            if c in LETTERS:\n",
    "                stacks[i].insert(0, c)\n",
    "                i += 1\n",
    "                \n",
    "    return State(stacks, hallway, capacity=2)\n",
    "\n",
    "def parse_p2(puzzle_input):\n",
    "    stacks = [[], [], [], []]\n",
    "    \n",
    "    hallway = list('.' * HALL_LEN)\n",
    "    \n",
    "    for line in puzzle_input.splitlines():\n",
    "        i = 0\n",
    "        for c in line:\n",
    "            if c in LETTERS:\n",
    "                stacks[i].insert(0, c)\n",
    "                i += 1\n",
    "\n",
    "    for i, r in enumerate([['D', 'D'], ['B', 'C'], ['A', 'B'], ['C', 'A']]):\n",
    "        stacks[i] = [stacks[i][0]] + r + [stacks[i][-1]]\n",
    "\n",
    "    return State(stacks, hallway, capacity=4)"
   ]
  },
  {
   "cell_type": "code",
   "execution_count": 13,
   "id": "34d498d9-da01-4775-add8-894dafbe82ec",
   "metadata": {},
   "outputs": [],
   "source": [
    "def p1(puzzle_input):\n",
    "    state = parse_p1(puzzle_input)\n",
    "    return min_energy_completion(state)"
   ]
  },
  {
   "cell_type": "code",
   "execution_count": 14,
   "id": "e08caea7-3c16-46f5-9eb2-fb20296368e3",
   "metadata": {},
   "outputs": [],
   "source": [
    "def p2(puzzle_input):\n",
    "    state = parse_p2(puzzle_input)\n",
    "    return min_energy_completion(state)"
   ]
  },
  {
   "cell_type": "code",
   "execution_count": 15,
   "id": "867916de-fb2d-4106-8ac3-32bcfc81948d",
   "metadata": {},
   "outputs": [],
   "source": [
    "assert p1(puzzle_input) == 15299\n",
    "assert p1(test_input) == 12521"
   ]
  },
  {
   "cell_type": "code",
   "execution_count": 19,
   "id": "808285a4-6615-4d86-bcb1-877a980403a6",
   "metadata": {},
   "outputs": [],
   "source": [
    "assert p2(test_input) == 44169"
   ]
  },
  {
   "cell_type": "code",
   "execution_count": 20,
   "id": "5c704da6-f745-404b-89ee-56e7aac2eeb4",
   "metadata": {},
   "outputs": [],
   "source": [
    "assert p2(puzzle_input) == 47193"
   ]
  }
 ],
 "metadata": {
  "kernelspec": {
   "display_name": "Python [conda env:3_10]",
   "language": "python",
   "name": "conda-env-3_10-py"
  },
  "language_info": {
   "codemirror_mode": {
    "name": "ipython",
    "version": 3
   },
   "file_extension": ".py",
   "mimetype": "text/x-python",
   "name": "python",
   "nbconvert_exporter": "python",
   "pygments_lexer": "ipython3",
   "version": "3.10.0"
  }
 },
 "nbformat": 4,
 "nbformat_minor": 5
}
