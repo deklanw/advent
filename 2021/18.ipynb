{
 "cells": [
  {
   "cell_type": "code",
   "execution_count": 1,
   "id": "9c37cf16-5829-4ae9-9bff-edd05985c607",
   "metadata": {},
   "outputs": [],
   "source": [
    "from dataclasses import dataclass, field\n",
    "\n",
    "# allow dataclass to be recursive\n",
    "from __future__ import annotations\n",
    "\n",
    "from typing import Optional\n",
    "\n",
    "from collections_extended import setlist\n",
    "\n",
    "import uuid\n",
    "import itertools\n",
    "\n",
    "import numpy as np"
   ]
  },
  {
   "cell_type": "code",
   "execution_count": 2,
   "id": "0f940e81-9a55-4275-8a35-5a53c0c2f511",
   "metadata": {},
   "outputs": [],
   "source": [
    "puzzle_input = open('inputs/18').read().strip()"
   ]
  },
  {
   "cell_type": "code",
   "execution_count": 3,
   "id": "bceb2d97-69b4-4eed-a839-8bd57334048a",
   "metadata": {},
   "outputs": [],
   "source": [
    "test_input = '''[1,2]\n",
    "[[1,2],3]\n",
    "[9,[8,7]]\n",
    "[[1,9],[8,5]]\n",
    "[[[[1,2],[3,4]],[[5,6],[7,8]]],9]\n",
    "[[[9,[3,8]],[[0,9],6]],[[[3,7],[4,9]],3]]\n",
    "[[[[1,3],[5,3]],[[1,3],[8,7]]],[[[4,9],[6,9]],[[8,2],[7,3]]]]'''"
   ]
  },
  {
   "cell_type": "code",
   "execution_count": 4,
   "id": "043886bc-44fc-4123-adc6-d3d0282f2289",
   "metadata": {},
   "outputs": [],
   "source": [
    "test_input1 = '''[[[0,[5,8]],[[1,7],[9,6]]],[[4,[1,2]],[[1,4],2]]]\n",
    "[[[5,[2,8]],4],[5,[[9,9],0]]]\n",
    "[6,[[[6,2],[5,6]],[[7,6],[4,7]]]]\n",
    "[[[6,[0,7]],[0,9]],[4,[9,[9,0]]]]\n",
    "[[[7,[6,4]],[3,[1,3]]],[[[5,5],1],9]]\n",
    "[[6,[[7,3],[3,2]]],[[[3,8],[5,7]],4]]\n",
    "[[[[5,4],[7,7]],8],[[8,3],8]]\n",
    "[[9,3],[[9,9],[6,[4,9]]]]\n",
    "[[2,[[7,7],7]],[[5,8],[[9,3],[0,2]]]]\n",
    "[[[[5,2],5],[8,[3,7]]],[[5,[7,5]],[4,4]]]'''"
   ]
  },
  {
   "cell_type": "code",
   "execution_count": 5,
   "id": "5a48505d-20f4-44e6-b887-110858126337",
   "metadata": {},
   "outputs": [],
   "source": [
    "test_input2 = '''[[[0,[4,5]],[0,0]],[[[4,5],[2,6]],[9,5]]]\n",
    "[7,[[[3,7],[4,3]],[[6,3],[8,8]]]]\n",
    "[[2,[[0,8],[3,4]]],[[[6,7],1],[7,[1,6]]]]\n",
    "[[[[2,4],7],[6,[0,5]]],[[[6,8],[2,8]],[[2,1],[4,5]]]]\n",
    "[7,[5,[[3,8],[1,4]]]]\n",
    "[[2,[2,2]],[8,[8,1]]]\n",
    "[2,9]\n",
    "[1,[[[9,3],9],[[9,0],[0,7]]]]\n",
    "[[[5,[7,4]],7],1]\n",
    "[[[[4,2],2],6],[8,7]]'''"
   ]
  },
  {
   "cell_type": "code",
   "execution_count": 6,
   "id": "35731774-88b5-4a76-8d76-182a7d04cade",
   "metadata": {},
   "outputs": [],
   "source": [
    "test_input3 = '''[[[[4,3],4],4],[7,[[8,4],9]]]\n",
    "[1,1]'''"
   ]
  },
  {
   "cell_type": "code",
   "execution_count": 7,
   "id": "76f8711d-69ae-42be-85e4-e6e6ca770ac8",
   "metadata": {},
   "outputs": [],
   "source": [
    "test_input4 = '''[[[[4,0],[5,4]],[[7,7],[6,0]]],[[8,[7,7]],[[7,9],[5,0]]]]\n",
    "[[2,[[0,8],[3,4]]],[[[6,7],1],[7,[1,6]]]]'''"
   ]
  },
  {
   "cell_type": "code",
   "execution_count": 8,
   "id": "e6522a64-230d-4a47-841d-56fe6e726891",
   "metadata": {},
   "outputs": [],
   "source": [
    "@dataclass\n",
    "class Node:\n",
    "    reg: Optional[int] = None\n",
    "    left: Optional[Node] = None\n",
    "    right: Optional[Node] = None\n",
    "    uuid: Optional[str] = field(default_factory=lambda: str(uuid.uuid4()))\n",
    "        \n",
    "class Tree:        \n",
    "    def __init__(self, lst):\n",
    "        self.root = Node()\n",
    "        Tree.from_lst(lst, self.root)    \n",
    "\n",
    "    @staticmethod\n",
    "    def from_lst(lst, node):\n",
    "        a, b = lst[0], lst[1]\n",
    "\n",
    "        if isinstance(a, int):\n",
    "            node.left = Node(a)\n",
    "        else:\n",
    "            node.left = Node()\n",
    "            Tree.from_lst(a, node.left)\n",
    "\n",
    "        if isinstance(b, int):\n",
    "            node.right = Node(b)\n",
    "        else:\n",
    "            node.right = Node()\n",
    "            Tree.from_lst(b, node.right)\n",
    "            \n",
    "    def to_lst(self):\n",
    "        return self._to_lst(self.root)\n",
    "    \n",
    "    def _to_lst(self, node):\n",
    "        if node.reg is not None:\n",
    "            return node.reg\n",
    "        \n",
    "        return [self._to_lst(node.left), self._to_lst(node.right)]\n",
    "    \n",
    "    def add_tree(self, other):\n",
    "        new_root = Node()\n",
    "        \n",
    "        new_root.left = self.root\n",
    "        new_root.right = other.root\n",
    "        \n",
    "        self.root = new_root\n",
    "\n",
    "    def reduce(self):\n",
    "        while True:\n",
    "            if self.search_explosions():\n",
    "                # print(\"Exploded\")\n",
    "                # print(tree.to_lst())\n",
    "                continue\n",
    "\n",
    "            if self.split():\n",
    "                # print(\"Split\")\n",
    "                # print(tree.to_lst())\n",
    "                continue\n",
    "\n",
    "            break\n",
    "\n",
    "    def magnitude(self):\n",
    "        return self._magnitude(self.root)\n",
    "    \n",
    "    def _magnitude(self, node):        \n",
    "        if node.reg is not None:\n",
    "            return node.reg\n",
    "        else:\n",
    "            return 3*self._magnitude(node.left) + 2*self._magnitude(node.right)\n",
    "        \n",
    "    def in_order(self):\n",
    "        return self._in_order(self.root)\n",
    "        \n",
    "    def _in_order(self, node: Optional[Node]) -> None:\n",
    "        if node:\n",
    "            self._in_order(node.left)\n",
    "            print(node.reg, end=\"->\")\n",
    "            self._in_order(node.right)\n",
    "    \n",
    "    def get_leaf_list(self):\n",
    "        return self._get_leaf_list(self.root, [], {})\n",
    "    \n",
    "    def _get_leaf_list(self, node: Optional[Node], ll, d):        \n",
    "        if node:\n",
    "            if node.reg is not None:\n",
    "                d[node.uuid] = node\n",
    "                ll.append(node.uuid)\n",
    "\n",
    "            self._get_leaf_list(node.left, ll, d)\n",
    "            self._get_leaf_list(node.right, ll, d)\n",
    "        \n",
    "        return ll, d\n",
    "    \n",
    "    def next_leaf(self, leaf, right):\n",
    "        assert leaf.reg is not None\n",
    "        \n",
    "        ll, d = self.get_leaf_list()\n",
    "        i = ll.index(leaf.uuid)\n",
    "                \n",
    "        if right:\n",
    "            return d[ll[i+1]] if i+1 < len(ll) else None\n",
    "        else:\n",
    "            return d[ll[i-1]] if i-1 >= 0 else None\n",
    "    \n",
    "    def search_explosions(self):\n",
    "        return self._search_explosions(self.root, depth=1)\n",
    "    \n",
    "    def explode_pair(self, node):\n",
    "        next_left = self.next_leaf(node.left, right=False)\n",
    "        if next_left:\n",
    "            next_left.reg += node.left.reg\n",
    "\n",
    "        next_right = self.next_leaf(node.right, right=True)\n",
    "        if next_right:\n",
    "            next_right.reg += node.right.reg\n",
    "\n",
    "        node.left = None\n",
    "        node.right = None\n",
    "        node.reg = 0\n",
    "\n",
    "    def _search_explosions(self, node: Node, depth):\n",
    "        if node is None:\n",
    "            return False\n",
    "        \n",
    "        if depth == 4:\n",
    "            if node.left and node.right:\n",
    "                if node.left.reg is None:\n",
    "                    self.explode_pair(node.left)\n",
    "                    return True\n",
    "                elif node.right.reg is None:\n",
    "                    self.explode_pair(node.right)\n",
    "                    return True\n",
    "        else:\n",
    "            if self._search_explosions(node.left, depth+1):\n",
    "                return True\n",
    "            \n",
    "            if self._search_explosions(node.right, depth+1):\n",
    "                return True\n",
    "        \n",
    "        return False\n",
    "\n",
    "    def split(self):\n",
    "        return self._split(self.root)\n",
    "\n",
    "    def _split(self, node: Node):\n",
    "        if node is None:\n",
    "            return False\n",
    "\n",
    "        if node.reg is not None and node.reg >= 10:\n",
    "            a = node.reg // 2\n",
    "            b = node.reg - a\n",
    "            \n",
    "            node.reg = None\n",
    "            node.left = Node(a)\n",
    "            node.right = Node(b)\n",
    "\n",
    "            return True\n",
    "        \n",
    "        if self._split(node.left):\n",
    "            return True\n",
    "        \n",
    "        if self._split(node.right):\n",
    "            return True"
   ]
  },
  {
   "cell_type": "code",
   "execution_count": 9,
   "id": "dd3689a4-30b7-4abe-8253-745318bd6959",
   "metadata": {},
   "outputs": [],
   "source": [
    "def p1(puzzle_input):\n",
    "    snailfish_numbers = list(map(eval, puzzle_input.strip().split('\\n')))\n",
    "    \n",
    "    lst = snailfish_numbers.pop(0)\n",
    "    tree = Tree(lst)\n",
    "    \n",
    "    for lst in snailfish_numbers:\n",
    "        tree.add_tree(Tree(lst))\n",
    "        tree.reduce()\n",
    "\n",
    "    return tree"
   ]
  },
  {
   "cell_type": "code",
   "execution_count": 10,
   "id": "d875404d-6d88-4a97-9e4b-ca624bd72295",
   "metadata": {},
   "outputs": [],
   "source": [
    "assert p1(test_input2).to_lst() == [[[[8,7],[7,7]],[[8,6],[7,7]]],[[[0,7],[6,6]],[8,7]]]"
   ]
  },
  {
   "cell_type": "code",
   "execution_count": 11,
   "id": "d043299e-5941-4783-976e-5f46185ba7a0",
   "metadata": {},
   "outputs": [],
   "source": [
    "assert p1(test_input3).to_lst() == [[[[0,7],4],[[7,8],[6,0]]],[8,1]]"
   ]
  },
  {
   "cell_type": "code",
   "execution_count": 12,
   "id": "70211705-33e1-429e-bc4f-56fa14112c9b",
   "metadata": {},
   "outputs": [],
   "source": [
    "assert p1('''[1,1]\n",
    "[2,2]\n",
    "[3,3]\n",
    "[4,4]''').to_lst() == [[[[1,1],[2,2]],[3,3]],[4,4]]"
   ]
  },
  {
   "cell_type": "code",
   "execution_count": 13,
   "id": "20806057-4c59-40ba-bc54-60596215abb2",
   "metadata": {},
   "outputs": [],
   "source": [
    "assert p1('''[1,1]\n",
    "[2,2]\n",
    "[3,3]\n",
    "[4,4]\n",
    "[5,5]''').to_lst() == [[[[3,0],[5,3]],[4,4]],[5,5]]"
   ]
  },
  {
   "cell_type": "code",
   "execution_count": 14,
   "id": "64954414-790c-42b9-8d0d-5ea9775babfc",
   "metadata": {},
   "outputs": [],
   "source": [
    "assert p1('''[1,1]\n",
    "[2,2]\n",
    "[3,3]\n",
    "[4,4]\n",
    "[5,5]\n",
    "[6,6]''').to_lst() == [[[[5,0],[7,4]],[5,5]],[6,6]]"
   ]
  },
  {
   "cell_type": "code",
   "execution_count": 15,
   "id": "b36ab6dd-84b3-4300-b0cf-5ea294b35f93",
   "metadata": {},
   "outputs": [],
   "source": [
    "t = Tree([[[[[9,8],1],2],3],4])\n",
    "t.search_explosions()\n",
    "assert t.to_lst() == [[[[0,9],2],3],4]"
   ]
  },
  {
   "cell_type": "code",
   "execution_count": 16,
   "id": "44b73d4a-795d-4c7a-a9bb-630c7ab32b51",
   "metadata": {},
   "outputs": [],
   "source": [
    "t = Tree([7,[6,[5,[4,[3,2]]]]])\n",
    "t.search_explosions()\n",
    "assert  t.to_lst() == [7,[6,[5,[7,0]]]]"
   ]
  },
  {
   "cell_type": "code",
   "execution_count": 17,
   "id": "95fedcb1-2ba3-49b7-b296-9d6ce25248fa",
   "metadata": {},
   "outputs": [],
   "source": [
    "t = Tree([[6,[5,[4,[3,2]]]],1])\n",
    "t.search_explosions()\n",
    "assert t.to_lst() == [[6,[5,[7,0]]],3]"
   ]
  },
  {
   "cell_type": "code",
   "execution_count": 18,
   "id": "b90235bb-31c9-49e3-9d64-12750dff3aa2",
   "metadata": {},
   "outputs": [],
   "source": [
    "t = Tree([[3,[2,[1,[7,3]]]],[6,[5,[4,[3,2]]]]])\n",
    "t.search_explosions()\n",
    "assert  t.to_lst() == [[3,[2,[8,0]]],[9,[5,[4,[3,2]]]]]"
   ]
  },
  {
   "cell_type": "code",
   "execution_count": 19,
   "id": "db417459-a922-4da7-9d0d-5d7fee30a46a",
   "metadata": {},
   "outputs": [],
   "source": [
    "t = Tree([[3,[2,[8,0]]],[9,[5,[4,[3,2]]]]])\n",
    "t.search_explosions()\n",
    "assert t.to_lst() == [[3,[2,[8,0]]],[9,[5,[7,0]]]]"
   ]
  },
  {
   "cell_type": "code",
   "execution_count": 20,
   "id": "799706f5-61e3-4af0-b9a6-033a8e62ec68",
   "metadata": {},
   "outputs": [],
   "source": [
    "assert p1(test_input1).magnitude() == 4140"
   ]
  },
  {
   "cell_type": "code",
   "execution_count": 21,
   "id": "a5dd077e-e29f-4541-aeed-6ba99426171b",
   "metadata": {},
   "outputs": [],
   "source": [
    "assert p1(puzzle_input).magnitude() == 3884"
   ]
  },
  {
   "cell_type": "code",
   "execution_count": 22,
   "id": "dc01715d-425b-49f8-9215-3e5d5cf621f7",
   "metadata": {},
   "outputs": [],
   "source": [
    "def p2(puzzle_input):\n",
    "    snailfish_numbers = list(map(eval, puzzle_input.strip().split('\\n')))\n",
    "    \n",
    "    m = -np.inf\n",
    "    for (lst1, lst2) in itertools.permutations(snailfish_numbers, 2):\n",
    "        tree = Tree(lst1)\n",
    "        tree.add_tree(Tree(lst2))\n",
    "        tree.reduce()\n",
    "        \n",
    "        m = max(m, tree.magnitude())\n",
    "\n",
    "    return m"
   ]
  },
  {
   "cell_type": "code",
   "execution_count": 23,
   "id": "4d3986ac-c688-4be1-8a6b-821669489c91",
   "metadata": {},
   "outputs": [],
   "source": [
    "assert p2(puzzle_input) == 4595"
   ]
  }
 ],
 "metadata": {
  "kernelspec": {
   "display_name": "Python [conda env:3_10]",
   "language": "python",
   "name": "conda-env-3_10-py"
  },
  "language_info": {
   "codemirror_mode": {
    "name": "ipython",
    "version": 3
   },
   "file_extension": ".py",
   "mimetype": "text/x-python",
   "name": "python",
   "nbconvert_exporter": "python",
   "pygments_lexer": "ipython3",
   "version": "3.10.0"
  }
 },
 "nbformat": 4,
 "nbformat_minor": 5
}
