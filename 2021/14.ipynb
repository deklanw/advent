{
 "cells": [
  {
   "cell_type": "code",
   "execution_count": 1,
   "id": "ce8db1b7-ed50-416d-b53b-ee6012ce0d85",
   "metadata": {},
   "outputs": [],
   "source": [
    "import numpy as np\n",
    "from collections import Counter\n",
    "from functools import cache"
   ]
  },
  {
   "cell_type": "code",
   "execution_count": 2,
   "id": "efd6f85c-075e-4444-af87-477ffe2f7841",
   "metadata": {},
   "outputs": [],
   "source": [
    "test_input = '''NNCB\n",
    "\n",
    "CH -> B\n",
    "HH -> N\n",
    "CB -> H\n",
    "NH -> C\n",
    "HB -> C\n",
    "HC -> B\n",
    "HN -> C\n",
    "NN -> C\n",
    "BH -> H\n",
    "NC -> B\n",
    "NB -> B\n",
    "BN -> B\n",
    "BB -> N\n",
    "BC -> B\n",
    "CC -> N\n",
    "CN -> C'''"
   ]
  },
  {
   "cell_type": "markdown",
   "id": "18f1d526-24b2-4e1f-90dc-0c26e7189e91",
   "metadata": {},
   "source": [
    "- NN\n",
    "- NCN\n",
    "- NBCCN\n",
    "- NBBBCNCCN"
   ]
  },
  {
   "cell_type": "code",
   "execution_count": 3,
   "id": "1274935d-8d45-4e9c-9bba-35303fa82715",
   "metadata": {},
   "outputs": [],
   "source": [
    "puzzle_input = open('inputs/14').read().strip()"
   ]
  },
  {
   "cell_type": "code",
   "execution_count": 4,
   "id": "5e7f3d86-3cd3-410d-aafb-c516cade52ad",
   "metadata": {},
   "outputs": [],
   "source": [
    "def pair(s):\n",
    "    return [''.join(p) for p in zip(s, s[1:])]"
   ]
  },
  {
   "cell_type": "code",
   "execution_count": 5,
   "id": "e80fe4e4-72fd-48a7-b028-09a292d00192",
   "metadata": {},
   "outputs": [],
   "source": [
    "def collapse(strings):\n",
    "    final = ''\n",
    "    \n",
    "    for s in strings[:-1]:\n",
    "        final += s[:-1]\n",
    "    \n",
    "    final += strings[-1]\n",
    "    \n",
    "    return final"
   ]
  },
  {
   "cell_type": "code",
   "execution_count": 6,
   "id": "aa98324b-1b2e-4e60-b20f-2a27d9c27956",
   "metadata": {},
   "outputs": [],
   "source": [
    "def p1(puzzle_input, steps=10):\n",
    "    start, transition_lines = puzzle_input.split('\\n\\n')\n",
    "    \n",
    "    transition_map = {a: b for [a, b] in map(lambda s: s.split(' -> '), transition_lines.split('\\n'))}\n",
    "    full_transition_map = {a: a[0] + b + a[1] for a, b in transition_map.items()}\n",
    "    \n",
    "    working_string = start\n",
    "\n",
    "    for step in range(steps):\n",
    "        # if pair in full_transition_map else pair\n",
    "        pair_strings = pair(working_string)\n",
    "        working_string = collapse([full_transition_map[pair] for pair in pair_strings])\n",
    "\n",
    "    mc = Counter(working_string).most_common()\n",
    "    \n",
    "    return mc[0][1] - mc[-1][1]"
   ]
  },
  {
   "cell_type": "code",
   "execution_count": 7,
   "id": "2a10bf5e-d213-41ef-a406-7504af4b2cdb",
   "metadata": {},
   "outputs": [],
   "source": [
    "assert p1(test_input) == 1588"
   ]
  },
  {
   "cell_type": "code",
   "execution_count": 8,
   "id": "7628d22d-d9ba-4b45-aee2-93d94421e585",
   "metadata": {},
   "outputs": [
    {
     "data": {
      "text/plain": [
       "2851"
      ]
     },
     "execution_count": 8,
     "metadata": {},
     "output_type": "execute_result"
    }
   ],
   "source": [
    "p1(puzzle_input)"
   ]
  },
  {
   "cell_type": "code",
   "execution_count": 9,
   "id": "439c9bb2-4af1-4184-87aa-4d0294368797",
   "metadata": {},
   "outputs": [],
   "source": [
    "def p2(puzzle_input, steps=40):\n",
    "    start, transition_lines = puzzle_input.split('\\n\\n')\n",
    "\n",
    "    transition_map = {a: b for (a, b) in map(lambda s: s.split(' -> '), transition_lines.split('\\n'))}\n",
    "    \n",
    "    letters = set(transition_map.values())\n",
    "    letters_to_index = {l: i for i, l in enumerate(letters)}\n",
    "    \n",
    "    def fresh_counts():\n",
    "        return np.zeros(len(letters))\n",
    "    \n",
    "    def letter_counts(s):\n",
    "        counts = fresh_counts()\n",
    "\n",
    "        for c in s:\n",
    "            counts[letters_to_index[c]] += 1\n",
    "\n",
    "        return counts\n",
    "    \n",
    "    @cache\n",
    "    def evolve(pair, step):\n",
    "        '''\n",
    "        Letter counts for pair after n steps. \n",
    "        '''\n",
    "        \n",
    "        if step == 0:\n",
    "            return letter_counts(pair)\n",
    "\n",
    "        new_letter = transition_map[pair]\n",
    "        new_letter_count = letter_counts(new_letter)\n",
    "\n",
    "        return evolve(pair[0] + new_letter, step-1) + evolve(new_letter + pair[1], step-1) - new_letter_count\n",
    "    \n",
    "    counts = fresh_counts()\n",
    "\n",
    "    for p in pair(start):\n",
    "        counts += evolve(p, steps)\n",
    "\n",
    "    # subtract one from the middle_letters: they appear twice\n",
    "    for m in start[1:-1]:\n",
    "        counts -= letter_counts(m)\n",
    "        \n",
    "    return int(counts.max() - counts.min())"
   ]
  },
  {
   "cell_type": "code",
   "execution_count": 10,
   "id": "51b8a62b-9fa8-461c-836e-39377a27b170",
   "metadata": {},
   "outputs": [],
   "source": [
    "def p2_2(puzzle_input, steps=40):\n",
    "    start, transition_lines = puzzle_input.split('\\n\\n')\n",
    "\n",
    "    transition_map = {a: b for (a, b) in map(lambda s: s.split(' -> '), transition_lines.split('\\n'))}\n",
    "    full_transition_map = {a: a[0] + b + a[1] for a, b in transition_map.items()}\n",
    "    \n",
    "    letters = set(transition_map.values())\n",
    "    letters_to_index = {l: i for i, l in enumerate(letters)}\n",
    "    \n",
    "    def letter_counts(s):\n",
    "        counts = np.zeros(len(letters))\n",
    "\n",
    "        for c in s:\n",
    "            counts[letters_to_index[c]] += 1\n",
    "\n",
    "        return counts\n",
    "    \n",
    "    @cache\n",
    "    def evolve(s, step):\n",
    "        '''\n",
    "        Letter counts for string after n steps. \n",
    "        '''\n",
    "        if step == 0:\n",
    "            return letter_counts(s)\n",
    "        \n",
    "        new_s = collapse([full_transition_map[p] for p in pair(s)])\n",
    "        middle_letter_counts = letter_counts(new_s[1:-1])\n",
    "\n",
    "        return sum(evolve(p, step-1) for p in pair(new_s)) - middle_letter_counts\n",
    "    \n",
    "    counts = evolve(start, steps)\n",
    "\n",
    "    return int(counts.max() - counts.min())"
   ]
  },
  {
   "cell_type": "code",
   "execution_count": 11,
   "id": "65f0b1bb-c5bf-4ff6-91ba-217812671e79",
   "metadata": {},
   "outputs": [],
   "source": [
    "assert p2(test_input) == 2188189693529"
   ]
  },
  {
   "cell_type": "code",
   "execution_count": 12,
   "id": "1cd4e70c-d4d2-4eef-add2-b8f55361044b",
   "metadata": {},
   "outputs": [],
   "source": [
    "assert p2_2(test_input) == 2188189693529"
   ]
  },
  {
   "cell_type": "code",
   "execution_count": 13,
   "id": "1f3ab0e4-3b8d-4cb8-be35-8ad502b602d3",
   "metadata": {},
   "outputs": [
    {
     "data": {
      "text/plain": [
       "10002813279337"
      ]
     },
     "execution_count": 13,
     "metadata": {},
     "output_type": "execute_result"
    }
   ],
   "source": [
    "p2(puzzle_input)"
   ]
  },
  {
   "cell_type": "code",
   "execution_count": 14,
   "id": "531ced8b-2455-4e78-ab4f-b8099e51d6b5",
   "metadata": {},
   "outputs": [
    {
     "data": {
      "text/plain": [
       "10002813279337"
      ]
     },
     "execution_count": 14,
     "metadata": {},
     "output_type": "execute_result"
    }
   ],
   "source": [
    "p2_2(puzzle_input)"
   ]
  }
 ],
 "metadata": {
  "kernelspec": {
   "display_name": "Python [conda env:3_10]",
   "language": "python",
   "name": "conda-env-3_10-py"
  },
  "language_info": {
   "codemirror_mode": {
    "name": "ipython",
    "version": 3
   },
   "file_extension": ".py",
   "mimetype": "text/x-python",
   "name": "python",
   "nbconvert_exporter": "python",
   "pygments_lexer": "ipython3",
   "version": "3.10.0"
  }
 },
 "nbformat": 4,
 "nbformat_minor": 5
}
