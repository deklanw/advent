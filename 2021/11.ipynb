{
 "cells": [
  {
   "cell_type": "code",
   "execution_count": 1,
   "id": "afc65ed7-c0f2-408c-b37c-b441e0817d0a",
   "metadata": {},
   "outputs": [],
   "source": [
    "import numpy as np\n",
    "import itertools"
   ]
  },
  {
   "cell_type": "code",
   "execution_count": 2,
   "id": "051aefc3-34cc-40c9-b517-48bd8d30cefe",
   "metadata": {},
   "outputs": [],
   "source": [
    "def string_to_2d(s):\n",
    "    # add spaces between nums\n",
    "    s = '\\n'.join(map(lambda x: ' '.join(list(x)), s.split('\\n'))).strip()\n",
    "    rows = s.count('\\n') + 1\n",
    "    return np.fromstring(s, sep=' ').reshape(rows, -1).astype(np.int64)"
   ]
  },
  {
   "cell_type": "code",
   "execution_count": 3,
   "id": "48c5b244-40f1-4f10-91fe-beedee571974",
   "metadata": {},
   "outputs": [],
   "source": [
    "test_input = '''5483143223\n",
    "2745854711\n",
    "5264556173\n",
    "6141336146\n",
    "6357385478\n",
    "4167524645\n",
    "2176841721\n",
    "6882881134\n",
    "4846848554\n",
    "5283751526\n",
    "'''\n",
    "\n",
    "test_input2 = '''11111\n",
    "19991\n",
    "19191\n",
    "19991\n",
    "11111'''"
   ]
  },
  {
   "cell_type": "code",
   "execution_count": 4,
   "id": "bf958749-a8a3-459c-904e-62b0af08a7b5",
   "metadata": {},
   "outputs": [],
   "source": [
    "puzzle_input = open('inputs/11').read().strip()"
   ]
  },
  {
   "cell_type": "code",
   "execution_count": 5,
   "id": "4d4dadfd-3680-4abc-845c-17ead761e277",
   "metadata": {},
   "outputs": [],
   "source": [
    "def flash_around(board, f):\n",
    "    x, y = board.shape\n",
    "    \n",
    "    above_9 = set()\n",
    "    \n",
    "    (a, b) = f\n",
    "    \n",
    "    for (del_a, del_b) in itertools.product([-1, 0, 1], [-1, 0, 1]):\n",
    "        if del_a == 0 and del_b == 0:\n",
    "            continue\n",
    "        \n",
    "        new_a, new_b = a + del_a, b + del_b\n",
    "        \n",
    "        if not (new_a >=0 and new_a < x and new_b >=0 and new_b < y):\n",
    "            continue\n",
    "        \n",
    "        new = (new_a, new_b)\n",
    "        \n",
    "        board[new] += 1\n",
    "        \n",
    "        if board[new] > 9:\n",
    "            above_9.add(new)\n",
    "    \n",
    "    return above_9"
   ]
  },
  {
   "cell_type": "code",
   "execution_count": 6,
   "id": "936c06a9-ff0e-4572-8d3e-c3eaf84fcd04",
   "metadata": {},
   "outputs": [],
   "source": [
    "def p1(puzzle_input, steps=100):\n",
    "    board = string_to_2d(puzzle_input)\n",
    "    \n",
    "    total_flashes = 0\n",
    "\n",
    "    for step in range(steps):\n",
    "        board += 1\n",
    "\n",
    "        flashed = set()\n",
    "\n",
    "        to_flash = set(tuple(c) for c in np.argwhere(board > 9))\n",
    "\n",
    "        while to_flash:\n",
    "            f = to_flash.pop()\n",
    "\n",
    "            # +1 around, returning set of points which are > 9\n",
    "            local_to_flash = flash_around(board, f)\n",
    "\n",
    "            # union with existing to_flash if not flashed\n",
    "            to_flash |= local_to_flash - flashed\n",
    "\n",
    "            flashed.add(f)\n",
    "\n",
    "        total_flashes += len(flashed)\n",
    "\n",
    "        board[board > 9] = 0\n",
    "\n",
    "    return total_flashes"
   ]
  },
  {
   "cell_type": "code",
   "execution_count": 13,
   "id": "94a424bf-a7fd-48a3-9edd-127178acacd4",
   "metadata": {},
   "outputs": [],
   "source": [
    "def p2(puzzle_input, steps=99999):\n",
    "    board = string_to_2d(puzzle_input)\n",
    "    num_cells = np.product(board.shape)\n",
    "    \n",
    "    total_flashes = 0\n",
    "\n",
    "    for step in range(steps):\n",
    "        board += 1\n",
    "\n",
    "        flashed = set()\n",
    "\n",
    "        to_flash = set(tuple(c) for c in np.argwhere(board > 9))\n",
    "\n",
    "        while to_flash:\n",
    "            f = to_flash.pop()\n",
    "\n",
    "            # +1 around, returning set of points which are > 9\n",
    "            local_to_flash = flash_around(board, f)\n",
    "\n",
    "            # union with existing to_flash if not flashed\n",
    "            to_flash |= local_to_flash - flashed\n",
    "\n",
    "            flashed.add(f)\n",
    "            \n",
    "        if len(flashed) == num_cells:\n",
    "            return step + 1\n",
    "\n",
    "        total_flashes += len(flashed)\n",
    "        board[board > 9] = 0"
   ]
  },
  {
   "cell_type": "code",
   "execution_count": 8,
   "id": "11d7d712-a788-4421-8d06-e48d7d6f6c52",
   "metadata": {},
   "outputs": [],
   "source": [
    "assert p1(test_input) == 1656"
   ]
  },
  {
   "cell_type": "code",
   "execution_count": 9,
   "id": "05ea12aa-bd8d-4961-8117-bef77abb1c3f",
   "metadata": {},
   "outputs": [
    {
     "data": {
      "text/plain": [
       "1585"
      ]
     },
     "execution_count": 9,
     "metadata": {},
     "output_type": "execute_result"
    }
   ],
   "source": [
    "p1(puzzle_input)"
   ]
  },
  {
   "cell_type": "code",
   "execution_count": 14,
   "id": "8bdfc76c-9333-44a1-9034-325fa1f612c7",
   "metadata": {},
   "outputs": [],
   "source": [
    "assert p2(test_input) == 195"
   ]
  },
  {
   "cell_type": "code",
   "execution_count": 12,
   "id": "effe7dee-44f8-4907-96d6-5bf855851993",
   "metadata": {},
   "outputs": [
    {
     "data": {
      "text/plain": [
       "382"
      ]
     },
     "execution_count": 12,
     "metadata": {},
     "output_type": "execute_result"
    }
   ],
   "source": [
    "p2(puzzle_input)"
   ]
  }
 ],
 "metadata": {
  "kernelspec": {
   "display_name": "Python [conda env:3_10]",
   "language": "python",
   "name": "conda-env-3_10-py"
  },
  "language_info": {
   "codemirror_mode": {
    "name": "ipython",
    "version": 3
   },
   "file_extension": ".py",
   "mimetype": "text/x-python",
   "name": "python",
   "nbconvert_exporter": "python",
   "pygments_lexer": "ipython3",
   "version": "3.10.0"
  }
 },
 "nbformat": 4,
 "nbformat_minor": 5
}
