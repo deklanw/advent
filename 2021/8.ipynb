{
 "cells": [
  {
   "cell_type": "code",
   "execution_count": 1,
   "id": "310406bb-85f7-4827-8fcf-265583315ad3",
   "metadata": {},
   "outputs": [],
   "source": [
    "import graph_tool.all as gt"
   ]
  },
  {
   "cell_type": "code",
   "execution_count": 2,
   "id": "29a52e4b-3768-4a78-b792-8c0b2998d2ee",
   "metadata": {},
   "outputs": [],
   "source": [
    "puzzle_input = open('inputs/8').read()"
   ]
  },
  {
   "cell_type": "code",
   "execution_count": 3,
   "id": "75633695-62ff-4e2b-9038-b4fdeac35a5d",
   "metadata": {},
   "outputs": [],
   "source": [
    "test_input = \"\"\"be cfbegad cbdgef fgaecd cgeb fdcge agebfd fecdb fabcd edb | fdgacbe cefdb cefbgd gcbe\n",
    "edbfga begcd cbg gc gcadebf fbgde acbgfd abcde gfcbed gfec | fcgedb cgb dgebacf gc\n",
    "fgaebd cg bdaec gdafb agbcfd gdcbef bgcad gfac gcb cdgabef | cg cg fdcagb cbg\n",
    "fbegcd cbd adcefb dageb afcb bc aefdc ecdab fgdeca fcdbega | efabcd cedba gadfec cb\n",
    "aecbfdg fbg gf bafeg dbefa fcge gcbea fcaegb dgceab fcbdga | gecf egdcabf bgf bfgea\n",
    "fgeab ca afcebg bdacfeg cfaedg gcfdb baec bfadeg bafgc acf | gebdcfa ecba ca fadegcb\n",
    "dbcfg fgd bdegcaf fgec aegbdf ecdfab fbedc dacgb gdcebf gf | cefg dcbef fcge gbcadfe\n",
    "bdfegc cbegaf gecbf dfcage bdacg ed bedf ced adcbefg gebcd | ed bcgafe cdgba cbgef\n",
    "egadfb cdbfeg cegd fecab cgb gbdefca cg fgcdab egfdb bfceg | gbdfcae bgc cg cgb\n",
    "gcafb gcf dcaebfg ecagb gf abcdeg gaef cafbge fdbac fegbdc | fgae cfgab fg bagce\n",
    "\"\"\""
   ]
  },
  {
   "cell_type": "code",
   "execution_count": 4,
   "id": "61b216b5-df57-472a-91c9-5025d4bd716b",
   "metadata": {},
   "outputs": [],
   "source": [
    "clock_map = [\n",
    "'abcefg',\n",
    "'cf',\n",
    "'acdeg',\n",
    "'acdfg',\n",
    "'bcdf',\n",
    "'abdfg',\n",
    "'abdefg',\n",
    "'acf',\n",
    "'abcdefg',\n",
    "'abcdfg'\n",
    "]"
   ]
  },
  {
   "cell_type": "code",
   "execution_count": 5,
   "id": "84c2eb43-3f85-436b-9829-f7cf9251915a",
   "metadata": {},
   "outputs": [],
   "source": [
    "def make_graph(digit_to_letter_map):\n",
    "    g = gt.Graph()\n",
    "\n",
    "    digit_nodes = {}\n",
    "    letter_nodes = {}\n",
    "\n",
    "    for i in range(10):\n",
    "        v = g.add_vertex()\n",
    "        digit_nodes[i] = v\n",
    "\n",
    "    for l in 'abcdefg':\n",
    "        v = g.add_vertex()\n",
    "        letter_nodes[l] = v\n",
    "    \n",
    "    for i, letters in enumerate(digit_to_letter_map):\n",
    "        digit_node = digit_nodes[i]\n",
    "\n",
    "        for l in letters:\n",
    "            g.add_edge(digit_node, letter_nodes[l])\n",
    "    \n",
    "    return g"
   ]
  },
  {
   "cell_type": "code",
   "execution_count": 6,
   "id": "aa8ee8c4-86d2-4dc1-b698-1081324e70f8",
   "metadata": {},
   "outputs": [],
   "source": [
    "correct_g = make_graph(clock_map)"
   ]
  },
  {
   "cell_type": "code",
   "execution_count": 7,
   "id": "a4d38b5e-1241-4f1a-9a9e-0b9fc131e955",
   "metadata": {},
   "outputs": [],
   "source": [
    "def p1(puzzle_input):\n",
    "    count = 0\n",
    "\n",
    "    for l in puzzle_input.strip().split('\\n'):\n",
    "        digit_letters, output_letters = l.split(' | ')\n",
    "\n",
    "        digit_letters = digit_letters.split(' ')\n",
    "        output_letters = output_letters.split(' ')\n",
    "\n",
    "        for o in output_letters:\n",
    "            if len(o) in [2, 3, 4, 7]:\n",
    "                count += 1\n",
    "                \n",
    "    return count"
   ]
  },
  {
   "cell_type": "code",
   "execution_count": 8,
   "id": "6ff83e00-b697-4ea2-a1db-7e5060783fde",
   "metadata": {},
   "outputs": [],
   "source": [
    "assert p1(test_input) == 26"
   ]
  },
  {
   "cell_type": "code",
   "execution_count": 9,
   "id": "37c2819d-94ae-4608-a1f6-2afc56337b66",
   "metadata": {},
   "outputs": [
    {
     "data": {
      "text/plain": [
       "493"
      ]
     },
     "execution_count": 9,
     "metadata": {},
     "output_type": "execute_result"
    }
   ],
   "source": [
    "p1(puzzle_input)"
   ]
  },
  {
   "cell_type": "code",
   "execution_count": 10,
   "id": "cb52f9a1-464f-4896-86d3-f1f2e37caa5e",
   "metadata": {},
   "outputs": [],
   "source": [
    "def sort_string(s):\n",
    "    return ''.join(sorted(s))"
   ]
  },
  {
   "cell_type": "code",
   "execution_count": 11,
   "id": "59e03bda-8439-4304-94db-cc76ed531386",
   "metadata": {},
   "outputs": [],
   "source": [
    "def p2(puzzle_input):\n",
    "    summ = 0\n",
    "    \n",
    "    for l in puzzle_input.strip().split('\\n'):\n",
    "        digit_letters, output_letters = map(lambda s: list(map(sort_string, s.split(' '))), l.split(' | '))\n",
    "        \n",
    "        letters_to_shuffled_digit_number = {s: i for i, s in enumerate(digit_letters)}\n",
    "    \n",
    "        shuffled_g = make_graph(digit_letters)\n",
    "        is_isomorphism, isomap = gt.isomorphism(shuffled_g, correct_g, isomap=True)\n",
    "        \n",
    "        assert is_isomorphism\n",
    "        \n",
    "        digit_map = isomap.a[:10]\n",
    "        \n",
    "        digit_str = \"\"\n",
    "        for s in output_letters:\n",
    "            digit = digit_map[letters_to_shuffled_digit_number[s]]\n",
    "            digit_str += str(digit)\n",
    "            \n",
    "        summ += int(digit_str)\n",
    "    \n",
    "    return summ"
   ]
  },
  {
   "cell_type": "code",
   "execution_count": 12,
   "id": "0f3b7548-e4a8-43c0-80c4-2c7d5a4c01c2",
   "metadata": {},
   "outputs": [],
   "source": [
    "assert p2(test_input) == 61229"
   ]
  },
  {
   "cell_type": "code",
   "execution_count": 13,
   "id": "af330ac8-d383-43d0-a0c8-fb2ae4e60085",
   "metadata": {},
   "outputs": [
    {
     "data": {
      "text/plain": [
       "1010460"
      ]
     },
     "execution_count": 13,
     "metadata": {},
     "output_type": "execute_result"
    }
   ],
   "source": [
    "p2(puzzle_input)"
   ]
  }
 ],
 "metadata": {
  "kernelspec": {
   "display_name": "Python [conda env:gt]",
   "language": "python",
   "name": "conda-env-gt-py"
  },
  "language_info": {
   "codemirror_mode": {
    "name": "ipython",
    "version": 3
   },
   "file_extension": ".py",
   "mimetype": "text/x-python",
   "name": "python",
   "nbconvert_exporter": "python",
   "pygments_lexer": "ipython3",
   "version": "3.9.6"
  }
 },
 "nbformat": 4,
 "nbformat_minor": 5
}
