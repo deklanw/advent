{
 "cells": [
  {
   "cell_type": "code",
   "execution_count": 1,
   "id": "6058fb5a-fb94-4ad7-8364-a919762824cd",
   "metadata": {},
   "outputs": [],
   "source": [
    "def split(p1, p2):\n",
    "    [a, b, c, d] = sorted([*p1, *p2])\n",
    "    \n",
    "    if (a == b and b == c and c == d):\n",
    "        return [(a, a)]\n",
    "    elif (a == b and b == c):\n",
    "        return [(a, a), (a+1, d)]\n",
    "    elif (b == c and c == d):\n",
    "        return [(a, b-1), (b, b)]\n",
    "    elif (a == b) and (c == d):\n",
    "        return [(a, c)]\n",
    "    elif (a == b):\n",
    "        return [(a, c), (c+1, d)]\n",
    "    elif (b == c):\n",
    "        return [(a, b-1), (b, b), (b+1, d)]\n",
    "    elif (c == d):\n",
    "        return [(a, b-1), (b+1, d)]\n",
    "    else:\n",
    "        return [(a, b-1), (b, c), (c+1, d)]"
   ]
  },
  {
   "cell_type": "code",
   "execution_count": 2,
   "id": "91519b9b-3cd2-4afa-bd84-21e52781a2b1",
   "metadata": {},
   "outputs": [],
   "source": [
    "import itertools\n",
    "\n",
    "class Segment:\n",
    "    def intersection(self, other):\n",
    "        a, b = self, other\n",
    "        x1 = max(min(a.x1, a.x2), min(b.x1, b.x2))\n",
    "        x2 = min(max(a.x1, a.x2), max(b.x1, b.x2))\n",
    "        if x1 <= x2:\n",
    "            return type(self)(x1, x2)\n",
    "    __and__ = intersection\n",
    "\n",
    "    def difference(self, other):\n",
    "        inter = self & other\n",
    "        \n",
    "        # we've ensured an intersection\n",
    "        if not inter:\n",
    "            yield self\n",
    "            return\n",
    "        \n",
    "        x_split = split((self.x1, self.x2), (other.x1, other.x2))\n",
    "                                   \n",
    "        for (x1, x2) in x_split:\n",
    "            rect = type(self)(x1, x2)\n",
    "            \n",
    "            if not rect.subset(inter) and rect.subset(self):\n",
    "                yield rect\n",
    "\n",
    "    __sub__ = difference\n",
    "\n",
    "    def __init__(self, x1, x2):\n",
    "        self.x1, self.x2 = x1, x2\n",
    "\n",
    "    def __iter__(self):\n",
    "        yield self.x1\n",
    "        yield self.x2\n",
    "\n",
    "\n",
    "    def __eq__(self, other):\n",
    "        return isinstance(other, Segment) and tuple(self) == tuple(other)\n",
    "    def __ne__(self, other):\n",
    "        return not (self == other)\n",
    "\n",
    "    def __repr__(self):\n",
    "        return type(self).__name__ + repr(tuple(self))\n",
    "    \n",
    "    def volume(self):\n",
    "        return (self.x2 - self.x1 + 1)\n",
    "    \n",
    "    def subset(self, other):\n",
    "        return self == self & other\n",
    "    \n",
    "    def union(self, other):\n",
    "        # guaranteed no overlap\n",
    "        inter = self & other\n",
    "        \n",
    "        if inter:\n",
    "            yield inter\n",
    "        \n",
    "        yield from self.difference(other)\n",
    "        yield from other.difference(self)\n",
    "    __or__ = union"
   ]
  },
  {
   "cell_type": "code",
   "execution_count": 47,
   "id": "1233e26a-3079-42f3-a5f3-26685139fe26",
   "metadata": {},
   "outputs": [],
   "source": [
    "a = Segment(-1, 4)\n",
    "b = Segment(6, 8)"
   ]
  },
  {
   "cell_type": "code",
   "execution_count": 51,
   "id": "da024c64-8d06-4df5-ad07-8045d4aa714d",
   "metadata": {},
   "outputs": [],
   "source": [
    "(a&b)"
   ]
  },
  {
   "cell_type": "code",
   "execution_count": 50,
   "id": "2679a484-293e-4c06-8090-17dcc2b1721d",
   "metadata": {},
   "outputs": [
    {
     "data": {
      "text/plain": [
       "[Segment(-1, 4)]"
      ]
     },
     "execution_count": 50,
     "metadata": {},
     "output_type": "execute_result"
    }
   ],
   "source": [
    "list(a.difference(b))"
   ]
  },
  {
   "cell_type": "code",
   "execution_count": 52,
   "id": "9323869e-8eff-413b-a514-a070b0facb65",
   "metadata": {},
   "outputs": [
    {
     "data": {
      "text/plain": [
       "[Segment(6, 8)]"
      ]
     },
     "execution_count": 52,
     "metadata": {},
     "output_type": "execute_result"
    }
   ],
   "source": [
    "list(b.difference(a))"
   ]
  },
  {
   "cell_type": "code",
   "execution_count": 48,
   "id": "9b3937ac-0caf-4f0d-946c-273bdc90ae6d",
   "metadata": {},
   "outputs": [
    {
     "ename": "AttributeError",
     "evalue": "'NoneType' object has no attribute 'volume'",
     "output_type": "error",
     "traceback": [
      "\u001b[0;31m---------------------------------------------------------------------------\u001b[0m",
      "\u001b[0;31mAttributeError\u001b[0m                            Traceback (most recent call last)",
      "\u001b[0;32m/tmp/ipykernel_3861/3691854877.py\u001b[0m in \u001b[0;36m<module>\u001b[0;34m\u001b[0m\n\u001b[0;32m----> 1\u001b[0;31m \u001b[0;32massert\u001b[0m \u001b[0ma\u001b[0m\u001b[0;34m.\u001b[0m\u001b[0mvolume\u001b[0m\u001b[0;34m(\u001b[0m\u001b[0;34m)\u001b[0m \u001b[0;34m-\u001b[0m \u001b[0;34m(\u001b[0m\u001b[0ma\u001b[0m\u001b[0;34m&\u001b[0m\u001b[0mb\u001b[0m\u001b[0;34m)\u001b[0m\u001b[0;34m.\u001b[0m\u001b[0mvolume\u001b[0m\u001b[0;34m(\u001b[0m\u001b[0;34m)\u001b[0m \u001b[0;34m==\u001b[0m \u001b[0msum\u001b[0m\u001b[0;34m(\u001b[0m\u001b[0mc\u001b[0m\u001b[0;34m.\u001b[0m\u001b[0mvolume\u001b[0m\u001b[0;34m(\u001b[0m\u001b[0;34m)\u001b[0m \u001b[0;32mfor\u001b[0m \u001b[0mc\u001b[0m \u001b[0;32min\u001b[0m \u001b[0ma\u001b[0m\u001b[0;34m.\u001b[0m\u001b[0mdifference\u001b[0m\u001b[0;34m(\u001b[0m\u001b[0mb\u001b[0m\u001b[0;34m)\u001b[0m\u001b[0;34m)\u001b[0m\u001b[0;34m\u001b[0m\u001b[0;34m\u001b[0m\u001b[0m\n\u001b[0m",
      "\u001b[0;31mAttributeError\u001b[0m: 'NoneType' object has no attribute 'volume'"
     ]
    }
   ],
   "source": [
    "assert a.volume() - (a&b).volume() == sum(c.volume() for c in a.difference(b))"
   ]
  },
  {
   "cell_type": "code",
   "execution_count": 43,
   "id": "2f094bdf-83b6-4cfc-9bfd-025133818ab5",
   "metadata": {},
   "outputs": [],
   "source": [
    "assert b.volume() - (a&b).volume() == sum(c.volume() for c in b.difference(a))"
   ]
  },
  {
   "cell_type": "code",
   "execution_count": 44,
   "id": "482ddbad-5720-4f29-8fa6-92eb940907f4",
   "metadata": {},
   "outputs": [],
   "source": [
    "assert a.volume() + b.volume() - (a&b).volume() == sum(c.volume() for c in a.union(b))\n",
    "assert a.volume() + b.volume() - (a&b).volume() == sum(c.volume() for c in b.union(a))"
   ]
  },
  {
   "cell_type": "code",
   "execution_count": 45,
   "id": "ee2ca8ac-622e-48c6-9b6f-7d9643c10fb3",
   "metadata": {},
   "outputs": [
    {
     "data": {
      "text/plain": [
       "[Segment(4, 4), Segment(-1, 3), Segment(5, 8)]"
      ]
     },
     "execution_count": 45,
     "metadata": {},
     "output_type": "execute_result"
    }
   ],
   "source": [
    "list(a.union(b))"
   ]
  },
  {
   "cell_type": "code",
   "execution_count": 46,
   "id": "6730553a-a6ab-4209-b8e4-c968de4beaef",
   "metadata": {},
   "outputs": [
    {
     "data": {
      "text/plain": [
       "[Segment(4, 4), Segment(5, 8), Segment(-1, 3)]"
      ]
     },
     "execution_count": 46,
     "metadata": {},
     "output_type": "execute_result"
    }
   ],
   "source": [
    "list(b.union(a))"
   ]
  }
 ],
 "metadata": {
  "kernelspec": {
   "display_name": "Python [conda env:3_10]",
   "language": "python",
   "name": "conda-env-3_10-py"
  },
  "language_info": {
   "codemirror_mode": {
    "name": "ipython",
    "version": 3
   },
   "file_extension": ".py",
   "mimetype": "text/x-python",
   "name": "python",
   "nbconvert_exporter": "python",
   "pygments_lexer": "ipython3",
   "version": "3.10.0"
  }
 },
 "nbformat": 4,
 "nbformat_minor": 5
}
