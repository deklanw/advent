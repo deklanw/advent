{
 "cells": [
  {
   "cell_type": "code",
   "execution_count": 1,
   "id": "55e0def7-7bf5-4499-8cc1-cbb4adf41a53",
   "metadata": {},
   "outputs": [],
   "source": [
    "import numpy as np\n",
    "import math"
   ]
  },
  {
   "cell_type": "code",
   "execution_count": 2,
   "id": "a7655b8e-261e-4a8a-bcd3-5e395d9dd718",
   "metadata": {},
   "outputs": [],
   "source": [
    "test_input = \"16,1,2,0,4,2,7,1,2,14\""
   ]
  },
  {
   "cell_type": "code",
   "execution_count": 3,
   "id": "9d99c8e8-1ad9-40cc-a623-e0d0712dcc13",
   "metadata": {},
   "outputs": [],
   "source": [
    "puzzle_input = open('inputs/7').read()"
   ]
  },
  {
   "cell_type": "code",
   "execution_count": 4,
   "id": "0deb61c9-db49-4087-89d0-4499b3df35f7",
   "metadata": {},
   "outputs": [],
   "source": [
    "def p1(s):\n",
    "    nums = np.array([int(i) for i in s.split(',')])\n",
    "    \n",
    "    return np.abs(nums - np.median(nums).astype(np.int64)).sum()"
   ]
  },
  {
   "cell_type": "code",
   "execution_count": 5,
   "id": "250bfac7-844f-4492-82cd-e116507aa8cf",
   "metadata": {},
   "outputs": [],
   "source": [
    "assert p1(test_input) == 37"
   ]
  },
  {
   "cell_type": "code",
   "execution_count": 6,
   "id": "bc724fe6-fe3a-4ce7-ba35-1b3c2b17d94d",
   "metadata": {},
   "outputs": [
    {
     "data": {
      "text/plain": [
       "340056"
      ]
     },
     "execution_count": 6,
     "metadata": {},
     "output_type": "execute_result"
    }
   ],
   "source": [
    "p1(puzzle_input)"
   ]
  },
  {
   "cell_type": "markdown",
   "id": "35bfc13b-e9b4-48b1-8ac3-f57aee9fbe0b",
   "metadata": {
    "tags": []
   },
   "source": [
    "Reasoning out pt2\n",
    "\n",
    "Want to minimize\n",
    "\n",
    "- sum |x-n| * (|x-n| + 1) / 2\n",
    "- sum |x-n| * (|x-n| + 1)\n",
    "- sum |x-n|^2\n",
    "- sum (x-n)^2\n",
    "\n",
    "=> answer is mean\n",
    "\n",
    "but since we need a whole number, check floor and ceiling around mean"
   ]
  },
  {
   "cell_type": "code",
   "execution_count": 10,
   "id": "dcdc0f4b-7a5f-4982-ac36-3f86c478c5d4",
   "metadata": {},
   "outputs": [],
   "source": [
    "def p2(s):\n",
    "    nums = np.array([int(i) for i in s.split(',')])\n",
    "    \n",
    "    mean = np.mean(nums)\n",
    "    \n",
    "    floor, ceil = math.floor(mean), math.ceil(mean)\n",
    "        \n",
    "    costs = []\n",
    "    \n",
    "    for n in [floor, ceil]:\n",
    "        abs_diff = np.abs(n - nums)\n",
    "        \n",
    "        # using formula for sum from x=1 to x=n\n",
    "        cost = (abs_diff*(abs_diff+1) // 2).sum()\n",
    "                \n",
    "        costs.append(cost)\n",
    "        \n",
    "    return min(costs)"
   ]
  },
  {
   "cell_type": "code",
   "execution_count": 11,
   "id": "bef0de96-8412-4f6e-ba86-7b0b4c8b4280",
   "metadata": {},
   "outputs": [],
   "source": [
    "assert p2(test_input) == 168"
   ]
  },
  {
   "cell_type": "code",
   "execution_count": 12,
   "id": "191261a8-f30e-4626-aef2-3c5690f948ed",
   "metadata": {},
   "outputs": [
    {
     "data": {
      "text/plain": [
       "96592275"
      ]
     },
     "execution_count": 12,
     "metadata": {},
     "output_type": "execute_result"
    }
   ],
   "source": [
    "p2(puzzle_input)"
   ]
  }
 ],
 "metadata": {
  "kernelspec": {
   "display_name": "Python [conda env:3_10]",
   "language": "python",
   "name": "conda-env-3_10-py"
  },
  "language_info": {
   "codemirror_mode": {
    "name": "ipython",
    "version": 3
   },
   "file_extension": ".py",
   "mimetype": "text/x-python",
   "name": "python",
   "nbconvert_exporter": "python",
   "pygments_lexer": "ipython3",
   "version": "3.10.0"
  }
 },
 "nbformat": 4,
 "nbformat_minor": 5
}
