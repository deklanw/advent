{
 "cells": [
  {
   "cell_type": "code",
   "execution_count": 1,
   "id": "c5f2b679-0272-43ab-8896-a55bf9e6e271",
   "metadata": {},
   "outputs": [],
   "source": [
    "import itertools\n",
    "from collections import Counter\n",
    "from functools import cache\n",
    "import numpy as np\n",
    "from copy import deepcopy"
   ]
  },
  {
   "cell_type": "code",
   "execution_count": 2,
   "id": "06bb2dc5-88ae-4948-a02f-3def81f395f0",
   "metadata": {},
   "outputs": [],
   "source": [
    "test_input = \"\"\"Player 1 starting position: 4\n",
    "Player 2 starting position: 8\"\"\""
   ]
  },
  {
   "cell_type": "code",
   "execution_count": 3,
   "id": "646f158b-6757-4bab-8347-d54f5c17431f",
   "metadata": {},
   "outputs": [],
   "source": [
    "puzzle_input = open('inputs/21').read().strip()"
   ]
  },
  {
   "cell_type": "code",
   "execution_count": 4,
   "id": "b499280f-7d58-454c-be62-06014e315b7e",
   "metadata": {},
   "outputs": [
    {
     "data": {
      "text/plain": [
       "'Player 1 starting position: 3\\nPlayer 2 starting position: 10'"
      ]
     },
     "execution_count": 4,
     "metadata": {},
     "output_type": "execute_result"
    }
   ],
   "source": [
    "puzzle_input"
   ]
  },
  {
   "cell_type": "code",
   "execution_count": 5,
   "id": "825eecf4-e066-483b-b781-446d5eeb2bf4",
   "metadata": {},
   "outputs": [],
   "source": [
    "def parse(s):\n",
    "    return [int(t.split(': ')[-1]) for t in s.split('\\n')]"
   ]
  },
  {
   "cell_type": "code",
   "execution_count": 6,
   "id": "6d75eb18-d7ec-4fd7-a2b2-1c05acca11b7",
   "metadata": {},
   "outputs": [
    {
     "data": {
      "text/plain": [
       "[4, 8]"
      ]
     },
     "execution_count": 6,
     "metadata": {},
     "output_type": "execute_result"
    }
   ],
   "source": [
    "parse(test_input)"
   ]
  },
  {
   "cell_type": "code",
   "execution_count": 7,
   "id": "b86b057b-dd28-4db3-addc-8435c289102e",
   "metadata": {},
   "outputs": [
    {
     "data": {
      "text/plain": [
       "[3, 10]"
      ]
     },
     "execution_count": 7,
     "metadata": {},
     "output_type": "execute_result"
    }
   ],
   "source": [
    "parse(puzzle_input)"
   ]
  },
  {
   "cell_type": "code",
   "execution_count": 8,
   "id": "386c2c55-e9eb-4211-a33c-7c0f02ce2ea5",
   "metadata": {},
   "outputs": [],
   "source": [
    "def p1(puzzle_input):\n",
    "    player_positions = parse(puzzle_input)\n",
    "    \n",
    "    dice_state = 0\n",
    "    player_scores = [0, 0]\n",
    "    \n",
    "    for turn in itertools.count(1):\n",
    "        player = (turn - 1) % 2\n",
    "\n",
    "        for _ in range(3):\n",
    "            dice_state += 1\n",
    "            player_positions[player] += dice_state\n",
    "\n",
    "        player_positions[player] = (player_positions[player]-1) % 10 + 1\n",
    "        player_scores[player] += player_positions[player]\n",
    "\n",
    "        # print(f\"After turn {turn} the player positions are {player_positions}. The scores are {player_scores}\")\n",
    "\n",
    "        if player_scores[player] >= 1000:\n",
    "            # print(f\"Player {player} exceeded 1000. Stopping.\")\n",
    "            break\n",
    "    \n",
    "    return min(player_scores) * dice_state"
   ]
  },
  {
   "cell_type": "code",
   "execution_count": 9,
   "id": "40024ce7-951d-4048-9ecb-659df8b8e106",
   "metadata": {},
   "outputs": [],
   "source": [
    "assert p1(test_input) == 739785"
   ]
  },
  {
   "cell_type": "code",
   "execution_count": 10,
   "id": "057526b6-6d5b-4b98-ac14-5a58ba496f75",
   "metadata": {},
   "outputs": [
    {
     "data": {
      "text/plain": [
       "713328"
      ]
     },
     "execution_count": 10,
     "metadata": {},
     "output_type": "execute_result"
    }
   ],
   "source": [
    "p1(puzzle_input)"
   ]
  },
  {
   "cell_type": "code",
   "execution_count": 105,
   "id": "3483d34b-f852-4e75-895c-f2ffc086e99a",
   "metadata": {},
   "outputs": [],
   "source": [
    "def p2(puzzle_input):\n",
    "    player_positions = tuple(parse(puzzle_input))\n",
    "    player_scores = (0, 0)\n",
    "    \n",
    "    WINNING_SCORE = 21\n",
    "    \n",
    "    # Reduce 27 options to 7\n",
    "    possible_dice_sums = Counter(sum(r) for r in itertools.product(range(1, 4), repeat=3)).most_common()\n",
    "    \n",
    "    @cache\n",
    "    def num_wins(current_p_score, current_p_pos, other_p_score, other_p_pos):        \n",
    "        current_p_wins, other_p_wins = 0, 0\n",
    "\n",
    "        for summ, count in possible_dice_sums:\n",
    "            new_position = (current_p_pos + summ - 1) % 10 + 1\n",
    "            new_score = current_p_score + new_position\n",
    "\n",
    "            if new_score >= WINNING_SCORE:\n",
    "                current_p_wins += count\n",
    "            else:\n",
    "                subsequent_wins = num_wins(other_p_score, other_p_pos, new_score, new_position)\n",
    "                current_p_wins += count * subsequent_wins[1]\n",
    "                other_p_wins += count * subsequent_wins[0]\n",
    "                \n",
    "        return current_p_wins, other_p_wins\n",
    "    \n",
    "    win_counts = num_wins(player_scores[0], player_positions[0], player_scores[1], player_positions[1])\n",
    "        \n",
    "    return max(win_counts)"
   ]
  },
  {
   "cell_type": "code",
   "execution_count": 106,
   "id": "b373658f-164e-458c-8166-4945cb0523cf",
   "metadata": {},
   "outputs": [],
   "source": [
    "assert p2(test_input) == 444356092776315"
   ]
  },
  {
   "cell_type": "code",
   "execution_count": 107,
   "id": "0232fa96-d680-42d4-b900-87b2af852c27",
   "metadata": {},
   "outputs": [],
   "source": [
    "assert p2(puzzle_input) == 92399285032143"
   ]
  }
 ],
 "metadata": {
  "kernelspec": {
   "display_name": "Python [conda env:3_10]",
   "language": "python",
   "name": "conda-env-3_10-py"
  },
  "language_info": {
   "codemirror_mode": {
    "name": "ipython",
    "version": 3
   },
   "file_extension": ".py",
   "mimetype": "text/x-python",
   "name": "python",
   "nbconvert_exporter": "python",
   "pygments_lexer": "ipython3",
   "version": "3.10.0"
  }
 },
 "nbformat": 4,
 "nbformat_minor": 5
}
