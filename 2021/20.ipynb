{
 "cells": [
  {
   "cell_type": "code",
   "execution_count": 1,
   "id": "9cbf846f-29a7-43d5-8945-0fe47d6a274a",
   "metadata": {},
   "outputs": [],
   "source": [
    "import numpy as np"
   ]
  },
  {
   "cell_type": "code",
   "execution_count": 2,
   "id": "e1857fae-33ef-4cec-aabd-4d2401d322fa",
   "metadata": {},
   "outputs": [],
   "source": [
    "test_input = '''..#.#..#####.#.#.#.###.##.....###.##.#..###.####..#####..#....#..#..##..###..######.###...####..#..#####..##..#.#####...##.#.#..#.##..#.#......#.###.######.###.####...#.##.##..#..#..#####.....#.#....###..#.##......#.....#..#..#..##..#...##.######.####.####.#.#...#.......#..#.#.#...####.##.#......#..#...##.#.##..#...##.#.##..###.#......#.#.......#.#.#.####.###.##...#.....####.#..#..#.##.#....##..#.####....##...##..#...#......#.#.......#.......##..####..#...#.#.#...##..#.#..###..#####........#..####......#..#\n",
    "\n",
    "#..#.\n",
    "#....\n",
    "##..#\n",
    "..#..\n",
    "..###'''"
   ]
  },
  {
   "cell_type": "code",
   "execution_count": 3,
   "id": "fae709f3-ee70-4faa-9f47-9f42f6044291",
   "metadata": {},
   "outputs": [],
   "source": [
    "puzzle_input = open('inputs/20').read().strip()"
   ]
  },
  {
   "cell_type": "code",
   "execution_count": 4,
   "id": "4f9df600-c154-419a-aa62-06b04b4a02b0",
   "metadata": {},
   "outputs": [],
   "source": [
    "def string_to_2d(s):\n",
    "    # add spaces between nums\n",
    "    s = '\\n'.join(map(lambda x: ' '.join(list(x)), s.split('\\n'))).strip()\n",
    "    rows = s.count('\\n') + 1\n",
    "    return np.fromstring(s, sep=' ').reshape(rows, -1).astype(np.int64)"
   ]
  },
  {
   "cell_type": "code",
   "execution_count": 5,
   "id": "56ff9e13-0c5f-4733-8c6b-6da8378047ff",
   "metadata": {},
   "outputs": [],
   "source": [
    "def p1(puzzle_input, steps=2):\n",
    "    assert steps % 2 == 0\n",
    "    \n",
    "    puzzle_input = puzzle_input.replace('#', '1').replace('.', '0')\n",
    "    algorithm, board = puzzle_input.split('\\n\\n')\n",
    "    algorithm =  [int(a) for a in algorithm]\n",
    "    board = string_to_2d(board)\n",
    "    \n",
    "    def get_patch_replace(i, j, board, oob):\n",
    "        def get_value(k, l):\n",
    "            if k >= 0 and k < board.shape[0] and l >= 0 and l < board.shape[1]:\n",
    "                return board[k, l]\n",
    "            else:\n",
    "                return oob\n",
    "\n",
    "        index = 256*get_value(i-1, j-1) + 128*get_value(i-1, j) + 64*get_value(i-1, j+1) + \\\n",
    "            32*get_value(i, j-1) + 16*get_value(i, j) + 8*get_value(i, j+1) + \\\n",
    "            4*get_value(i+1, j-1) + 2*get_value(i+1, j) + get_value(i+1, j+1)\n",
    "\n",
    "        return algorithm[index]\n",
    "    \n",
    "    def expand_board(board, oob):\n",
    "        new = np.full((board.shape[0] + 2, board.shape[1] + 2), oob)\n",
    "        new[1:-1, 1:-1] = board\n",
    "\n",
    "        return new\n",
    "    \n",
    "    oob = 0\n",
    "\n",
    "    for i in range(steps):\n",
    "        board = expand_board(board, oob)\n",
    "\n",
    "        old_board = board.copy()\n",
    "\n",
    "        for i in range(board.shape[0]):\n",
    "            for j in range(board.shape[1]):\n",
    "                board[i, j] = get_patch_replace(i, j, old_board, oob)\n",
    "\n",
    "        oob = algorithm[-oob]\n",
    "                \n",
    "    return board.sum()"
   ]
  },
  {
   "cell_type": "code",
   "execution_count": 6,
   "id": "72d3e593-2357-42d7-b604-267097b5aace",
   "metadata": {},
   "outputs": [],
   "source": [
    "assert p1(test_input) == 35"
   ]
  },
  {
   "cell_type": "code",
   "execution_count": 7,
   "id": "f0b866e2-ef8b-47fa-baa2-1a3581376e93",
   "metadata": {},
   "outputs": [],
   "source": [
    "assert p1(puzzle_input) == 5663"
   ]
  },
  {
   "cell_type": "code",
   "execution_count": 8,
   "id": "76c3e2d2-4e0a-42f7-812d-c22693ea2c4b",
   "metadata": {},
   "outputs": [],
   "source": [
    "assert p1(test_input, 50) == 3351"
   ]
  },
  {
   "cell_type": "code",
   "execution_count": 9,
   "id": "fa4a6d2a-b424-49da-bd68-4d71f1699b11",
   "metadata": {},
   "outputs": [],
   "source": [
    "assert p1(puzzle_input, 50) == 19638"
   ]
  }
 ],
 "metadata": {
  "kernelspec": {
   "display_name": "Python [conda env:3_10]",
   "language": "python",
   "name": "conda-env-3_10-py"
  },
  "language_info": {
   "codemirror_mode": {
    "name": "ipython",
    "version": 3
   },
   "file_extension": ".py",
   "mimetype": "text/x-python",
   "name": "python",
   "nbconvert_exporter": "python",
   "pygments_lexer": "ipython3",
   "version": "3.10.0"
  }
 },
 "nbformat": 4,
 "nbformat_minor": 5
}
