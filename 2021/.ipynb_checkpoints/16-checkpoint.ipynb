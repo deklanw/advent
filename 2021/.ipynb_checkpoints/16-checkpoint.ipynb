{
 "cells": [
  {
   "cell_type": "code",
   "execution_count": 1,
   "id": "1a0f0eac-c7b9-49f7-bc1e-826c63a0f5ab",
   "metadata": {},
   "outputs": [],
   "source": [
    "import numpy as np"
   ]
  },
  {
   "cell_type": "code",
   "execution_count": 2,
   "id": "5ad5095c-6051-4bc2-a38d-1a7f7df259f8",
   "metadata": {},
   "outputs": [],
   "source": [
    "puzzle_input = open('inputs/16').read().strip()"
   ]
  },
  {
   "cell_type": "code",
   "execution_count": 3,
   "id": "f2eb09fa-0131-4663-9989-41977895a97f",
   "metadata": {},
   "outputs": [],
   "source": [
    "test1 = 'D2FE28'\n",
    "test2 = '38006F45291200'\n",
    "test3 = 'EE00D40C823060'\n",
    "\n",
    "test4 = '8A004A801A8002F478'\n",
    "test5 = '620080001611562C8802118E34'\n",
    "test6 = 'C0015000016115A2E0802F182340'\n",
    "test7 = 'A0016C880162017C3686B18A3D4780'"
   ]
  },
  {
   "cell_type": "code",
   "execution_count": 4,
   "id": "2784f739-e9b7-4138-8842-4d12a1171b38",
   "metadata": {},
   "outputs": [],
   "source": [
    "def hex_to_4_bit_string(s):\n",
    "    number = int(s, 16)\n",
    "    size = 4 * len(s)\n",
    "    \n",
    "    return f'{number:0>{size}b}'"
   ]
  },
  {
   "cell_type": "code",
   "execution_count": 5,
   "id": "3c7c3b13-aa91-4a5b-b59b-7dd0c369e7d4",
   "metadata": {},
   "outputs": [],
   "source": [
    "class BitString:\n",
    "    def __init__(self, s):\n",
    "        self.s = s\n",
    "        self.consumed = 0\n",
    "        \n",
    "    def get_remaining(self):\n",
    "        return self.s[consumed:]\n",
    "    \n",
    "    def consume_str(self, i):\n",
    "        s = self.s[self.consumed:(self.consumed+i)]\n",
    "        self.consumed += i\n",
    "        return s\n",
    "    \n",
    "    def consume_int(self, i):\n",
    "        return int(self.consume_str(i), 2)"
   ]
  },
  {
   "cell_type": "code",
   "execution_count": 6,
   "id": "40b457f2-2c0b-4894-aeb5-0af98ed02820",
   "metadata": {},
   "outputs": [],
   "source": [
    "def p1(s):\n",
    "    def parse_packet(bs):\n",
    "        version_sum = 0\n",
    "\n",
    "        version = bs.consume_int(3)\n",
    "        version_sum += version\n",
    "\n",
    "        packet_type =  bs.consume_int(3)\n",
    "\n",
    "        match packet_type:\n",
    "            case 4:\n",
    "                # literal\n",
    "                bits = \"\"\n",
    "\n",
    "                while True:\n",
    "                    done = bs.consume_int(1) == 0     \n",
    "                    bits += bs.consume_str(4)\n",
    "\n",
    "                    if done:\n",
    "                        break\n",
    "\n",
    "                literal = int(bits, 2)\n",
    "            case _:\n",
    "                # operator\n",
    "                length_type_id = bs.consume_int(1)\n",
    "\n",
    "                match length_type_id:\n",
    "                    # type 0, the length tells us total number of bits of subpackets\n",
    "                    case 0:\n",
    "                        length_subpackets = bs.consume_int(15)                    \n",
    "                        consumed_prior = bs.consumed\n",
    "\n",
    "                        while bs.consumed - consumed_prior != length_subpackets:\n",
    "                            version_sum += parse_packet(bs)\n",
    "\n",
    "                    # type 0, the length tells us total number of subpackets\n",
    "                    case 1:\n",
    "                        number_of_subpackets = bs.consume_int(11)\n",
    "\n",
    "                        for i in range(number_of_subpackets):\n",
    "                            version_sum += parse_packet(bs)\n",
    "\n",
    "        return version_sum\n",
    "    \n",
    "    return parse_packet(BitString(hex_to_4_bit_string(s)))"
   ]
  },
  {
   "cell_type": "code",
   "execution_count": 7,
   "id": "edda026b-5bd9-458f-bbb2-cbf6e31ed4c8",
   "metadata": {},
   "outputs": [
    {
     "data": {
      "text/plain": [
       "6"
      ]
     },
     "execution_count": 7,
     "metadata": {},
     "output_type": "execute_result"
    }
   ],
   "source": [
    "p1(test1)"
   ]
  },
  {
   "cell_type": "code",
   "execution_count": 8,
   "id": "7599b964-1eed-4bbb-9d27-37dd36240dfd",
   "metadata": {},
   "outputs": [
    {
     "data": {
      "text/plain": [
       "9"
      ]
     },
     "execution_count": 8,
     "metadata": {},
     "output_type": "execute_result"
    }
   ],
   "source": [
    "p1(test2)"
   ]
  },
  {
   "cell_type": "code",
   "execution_count": 9,
   "id": "02c70eaf-d551-4004-b714-d486976064bd",
   "metadata": {},
   "outputs": [
    {
     "data": {
      "text/plain": [
       "14"
      ]
     },
     "execution_count": 9,
     "metadata": {},
     "output_type": "execute_result"
    }
   ],
   "source": [
    "p1(test3)"
   ]
  },
  {
   "cell_type": "code",
   "execution_count": 10,
   "id": "ed2acc26-00b6-4380-a773-d212c6d5a4a7",
   "metadata": {},
   "outputs": [],
   "source": [
    "assert p1(test4) == 16\n",
    "assert p1(test5) == 12\n",
    "assert p1(test6) == 23\n",
    "assert p1(test7) == 31"
   ]
  },
  {
   "cell_type": "code",
   "execution_count": 11,
   "id": "b32e86c7-f77f-4b3f-a432-3b8e411c7b75",
   "metadata": {},
   "outputs": [
    {
     "data": {
      "text/plain": [
       "891"
      ]
     },
     "execution_count": 11,
     "metadata": {},
     "output_type": "execute_result"
    }
   ],
   "source": [
    "p1(puzzle_input)"
   ]
  },
  {
   "cell_type": "code",
   "execution_count": 12,
   "id": "87a04c61-0b1c-4b84-956b-fd14a6b9106f",
   "metadata": {},
   "outputs": [],
   "source": [
    "def operation(packet_type):\n",
    "    match packet_type:\n",
    "        case 0:\n",
    "            return sum\n",
    "        case 1:\n",
    "            return np.product\n",
    "        case 2:\n",
    "            return min\n",
    "        case 3:\n",
    "            return max\n",
    "        case 5:\n",
    "            return lambda vs: vs[0] > vs[1]\n",
    "        case 6:\n",
    "            return lambda vs: vs[0] < vs[1]\n",
    "        case 7:\n",
    "            return lambda vs: vs[0] == vs[1]"
   ]
  },
  {
   "cell_type": "code",
   "execution_count": 15,
   "id": "8792bf7a-72ab-4eca-8415-2672b886dd08",
   "metadata": {},
   "outputs": [],
   "source": [
    "def p2(s):\n",
    "    def parse_packet(bs):\n",
    "        version = bs.consume_int(3)\n",
    "        packet_type =  bs.consume_int(3)\n",
    "\n",
    "        match packet_type:\n",
    "            case 4:\n",
    "                # literal\n",
    "                bits = \"\"\n",
    "\n",
    "                while True:\n",
    "                    done = bs.consume_int(1) == 0     \n",
    "                    bits += bs.consume_str(4)\n",
    "\n",
    "                    if done:\n",
    "                        break\n",
    "\n",
    "                return int(bits, 2)\n",
    "            case _:\n",
    "                # operator\n",
    "                length_type_id = bs.consume_int(1)\n",
    "                subpacket_values = []\n",
    "\n",
    "                match length_type_id:\n",
    "                    # type 0, the length tells us total number of bits of subpackets\n",
    "                    case 0:\n",
    "                        length_subpackets = bs.consume_int(15)                    \n",
    "                        consumed_prior = bs.consumed\n",
    "\n",
    "                        while bs.consumed - consumed_prior != length_subpackets:\n",
    "                            subpacket_values.append(parse_packet(bs))\n",
    "\n",
    "                    # type 0, the length tells us total number of subpackets\n",
    "                    case 1:\n",
    "                        number_of_subpackets = bs.consume_int(11)\n",
    "\n",
    "                        for i in range(number_of_subpackets):\n",
    "                            subpacket_values.append(parse_packet(bs))\n",
    "\n",
    "                return int(operation(packet_type)(subpacket_values))\n",
    "    \n",
    "    return parse_packet(BitString(hex_to_4_bit_string(s)))"
   ]
  },
  {
   "cell_type": "code",
   "execution_count": 16,
   "id": "a7890ead-1550-4eac-923d-a55bd54e7283",
   "metadata": {},
   "outputs": [],
   "source": [
    "assert p2('C200B40A82') == 3\n",
    "assert p2('04005AC33890') == 54\n",
    "assert p2('880086C3E88112') == 7\n",
    "assert p2('CE00C43D881120') == 9\n",
    "assert p2('D8005AC2A8F0') == 1\n",
    "assert p2('F600BC2D8F') == 0\n",
    "assert p2('9C005AC2F8F0') == 0\n",
    "assert p2('9C0141080250320F1802104A08') == 1"
   ]
  },
  {
   "cell_type": "code",
   "execution_count": 17,
   "id": "917182a9-4ed0-4341-adb0-66dece53e0ee",
   "metadata": {},
   "outputs": [
    {
     "data": {
      "text/plain": [
       "673042777597"
      ]
     },
     "execution_count": 17,
     "metadata": {},
     "output_type": "execute_result"
    }
   ],
   "source": [
    "p2(puzzle_input)"
   ]
  }
 ],
 "metadata": {
  "kernelspec": {
   "display_name": "Python [conda env:3_10]",
   "language": "python",
   "name": "conda-env-3_10-py"
  },
  "language_info": {
   "codemirror_mode": {
    "name": "ipython",
    "version": 3
   },
   "file_extension": ".py",
   "mimetype": "text/x-python",
   "name": "python",
   "nbconvert_exporter": "python",
   "pygments_lexer": "ipython3",
   "version": "3.10.0"
  }
 },
 "nbformat": 4,
 "nbformat_minor": 5
}
