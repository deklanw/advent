{
 "cells": [
  {
   "cell_type": "code",
   "execution_count": 1,
   "id": "fc07936d-2b8c-4e23-8a96-68f71ade6c06",
   "metadata": {},
   "outputs": [],
   "source": [
    "from collections import defaultdict"
   ]
  },
  {
   "cell_type": "code",
   "execution_count": 2,
   "id": "fc6fc49d-21ff-47dd-bbd6-0ce59070f0b6",
   "metadata": {},
   "outputs": [],
   "source": [
    "test_input = '''start-A\n",
    "start-b\n",
    "A-c\n",
    "A-b\n",
    "b-d\n",
    "A-end\n",
    "b-end'''\n",
    "\n",
    "test_input2 = '''dc-end\n",
    "HN-start\n",
    "start-kj\n",
    "dc-start\n",
    "dc-HN\n",
    "LN-dc\n",
    "HN-end\n",
    "kj-sa\n",
    "kj-HN\n",
    "kj-dc'''\n",
    "\n",
    "test_input3 = '''fs-end\n",
    "he-DX\n",
    "fs-he\n",
    "start-DX\n",
    "pj-DX\n",
    "end-zg\n",
    "zg-sl\n",
    "zg-pj\n",
    "pj-he\n",
    "RW-he\n",
    "fs-DX\n",
    "pj-RW\n",
    "zg-RW\n",
    "start-pj\n",
    "he-WI\n",
    "zg-he\n",
    "pj-fs\n",
    "start-RW'''"
   ]
  },
  {
   "cell_type": "code",
   "execution_count": 3,
   "id": "c1e0d46d-f129-4ca6-a024-fc8d7554f3f7",
   "metadata": {},
   "outputs": [],
   "source": [
    "puzzle_input = open('inputs/12').read()"
   ]
  },
  {
   "cell_type": "code",
   "execution_count": 15,
   "id": "8c3807dc-7c49-4540-85ef-bbb1de17d0d1",
   "metadata": {},
   "outputs": [],
   "source": [
    "def p1(puzzle_input):\n",
    "    edgelists = defaultdict(list)\n",
    "    \n",
    "    for (a, b) in map(lambda s: s.split('-'), puzzle_input.strip().split('\\n')):\n",
    "        edgelists[a].append(b)\n",
    "        edgelists[b].append(a)\n",
    "\n",
    "    def dfs_special(v, seen):\n",
    "        if v == 'end':\n",
    "            return 1\n",
    "\n",
    "        # invalid path, stop\n",
    "        if v.islower() and v in seen:\n",
    "            return 0\n",
    "\n",
    "        return sum(dfs_special(n, seen | {v}) for n in edgelists[v])\n",
    "                \n",
    "    return dfs_special('start', set())"
   ]
  },
  {
   "cell_type": "code",
   "execution_count": 5,
   "id": "54495350-a6e7-4862-bdbc-de4b5bd8e921",
   "metadata": {},
   "outputs": [],
   "source": [
    "assert p1(test_input) == 10"
   ]
  },
  {
   "cell_type": "code",
   "execution_count": 6,
   "id": "48f827a5-8f09-4103-992b-7069aa9282e0",
   "metadata": {},
   "outputs": [],
   "source": [
    "assert p1(test_input2) == 19"
   ]
  },
  {
   "cell_type": "code",
   "execution_count": 7,
   "id": "8df1626d-2a21-4d5e-9079-2783e73c7799",
   "metadata": {},
   "outputs": [],
   "source": [
    "assert p1(test_input3) == 226"
   ]
  },
  {
   "cell_type": "code",
   "execution_count": 8,
   "id": "83aaf134-cefd-4a64-b785-58d1619390b3",
   "metadata": {},
   "outputs": [
    {
     "data": {
      "text/plain": [
       "4411"
      ]
     },
     "execution_count": 8,
     "metadata": {},
     "output_type": "execute_result"
    }
   ],
   "source": [
    "p1(puzzle_input)"
   ]
  },
  {
   "cell_type": "code",
   "execution_count": 9,
   "id": "36deab22-e9c9-43f9-9181-bb7b05056210",
   "metadata": {},
   "outputs": [],
   "source": [
    "def p2(puzzle_input):\n",
    "    edgelists = defaultdict(list)\n",
    "        \n",
    "    for (a, b) in map(lambda s: s.split('-'), puzzle_input.strip().split('\\n')):\n",
    "        edgelists[a].append(b)\n",
    "        edgelists[b].append(a)\n",
    "\n",
    "    def dfs_special(v, seen, special):\n",
    "        if v == 'end':\n",
    "            return 1\n",
    "\n",
    "        # invalid path, stop\n",
    "        if v == 'start' and v in seen:\n",
    "            return 0\n",
    "        elif v.islower() and v in seen:\n",
    "            if not special:\n",
    "                special = v\n",
    "            else:\n",
    "                return 0\n",
    "\n",
    "        return sum(dfs_special(n, seen | {v}, special) for n in edgelists[v])\n",
    "    \n",
    "    return dfs_special('start', set(), special=None)"
   ]
  },
  {
   "cell_type": "markdown",
   "id": "92db862b-a57d-4cf7-9900-a31cbe668244",
   "metadata": {},
   "source": [
    "You need to check if there is another key in the dict which is lower and == 2 and not start or end."
   ]
  },
  {
   "cell_type": "code",
   "execution_count": 10,
   "id": "da6c2c50-4fa9-4534-a64d-07cd6cc2743f",
   "metadata": {},
   "outputs": [],
   "source": [
    "assert p2(test_input) == 36"
   ]
  },
  {
   "cell_type": "code",
   "execution_count": 11,
   "id": "a1ff4d64-6901-4c50-aec6-cf654c988b49",
   "metadata": {},
   "outputs": [],
   "source": [
    "assert p2(test_input2) == 103"
   ]
  },
  {
   "cell_type": "code",
   "execution_count": 12,
   "id": "6411772b-da1c-41bf-a599-39203ee32348",
   "metadata": {},
   "outputs": [],
   "source": [
    "assert p2(test_input3) == 3509"
   ]
  },
  {
   "cell_type": "code",
   "execution_count": 13,
   "id": "de0a181a-af7d-47b3-9033-b1301f3157a1",
   "metadata": {},
   "outputs": [
    {
     "data": {
      "text/plain": [
       "136767"
      ]
     },
     "execution_count": 13,
     "metadata": {},
     "output_type": "execute_result"
    }
   ],
   "source": [
    "p2(puzzle_input)"
   ]
  }
 ],
 "metadata": {
  "kernelspec": {
   "display_name": "Python [conda env:3_10]",
   "language": "python",
   "name": "conda-env-3_10-py"
  },
  "language_info": {
   "codemirror_mode": {
    "name": "ipython",
    "version": 3
   },
   "file_extension": ".py",
   "mimetype": "text/x-python",
   "name": "python",
   "nbconvert_exporter": "python",
   "pygments_lexer": "ipython3",
   "version": "3.10.0"
  }
 },
 "nbformat": 4,
 "nbformat_minor": 5
}
