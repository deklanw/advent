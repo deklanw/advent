{
 "cells": [
  {
   "cell_type": "code",
   "execution_count": 12,
   "id": "9b3a3493-daf7-4ecf-9e2a-1cb0128e3917",
   "metadata": {},
   "outputs": [],
   "source": [
    "from collections_extended import bijection\n",
    "import numpy as np"
   ]
  },
  {
   "cell_type": "code",
   "execution_count": 2,
   "id": "2aabbb36-5c5a-4f32-a468-0370350df836",
   "metadata": {},
   "outputs": [],
   "source": [
    "test_input = '''[({(<(())[]>[[{[]{<()<>>\n",
    "[(()[<>])]({[<{<<[]>>(\n",
    "{([(<{}[<>[]}>{[]{[(<()>\n",
    "(((({<>}<{<{<>}{[]{[]{}\n",
    "[[<[([]))<([[{}[[()]]]\n",
    "[{[{({}]{}}([{[{{{}}([]\n",
    "{<[[]]>}<{[{[{[]{()[[[]\n",
    "[<(<(<(<{}))><([]([]()\n",
    "<{([([[(<>()){}]>(<<{{\n",
    "<{([{{}}[<[[[<>{}]]]>[]]'''"
   ]
  },
  {
   "cell_type": "code",
   "execution_count": 3,
   "id": "4d87159b-64a1-415f-b629-2c8fe2836994",
   "metadata": {},
   "outputs": [],
   "source": [
    "puzzle_input = open('inputs/10').read()"
   ]
  },
  {
   "cell_type": "code",
   "execution_count": 4,
   "id": "55ea1573-98d1-4734-824e-ccf4d8a19181",
   "metadata": {},
   "outputs": [],
   "source": [
    "openers = ['(', '[', '{', '<']\n",
    "closers = [')', ']', '}', '>']\n",
    "\n",
    "illegal_points_map = {\n",
    "    ')': 3,\n",
    "    ']': 57,\n",
    "    '}': 1197,\n",
    "    '>': 25137,\n",
    "}\n",
    "\n",
    "repair_points_map = {\n",
    "    ')': 1,\n",
    "    ']': 2,\n",
    "    '}': 3,\n",
    "    '>': 4,\n",
    "}\n",
    "\n",
    "matching = bijection({o: c for o, c in zip(openers, closers)})\n",
    "openers = set(openers)\n",
    "closers = set(closers)"
   ]
  },
  {
   "cell_type": "code",
   "execution_count": 5,
   "id": "2d561328-1f71-4d73-bfc7-57e328a8edfc",
   "metadata": {},
   "outputs": [],
   "source": [
    "def p1(puzzle_input):\n",
    "    lines = list(map(list, puzzle_input.strip().split('\\n')))\n",
    "    \n",
    "    points = 0\n",
    "\n",
    "    for l in lines:\n",
    "        stack = []\n",
    "\n",
    "        for c in l:\n",
    "            if c in openers:\n",
    "                stack.append(c)\n",
    "            elif c in closers:\n",
    "                d = stack.pop()\n",
    "\n",
    "                if d != matching.inverse[c]:\n",
    "                    points += illegal_points_map[c]\n",
    "                    break\n",
    "                    \n",
    "    return points"
   ]
  },
  {
   "cell_type": "code",
   "execution_count": 6,
   "id": "6795353e-7a3d-45d7-ae00-bfa9eba6038a",
   "metadata": {},
   "outputs": [],
   "source": [
    "assert p1(test_input) == 26397"
   ]
  },
  {
   "cell_type": "code",
   "execution_count": 7,
   "id": "85390ae2-310e-4247-ad50-dad0382559d9",
   "metadata": {},
   "outputs": [
    {
     "data": {
      "text/plain": [
       "311895"
      ]
     },
     "execution_count": 7,
     "metadata": {},
     "output_type": "execute_result"
    }
   ],
   "source": [
    "p1(puzzle_input)"
   ]
  },
  {
   "cell_type": "code",
   "execution_count": 15,
   "id": "7263737f-abd8-4e35-8c4a-fec900470098",
   "metadata": {},
   "outputs": [],
   "source": [
    "def pt2(puzzle_input):\n",
    "    lines = list(map(list, puzzle_input.strip().split('\\n')))\n",
    "\n",
    "    point_totals = []\n",
    "\n",
    "    for l in lines:\n",
    "        points = 0\n",
    "\n",
    "        stack = []\n",
    "\n",
    "        for c in l:\n",
    "            if c in openers:\n",
    "                stack.append(c)\n",
    "            elif c in closers:\n",
    "                d = stack.pop()\n",
    "\n",
    "                if d != matching.inverse[c]:\n",
    "                    # stack corrupted, empty\n",
    "                    stack = []\n",
    "                    break\n",
    "\n",
    "        # incomplete\n",
    "        # pop off stack and add points of closing     \n",
    "        while stack:\n",
    "            d = stack.pop()\n",
    "            c = matching[d]\n",
    "            points *= 5\n",
    "            points += repair_points_map[c]\n",
    "\n",
    "        if points > 0:\n",
    "            point_totals.append(points)\n",
    "\n",
    "    return np.median(point_totals).astype(np.int64)"
   ]
  },
  {
   "cell_type": "code",
   "execution_count": 17,
   "id": "52625070-ca27-425d-89b2-eb16d7e0916d",
   "metadata": {},
   "outputs": [],
   "source": [
    "assert pt2(test_input) == 288957"
   ]
  },
  {
   "cell_type": "code",
   "execution_count": 18,
   "id": "2ff6c8fd-b59b-483c-8c68-efd8b1b30de5",
   "metadata": {},
   "outputs": [
    {
     "data": {
      "text/plain": [
       "2904180541"
      ]
     },
     "execution_count": 18,
     "metadata": {},
     "output_type": "execute_result"
    }
   ],
   "source": [
    "pt2(puzzle_input)"
   ]
  }
 ],
 "metadata": {
  "kernelspec": {
   "display_name": "Python [conda env:3_10]",
   "language": "python",
   "name": "conda-env-3_10-py"
  },
  "language_info": {
   "codemirror_mode": {
    "name": "ipython",
    "version": 3
   },
   "file_extension": ".py",
   "mimetype": "text/x-python",
   "name": "python",
   "nbconvert_exporter": "python",
   "pygments_lexer": "ipython3",
   "version": "3.10.0"
  }
 },
 "nbformat": 4,
 "nbformat_minor": 5
}
