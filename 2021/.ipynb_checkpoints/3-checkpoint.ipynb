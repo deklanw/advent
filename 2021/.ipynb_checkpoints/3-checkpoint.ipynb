{
 "cells": [
  {
   "cell_type": "code",
   "execution_count": 1,
   "id": "f9b1583c-2b9c-42c0-8ef5-fe0a8ba5fecc",
   "metadata": {},
   "outputs": [],
   "source": [
    "import numpy as np\n",
    "from functools import reduce"
   ]
  },
  {
   "cell_type": "code",
   "execution_count": 2,
   "id": "f8ede40a-dd5b-4ac1-a1c6-85471506a3ed",
   "metadata": {},
   "outputs": [],
   "source": [
    "test_case = '''00100\n",
    "11110\n",
    "10110\n",
    "10111\n",
    "10101\n",
    "01111\n",
    "00111\n",
    "11100\n",
    "10000\n",
    "11001\n",
    "00010\n",
    "01010'''"
   ]
  },
  {
   "cell_type": "code",
   "execution_count": 3,
   "id": "943cf0e0-9aa4-4c32-a5dd-9688e317bc22",
   "metadata": {},
   "outputs": [],
   "source": [
    "def display(n, num_bits):\n",
    "    return format(n, f\"0{num_bits}b\")"
   ]
  },
  {
   "cell_type": "code",
   "execution_count": 4,
   "id": "71ee32bb-d99b-447b-b7d7-27ef2cc423a0",
   "metadata": {},
   "outputs": [
    {
     "data": {
      "text/plain": [
       "['00100',\n",
       " '11110',\n",
       " '10110',\n",
       " '10111',\n",
       " '10101',\n",
       " '01111',\n",
       " '00111',\n",
       " '11100',\n",
       " '10000',\n",
       " '11001',\n",
       " '00010',\n",
       " '01010']"
      ]
     },
     "execution_count": 4,
     "metadata": {},
     "output_type": "execute_result"
    }
   ],
   "source": [
    "test_case.split()"
   ]
  },
  {
   "cell_type": "code",
   "execution_count": 5,
   "id": "fc772f22-2883-4c94-983b-4cdb461ee7e3",
   "metadata": {},
   "outputs": [],
   "source": [
    "def flip(b, num_bits):\n",
    "    return b ^ 2**num_bits - 1 "
   ]
  },
  {
   "cell_type": "code",
   "execution_count": 7,
   "id": "f3cd12ab-7dde-4731-9096-eb5af1f73af0",
   "metadata": {},
   "outputs": [],
   "source": [
    "def p1(puzzle_input):\n",
    "    arr = np.array([[int(i) for i in list(n)] for n in puzzle_input.split()])\n",
    "    \n",
    "    num_binaries, num_digits = arr.shape\n",
    "            \n",
    "    most_common = ((arr.sum(axis=0) / num_binaries) >= 0.5).astype(int)\n",
    "    most_common = int(''.join([str(b) for b in most_common]), 2)\n",
    "    \n",
    "    return most_common * flip(most_common, num_digits)"
   ]
  },
  {
   "cell_type": "code",
   "execution_count": 8,
   "id": "c75022db-a0b2-4991-a136-2b5fece2ddf9",
   "metadata": {},
   "outputs": [],
   "source": [
    "assert p1(test_case) == 198"
   ]
  },
  {
   "cell_type": "code",
   "execution_count": 9,
   "id": "b8047dc4-f008-4b10-890a-51cd85247f3c",
   "metadata": {},
   "outputs": [],
   "source": [
    "with open('inputs/3') as f:\n",
    "    puzzle_input = f.read()"
   ]
  },
  {
   "cell_type": "code",
   "execution_count": 10,
   "id": "9a381685-1189-48a6-8d3f-f6e21b874544",
   "metadata": {},
   "outputs": [
    {
     "data": {
      "text/plain": [
       "3242606"
      ]
     },
     "execution_count": 10,
     "metadata": {},
     "output_type": "execute_result"
    }
   ],
   "source": [
    "p1(puzzle_input)"
   ]
  },
  {
   "cell_type": "code",
   "execution_count": 11,
   "id": "f41a9958-1e1e-43b9-a7a2-f31d62684cd1",
   "metadata": {},
   "outputs": [],
   "source": [
    "def p2(puzzle_input):\n",
    "    nums = [int(s, 2) for s in puzzle_input.split()]\n",
    "    \n",
    "    arr = np.array([[int(i) for i in list(n)] for n in puzzle_input.split()])\n",
    "    \n",
    "    num_digits = arr.shape[1]\n",
    "    \n",
    "    oxygen_arr = arr.copy()\n",
    "    scrubber_arr = arr.copy()\n",
    "    \n",
    "    for i in range(0, num_digits):\n",
    "        common = int(oxygen_arr.sum(axis=0)[i] / oxygen_arr.shape[0] >= 0.5)        \n",
    "        oxygen_arr = oxygen_arr[oxygen_arr[:, i] == common]\n",
    "        \n",
    "        if oxygen_arr.shape[0] == 1:\n",
    "            break\n",
    "            \n",
    "    for i in range(0, num_digits):\n",
    "        common = int(scrubber_arr.sum(axis=0)[i] / scrubber_arr.shape[0] < 0.5)        \n",
    "        scrubber_arr = scrubber_arr[scrubber_arr[:, i] == common]\n",
    "\n",
    "        if scrubber_arr.shape[0] == 1:\n",
    "            break\n",
    "    \n",
    "    oxygen = int(''.join([str(b) for b in oxygen_arr[0]]), 2)\n",
    "    scrubber = int(''.join([str(b) for b in scrubber_arr[0]]), 2)\n",
    "\n",
    "    return oxygen * scrubber"
   ]
  },
  {
   "cell_type": "code",
   "execution_count": 12,
   "id": "25725997-95d8-44f1-b86b-b7f8ef393f62",
   "metadata": {},
   "outputs": [],
   "source": [
    "assert p2(test_case) == 230"
   ]
  },
  {
   "cell_type": "code",
   "execution_count": 13,
   "id": "ffebe2db-791a-4d64-8e84-9eafbf2ffed8",
   "metadata": {},
   "outputs": [
    {
     "data": {
      "text/plain": [
       "4856080"
      ]
     },
     "execution_count": 13,
     "metadata": {},
     "output_type": "execute_result"
    }
   ],
   "source": [
    "p2(puzzle_input)"
   ]
  }
 ],
 "metadata": {
  "kernelspec": {
   "display_name": "Python [conda env:3_10]",
   "language": "python",
   "name": "conda-env-3_10-py"
  },
  "language_info": {
   "codemirror_mode": {
    "name": "ipython",
    "version": 3
   },
   "file_extension": ".py",
   "mimetype": "text/x-python",
   "name": "python",
   "nbconvert_exporter": "python",
   "pygments_lexer": "ipython3",
   "version": "3.10.0"
  }
 },
 "nbformat": 4,
 "nbformat_minor": 5
}
