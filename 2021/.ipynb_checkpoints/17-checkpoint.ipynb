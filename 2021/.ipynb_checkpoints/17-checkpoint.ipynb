{
 "cells": [
  {
   "cell_type": "code",
   "execution_count": 1,
   "id": "a700735f-0d9a-4968-93d5-d9264d68279a",
   "metadata": {},
   "outputs": [],
   "source": [
    "import numpy as np\n",
    "import math\n",
    "import re\n",
    "import itertools"
   ]
  },
  {
   "cell_type": "markdown",
   "id": "85278cf9-ca74-4caf-ae95-04ba277ba8c3",
   "metadata": {},
   "source": [
    "Let t be time steps\n",
    "\n",
    "v_x(t) = v_x(0) - sign(v_x(0))*t if t <= |v_x(0)| otherwise 0\n",
    "v_y(t) = v_y(0) - t\n",
    "\n",
    "where v_x(0) and v_y(0) are (unknown) constants\n",
    "\n",
    "(Initial position is (0,0) so can exclude those constants here)\n",
    "\n",
    "BE VERY CAREFUL ABOUT BOUNDS. ITS FROM 0 TO T-1 NOT 1 TO T!! BIT ME ONCE.\n",
    "\n",
    "x(t) = sum from t=0 to t=t-1 of v_x(t)\n",
    "y(t) = sum from t=0 to t=t-1 of v_y(t)\n",
    "\n",
    "y(t) = v_y(0) * t  - (t(t-1)/2)\n",
    "y(t) = (v_y(0) + 1/2)*t - t^2/2\n",
    "y'(t) = v_y(0) + 1/2 - t\n",
    "\n",
    "y'(t) = 0 => t = v_y(0) + 1/2\n",
    "\n",
    "Since v_y(0) is an integer we know the maximum happens at v_y(0) and v_y(0) + 1.\n",
    "\n",
    "Indeed, assuming v_y(0) > 0 (we don't shoot it down), that maximum is\n",
    "y(v_y(0)) = v_y(0)^2/2 + v_y(0)/2\n",
    "\n",
    "(notice symmetry with the maximum x position case).\n",
    "\n",
    "Let's check y(1)\n",
    "\n",
    "y(1) = v_y(0)\n",
    "\n",
    "x(t) = v_x(0)*t - sign(v_x(0))*(t(t-1)/2) if t <= |v_x(0)|) otherwise x(|v_x(0)|)\n",
    "\n",
    "Objective: solve for v_x(0), v_y(0), and t such that the inequalities are satisfied and y(t) is maximized\n",
    "\n",
    "Notice that x(t) always attains a maximum position (in absolute value) of x(|v_x(0)|) then it stops changing position.\n",
    "\n",
    "\n",
    "x(v_x(0)) = v_x(0)^2 - sign(v_x(0)) * (v_x(0) * (v_x(0)-1) / 2)\n",
    "\n",
    "x(v_x(0)) = v_x(0)^2 - sign(v_x(0)) * (v_x(0)^2/2 - v_x(0)/2)\n",
    "\n",
    "assuming a positive sign that becomes\n",
    "\n",
    "x(v_x(0)) = v_x(0)^2/2 + v_x(0)/2\n",
    "\n",
    "assuming min_x is positive,\n",
    "v^2/2 + v/2 = min_x\n",
    "\n",
    "has positive solution\n",
    "v = 1/2 * (np.sqrt(8*min_x) - 1)\n",
    "\n",
    "so if we want the ball to hit at least min_x eventually we need \n",
    "v_x > 1/2 * (np.sqrt(8*min_x) - 1)\n",
    "\n",
    "i.e.,\n",
    "\n",
    "v_x > math.ceiling(1/2 * (np.sqrt(8*min_x) - 1))"
   ]
  },
  {
   "cell_type": "code",
   "execution_count": 2,
   "id": "c693e1e4-42f9-41c5-a10e-0627f04e5454",
   "metadata": {},
   "outputs": [],
   "source": [
    "def y_pos(v_y_0, t):\n",
    "    return (v_y_0 + 1/2) * t - t**2/2\n",
    "\n",
    "def x_pos(v_x_0, t):\n",
    "    t_star = min(t, abs(v_x_0))\n",
    "    return v_x_0*t_star - np.sign(v_x_0)*(t_star*(t_star-1)/2)"
   ]
  },
  {
   "cell_type": "code",
   "execution_count": 3,
   "id": "6f37b316-8d20-4cd2-9db2-29395eb92dd3",
   "metadata": {},
   "outputs": [],
   "source": [
    "test_input = \"target area: x=20..30, y=-10..-5\""
   ]
  },
  {
   "cell_type": "code",
   "execution_count": 4,
   "id": "ae520b70-3f3c-4b99-a737-b77dfaa474cd",
   "metadata": {},
   "outputs": [],
   "source": [
    "puzzle_input = open('inputs/17').read().strip()"
   ]
  },
  {
   "cell_type": "code",
   "execution_count": 8,
   "id": "4f4cbbb6-c19b-469c-965a-b9a23d3a5868",
   "metadata": {},
   "outputs": [],
   "source": [
    "def p1(s):\n",
    "    reg = \".*x=(.*), y=(.*)\"\n",
    "\n",
    "    m = re.match(reg, s)\n",
    "\n",
    "    min_x, max_x = map(int, m.group(1).split('..'))\n",
    "    min_y, max_y = map(int, m.group(2).split('..'))\n",
    "    \n",
    "    max_heights = []\n",
    "\n",
    "    # assuming v_x_0 > 0 since all the examples (and my input) are that way.\n",
    "    for v_x_0 in range(math.ceil(1/2 * (np.sqrt(8*min_x) - 1)), max_x + 1):\n",
    "        fudge_factor = 300\n",
    "\n",
    "        for v_y_0 in range(min_y, fudge_factor):\n",
    "            # if v_y_0 < 0 we attain our peak immediately, otherwise\n",
    "            # occurs at v_y_0 and v_y_0 + 1. choosing one.\n",
    "            max_height_time = max(0, v_y_0)\n",
    "\n",
    "            # position over time\n",
    "            for t in itertools.count(0):\n",
    "                y = y_pos(v_y_0, t)\n",
    "                x = x_pos(v_x_0, t)\n",
    "\n",
    "                if x >= min_x and x <= max_x and y >= min_y and y <= max_y:\n",
    "                    max_height = y_pos(v_y_0, max_height_time)\n",
    "                    max_heights.append(max_height)\n",
    "                    break\n",
    "\n",
    "                # if we've already attained our y peak and we're still under it, we're never hitting it.\n",
    "                if t >= max_height_time and y < min_y:\n",
    "                    break\n",
    "\n",
    "    return int(max(max_heights))"
   ]
  },
  {
   "cell_type": "code",
   "execution_count": 9,
   "id": "4f90400a-2dd4-4a6c-94f6-14b824f7bd93",
   "metadata": {},
   "outputs": [],
   "source": [
    "assert p1(test_input) == 45"
   ]
  },
  {
   "cell_type": "code",
   "execution_count": 10,
   "id": "632293f0-fd49-4c28-9a3c-c78d82b2dbfa",
   "metadata": {},
   "outputs": [
    {
     "data": {
      "text/plain": [
       "12561"
      ]
     },
     "execution_count": 10,
     "metadata": {},
     "output_type": "execute_result"
    }
   ],
   "source": [
    "# fudge factor -> result\n",
    "# 100 -> 3081\n",
    "# 200 -> 12561\n",
    "# 300 -> 12561\n",
    "p1(puzzle_input)"
   ]
  },
  {
   "cell_type": "code",
   "execution_count": 11,
   "id": "310c6d9c-f969-4aa8-b364-0503b86ca713",
   "metadata": {},
   "outputs": [],
   "source": [
    "def p2(s):\n",
    "    reg = \".*x=(.*), y=(.*)\"\n",
    "\n",
    "    m = re.match(reg, s)\n",
    "\n",
    "    min_x, max_x = map(int, m.group(1).split('..'))\n",
    "    min_y, max_y = map(int, m.group(2).split('..'))\n",
    "    \n",
    "    count = 0\n",
    "\n",
    "    # assuming v_x_0 > 0 since all the examples (and my input) are that way.\n",
    "    for v_x_0 in range(math.ceil(1/2 * (np.sqrt(8*min_x) - 1)), max_x + 1):\n",
    "        fudge_factor = 300\n",
    "\n",
    "        for v_y_0 in range(min_y, fudge_factor):\n",
    "            # if v_y_0 < 0 we attain our peak immediately, otherwise\n",
    "            # occurs at v_y_0 and v_y_0 + 1. choosing one.\n",
    "            max_height_time = max(0, v_y_0)\n",
    "\n",
    "            # position over time\n",
    "            for t in itertools.count(0):\n",
    "                y = y_pos(v_y_0, t)\n",
    "                x = x_pos(v_x_0, t)\n",
    "\n",
    "                if x >= min_x and x <= max_x and y >= min_y and y <= max_y:\n",
    "                    count += 1\n",
    "                    break\n",
    "\n",
    "                # if we've already attained our y peak and we're still under it, we're never hitting it.\n",
    "                if t >= max_height_time and y < min_y:\n",
    "                    break\n",
    "\n",
    "    return count"
   ]
  },
  {
   "cell_type": "code",
   "execution_count": 12,
   "id": "e888f0aa-56e7-41fb-805d-f5a8e61c983a",
   "metadata": {},
   "outputs": [
    {
     "data": {
      "text/plain": [
       "112"
      ]
     },
     "execution_count": 12,
     "metadata": {},
     "output_type": "execute_result"
    }
   ],
   "source": [
    "p2(test_input)"
   ]
  },
  {
   "cell_type": "code",
   "execution_count": 13,
   "id": "b7337a0c-a817-4871-bf64-2b0bcb8dbd48",
   "metadata": {},
   "outputs": [
    {
     "data": {
      "text/plain": [
       "3785"
      ]
     },
     "execution_count": 13,
     "metadata": {},
     "output_type": "execute_result"
    }
   ],
   "source": [
    "p2(puzzle_input)"
   ]
  }
 ],
 "metadata": {
  "kernelspec": {
   "display_name": "Python [conda env:3_10]",
   "language": "python",
   "name": "conda-env-3_10-py"
  },
  "language_info": {
   "codemirror_mode": {
    "name": "ipython",
    "version": 3
   },
   "file_extension": ".py",
   "mimetype": "text/x-python",
   "name": "python",
   "nbconvert_exporter": "python",
   "pygments_lexer": "ipython3",
   "version": "3.10.0"
  }
 },
 "nbformat": 4,
 "nbformat_minor": 5
}
