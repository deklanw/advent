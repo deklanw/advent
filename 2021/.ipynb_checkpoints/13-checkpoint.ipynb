{
 "cells": [
  {
   "cell_type": "code",
   "execution_count": 1,
   "id": "a560f1f7-d288-4250-b81a-97fcde7af30a",
   "metadata": {},
   "outputs": [],
   "source": [
    "import numpy as np\n",
    "import re"
   ]
  },
  {
   "cell_type": "code",
   "execution_count": 2,
   "id": "29c6e3cb-91d6-452d-a566-98f7f011c003",
   "metadata": {},
   "outputs": [],
   "source": [
    "test_input = '''6,10\n",
    "0,14\n",
    "9,10\n",
    "0,3\n",
    "10,4\n",
    "4,11\n",
    "6,0\n",
    "6,12\n",
    "4,1\n",
    "0,13\n",
    "10,12\n",
    "3,4\n",
    "3,0\n",
    "8,4\n",
    "1,10\n",
    "2,14\n",
    "8,10\n",
    "9,0\n",
    "\n",
    "fold along y=7\n",
    "fold along x=5'''"
   ]
  },
  {
   "cell_type": "code",
   "execution_count": 3,
   "id": "55cd22c5-9194-4ae4-9f4b-80af8b7db332",
   "metadata": {},
   "outputs": [],
   "source": [
    "puzzle_input = open('inputs/13').read()"
   ]
  },
  {
   "cell_type": "code",
   "execution_count": 16,
   "id": "904cda84-6fea-48d3-86f9-c4cb05c6eb38",
   "metadata": {},
   "outputs": [],
   "source": [
    "def p1(puzzle_input):\n",
    "    coord_strings, fold_strings = puzzle_input.strip().split('\\n\\n')\n",
    "\n",
    "    coords = [tuple(map(int, s.split(','))) for s in coord_strings.split('\\n')]\n",
    "\n",
    "    folds = []\n",
    "    for s in fold_strings.split('\\n'):\n",
    "        reg = r\"fold along (x|y)=(\\d+)\"\n",
    "\n",
    "        m = re.match(reg, s)\n",
    "\n",
    "        dim, num = m.group(1), int(m.group(2))\n",
    "\n",
    "        match dim:\n",
    "            case 'x':\n",
    "                folds.append((num, 0))\n",
    "            case 'y':\n",
    "                folds.append((0, num))\n",
    "                \n",
    "    shape = max([c[0] for c in coords]) + 1, max([c[1] for c in coords]) + 1\n",
    "    \n",
    "    board = np.zeros(shape).astype(bool)\n",
    "    \n",
    "    board[tuple(zip(*coords))] = True\n",
    "    \n",
    "    (a, b) = folds[0]\n",
    "    \n",
    "    if a == 0:\n",
    "        board = board[:, :b] | np.flip(board[:, (b+1):], axis=1)\n",
    "    else:\n",
    "        board = board[:a, :] | np.flip(board[(a+1):, :], axis=0)\n",
    "        \n",
    "    return board.sum()"
   ]
  },
  {
   "cell_type": "code",
   "execution_count": 17,
   "id": "ba1b2aa3-aa72-46d5-a09f-d0c23fe854a5",
   "metadata": {},
   "outputs": [],
   "source": [
    "assert p1(test_input) == 17"
   ]
  },
  {
   "cell_type": "code",
   "execution_count": 18,
   "id": "21038c7f-5082-46cf-9bdc-3f2193a889ac",
   "metadata": {},
   "outputs": [
    {
     "data": {
      "text/plain": [
       "653"
      ]
     },
     "execution_count": 18,
     "metadata": {},
     "output_type": "execute_result"
    }
   ],
   "source": [
    "p1(puzzle_input)"
   ]
  },
  {
   "cell_type": "code",
   "execution_count": 19,
   "id": "dd7006df-9947-4a7a-8661-3df090a8e2af",
   "metadata": {},
   "outputs": [],
   "source": [
    "def p2(puzzle_input):\n",
    "    coord_strings, fold_strings = puzzle_input.strip().split('\\n\\n')\n",
    "\n",
    "    coords = [tuple(map(int, s.split(','))) for s in coord_strings.split('\\n')]\n",
    "\n",
    "    folds = []\n",
    "    for s in fold_strings.split('\\n'):\n",
    "        reg = r\"fold along (x|y)=(\\d+)\"\n",
    "\n",
    "        m = re.match(reg, s)\n",
    "\n",
    "        dim, num = m.group(1), int(m.group(2))\n",
    "\n",
    "        match dim:\n",
    "            case 'x':\n",
    "                folds.append((num, 0))\n",
    "            case 'y':\n",
    "                folds.append((0, num))\n",
    "                \n",
    "    shape = max([c[0] for c in coords]) + 1, max([c[1] for c in coords]) + 1\n",
    "    \n",
    "    board = np.zeros(shape).astype(bool)\n",
    "    \n",
    "    board[tuple(zip(*coords))] = True\n",
    "    \n",
    "    for (a, b) in folds:\n",
    "        if a == 0:\n",
    "            board = board[:, :b] | np.flip(board[:, (b+1):], axis=1)\n",
    "        else:\n",
    "            board = board[:a, :] | np.flip(board[(a+1):, :], axis=0)\n",
    "        \n",
    "    return board"
   ]
  },
  {
   "cell_type": "code",
   "execution_count": 20,
   "id": "800f2fbb-8d63-4183-83d3-267fef8ddb41",
   "metadata": {},
   "outputs": [],
   "source": [
    "board = p2(puzzle_input)"
   ]
  },
  {
   "cell_type": "markdown",
   "id": "341c0680-8d78-439f-b073-7c0f771a9e33",
   "metadata": {},
   "source": [
    "Just flip around and read in Paint >:)"
   ]
  },
  {
   "cell_type": "code",
   "execution_count": 34,
   "id": "1eebadb1-fe55-42dd-9112-edd494a9979a",
   "metadata": {},
   "outputs": [
    {
     "data": {
      "text/plain": [
       "array([[1, 1, 1, 1, 1, 1],\n",
       "       [0, 0, 0, 0, 0, 1],\n",
       "       [0, 0, 0, 0, 0, 1],\n",
       "       [0, 0, 0, 0, 0, 1],\n",
       "       [0, 0, 0, 0, 0, 0],\n",
       "       [1, 1, 1, 1, 1, 1],\n",
       "       [0, 0, 1, 0, 0, 0],\n",
       "       [0, 1, 0, 1, 1, 0],\n",
       "       [1, 0, 0, 0, 0, 1],\n",
       "       [0, 0, 0, 0, 0, 0],\n",
       "       [1, 1, 1, 1, 1, 1],\n",
       "       [1, 0, 0, 1, 0, 0],\n",
       "       [1, 0, 0, 1, 1, 0],\n",
       "       [0, 1, 1, 0, 0, 1],\n",
       "       [0, 0, 0, 0, 0, 0],\n",
       "       [1, 1, 1, 1, 1, 1],\n",
       "       [1, 0, 1, 0, 0, 1],\n",
       "       [1, 0, 1, 0, 0, 1],\n",
       "       [1, 0, 0, 0, 0, 1],\n",
       "       [0, 0, 0, 0, 0, 0],\n",
       "       [1, 1, 1, 1, 1, 1],\n",
       "       [1, 0, 1, 0, 0, 1],\n",
       "       [1, 0, 1, 0, 0, 1],\n",
       "       [0, 1, 0, 1, 1, 0],\n",
       "       [0, 0, 0, 0, 0, 0],\n",
       "       [1, 1, 1, 1, 1, 1],\n",
       "       [1, 0, 0, 1, 0, 0],\n",
       "       [1, 0, 0, 1, 0, 0],\n",
       "       [0, 1, 1, 0, 0, 0],\n",
       "       [0, 0, 0, 0, 0, 0],\n",
       "       [1, 1, 1, 1, 1, 1],\n",
       "       [1, 0, 0, 1, 0, 0],\n",
       "       [1, 0, 0, 1, 1, 0],\n",
       "       [0, 1, 1, 0, 0, 1],\n",
       "       [0, 0, 0, 0, 0, 0],\n",
       "       [1, 1, 1, 1, 1, 1],\n",
       "       [0, 0, 1, 0, 0, 0],\n",
       "       [0, 1, 0, 1, 1, 0],\n",
       "       [1, 0, 0, 0, 0, 1],\n",
       "       [0, 0, 0, 0, 0, 0]])"
      ]
     },
     "execution_count": 34,
     "metadata": {},
     "output_type": "execute_result"
    }
   ],
   "source": [
    "board.astype(np.int64)"
   ]
  }
 ],
 "metadata": {
  "kernelspec": {
   "display_name": "Python [conda env:3_10]",
   "language": "python",
   "name": "conda-env-3_10-py"
  },
  "language_info": {
   "codemirror_mode": {
    "name": "ipython",
    "version": 3
   },
   "file_extension": ".py",
   "mimetype": "text/x-python",
   "name": "python",
   "nbconvert_exporter": "python",
   "pygments_lexer": "ipython3",
   "version": "3.10.0"
  }
 },
 "nbformat": 4,
 "nbformat_minor": 5
}
