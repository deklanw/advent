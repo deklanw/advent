{
 "cells": [
  {
   "cell_type": "code",
   "execution_count": 1,
   "id": "02d6271a-80c9-434c-bc71-2480bb00cbc7",
   "metadata": {},
   "outputs": [],
   "source": [
    "import numpy as np"
   ]
  },
  {
   "cell_type": "code",
   "execution_count": 11,
   "id": "a3c3061b-ed63-4367-a05f-376268fe5e0a",
   "metadata": {},
   "outputs": [],
   "source": [
    "puzzle_input = open('inputs/4').read()"
   ]
  },
  {
   "cell_type": "code",
   "execution_count": 2,
   "id": "30eb346b-90b3-408a-ad74-8dd0d72c8d8e",
   "metadata": {},
   "outputs": [],
   "source": [
    "test_case = '''7,4,9,5,11,17,23,2,0,14,21,24,10,16,13,6,15,25,12,22,18,20,8,19,3,26,1\n",
    "\n",
    "22 13 17 11  0\n",
    " 8  2 23  4 24\n",
    "21  9 14 16  7\n",
    " 6 10  3 18  5\n",
    " 1 12 20 15 19\n",
    "\n",
    " 3 15  0  2 22\n",
    " 9 18 13 17  5\n",
    "19  8  7 25 23\n",
    "20 11 10 24  4\n",
    "14 21 16 12  6\n",
    "\n",
    "14 21 17 24  4\n",
    "10 16 15  9 19\n",
    "18  8 23 26 20\n",
    "22 11 13  6  5\n",
    " 2  0 12  3  7'''"
   ]
  },
  {
   "cell_type": "code",
   "execution_count": 3,
   "id": "b366c637-e77b-41ed-af80-cd1ab56f276a",
   "metadata": {},
   "outputs": [],
   "source": [
    "def string_to_2d(s):\n",
    "    rows = s.count('\\n') + 1\n",
    "    return np.fromstring(s, sep=' ').reshape(rows, -1).astype(np.int64)"
   ]
  },
  {
   "cell_type": "code",
   "execution_count": 4,
   "id": "a2669b74-17a3-47ff-ac89-c2fd49317ddd",
   "metadata": {},
   "outputs": [],
   "source": [
    "def check_for_bingo(h):\n",
    "    return np.any(np.all(h, axis=0)) or np.any(np.all(h, axis=1))"
   ]
  },
  {
   "cell_type": "code",
   "execution_count": 5,
   "id": "da998fde-8632-44e6-adf5-83c862554f66",
   "metadata": {},
   "outputs": [],
   "source": [
    "def p1(s):\n",
    "    splt = s.strip().split('\\n\\n')\n",
    "    nums = [int(s) for s in splt[0].split(',')]\n",
    "    boards = [string_to_2d(s) for s in splt[1:]]\n",
    "    hits = [np.zeros(boards[0].shape).astype(bool) for _ in boards]\n",
    "\n",
    "    for n in nums:\n",
    "        for i, b in enumerate(boards):\n",
    "            # not most efficient method, but easy\n",
    "            h = np.logical_or(hits[i], b == n)\n",
    "            \n",
    "            # check for bingo\n",
    "            if check_for_bingo(h):                \n",
    "                return n * b[np.invert(h)].sum()\n",
    "            \n",
    "            hits[i] = h"
   ]
  },
  {
   "cell_type": "code",
   "execution_count": 6,
   "id": "d1dbde8a-d027-41dd-a550-67d8cdefc202",
   "metadata": {},
   "outputs": [],
   "source": [
    "assert p1(test_case) == 4512"
   ]
  },
  {
   "cell_type": "code",
   "execution_count": 12,
   "id": "a85ae5e8-18bf-4e5d-ae64-ed8169015826",
   "metadata": {},
   "outputs": [
    {
     "data": {
      "text/plain": [
       "5685"
      ]
     },
     "execution_count": 12,
     "metadata": {},
     "output_type": "execute_result"
    }
   ],
   "source": [
    "p1(puzzle_input)"
   ]
  },
  {
   "cell_type": "code",
   "execution_count": 8,
   "id": "63add992-de6f-47bd-9065-749ff551b4bb",
   "metadata": {},
   "outputs": [],
   "source": [
    "def p2(s):\n",
    "    splt = s.strip().split('\\n\\n')\n",
    "    nums = [int(s) for s in splt[0].split(',')]\n",
    "    boards = [string_to_2d(s) for s in splt[1:]]\n",
    "    hits = [np.zeros(boards[0].shape).astype(bool) for _ in boards]\n",
    "\n",
    "    bingoed = set()\n",
    "    \n",
    "    for n in nums:\n",
    "        for i, b in enumerate(boards):\n",
    "            # not most efficient method, but easy\n",
    "            h = np.logical_or(hits[i], b == n)\n",
    "            \n",
    "            # check for bingo\n",
    "            if check_for_bingo(h):\n",
    "                bingoed.add(i)\n",
    "                \n",
    "                if len(bingoed) == len(boards):\n",
    "                    return n * b[np.invert(h)].sum()\n",
    "            \n",
    "            hits[i] = h"
   ]
  },
  {
   "cell_type": "code",
   "execution_count": 9,
   "id": "256c7f20-7eaf-4069-a9dc-0b3fc70727b2",
   "metadata": {},
   "outputs": [],
   "source": [
    "assert p2(test_case) == 1924"
   ]
  },
  {
   "cell_type": "code",
   "execution_count": 13,
   "id": "261f3513-fd2e-44e2-b684-bd2b7c6d77bd",
   "metadata": {},
   "outputs": [
    {
     "data": {
      "text/plain": [
       "21070"
      ]
     },
     "execution_count": 13,
     "metadata": {},
     "output_type": "execute_result"
    }
   ],
   "source": [
    "p2(puzzle_input)"
   ]
  }
 ],
 "metadata": {
  "kernelspec": {
   "display_name": "Python [conda env:3_10]",
   "language": "python",
   "name": "conda-env-3_10-py"
  },
  "language_info": {
   "codemirror_mode": {
    "name": "ipython",
    "version": 3
   },
   "file_extension": ".py",
   "mimetype": "text/x-python",
   "name": "python",
   "nbconvert_exporter": "python",
   "pygments_lexer": "ipython3",
   "version": "3.10.0"
  }
 },
 "nbformat": 4,
 "nbformat_minor": 5
}
