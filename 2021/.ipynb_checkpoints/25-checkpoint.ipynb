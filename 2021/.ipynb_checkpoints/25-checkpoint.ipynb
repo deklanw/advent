{
 "cells": [
  {
   "cell_type": "code",
   "execution_count": 1,
   "id": "b3f0db4f-281a-429e-a84c-130bb6ea2032",
   "metadata": {},
   "outputs": [],
   "source": [
    "import numpy as np\n",
    "import itertools"
   ]
  },
  {
   "cell_type": "code",
   "execution_count": 2,
   "id": "b91b5a44-0850-4ab4-b6fb-102a204892e2",
   "metadata": {},
   "outputs": [],
   "source": [
    "def string_to_2d(s):\n",
    "    # add spaces between nums\n",
    "    s = '\\n'.join(map(lambda x: ' '.join(list(x)), s.split('\\n'))).strip()\n",
    "    rows = s.count('\\n') + 1\n",
    "    return np.fromstring(s, sep=' ').reshape(rows, -1).astype(np.int64)"
   ]
  },
  {
   "cell_type": "code",
   "execution_count": 3,
   "id": "7a50f11c-b3b4-4c52-8686-57d035e71dc1",
   "metadata": {},
   "outputs": [],
   "source": [
    "test_input = '''v...>>.vv>\n",
    ".vv>>.vv..\n",
    ">>.>v>...v\n",
    ">>v>>.>.v.\n",
    "v>v.vv.v..\n",
    ">.>>..v...\n",
    ".vv..>.>v.\n",
    "v.v..>>v.v\n",
    "....v..v.>'''"
   ]
  },
  {
   "cell_type": "code",
   "execution_count": 6,
   "id": "2a46ac53-4014-4092-ada6-8f750190af77",
   "metadata": {},
   "outputs": [],
   "source": [
    "puzzle_input = open('inputs/25').read().strip()"
   ]
  },
  {
   "cell_type": "code",
   "execution_count": 4,
   "id": "8281ce5c-0140-4531-a0a4-0bbb7b58236d",
   "metadata": {},
   "outputs": [],
   "source": [
    "def p1(puzzle_input):\n",
    "    east_board = string_to_2d(puzzle_input.replace('v', '.').replace('.', '0').replace('>', '1'))\n",
    "    south_board = string_to_2d(puzzle_input.replace('>', '.').replace('.', '0').replace('v', '1'))\n",
    "    \n",
    "    full_board = east_board | south_board\n",
    "    \n",
    "    for i in itertools.count(1):\n",
    "        # these are new positions of valid movers\n",
    "        new_positions_of_valid = np.roll(east_board, 1, axis=1) & (1-east_board) & (1-south_board)\n",
    "\n",
    "        # we can roll backwards, remove them from their prior positions, then add them in their new positions\n",
    "        new_east_board = east_board - np.roll(new_positions_of_valid, -1, axis=1) + new_positions_of_valid\n",
    "\n",
    "        assert new_east_board.sum() == east_board.sum()\n",
    "        assert (new_east_board & south_board).sum() == 0\n",
    "\n",
    "        east_board = new_east_board\n",
    "\n",
    "        # these are new positions of valid movers\n",
    "        new_positions_of_valid = np.roll(south_board, 1, axis=0) & (1-east_board) & (1-south_board)\n",
    "\n",
    "        # we can roll backwards, remove them from their prior positions, then add them in their new positions\n",
    "        new_south_board = south_board - np.roll(new_positions_of_valid, -1, axis=0) + new_positions_of_valid\n",
    "\n",
    "        assert new_south_board.sum() == south_board.sum()\n",
    "        assert (new_south_board & east_board).sum() == 0\n",
    "\n",
    "        south_board = new_south_board\n",
    "\n",
    "        assert (south_board & east_board).sum() == 0\n",
    "        assert (south_board | east_board).sum() == south_board.sum() + east_board.sum()\n",
    "\n",
    "        new_full_board = east_board | south_board\n",
    "\n",
    "        if np.allclose(new_full_board, full_board):\n",
    "            return i\n",
    "\n",
    "        full_board = new_full_board"
   ]
  },
  {
   "cell_type": "code",
   "execution_count": 5,
   "id": "addb2767-8169-48b0-9b83-bac6cbff27c0",
   "metadata": {},
   "outputs": [],
   "source": [
    "assert p1(test_input) == 58"
   ]
  },
  {
   "cell_type": "code",
   "execution_count": 7,
   "id": "e4a667fa-4de9-4e28-ba0e-f57c86de7e72",
   "metadata": {},
   "outputs": [
    {
     "data": {
      "text/plain": [
       "295"
      ]
     },
     "execution_count": 7,
     "metadata": {},
     "output_type": "execute_result"
    }
   ],
   "source": [
    "p1(puzzle_input)"
   ]
  }
 ],
 "metadata": {
  "kernelspec": {
   "display_name": "Python [conda env:3_10]",
   "language": "python",
   "name": "conda-env-3_10-py"
  },
  "language_info": {
   "codemirror_mode": {
    "name": "ipython",
    "version": 3
   },
   "file_extension": ".py",
   "mimetype": "text/x-python",
   "name": "python",
   "nbconvert_exporter": "python",
   "pygments_lexer": "ipython3",
   "version": "3.10.0"
  }
 },
 "nbformat": 4,
 "nbformat_minor": 5
}
