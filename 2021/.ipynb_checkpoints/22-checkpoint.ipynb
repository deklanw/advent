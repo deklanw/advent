{
 "cells": [
  {
   "cell_type": "code",
   "execution_count": 1,
   "id": "7ca62c27-a436-413e-b01d-861be1224ef5",
   "metadata": {},
   "outputs": [],
   "source": [
    "import re\n",
    "import itertools\n",
    "import numpy as np\n",
    "from copy import copy"
   ]
  },
  {
   "cell_type": "code",
   "execution_count": 2,
   "id": "f27e4b99-8a21-4a5a-9528-815464b688e5",
   "metadata": {},
   "outputs": [],
   "source": [
    "test_input1 = '''on x=10..12,y=10..12,z=10..12\n",
    "on x=11..13,y=11..13,z=11..13\n",
    "off x=9..11,y=9..11,z=9..11\n",
    "on x=10..10,y=10..10,z=10..10'''"
   ]
  },
  {
   "cell_type": "code",
   "execution_count": 3,
   "id": "24f8da05-41f9-4873-9678-47f2b610497b",
   "metadata": {},
   "outputs": [],
   "source": [
    "test_input2 = '''on x=-20..26,y=-36..17,z=-47..7\n",
    "on x=-20..33,y=-21..23,z=-26..28\n",
    "on x=-22..28,y=-29..23,z=-38..16\n",
    "on x=-46..7,y=-6..46,z=-50..-1\n",
    "on x=-49..1,y=-3..46,z=-24..28\n",
    "on x=2..47,y=-22..22,z=-23..27\n",
    "on x=-27..23,y=-28..26,z=-21..29\n",
    "on x=-39..5,y=-6..47,z=-3..44\n",
    "on x=-30..21,y=-8..43,z=-13..34\n",
    "on x=-22..26,y=-27..20,z=-29..19\n",
    "off x=-48..-32,y=26..41,z=-47..-37\n",
    "on x=-12..35,y=6..50,z=-50..-2\n",
    "off x=-48..-32,y=-32..-16,z=-15..-5\n",
    "on x=-18..26,y=-33..15,z=-7..46\n",
    "off x=-40..-22,y=-38..-28,z=23..41\n",
    "on x=-16..35,y=-41..10,z=-47..6\n",
    "off x=-32..-23,y=11..30,z=-14..3\n",
    "on x=-49..-5,y=-3..45,z=-29..18\n",
    "off x=18..30,y=-20..-8,z=-3..13\n",
    "on x=-41..9,y=-7..43,z=-33..15'''"
   ]
  },
  {
   "cell_type": "code",
   "execution_count": 4,
   "id": "7ec48ecd-02f8-48cb-af2b-61e2173b52ac",
   "metadata": {},
   "outputs": [],
   "source": [
    "test_input3 = '''on x=-5..47,y=-31..22,z=-19..33\n",
    "on x=-44..5,y=-27..21,z=-14..35\n",
    "on x=-49..-1,y=-11..42,z=-10..38\n",
    "on x=-20..34,y=-40..6,z=-44..1\n",
    "off x=26..39,y=40..50,z=-2..11\n",
    "on x=-41..5,y=-41..6,z=-36..8\n",
    "off x=-43..-33,y=-45..-28,z=7..25\n",
    "on x=-33..15,y=-32..19,z=-34..11\n",
    "off x=35..47,y=-46..-34,z=-11..5\n",
    "on x=-14..36,y=-6..44,z=-16..29'''"
   ]
  },
  {
   "cell_type": "code",
   "execution_count": 5,
   "id": "443e90cc-3d0a-4e5d-b267-eaa4a7fe0e5d",
   "metadata": {},
   "outputs": [],
   "source": [
    "test_input4 = '''on x=-5..47,y=-31..22,z=-19..33\n",
    "on x=-44..5,y=-27..21,z=-14..35\n",
    "on x=-49..-1,y=-11..42,z=-10..38\n",
    "on x=-20..34,y=-40..6,z=-44..1\n",
    "off x=26..39,y=40..50,z=-2..11\n",
    "on x=-41..5,y=-41..6,z=-36..8\n",
    "off x=-43..-33,y=-45..-28,z=7..25\n",
    "on x=-33..15,y=-32..19,z=-34..11\n",
    "off x=35..47,y=-46..-34,z=-11..5\n",
    "on x=-14..36,y=-6..44,z=-16..29\n",
    "on x=-57795..-6158,y=29564..72030,z=20435..90618\n",
    "on x=36731..105352,y=-21140..28532,z=16094..90401\n",
    "on x=30999..107136,y=-53464..15513,z=8553..71215\n",
    "on x=13528..83982,y=-99403..-27377,z=-24141..23996\n",
    "on x=-72682..-12347,y=18159..111354,z=7391..80950\n",
    "on x=-1060..80757,y=-65301..-20884,z=-103788..-16709\n",
    "on x=-83015..-9461,y=-72160..-8347,z=-81239..-26856\n",
    "on x=-52752..22273,y=-49450..9096,z=54442..119054\n",
    "on x=-29982..40483,y=-108474..-28371,z=-24328..38471\n",
    "on x=-4958..62750,y=40422..118853,z=-7672..65583\n",
    "on x=55694..108686,y=-43367..46958,z=-26781..48729\n",
    "on x=-98497..-18186,y=-63569..3412,z=1232..88485\n",
    "on x=-726..56291,y=-62629..13224,z=18033..85226\n",
    "on x=-110886..-34664,y=-81338..-8658,z=8914..63723\n",
    "on x=-55829..24974,y=-16897..54165,z=-121762..-28058\n",
    "on x=-65152..-11147,y=22489..91432,z=-58782..1780\n",
    "on x=-120100..-32970,y=-46592..27473,z=-11695..61039\n",
    "on x=-18631..37533,y=-124565..-50804,z=-35667..28308\n",
    "on x=-57817..18248,y=49321..117703,z=5745..55881\n",
    "on x=14781..98692,y=-1341..70827,z=15753..70151\n",
    "on x=-34419..55919,y=-19626..40991,z=39015..114138\n",
    "on x=-60785..11593,y=-56135..2999,z=-95368..-26915\n",
    "on x=-32178..58085,y=17647..101866,z=-91405..-8878\n",
    "on x=-53655..12091,y=50097..105568,z=-75335..-4862\n",
    "on x=-111166..-40997,y=-71714..2688,z=5609..50954\n",
    "on x=-16602..70118,y=-98693..-44401,z=5197..76897\n",
    "on x=16383..101554,y=4615..83635,z=-44907..18747\n",
    "off x=-95822..-15171,y=-19987..48940,z=10804..104439\n",
    "on x=-89813..-14614,y=16069..88491,z=-3297..45228\n",
    "on x=41075..99376,y=-20427..49978,z=-52012..13762\n",
    "on x=-21330..50085,y=-17944..62733,z=-112280..-30197\n",
    "on x=-16478..35915,y=36008..118594,z=-7885..47086\n",
    "off x=-98156..-27851,y=-49952..43171,z=-99005..-8456\n",
    "off x=2032..69770,y=-71013..4824,z=7471..94418\n",
    "on x=43670..120875,y=-42068..12382,z=-24787..38892\n",
    "off x=37514..111226,y=-45862..25743,z=-16714..54663\n",
    "off x=25699..97951,y=-30668..59918,z=-15349..69697\n",
    "off x=-44271..17935,y=-9516..60759,z=49131..112598\n",
    "on x=-61695..-5813,y=40978..94975,z=8655..80240\n",
    "off x=-101086..-9439,y=-7088..67543,z=33935..83858\n",
    "off x=18020..114017,y=-48931..32606,z=21474..89843\n",
    "off x=-77139..10506,y=-89994..-18797,z=-80..59318\n",
    "off x=8476..79288,y=-75520..11602,z=-96624..-24783\n",
    "on x=-47488..-1262,y=24338..100707,z=16292..72967\n",
    "off x=-84341..13987,y=2429..92914,z=-90671..-1318\n",
    "off x=-37810..49457,y=-71013..-7894,z=-105357..-13188\n",
    "off x=-27365..46395,y=31009..98017,z=15428..76570\n",
    "off x=-70369..-16548,y=22648..78696,z=-1892..86821\n",
    "on x=-53470..21291,y=-120233..-33476,z=-44150..38147\n",
    "off x=-93533..-4276,y=-16170..68771,z=-104985..-24507'''"
   ]
  },
  {
   "cell_type": "code",
   "execution_count": 6,
   "id": "38c25447-7b93-471d-b691-11c7b8e68b93",
   "metadata": {},
   "outputs": [],
   "source": [
    "puzzle_input = open('inputs/22').read().strip()"
   ]
  },
  {
   "cell_type": "code",
   "execution_count": 7,
   "id": "402e4564-235a-4971-b8e2-a7702a8db727",
   "metadata": {},
   "outputs": [],
   "source": [
    "reg = \"x=(-?\\d+)\\.\\.(-?\\d+),y=(-?\\d+)\\.\\.(-?\\d+),z=(-?\\d+)\\.\\.(-?\\d+)\""
   ]
  },
  {
   "cell_type": "code",
   "execution_count": 8,
   "id": "1f7fc3cd-d8e6-4363-aaf6-57427337bb00",
   "metadata": {},
   "outputs": [],
   "source": [
    "def parse(puzzle_input):\n",
    "    instructions = []\n",
    "    \n",
    "    for s in puzzle_input.split('\\n'):\n",
    "        on, coords = s.split()\n",
    "        on = 1 if on == 'on' else 0\n",
    "        m = re.match(reg, coords)\n",
    "        coords = [(int(m.group(2*i-1)), int(m.group(2*i))) for i in range(1, 4)]\n",
    "        \n",
    "        instructions.append((on, coords))\n",
    "        \n",
    "    return instructions"
   ]
  },
  {
   "cell_type": "code",
   "execution_count": 9,
   "id": "4db140ac-4d45-42c0-bddc-39f4ad34a11d",
   "metadata": {},
   "outputs": [
    {
     "data": {
      "text/plain": [
       "[(1, [(10, 12), (10, 12), (10, 12)]),\n",
       " (1, [(11, 13), (11, 13), (11, 13)]),\n",
       " (0, [(9, 11), (9, 11), (9, 11)]),\n",
       " (1, [(10, 10), (10, 10), (10, 10)])]"
      ]
     },
     "execution_count": 9,
     "metadata": {},
     "output_type": "execute_result"
    }
   ],
   "source": [
    "parse(test_input1)"
   ]
  },
  {
   "cell_type": "code",
   "execution_count": 10,
   "id": "8db3e2c4-70e0-4fc2-b181-d8aad7c7c09f",
   "metadata": {},
   "outputs": [],
   "source": [
    "board = np.zeros((101, 101, 101), dtype=np.int8)"
   ]
  },
  {
   "cell_type": "code",
   "execution_count": 11,
   "id": "5a208298-d24d-4a8d-a552-773f407bf513",
   "metadata": {},
   "outputs": [
    {
     "data": {
      "text/plain": [
       "1030301"
      ]
     },
     "execution_count": 11,
     "metadata": {},
     "output_type": "execute_result"
    }
   ],
   "source": [
    "np.product(board.shape)"
   ]
  },
  {
   "cell_type": "markdown",
   "id": "21c2f8c8-bff8-4169-a51d-a40618ec0864",
   "metadata": {},
   "source": [
    "for on, instructions in parse(puzzle_input):\n",
    "    (x_low, x_high), (y_low, y_high), (z_low, z_high) = instructions\n",
    "\n",
    "    if any(low < -50 for low in [x_low, y_low, z_low]) or any(high > 50 for high in [x_high, y_high, z_high]):\n",
    "        print(\"Continuing: \", instructions)\n",
    "        continue\n",
    "        \n",
    "    x_low += 50\n",
    "    y_low += 50\n",
    "    z_low += 50\n",
    "    \n",
    "    x_high += 50\n",
    "    y_high += 50\n",
    "    z_high += 50\n",
    "                \n",
    "    board[x_low:(x_high+1), y_low:(y_high+1), z_low:(z_high+1)] = on"
   ]
  },
  {
   "cell_type": "code",
   "execution_count": 12,
   "id": "43d0795f-71ae-441d-992b-ed17a64584e3",
   "metadata": {},
   "outputs": [
    {
     "data": {
      "text/plain": [
       "0"
      ]
     },
     "execution_count": 12,
     "metadata": {},
     "output_type": "execute_result"
    }
   ],
   "source": [
    "board.sum()"
   ]
  },
  {
   "cell_type": "code",
   "execution_count": 13,
   "id": "dc6c20c5-b80c-412c-ae78-d3b6c7ebb056",
   "metadata": {},
   "outputs": [],
   "source": [
    "def split(p1, p2):\n",
    "    [a, b, c, d] = sorted([*p1, *p2])\n",
    "    \n",
    "    if (a == b and b == c and c == d):\n",
    "        return [(a, a)]\n",
    "    elif (a == b and b == c):\n",
    "        return [(a, a), (a+1, d)]\n",
    "    elif (b == c and c == d):\n",
    "        return [(a, b-1), (b, b)]\n",
    "    elif (a == b) and (c == d):\n",
    "        return [(a, c)]\n",
    "    elif (a == b):\n",
    "        return [(a, c), (c+1, d)]\n",
    "    elif (b == c):\n",
    "        return [(a, b-1), (b, b), (b+1, d)]\n",
    "    elif (c == d):\n",
    "        return [(a, b-1), (b+1, d)]\n",
    "    else:\n",
    "        return [(a, b-1), (b, c), (c+1, d)]"
   ]
  },
  {
   "cell_type": "code",
   "execution_count": 14,
   "id": "1c2d886b-23f3-4056-b8db-3bde5336ba95",
   "metadata": {},
   "outputs": [],
   "source": [
    "# Modified from:\n",
    "# https://pryp.in/blog/15/intersection-and-difference-of-two-rectangles.html\n",
    "# Generalized to 3D, added a union function, and changed argument order.\n",
    "\n",
    "class Cuboid:\n",
    "    def intersection(self, other):\n",
    "        a, b = self, other\n",
    "        x1 = max(min(a.x1, a.x2), min(b.x1, b.x2))\n",
    "        y1 = max(min(a.y1, a.y2), min(b.y1, b.y2))\n",
    "        z1 = max(min(a.z1, a.z2), min(b.z1, b.z2))\n",
    "        \n",
    "        x2 = min(max(a.x1, a.x2), max(b.x1, b.x2))\n",
    "        y2 = min(max(a.y1, a.y2), max(b.y1, b.y2))\n",
    "        z2 = min(max(a.z1, a.z2), max(b.z1, b.z2))\n",
    "\n",
    "        if x1 <= x2 and y1 <= y2 and z1 <= z2:\n",
    "            return type(self)(x1, x2, y1, y2, z1, z2)\n",
    "    __and__ = intersection\n",
    "\n",
    "    def complement(self):\n",
    "        xs = [(-np.inf, self.x1-1), (self.x1, self.x2), (self.x2+1, np.inf)]\n",
    "        ys = [(-np.inf, self.y1-1), (self.y1, self.y2), (self.y2+1, np.inf)]\n",
    "        zs = [(-np.inf, self.z1-1), (self.z1, self.z2), (self.z2+1, np.inf)]\n",
    "    \n",
    "        for (x1, x2), (y1, y2), (z1, z2) in itertools.product(xs, ys, zs):\n",
    "            rect = type(self)(x1, x2, y1, y2, z1, z2)\n",
    "            \n",
    "            if rect != self:\n",
    "                yield rect\n",
    "    \n",
    "    def difference(self, other):\n",
    "        inter = self & other\n",
    "        \n",
    "        # we've ensured an intersection\n",
    "        if not inter:\n",
    "            yield self\n",
    "            return\n",
    "                \n",
    "        for c in other.complement():\n",
    "            i = self & c\n",
    "            if i:\n",
    "                yield i\n",
    "    __sub__ = difference\n",
    "    \n",
    "    def union(self, other):\n",
    "        # guaranteed no overlap\n",
    "        inter = self & other\n",
    "        \n",
    "        if inter:\n",
    "            yield inter\n",
    "        \n",
    "        yield from self.difference(other)\n",
    "        yield from other.difference(self)\n",
    "    __or__ = union\n",
    "    \n",
    "    def volume(self):\n",
    "        return (self.z2 - self.z1 + 1) * (self.y2 - self.y1 + 1) * (self.x2 - self.x1 + 1)\n",
    "\n",
    "    def __init__(self, x1, x2, y1, y2, z1, z2):\n",
    "        self.x1, self.x2, self.y1, self.y2, self.z1, self.z2 = x1, x2, y1, y2, z1, z2\n",
    "\n",
    "    def __iter__(self):\n",
    "        yield self.x1\n",
    "        yield self.x2\n",
    "        yield self.y1\n",
    "        yield self.y2\n",
    "        yield self.z1\n",
    "        yield self.z2\n",
    "\n",
    "    def __eq__(self, other):\n",
    "        return isinstance(other, Cuboid) and tuple(self) == tuple(other)\n",
    "    \n",
    "    def __ne__(self, other):\n",
    "        return not (self == other)\n",
    "\n",
    "    def __repr__(self):\n",
    "        return type(self).__name__ + repr(tuple(self))\n",
    "    \n",
    "    def __hash__(self):\n",
    "        return hash(self.__repr__())\n",
    "    \n",
    "    def subset(self, other):\n",
    "        return self == self & other\n",
    "    \n",
    "    def __copy__(self):\n",
    "        return type(self)(self.x1, self.x2, self.y1, self.y2, self.z1, self.z2)"
   ]
  },
  {
   "cell_type": "code",
   "execution_count": 15,
   "id": "44d3c232-bef4-415e-9577-7a4d955b9a4e",
   "metadata": {},
   "outputs": [],
   "source": [
    "def cub_set_diff(cuboids, d):\n",
    "    new_cuboids = set()\n",
    "    \n",
    "    for c in cuboids:\n",
    "        new_cuboids.update(c.difference(d))\n",
    "    \n",
    "    return new_cuboids"
   ]
  },
  {
   "cell_type": "code",
   "execution_count": null,
   "id": "78f03c89-7391-4265-9a71-e0ba625a2501",
   "metadata": {
    "tags": []
   },
   "outputs": [],
   "source": [
    "cuboids = set()\n",
    "\n",
    "for on, instructions in parse(puzzle_input):\n",
    "    x, y, z = instructions\n",
    "    \n",
    "    new = Cuboid(*x, *y, *z)\n",
    "    new_cuboids = set()\n",
    "\n",
    "    if on:\n",
    "        chunked_new = {new}\n",
    "\n",
    "        for c in cuboids:\n",
    "            inter = c & new\n",
    "            \n",
    "            if inter:\n",
    "                new_cuboids.add(inter)\n",
    "\n",
    "            new_cuboids.update(c.difference(new))\n",
    "            chunked_new = cub_set_diff(chunked_new, c)\n",
    "\n",
    "        new_cuboids.update(chunked_new)\n",
    "    else:\n",
    "        new_cuboids = cub_set_diff(cuboids, new)\n",
    "\n",
    "    cuboids = new_cuboids\n",
    "            \n",
    "print(sum(c.volume() for c in cuboids))\n",
    "print()"
   ]
  }
 ],
 "metadata": {
  "kernelspec": {
   "display_name": "Python [conda env:3_10]",
   "language": "python",
   "name": "conda-env-3_10-py"
  },
  "language_info": {
   "codemirror_mode": {
    "name": "ipython",
    "version": 3
   },
   "file_extension": ".py",
   "mimetype": "text/x-python",
   "name": "python",
   "nbconvert_exporter": "python",
   "pygments_lexer": "ipython3",
   "version": "3.10.0"
  }
 },
 "nbformat": 4,
 "nbformat_minor": 5
}
