{
 "cells": [
  {
   "cell_type": "code",
   "execution_count": 1,
   "id": "46e249fa-770d-47e9-ac22-60ced3c99d5f",
   "metadata": {},
   "outputs": [],
   "source": [
    "import copy\n",
    "import numpy as np\n",
    "import itertools\n"
   ]
  },
  {
   "cell_type": "code",
   "execution_count": 2,
   "id": "6058fb5a-fb94-4ad7-8364-a919762824cd",
   "metadata": {},
   "outputs": [],
   "source": [
    "def split(p1, p2):\n",
    "    [a, b, c, d] = sorted([*p1, *p2])\n",
    "    \n",
    "    if (a == b and b == c and c == d):\n",
    "        return [(a, a)]\n",
    "    elif (a == b and b == c):\n",
    "        return [(a, a), (a+1, d)]\n",
    "    elif (b == c and c == d):\n",
    "        return [(a, b-1), (b, b)]\n",
    "    elif (a == b) and (c == d):\n",
    "        return [(a, c)]\n",
    "    elif (a == b):\n",
    "        return [(a, c), (c+1, d)]\n",
    "    elif (b == c):\n",
    "        return [(a, b-1), (b, b), (b+1, d)]\n",
    "    elif (c == d):\n",
    "        return [(a, b-1), (b+1, d)]\n",
    "    else:\n",
    "        return [(a, b-1), (b, c), (c+1, d)]"
   ]
  },
  {
   "cell_type": "code",
   "execution_count": 3,
   "id": "511be4ac-7aef-4f7d-a314-867c821a40da",
   "metadata": {},
   "outputs": [
    {
     "data": {
      "text/plain": [
       "[(1, 4), (5, 9)]"
      ]
     },
     "execution_count": 3,
     "metadata": {},
     "output_type": "execute_result"
    }
   ],
   "source": [
    "split((1, 9), (1, 4))"
   ]
  },
  {
   "cell_type": "code",
   "execution_count": 4,
   "id": "91519b9b-3cd2-4afa-bd84-21e52781a2b1",
   "metadata": {},
   "outputs": [],
   "source": [
    "\n",
    "class Rectangle:\n",
    "    def intersection(self, other):\n",
    "        a, b = self, other\n",
    "        x1 = max(min(a.x1, a.x2), min(b.x1, b.x2))\n",
    "        y1 = max(min(a.y1, a.y2), min(b.y1, b.y2))\n",
    "        x2 = min(max(a.x1, a.x2), max(b.x1, b.x2))\n",
    "        y2 = min(max(a.y1, a.y2), max(b.y1, b.y2))\n",
    "        if x1 <= x2 and y1 <= y2:\n",
    "            return type(self)(x1, x2, y1, y2)\n",
    "    __and__ = intersection\n",
    "\n",
    "    '''\n",
    "    def difference(self, other):\n",
    "        inter = self & other\n",
    "        \n",
    "        # we've ensured an intersection\n",
    "        if not inter:\n",
    "            yield self\n",
    "            return\n",
    "        \n",
    "        x_split = split((self.x1, self.x2), (other.x1, other.x2))\n",
    "        y_split = split((self.y1, self.y2), (other.y1, other.y2))\n",
    "        \n",
    "        print(x_split)\n",
    "        print(y_split)\n",
    "                                   \n",
    "        for (x1, x2), (y1, y2) in itertools.product(x_split, y_split):\n",
    "            rect = type(self)(x1, x2, y1, y2)\n",
    "            \n",
    "            if not rect.subset(inter) and rect.subset(self):\n",
    "                yield rect\n",
    "    '''\n",
    "    \n",
    "    def complement(self):\n",
    "        xs = [(-np.inf, self.x1-1), (self.x1, self.x2), (self.x2+1, np.inf)]\n",
    "        ys = [(-np.inf, self.y1-1), (self.y1, self.y2), (self.y2+1, np.inf)]\n",
    "        \n",
    "        for (x1, x2), (y1, y2) in itertools.product(xs, ys):\n",
    "            rect = type(self)(x1, x2, y1, y2)\n",
    "            \n",
    "            if rect != self:\n",
    "                yield rect\n",
    "    \n",
    "    def difference(self, other):\n",
    "        inter = self & other\n",
    "        \n",
    "        # we've ensured an intersection\n",
    "        if not inter:\n",
    "            yield self\n",
    "            return\n",
    "                \n",
    "        for c in other.complement():\n",
    "            i = self & c\n",
    "            if i:\n",
    "                yield i\n",
    "\n",
    "    __sub__ = difference\n",
    "\n",
    "    def __init__(self, x1, x2, y1, y2):\n",
    "        self.x1, self.x2, self.y1, self.y2 = x1, x2, y1, y2\n",
    "\n",
    "    def __iter__(self):\n",
    "        yield self.x1\n",
    "        yield self.x2\n",
    "        yield self.y1\n",
    "        yield self.y2\n",
    "\n",
    "    def __eq__(self, other):\n",
    "        return isinstance(other, Rectangle) and tuple(self) == tuple(other)\n",
    "    def __ne__(self, other):\n",
    "        return not (self == other)\n",
    "\n",
    "    def __repr__(self):\n",
    "        return type(self).__name__ + repr(tuple(self))\n",
    "    \n",
    "    def volume(self):\n",
    "        return (self.y2 - self.y1 + 1) * (self.x2 - self.x1 + 1)\n",
    "    \n",
    "    def subset(self, other):\n",
    "        return self == self & other\n",
    "    \n",
    "    def union(self, other):\n",
    "        # guaranteed no overlap\n",
    "        inter = self & other\n",
    "        \n",
    "        if inter:\n",
    "            yield inter\n",
    "        \n",
    "        yield from self.difference(other)\n",
    "        yield from other.difference(self)\n",
    "    __or__ = union\n",
    "    \n",
    "    def __copy__(self):\n",
    "        return type(self)(self.x1, self.x2, self.y1, self.y2)"
   ]
  },
  {
   "cell_type": "code",
   "execution_count": 5,
   "id": "e3da752a-1adc-4ae1-a81c-91469cd902d5",
   "metadata": {},
   "outputs": [
    {
     "ename": "UnboundLocalError",
     "evalue": "local variable 'y1' referenced before assignment",
     "output_type": "error",
     "traceback": [
      "\u001b[0;31m---------------------------------------------------------------------------\u001b[0m",
      "\u001b[0;31mUnboundLocalError\u001b[0m                         Traceback (most recent call last)",
      "\u001b[0;32m/tmp/ipykernel_3335/22651558.py\u001b[0m in \u001b[0;36m<module>\u001b[0;34m\u001b[0m\n\u001b[1;32m     14\u001b[0m \u001b[0;32mfor\u001b[0m \u001b[0;34m(\u001b[0m\u001b[0ma\u001b[0m\u001b[0;34m,\u001b[0m \u001b[0mb\u001b[0m\u001b[0;34m)\u001b[0m \u001b[0;32min\u001b[0m \u001b[0mtest_cases\u001b[0m\u001b[0;34m:\u001b[0m\u001b[0;34m\u001b[0m\u001b[0;34m\u001b[0m\u001b[0m\n\u001b[1;32m     15\u001b[0m     \u001b[0;31m# none of differences have any overlap\u001b[0m\u001b[0;34m\u001b[0m\u001b[0;34m\u001b[0m\u001b[0m\n\u001b[0;32m---> 16\u001b[0;31m     \u001b[0;32mfor\u001b[0m \u001b[0;34m(\u001b[0m\u001b[0mc\u001b[0m\u001b[0;34m,\u001b[0m \u001b[0md\u001b[0m\u001b[0;34m)\u001b[0m \u001b[0;32min\u001b[0m \u001b[0mitertools\u001b[0m\u001b[0;34m.\u001b[0m\u001b[0mcombinations\u001b[0m\u001b[0;34m(\u001b[0m\u001b[0ma\u001b[0m\u001b[0;34m.\u001b[0m\u001b[0mdifference\u001b[0m\u001b[0;34m(\u001b[0m\u001b[0mb\u001b[0m\u001b[0;34m)\u001b[0m\u001b[0;34m,\u001b[0m \u001b[0;36m2\u001b[0m\u001b[0;34m)\u001b[0m\u001b[0;34m:\u001b[0m\u001b[0;34m\u001b[0m\u001b[0;34m\u001b[0m\u001b[0m\n\u001b[0m\u001b[1;32m     17\u001b[0m         \u001b[0;32massert\u001b[0m \u001b[0mc\u001b[0m \u001b[0;34m&\u001b[0m \u001b[0md\u001b[0m \u001b[0;32mis\u001b[0m \u001b[0;32mNone\u001b[0m\u001b[0;34m\u001b[0m\u001b[0;34m\u001b[0m\u001b[0m\n\u001b[1;32m     18\u001b[0m         \u001b[0;32massert\u001b[0m \u001b[0md\u001b[0m \u001b[0;34m&\u001b[0m \u001b[0mc\u001b[0m \u001b[0;32mis\u001b[0m \u001b[0;32mNone\u001b[0m\u001b[0;34m\u001b[0m\u001b[0;34m\u001b[0m\u001b[0m\n",
      "\u001b[0;32m/tmp/ipykernel_3335/819866353.py\u001b[0m in \u001b[0;36mdifference\u001b[0;34m(self, other)\u001b[0m\n\u001b[1;32m     50\u001b[0m             \u001b[0;32mreturn\u001b[0m\u001b[0;34m\u001b[0m\u001b[0;34m\u001b[0m\u001b[0m\n\u001b[1;32m     51\u001b[0m \u001b[0;34m\u001b[0m\u001b[0m\n\u001b[0;32m---> 52\u001b[0;31m         \u001b[0;32mfor\u001b[0m \u001b[0mc\u001b[0m \u001b[0;32min\u001b[0m \u001b[0mother\u001b[0m\u001b[0;34m.\u001b[0m\u001b[0mcomplement\u001b[0m\u001b[0;34m(\u001b[0m\u001b[0;34m)\u001b[0m\u001b[0;34m:\u001b[0m\u001b[0;34m\u001b[0m\u001b[0;34m\u001b[0m\u001b[0m\n\u001b[0m\u001b[1;32m     53\u001b[0m             \u001b[0mi\u001b[0m \u001b[0;34m=\u001b[0m \u001b[0mself\u001b[0m \u001b[0;34m&\u001b[0m \u001b[0mc\u001b[0m\u001b[0;34m\u001b[0m\u001b[0;34m\u001b[0m\u001b[0m\n\u001b[1;32m     54\u001b[0m             \u001b[0;32mif\u001b[0m \u001b[0mi\u001b[0m\u001b[0;34m:\u001b[0m\u001b[0;34m\u001b[0m\u001b[0;34m\u001b[0m\u001b[0m\n",
      "\u001b[0;32m/tmp/ipykernel_3335/819866353.py\u001b[0m in \u001b[0;36mcomplement\u001b[0;34m(self)\u001b[0m\n\u001b[1;32m     34\u001b[0m     \u001b[0;32mdef\u001b[0m \u001b[0mcomplement\u001b[0m\u001b[0;34m(\u001b[0m\u001b[0mself\u001b[0m\u001b[0;34m)\u001b[0m\u001b[0;34m:\u001b[0m\u001b[0;34m\u001b[0m\u001b[0;34m\u001b[0m\u001b[0m\n\u001b[1;32m     35\u001b[0m         \u001b[0mxs\u001b[0m \u001b[0;34m=\u001b[0m \u001b[0;34m[\u001b[0m\u001b[0;34m(\u001b[0m\u001b[0;34m-\u001b[0m\u001b[0mnp\u001b[0m\u001b[0;34m.\u001b[0m\u001b[0minf\u001b[0m\u001b[0;34m,\u001b[0m \u001b[0mself\u001b[0m\u001b[0;34m.\u001b[0m\u001b[0mx1\u001b[0m\u001b[0;34m-\u001b[0m\u001b[0;36m1\u001b[0m\u001b[0;34m)\u001b[0m\u001b[0;34m,\u001b[0m \u001b[0;34m(\u001b[0m\u001b[0mself\u001b[0m\u001b[0;34m.\u001b[0m\u001b[0mx1\u001b[0m\u001b[0;34m,\u001b[0m \u001b[0mself\u001b[0m\u001b[0;34m.\u001b[0m\u001b[0mx2\u001b[0m\u001b[0;34m)\u001b[0m\u001b[0;34m,\u001b[0m \u001b[0;34m(\u001b[0m\u001b[0mself\u001b[0m\u001b[0;34m.\u001b[0m\u001b[0mx2\u001b[0m\u001b[0;34m+\u001b[0m\u001b[0;36m1\u001b[0m\u001b[0;34m,\u001b[0m \u001b[0mnp\u001b[0m\u001b[0;34m.\u001b[0m\u001b[0minf\u001b[0m\u001b[0;34m)\u001b[0m\u001b[0;34m]\u001b[0m\u001b[0;34m\u001b[0m\u001b[0;34m\u001b[0m\u001b[0m\n\u001b[0;32m---> 36\u001b[0;31m         \u001b[0mys\u001b[0m \u001b[0;34m=\u001b[0m \u001b[0;34m[\u001b[0m\u001b[0;34m(\u001b[0m\u001b[0;34m-\u001b[0m\u001b[0mnp\u001b[0m\u001b[0;34m.\u001b[0m\u001b[0minf\u001b[0m\u001b[0;34m,\u001b[0m \u001b[0my1\u001b[0m\u001b[0;34m-\u001b[0m\u001b[0;36m1\u001b[0m\u001b[0;34m)\u001b[0m\u001b[0;34m,\u001b[0m \u001b[0;34m(\u001b[0m\u001b[0my1\u001b[0m\u001b[0;34m,\u001b[0m \u001b[0my2\u001b[0m\u001b[0;34m)\u001b[0m\u001b[0;34m,\u001b[0m \u001b[0;34m(\u001b[0m\u001b[0my2\u001b[0m\u001b[0;34m+\u001b[0m\u001b[0;36m1\u001b[0m\u001b[0;34m,\u001b[0m \u001b[0mnp\u001b[0m\u001b[0;34m.\u001b[0m\u001b[0minf\u001b[0m\u001b[0;34m)\u001b[0m\u001b[0;34m]\u001b[0m\u001b[0;34m\u001b[0m\u001b[0;34m\u001b[0m\u001b[0m\n\u001b[0m\u001b[1;32m     37\u001b[0m \u001b[0;34m\u001b[0m\u001b[0m\n\u001b[1;32m     38\u001b[0m         \u001b[0;32mfor\u001b[0m \u001b[0;34m(\u001b[0m\u001b[0mx1\u001b[0m\u001b[0;34m,\u001b[0m \u001b[0mx2\u001b[0m\u001b[0;34m)\u001b[0m\u001b[0;34m,\u001b[0m \u001b[0;34m(\u001b[0m\u001b[0my1\u001b[0m\u001b[0;34m,\u001b[0m \u001b[0my2\u001b[0m\u001b[0;34m)\u001b[0m \u001b[0;32min\u001b[0m \u001b[0mitertools\u001b[0m\u001b[0;34m.\u001b[0m\u001b[0mproduct\u001b[0m\u001b[0;34m(\u001b[0m\u001b[0mxs\u001b[0m\u001b[0;34m,\u001b[0m \u001b[0mys\u001b[0m\u001b[0;34m)\u001b[0m\u001b[0;34m:\u001b[0m\u001b[0;34m\u001b[0m\u001b[0;34m\u001b[0m\u001b[0m\n",
      "\u001b[0;31mUnboundLocalError\u001b[0m: local variable 'y1' referenced before assignment"
     ]
    }
   ],
   "source": [
    "cubes = [\n",
    "    Rectangle(-2, 5, 0, 3),\n",
    "    Rectangle(-2, 1, 0, 3),\n",
    "    Rectangle(-4, 4, 0, 6),\n",
    "    Rectangle(-1, 2, -1, 3),\n",
    "    Rectangle(-4, 4, 0, 6),\n",
    "    Rectangle(-1, 2, -1, 0),\n",
    "    Rectangle(-4, 4, 0, 6),\n",
    "    Rectangle(-4, 4, 0, 6)\n",
    "]\n",
    "\n",
    "test_cases = itertools.combinations(cubes, 2) \n",
    "\n",
    "for (a, b) in test_cases:    \n",
    "    # none of differences have any overlap\n",
    "    for (c, d) in itertools.combinations(a.difference(b), 2):\n",
    "        assert c & d is None\n",
    "        assert d & c is None\n",
    "        \n",
    "    inter = a & b\n",
    "    inter_volume = inter.volume() if inter else 0\n",
    "    \n",
    "    print(a, b)\n",
    "    \n",
    "    assert a.volume() - inter_volume == sum(c.volume() for c in a.difference(b))\n",
    "    assert b.volume() - inter_volume == sum(c.volume() for c in b.difference(a))\n",
    "    \n",
    "    assert a.volume() + b.volume() - inter_volume == sum(c.volume() for c in a.union(b))\n",
    "    assert a.volume() + b.volume() - inter_volume == sum(c.volume() for c in b.union(a))"
   ]
  },
  {
   "cell_type": "code",
   "execution_count": null,
   "id": "c433b9e1-ab8c-4747-9e24-8d545e72f180",
   "metadata": {},
   "outputs": [],
   "source": [
    "a = Rectangle(-2, 5, 0, 3)\n",
    "b = Rectangle(-1, 2, -1, 3)"
   ]
  },
  {
   "cell_type": "code",
   "execution_count": null,
   "id": "b406e558-bf59-4da7-9625-dafd23f5dda0",
   "metadata": {},
   "outputs": [],
   "source": [
    "inter = a & b\n",
    "inter_volume = inter.volume() if inter else 0"
   ]
  },
  {
   "cell_type": "code",
   "execution_count": null,
   "id": "97dea9e6-e2e3-465b-b950-00adefe6c643",
   "metadata": {},
   "outputs": [],
   "source": [
    "inter"
   ]
  },
  {
   "cell_type": "code",
   "execution_count": null,
   "id": "a84fd974-0301-4b5f-af52-fa1ee0422d0d",
   "metadata": {},
   "outputs": [],
   "source": [
    "list(a.difference(b))"
   ]
  },
  {
   "cell_type": "code",
   "execution_count": null,
   "id": "e83b71d8-363a-4123-ac6a-1cb0c74d0cac",
   "metadata": {},
   "outputs": [],
   "source": [
    "a.volume() - inter_volume == sum(c.volume() for c in a.difference(b))"
   ]
  },
  {
   "cell_type": "code",
   "execution_count": null,
   "id": "fddecfff-2996-4078-8b22-6148e56ba53f",
   "metadata": {},
   "outputs": [],
   "source": [
    "split((-1, 3), (0, 3))"
   ]
  }
 ],
 "metadata": {
  "kernelspec": {
   "display_name": "Python [conda env:3_10]",
   "language": "python",
   "name": "conda-env-3_10-py"
  },
  "language_info": {
   "codemirror_mode": {
    "name": "ipython",
    "version": 3
   },
   "file_extension": ".py",
   "mimetype": "text/x-python",
   "name": "python",
   "nbconvert_exporter": "python",
   "pygments_lexer": "ipython3",
   "version": "3.10.0"
  }
 },
 "nbformat": 4,
 "nbformat_minor": 5
}
