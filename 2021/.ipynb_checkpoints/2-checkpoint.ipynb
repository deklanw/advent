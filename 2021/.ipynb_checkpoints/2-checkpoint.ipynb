{
 "cells": [
  {
   "cell_type": "code",
   "execution_count": 1,
   "id": "b0846575",
   "metadata": {},
   "outputs": [],
   "source": [
    "from dataclasses import dataclass"
   ]
  },
  {
   "cell_type": "code",
   "execution_count": 2,
   "id": "6287397f",
   "metadata": {},
   "outputs": [],
   "source": [
    "test_case = '''forward 5\n",
    "down 5\n",
    "forward 8\n",
    "up 3\n",
    "down 8\n",
    "forward 2\n",
    "'''"
   ]
  },
  {
   "cell_type": "code",
   "execution_count": 3,
   "id": "b75e3067",
   "metadata": {},
   "outputs": [],
   "source": [
    "def parse(s):\n",
    "    pairs = [r.split(' ') for r in s.split('\\n')[:-1]]\n",
    "    \n",
    "    return [(a, int(b)) for [a, b] in pairs]"
   ]
  },
  {
   "cell_type": "code",
   "execution_count": 4,
   "id": "8b462c02",
   "metadata": {},
   "outputs": [],
   "source": [
    "test_instructions = parse(test_case)"
   ]
  },
  {
   "cell_type": "code",
   "execution_count": 5,
   "id": "282efd18",
   "metadata": {
    "scrolled": true,
    "tags": []
   },
   "outputs": [
    {
     "data": {
      "text/plain": [
       "[('forward', 5),\n",
       " ('down', 5),\n",
       " ('forward', 8),\n",
       " ('up', 3),\n",
       " ('down', 8),\n",
       " ('forward', 2)]"
      ]
     },
     "execution_count": 5,
     "metadata": {},
     "output_type": "execute_result"
    }
   ],
   "source": [
    "test_instructions"
   ]
  },
  {
   "cell_type": "code",
   "execution_count": 6,
   "id": "96d379f1",
   "metadata": {},
   "outputs": [],
   "source": [
    "@dataclass\n",
    "class Position:\n",
    "    horizontal: int = 0\n",
    "    depth: int = 0"
   ]
  },
  {
   "cell_type": "code",
   "execution_count": 7,
   "id": "85390e8d",
   "metadata": {},
   "outputs": [],
   "source": [
    "def p1(instructions):\n",
    "    pos = Position()\n",
    "\n",
    "    for (direction, distance) in instructions:\n",
    "        match direction:\n",
    "            case 'forward':\n",
    "                pos.horizontal += distance\n",
    "            case 'down':\n",
    "                pos.depth += distance\n",
    "            case 'up':\n",
    "                pos.depth -= distance\n",
    "            case _:\n",
    "                raise ValueError()\n",
    "            \n",
    "    return pos.horizontal * pos.depth"
   ]
  },
  {
   "cell_type": "code",
   "execution_count": 8,
   "id": "f61567a2",
   "metadata": {},
   "outputs": [],
   "source": [
    "assert p1(test_instructions) == 150"
   ]
  },
  {
   "cell_type": "code",
   "execution_count": 9,
   "id": "954567df",
   "metadata": {},
   "outputs": [
    {
     "data": {
      "text/plain": [
       "1962940"
      ]
     },
     "execution_count": 9,
     "metadata": {},
     "output_type": "execute_result"
    }
   ],
   "source": [
    "with open('inputs/2') as f:\n",
    "    instructions = parse(f.read())\n",
    "\n",
    "p1(instructions)"
   ]
  },
  {
   "cell_type": "code",
   "execution_count": 10,
   "id": "3a8bf3a9",
   "metadata": {},
   "outputs": [],
   "source": [
    "@dataclass\n",
    "class Position2:\n",
    "    horizontal: int = 0\n",
    "    depth: int = 0\n",
    "    aim: int = 0"
   ]
  },
  {
   "cell_type": "code",
   "execution_count": 11,
   "id": "d5e100c6",
   "metadata": {},
   "outputs": [],
   "source": [
    "def p2(instructions):\n",
    "    pos = Position2()\n",
    "\n",
    "    for (direction, amount) in instructions:\n",
    "        match direction:\n",
    "            case 'forward':\n",
    "                pos.horizontal += amount\n",
    "                pos.depth += pos.aim * amount\n",
    "            case 'down':\n",
    "                pos.aim += amount\n",
    "            case 'up':\n",
    "                pos.aim -= amount\n",
    "            case _:\n",
    "                raise ValueError()\n",
    "            \n",
    "    return pos.horizontal * pos.depth"
   ]
  },
  {
   "cell_type": "code",
   "execution_count": 12,
   "id": "b34f42ee",
   "metadata": {},
   "outputs": [],
   "source": [
    "assert p2(test_instructions) == 900"
   ]
  },
  {
   "cell_type": "code",
   "execution_count": 13,
   "id": "a6246ced",
   "metadata": {},
   "outputs": [
    {
     "data": {
      "text/plain": [
       "1813664422"
      ]
     },
     "execution_count": 13,
     "metadata": {},
     "output_type": "execute_result"
    }
   ],
   "source": [
    "p2(instructions)"
   ]
  }
 ],
 "metadata": {
  "kernelspec": {
   "display_name": "Python [conda env:3_10]",
   "language": "python",
   "name": "conda-env-3_10-py"
  },
  "language_info": {
   "codemirror_mode": {
    "name": "ipython",
    "version": 3
   },
   "file_extension": ".py",
   "mimetype": "text/x-python",
   "name": "python",
   "nbconvert_exporter": "python",
   "pygments_lexer": "ipython3",
   "version": "3.10.0"
  }
 },
 "nbformat": 4,
 "nbformat_minor": 5
}
