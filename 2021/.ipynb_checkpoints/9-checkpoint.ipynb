{
 "cells": [
  {
   "cell_type": "code",
   "execution_count": 1,
   "id": "f085a6de-632a-4195-a496-2504a271fe47",
   "metadata": {},
   "outputs": [],
   "source": [
    "import numpy as np"
   ]
  },
  {
   "cell_type": "code",
   "execution_count": 2,
   "id": "a10aad7c-edd0-4a19-931d-edf26451ef5f",
   "metadata": {},
   "outputs": [],
   "source": [
    "test_input = '''2199943210\n",
    "3987894921\n",
    "9856789892\n",
    "8767896789\n",
    "9899965678\n",
    "'''"
   ]
  },
  {
   "cell_type": "code",
   "execution_count": 3,
   "id": "7bf8b857-722d-4261-ac46-57b53ebce07d",
   "metadata": {},
   "outputs": [],
   "source": [
    "puzzle_input = open('inputs/9').read()"
   ]
  },
  {
   "cell_type": "code",
   "execution_count": 4,
   "id": "3123ae6a-bca7-4d76-9430-ad0d234856ae",
   "metadata": {},
   "outputs": [],
   "source": [
    "def string_to_2d(s):\n",
    "    # add spaces between nums\n",
    "    s = '\\n'.join(map(lambda x: ' '.join(list(x)), s.split('\\n'))).strip()\n",
    "    rows = s.count('\\n') + 1\n",
    "    return np.fromstring(s, sep=' ').reshape(rows, -1).astype(np.int64)"
   ]
  },
  {
   "cell_type": "code",
   "execution_count": 5,
   "id": "5189b971-757e-4352-a2a9-715a5576409f",
   "metadata": {},
   "outputs": [],
   "source": [
    "def p1(puzzle_input):\n",
    "    cave = string_to_2d(puzzle_input)\n",
    "    \n",
    "    # difference in every one of 4 directions is negative (have to flip around because numpy diffs left to right or top to bottom)\n",
    "    # prepending np.inf to account for edges\n",
    "    hits = (np.diff(cave, axis=0, prepend=np.inf) < 0) & \\\n",
    "        (np.diff(cave, axis=1, prepend=np.inf) < 0) & \\\n",
    "        (np.flip(np.diff(np.flip(cave, axis=0), axis=0, prepend=np.inf), axis=0) < 0) & \\\n",
    "        (np.flip(np.diff(np.flip(cave, axis=1), axis=1, prepend=np.inf), axis=1) < 0)\n",
    "    \n",
    "    return (cave[hits] + 1).sum()"
   ]
  },
  {
   "cell_type": "code",
   "execution_count": 6,
   "id": "3a6680f1-4183-461f-a1be-3c1944bcb82d",
   "metadata": {},
   "outputs": [],
   "source": [
    "assert p1(test_input) == 15"
   ]
  },
  {
   "cell_type": "code",
   "execution_count": 7,
   "id": "7cce99f5-df03-4fbe-b6a5-12e33bffd6fb",
   "metadata": {},
   "outputs": [
    {
     "data": {
      "text/plain": [
       "465"
      ]
     },
     "execution_count": 7,
     "metadata": {},
     "output_type": "execute_result"
    }
   ],
   "source": [
    "p1(puzzle_input)"
   ]
  },
  {
   "cell_type": "markdown",
   "id": "f78a0172-0c07-4b0f-89cf-3596716da59d",
   "metadata": {},
   "source": [
    "Idea for part 2: \n",
    "\n",
    "start at basin point, explore w/ bfs/dfs until hitting 9s or edges."
   ]
  },
  {
   "cell_type": "code",
   "execution_count": 36,
   "id": "400e3e22-bca7-4a72-bee2-a357519bed73",
   "metadata": {},
   "outputs": [],
   "source": [
    "def p2(puzzle_input):\n",
    "    cave = string_to_2d(puzzle_input)\n",
    "    \n",
    "    # difference in every one of 4 directions is negative (have to flip around because numpy diffs left to right or top to bottom)\n",
    "    # prepending np.inf to account for edges\n",
    "    hits = (np.diff(cave, axis=0, prepend=np.inf) < 0) & \\\n",
    "        (np.diff(cave, axis=1, prepend=np.inf) < 0) & \\\n",
    "        (np.flip(np.diff(np.flip(cave, axis=0), axis=0, prepend=np.inf), axis=0) < 0) & \\\n",
    "        (np.flip(np.diff(np.flip(cave, axis=1), axis=1, prepend=np.inf), axis=1) < 0)\n",
    "        \n",
    "    lowpoints = np.argwhere(hits)\n",
    "    basin_sizes = []\n",
    "    \n",
    "    for (i, j) in lowpoints:\n",
    "        visited = set()\n",
    "        \n",
    "        def dfs(a, b):\n",
    "            # out of bounds\n",
    "            if a < 0 or a >= cave.shape[0] or b < 0 or b >= cave.shape[1]:\n",
    "                return\n",
    "            \n",
    "            # hit a 9\n",
    "            if cave[a, b] == 9:\n",
    "                return\n",
    "            \n",
    "            visited.add((a, b))\n",
    "                        \n",
    "            for del_a, del_b in [(-1, 0), (0, 1), (1, 0), (0, -1)]:\n",
    "                x = del_a + a\n",
    "                y = del_b + b\n",
    "                \n",
    "                if (x, y) not in visited:\n",
    "                    dfs(x, y)\n",
    "        \n",
    "        # start at lowpoint\n",
    "        dfs(i, j)\n",
    "        \n",
    "        basin_sizes.append(len(visited))\n",
    "    \n",
    "    return np.product(sorted(basin_sizes)[-3:])"
   ]
  },
  {
   "cell_type": "code",
   "execution_count": 37,
   "id": "bede339a-faa3-4962-a283-62fda0fb99d1",
   "metadata": {},
   "outputs": [],
   "source": [
    "assert p2(test_input) == 1134"
   ]
  },
  {
   "cell_type": "code",
   "execution_count": 38,
   "id": "dd31cb12-2c40-4581-84a6-361ad8e48f38",
   "metadata": {},
   "outputs": [
    {
     "data": {
      "text/plain": [
       "1269555"
      ]
     },
     "execution_count": 38,
     "metadata": {},
     "output_type": "execute_result"
    }
   ],
   "source": [
    "p2(puzzle_input)"
   ]
  }
 ],
 "metadata": {
  "kernelspec": {
   "display_name": "Python [conda env:3_10]",
   "language": "python",
   "name": "conda-env-3_10-py"
  },
  "language_info": {
   "codemirror_mode": {
    "name": "ipython",
    "version": 3
   },
   "file_extension": ".py",
   "mimetype": "text/x-python",
   "name": "python",
   "nbconvert_exporter": "python",
   "pygments_lexer": "ipython3",
   "version": "3.10.0"
  }
 },
 "nbformat": 4,
 "nbformat_minor": 5
}
