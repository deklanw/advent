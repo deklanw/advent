{
 "cells": [
  {
   "cell_type": "code",
   "execution_count": 1,
   "id": "95d460e9-45c8-4cd4-bf95-85b4aec3665a",
   "metadata": {},
   "outputs": [],
   "source": [
    "from collections import defaultdict"
   ]
  },
  {
   "cell_type": "code",
   "execution_count": 2,
   "id": "3ff42779-d15d-4b30-82a9-3f5bd6619419",
   "metadata": {},
   "outputs": [],
   "source": [
    "test_input = '''0,9 -> 5,9\n",
    "8,0 -> 0,8\n",
    "9,4 -> 3,4\n",
    "2,2 -> 2,1\n",
    "7,0 -> 7,4\n",
    "6,4 -> 2,0\n",
    "0,9 -> 2,9\n",
    "3,4 -> 1,4\n",
    "0,0 -> 8,8\n",
    "5,5 -> 8,2'''"
   ]
  },
  {
   "cell_type": "code",
   "execution_count": 3,
   "id": "09fc7b3d-0f63-4092-8303-a6b488174c7c",
   "metadata": {},
   "outputs": [],
   "source": [
    "puzzle_input = open('inputs/5').read()"
   ]
  },
  {
   "cell_type": "code",
   "execution_count": 4,
   "id": "92f4dd72-62e7-4d65-a58d-c4bde2ce3ea5",
   "metadata": {},
   "outputs": [],
   "source": [
    "def extent(a, b):\n",
    "    '''\n",
    "    swaps such that a < b then returns [a, a + 1, ... b]\n",
    "    '''\n",
    "    c, d = sorted([a, b])\n",
    "\n",
    "    return list(range(c, d+1))"
   ]
  },
  {
   "cell_type": "code",
   "execution_count": 5,
   "id": "5fedf97b-df7b-4b2a-bc30-5bc3e724e70e",
   "metadata": {},
   "outputs": [],
   "source": [
    "def p1(puzzle_input):\n",
    "    tuples = [tuple(map(lambda x: tuple([int(i) for i in x.split(',')]), s.split(\" -> \"))) for s in puzzle_input.strip().split('\\n')]\n",
    "    \n",
    "    counts = defaultdict(int)\n",
    "    \n",
    "    for (x1, y1), (x2, y2) in tuples:\n",
    "        if x1 == x2:        \n",
    "            for e in extent(y1, y2):\n",
    "                counts[(x1, e)] += 1\n",
    "\n",
    "        elif y1 == y2:        \n",
    "            for e in extent(x1, x2):\n",
    "                counts[(e, y1)] += 1\n",
    "                \n",
    "    return sum(1 for count in counts.values() if count > 1)"
   ]
  },
  {
   "cell_type": "code",
   "execution_count": 6,
   "id": "0ba7bc62-0e12-47db-bc06-e656fb5bb0d0",
   "metadata": {},
   "outputs": [],
   "source": [
    "assert p1(test_input) == 5"
   ]
  },
  {
   "cell_type": "code",
   "execution_count": 7,
   "id": "d8eb264b-bd2a-4f86-ac93-5a021ac23237",
   "metadata": {},
   "outputs": [
    {
     "data": {
      "text/plain": [
       "6311"
      ]
     },
     "execution_count": 7,
     "metadata": {},
     "output_type": "execute_result"
    }
   ],
   "source": [
    "p1(puzzle_input)"
   ]
  },
  {
   "cell_type": "code",
   "execution_count": 8,
   "id": "b4517549-b9de-4d9a-9cf1-72761e6d5940",
   "metadata": {},
   "outputs": [],
   "source": [
    "def p2(puzzle_input):\n",
    "    tuples = [tuple(map(lambda x: tuple([int(i) for i in x.split(',')]), s.split(\" -> \"))) for s in puzzle_input.strip().split('\\n')]\n",
    "    \n",
    "    counts = defaultdict(int)\n",
    "    \n",
    "    for (x1, y1), (x2, y2) in tuples:\n",
    "        if x1 == x2:        \n",
    "            for e in extent(y1, y2):\n",
    "                counts[(x1, e)] += 1\n",
    "        \n",
    "        elif y1 == y2:        \n",
    "            for e in extent(x1, x2):\n",
    "                counts[(e, y1)] += 1\n",
    "        \n",
    "        else:\n",
    "            # guaranteed to be +1, -1 so this is already the sign\n",
    "            slope_sign = (y2-y1)//(x2-x1)\n",
    "            \n",
    "            for p in zip(extent(x1, x2), extent(y1, y2)[::slope_sign]):\n",
    "                counts[p] += 1\n",
    "\n",
    "    return sum(1 for count in counts.values() if count > 1)"
   ]
  },
  {
   "cell_type": "code",
   "execution_count": 9,
   "id": "271bf17e-31c4-4810-839d-39fe58ddc465",
   "metadata": {},
   "outputs": [
    {
     "ename": "TypeError",
     "evalue": "slice indices must be integers or None or have an __index__ method",
     "output_type": "error",
     "traceback": [
      "\u001b[0;31m---------------------------------------------------------------------------\u001b[0m",
      "\u001b[0;31mTypeError\u001b[0m                                 Traceback (most recent call last)",
      "\u001b[0;32m/tmp/ipykernel_764/4113437716.py\u001b[0m in \u001b[0;36m<module>\u001b[0;34m\u001b[0m\n\u001b[0;32m----> 1\u001b[0;31m \u001b[0;32massert\u001b[0m \u001b[0mp2\u001b[0m\u001b[0;34m(\u001b[0m\u001b[0mtest_input\u001b[0m\u001b[0;34m)\u001b[0m \u001b[0;34m==\u001b[0m \u001b[0;36m12\u001b[0m\u001b[0;34m\u001b[0m\u001b[0;34m\u001b[0m\u001b[0m\n\u001b[0m",
      "\u001b[0;32m/tmp/ipykernel_764/455156537.py\u001b[0m in \u001b[0;36mp2\u001b[0;34m(puzzle_input)\u001b[0m\n\u001b[1;32m     17\u001b[0m             \u001b[0mslope_sign\u001b[0m \u001b[0;34m=\u001b[0m \u001b[0;34m(\u001b[0m\u001b[0my2\u001b[0m\u001b[0;34m-\u001b[0m\u001b[0my1\u001b[0m\u001b[0;34m)\u001b[0m\u001b[0;34m/\u001b[0m\u001b[0;34m(\u001b[0m\u001b[0mx2\u001b[0m\u001b[0;34m-\u001b[0m\u001b[0mx1\u001b[0m\u001b[0;34m)\u001b[0m\u001b[0;34m\u001b[0m\u001b[0;34m\u001b[0m\u001b[0m\n\u001b[1;32m     18\u001b[0m \u001b[0;34m\u001b[0m\u001b[0m\n\u001b[0;32m---> 19\u001b[0;31m             \u001b[0;32mfor\u001b[0m \u001b[0mp\u001b[0m \u001b[0;32min\u001b[0m \u001b[0mzip\u001b[0m\u001b[0;34m(\u001b[0m\u001b[0mextent\u001b[0m\u001b[0;34m(\u001b[0m\u001b[0mx1\u001b[0m\u001b[0;34m,\u001b[0m \u001b[0mx2\u001b[0m\u001b[0;34m)\u001b[0m\u001b[0;34m,\u001b[0m \u001b[0mextent\u001b[0m\u001b[0;34m(\u001b[0m\u001b[0my1\u001b[0m\u001b[0;34m,\u001b[0m \u001b[0my2\u001b[0m\u001b[0;34m)\u001b[0m\u001b[0;34m[\u001b[0m\u001b[0;34m:\u001b[0m\u001b[0;34m:\u001b[0m\u001b[0mslope_sign\u001b[0m\u001b[0;34m]\u001b[0m\u001b[0;34m)\u001b[0m\u001b[0;34m:\u001b[0m\u001b[0;34m\u001b[0m\u001b[0;34m\u001b[0m\u001b[0m\n\u001b[0m\u001b[1;32m     20\u001b[0m                 \u001b[0mcounts\u001b[0m\u001b[0;34m[\u001b[0m\u001b[0mp\u001b[0m\u001b[0;34m]\u001b[0m \u001b[0;34m+=\u001b[0m \u001b[0;36m1\u001b[0m\u001b[0;34m\u001b[0m\u001b[0;34m\u001b[0m\u001b[0m\n\u001b[1;32m     21\u001b[0m \u001b[0;34m\u001b[0m\u001b[0m\n",
      "\u001b[0;31mTypeError\u001b[0m: slice indices must be integers or None or have an __index__ method"
     ]
    }
   ],
   "source": [
    "assert p2(test_input) == 12"
   ]
  },
  {
   "cell_type": "code",
   "execution_count": null,
   "id": "25ae6ecf-730d-407e-8d5b-c301a86a4d42",
   "metadata": {},
   "outputs": [],
   "source": [
    "p2(puzzle_input)"
   ]
  }
 ],
 "metadata": {
  "kernelspec": {
   "display_name": "Python [conda env:3_10]",
   "language": "python",
   "name": "conda-env-3_10-py"
  },
  "language_info": {
   "codemirror_mode": {
    "name": "ipython",
    "version": 3
   },
   "file_extension": ".py",
   "mimetype": "text/x-python",
   "name": "python",
   "nbconvert_exporter": "python",
   "pygments_lexer": "ipython3",
   "version": "3.10.0"
  }
 },
 "nbformat": 4,
 "nbformat_minor": 5
}
