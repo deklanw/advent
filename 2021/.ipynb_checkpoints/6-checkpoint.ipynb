{
 "cells": [
  {
   "cell_type": "code",
   "execution_count": 1,
   "id": "4961d491-c7a4-4d9e-809e-3021bf012613",
   "metadata": {},
   "outputs": [],
   "source": [
    "import numpy as np\n",
    "from collections import defaultdict"
   ]
  },
  {
   "cell_type": "markdown",
   "id": "2b763958-17af-4d11-a4f3-15246453b1f0",
   "metadata": {},
   "source": [
    "Observation: all fish on the same clock are indistinguishable. So we only need to track 0-8... 9 clocks and their current count (number of fish with this clock)."
   ]
  },
  {
   "cell_type": "markdown",
   "id": "09fec7ad-66f4-4b30-bf7c-2a456f72d2cd",
   "metadata": {},
   "source": [
    "- num 0 is num 1 from last\n",
    "- num 1 is num 2 from last\n",
    "- ...\n",
    "- num 5 is num 6 from last\n",
    "- num 6 is num 7 from last PLUS all resets (num 0 from last)\n",
    "- num 7 is num 8 from last\n",
    "- num 8 is newborns (num 0 from last)"
   ]
  },
  {
   "cell_type": "code",
   "execution_count": 2,
   "id": "68434ad5-5712-427d-879e-457b23d4c841",
   "metadata": {},
   "outputs": [],
   "source": [
    "def p1(s):\n",
    "    nums = [int(i) for i in s.split(',')]\n",
    "    \n",
    "    clocks = np.zeros(9).astype(np.int64)\n",
    "    \n",
    "    for n in nums:\n",
    "        clocks[n] += 1\n",
    "        \n",
    "    steps = 80\n",
    "    \n",
    "    for step in range(steps):\n",
    "    # need to save this as it will get overwritten\n",
    "    num_zeros = clocks[0]\n",
    "    \n",
    "    for i in range(8):\n",
    "        clocks[i] = clocks[i+1]\n",
    "        \n",
    "    ## handle two special cases\n",
    "    \n",
    "    # reset fish from last time\n",
    "    clocks[6] += num_zeros\n",
    "    \n",
    "    # newborns\n",
    "    clocks[8] = num_zeros"
   ]
  },
  {
   "cell_type": "code",
   "execution_count": 3,
   "id": "4bdebdf6-9fa9-4c55-8517-67677a3e5def",
   "metadata": {},
   "outputs": [],
   "source": [
    "test_input = \"3,4,3,1,2\""
   ]
  }
 ],
 "metadata": {
  "kernelspec": {
   "display_name": "Python [conda env:3_10]",
   "language": "python",
   "name": "conda-env-3_10-py"
  },
  "language_info": {
   "codemirror_mode": {
    "name": "ipython",
    "version": 3
   },
   "file_extension": ".py",
   "mimetype": "text/x-python",
   "name": "python",
   "nbconvert_exporter": "python",
   "pygments_lexer": "ipython3",
   "version": "3.10.0"
  }
 },
 "nbformat": 4,
 "nbformat_minor": 5
}
