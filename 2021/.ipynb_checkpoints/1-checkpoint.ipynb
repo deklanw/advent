{
 "cells": [
  {
   "cell_type": "code",
   "execution_count": 40,
   "id": "23f711f7-e32a-4bfe-bc7a-4ce202caa5cf",
   "metadata": {},
   "outputs": [],
   "source": [
    "import numpy as np\n",
    "from functools import reduce"
   ]
  },
  {
   "cell_type": "code",
   "execution_count": 2,
   "id": "8f526716",
   "metadata": {},
   "outputs": [],
   "source": [
    "def txt_to_list(t):\n",
    "    '''Integers on newlines'''\n",
    "    return [int(i) for i in t.split('\\n')[:-1]]"
   ]
  },
  {
   "cell_type": "code",
   "execution_count": 3,
   "id": "f6893954",
   "metadata": {},
   "outputs": [],
   "source": [
    "with open('./inputs/1') as f:\n",
    "    a = txt_to_list(f.read())"
   ]
  },
  {
   "cell_type": "code",
   "execution_count": 4,
   "id": "0a823e7c",
   "metadata": {},
   "outputs": [],
   "source": [
    "def count_increases(a):\n",
    "    increases = 0\n",
    "\n",
    "    for previous, current in zip(a, a[1:]):    \n",
    "        if current > previous:\n",
    "            increases += 1\n",
    "            \n",
    "    return increases"
   ]
  },
  {
   "cell_type": "code",
   "execution_count": 5,
   "id": "f8d32d8c",
   "metadata": {},
   "outputs": [
    {
     "data": {
      "text/plain": [
       "1557"
      ]
     },
     "execution_count": 5,
     "metadata": {},
     "output_type": "execute_result"
    }
   ],
   "source": [
    "count_increases(a)"
   ]
  },
  {
   "cell_type": "code",
   "execution_count": 6,
   "id": "b35a0e8d",
   "metadata": {},
   "outputs": [],
   "source": [
    "b = []\n",
    "\n",
    "for x, y, z in zip(a, a[1:], a[2:]):\n",
    "    b.append(x + y + z)"
   ]
  },
  {
   "cell_type": "code",
   "execution_count": 7,
   "id": "25e414fd",
   "metadata": {},
   "outputs": [
    {
     "data": {
      "text/plain": [
       "1608"
      ]
     },
     "execution_count": 7,
     "metadata": {},
     "output_type": "execute_result"
    }
   ],
   "source": [
    "count_increases(b)"
   ]
  },
  {
   "cell_type": "markdown",
   "id": "33e5ba63-0dae-4ebc-b76e-3b75afb507ea",
   "metadata": {},
   "source": [
    "Trying functionally, for fun"
   ]
  },
  {
   "cell_type": "code",
   "execution_count": 41,
   "id": "a1436823-7843-4e20-b338-60269aed8322",
   "metadata": {},
   "outputs": [],
   "source": [
    "def accumulator(acc, x):\n",
    "    last, increases = acc\n",
    "    \n",
    "    return (x, increases + 1) if x > last else (x, increases)"
   ]
  },
  {
   "cell_type": "code",
   "execution_count": 42,
   "id": "5cf0f86b-cd10-4506-a160-ca4b2a6bdf9d",
   "metadata": {},
   "outputs": [
    {
     "data": {
      "text/plain": [
       "1557"
      ]
     },
     "execution_count": 42,
     "metadata": {},
     "output_type": "execute_result"
    }
   ],
   "source": [
    "reduce(accumulator, a, (np.inf, 0))[1]"
   ]
  }
 ],
 "metadata": {
  "kernelspec": {
   "display_name": "Python [conda env:3_10]",
   "language": "python",
   "name": "conda-env-3_10-py"
  },
  "language_info": {
   "codemirror_mode": {
    "name": "ipython",
    "version": 3
   },
   "file_extension": ".py",
   "mimetype": "text/x-python",
   "name": "python",
   "nbconvert_exporter": "python",
   "pygments_lexer": "ipython3",
   "version": "3.10.0"
  }
 },
 "nbformat": 4,
 "nbformat_minor": 5
}
