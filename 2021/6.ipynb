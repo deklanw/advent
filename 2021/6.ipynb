{
 "cells": [
  {
   "cell_type": "code",
   "execution_count": 1,
   "id": "4961d491-c7a4-4d9e-809e-3021bf012613",
   "metadata": {},
   "outputs": [],
   "source": [
    "import numpy as np\n",
    "from collections import defaultdict"
   ]
  },
  {
   "cell_type": "markdown",
   "id": "2b763958-17af-4d11-a4f3-15246453b1f0",
   "metadata": {},
   "source": [
    "Observation: all fish on the same clock are indistinguishable. So we only need to track 0-8... 9 clocks and their current count (number of fish with this clock)."
   ]
  },
  {
   "cell_type": "markdown",
   "id": "09fec7ad-66f4-4b30-bf7c-2a456f72d2cd",
   "metadata": {},
   "source": [
    "- num 0 is num 1 from last\n",
    "- num 1 is num 2 from last\n",
    "- ...\n",
    "- num 5 is num 6 from last\n",
    "- num 6 is num 7 from last PLUS all resets (num 0 from last)\n",
    "- num 7 is num 8 from last\n",
    "- num 8 is newborns (num 0 from last)"
   ]
  },
  {
   "cell_type": "code",
   "execution_count": 2,
   "id": "68434ad5-5712-427d-879e-457b23d4c841",
   "metadata": {},
   "outputs": [],
   "source": [
    "def solve(s, steps):\n",
    "    nums = [int(i) for i in s.split(',')]\n",
    "    \n",
    "    clocks = np.zeros(9).astype(np.int64)\n",
    "    \n",
    "    for n in nums:\n",
    "        clocks[n] += 1\n",
    "    \n",
    "    for step in range(steps):\n",
    "        # need to save this as it will get overwritten\n",
    "        num_zeros = clocks[0]\n",
    "\n",
    "        for i in range(8):\n",
    "            clocks[i] = clocks[i+1]\n",
    "\n",
    "        ## handle two special cases\n",
    "\n",
    "        # reset fish from last time\n",
    "        clocks[6] += num_zeros\n",
    "\n",
    "        # newborns\n",
    "        clocks[8] = num_zeros\n",
    "\n",
    "    return clocks.sum()"
   ]
  },
  {
   "cell_type": "code",
   "execution_count": 3,
   "id": "e67c8fe8-a045-4441-b2d3-64882f7214f5",
   "metadata": {},
   "outputs": [],
   "source": [
    "p1 = lambda s: solve(s, 80)\n",
    "p2 = lambda s: solve(s, 256)"
   ]
  },
  {
   "cell_type": "code",
   "execution_count": 4,
   "id": "4bdebdf6-9fa9-4c55-8517-67677a3e5def",
   "metadata": {},
   "outputs": [],
   "source": [
    "test_input = \"3,4,3,1,2\""
   ]
  },
  {
   "cell_type": "code",
   "execution_count": 5,
   "id": "9e5eb770-0ce0-40e9-b228-b4419e18a024",
   "metadata": {},
   "outputs": [],
   "source": [
    "assert p1(test_input) == 5934"
   ]
  },
  {
   "cell_type": "code",
   "execution_count": 6,
   "id": "bde0e6b1-726a-44f2-a25b-fd7ab01bf44f",
   "metadata": {},
   "outputs": [],
   "source": [
    "puzzle_input = open('inputs/6').read()"
   ]
  },
  {
   "cell_type": "code",
   "execution_count": 7,
   "id": "721349ae-8f7f-4bba-8e22-d98180a60f4d",
   "metadata": {},
   "outputs": [
    {
     "data": {
      "text/plain": [
       "371379"
      ]
     },
     "execution_count": 7,
     "metadata": {},
     "output_type": "execute_result"
    }
   ],
   "source": [
    "p1(puzzle_input)"
   ]
  },
  {
   "cell_type": "code",
   "execution_count": 8,
   "id": "1be6d4af-c941-4f6b-b524-b474570c881c",
   "metadata": {},
   "outputs": [],
   "source": [
    "assert p2(test_input) == 26984457539"
   ]
  },
  {
   "cell_type": "code",
   "execution_count": 9,
   "id": "0a94e434-c114-4c80-ac82-3234cb7ebaaf",
   "metadata": {},
   "outputs": [
    {
     "data": {
      "text/plain": [
       "1674303997472"
      ]
     },
     "execution_count": 9,
     "metadata": {},
     "output_type": "execute_result"
    }
   ],
   "source": [
    "p2(puzzle_input)"
   ]
  }
 ],
 "metadata": {
  "kernelspec": {
   "display_name": "Python [conda env:3_10]",
   "language": "python",
   "name": "conda-env-3_10-py"
  },
  "language_info": {
   "codemirror_mode": {
    "name": "ipython",
    "version": 3
   },
   "file_extension": ".py",
   "mimetype": "text/x-python",
   "name": "python",
   "nbconvert_exporter": "python",
   "pygments_lexer": "ipython3",
   "version": "3.10.0"
  }
 },
 "nbformat": 4,
 "nbformat_minor": 5
}
